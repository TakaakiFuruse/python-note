{
 "cells": [
  {
   "cell_type": "markdown",
   "metadata": {
    "ein.tags": "worksheet-0",
    "slideshow": {
     "slide_type": "-"
    },
    "toc": true
   },
   "source": [
    "<h1>Table of Contents<span class=\"tocSkip\"></span></h1>\n",
    "<div class=\"toc\" style=\"margin-top: 1em;\"><ul class=\"toc-item\"><li><span><a href=\"#Metaclass\" data-toc-modified-id=\"Metaclass-1\"><span class=\"toc-item-num\">1&nbsp;&nbsp;</span>Metaclass</a></span><ul class=\"toc-item\"><li><span><a href=\"#memo\" data-toc-modified-id=\"memo-1.1\"><span class=\"toc-item-num\">1.1&nbsp;&nbsp;</span>memo</a></span></li></ul></li><li><span><a href=\"#Data-Structure\" data-toc-modified-id=\"Data-Structure-2\"><span class=\"toc-item-num\">2&nbsp;&nbsp;</span>Data Structure</a></span><ul class=\"toc-item\"><li><span><a href=\"#とりあえず\" data-toc-modified-id=\"とりあえず-2.1\"><span class=\"toc-item-num\">2.1&nbsp;&nbsp;</span>とりあえず</a></span></li><li><span><a href=\"#もう少し足す\" data-toc-modified-id=\"もう少し足す-2.2\"><span class=\"toc-item-num\">2.2&nbsp;&nbsp;</span>もう少し足す</a></span></li></ul></li><li><span><a href=\"#もっと直す\" data-toc-modified-id=\"もっと直す-3\"><span class=\"toc-item-num\">3&nbsp;&nbsp;</span>もっと直す</a></span><ul class=\"toc-item\"><li><span><a href=\"#Memo\" data-toc-modified-id=\"Memo-3.1\"><span class=\"toc-item-num\">3.1&nbsp;&nbsp;</span>Memo</a></span></li></ul></li><li><span><a href=\"#Define-Datatype-of-Attri-and-Do-Validation\" data-toc-modified-id=\"Define-Datatype-of-Attri-and-Do-Validation-4\"><span class=\"toc-item-num\">4&nbsp;&nbsp;</span>Define Datatype of Attri and Do Validation</a></span><ul class=\"toc-item\"><li><span><a href=\"#まだ直せる。\" data-toc-modified-id=\"まだ直せる。-4.1\"><span class=\"toc-item-num\">4.1&nbsp;&nbsp;</span>まだ直せる。</a></span></li></ul></li></ul></div>"
   ]
  },
  {
   "cell_type": "markdown",
   "metadata": {
    "ein.tags": "worksheet-0",
    "slideshow": {
     "slide_type": "-"
    }
   },
   "source": [
    "# Metaclass"
   ]
  },
  {
   "cell_type": "code",
   "execution_count": 18,
   "metadata": {
    "autoscroll": false,
    "collapsed": false,
    "ein.hycell": false,
    "ein.tags": "worksheet-0",
    "slideshow": {
     "slide_type": "-"
    }
   },
   "outputs": [
    {
     "name": "stdout",
     "output_type": "stream",
     "text": [
      "Debug Info Base, {'__module__': '__main__', '__qualname__': 'Base'}\n",
      "Debug Info A, {'__module__': '__main__', '__qualname__': 'A'}\n",
      "Debug Info B, {'__module__': '__main__', '__qualname__': 'B'}\n",
      "Debug Info C, {'__module__': '__main__', '__qualname__': 'C'}\n"
     ]
    }
   ],
   "source": [
    "class MyType(type):\n",
    "    def __new__(cls, clsname, bases, clsdict):\n",
    "        if len(bases) > 1:\n",
    "            print(bases)\n",
    "            raise TypeError(\"No!!\")\n",
    "        return super().__new__(cls, clsname, bases, clsdict)\n",
    "\n",
    "class DebugInfo(type):\n",
    "    def __new__(cls, clsname, bases, clsdict):\n",
    "        print(f\"Debug Info {clsname}, {clsdict}\")\n",
    "        return super().__new__(cls, clsname, bases, clsdict)\n",
    "        \n",
    "    \n",
    "class Base(metaclass=DebugInfo):\n",
    "    pass\n",
    "\n",
    "# good\n",
    "class A(Base):\n",
    "    pass\n",
    "\n",
    "# good\n",
    "class B(Base):\n",
    "    pass\n",
    "\n",
    "# error!!\n",
    "class C(A, B):\n",
    "    pass"
   ]
  },
  {
   "cell_type": "code",
   "execution_count": 21,
   "metadata": {
    "autoscroll": false,
    "collapsed": false,
    "ein.hycell": false,
    "ein.tags": "worksheet-0",
    "slideshow": {
     "slide_type": "-"
    }
   },
   "outputs": [
    {
     "name": "stdout",
     "output_type": "stream",
     "text": [
      "Get: a_x\n",
      "Get: b_x\n"
     ]
    },
    {
     "data": {
      "text/plain": [
       "1"
      ]
     },
     "execution_count": 21,
     "metadata": {},
     "output_type": "execute_result"
    }
   ],
   "source": [
    "def debugattr(cls):\n",
    "    orig_getattribute = cls.__getattribute__\n",
    "\n",
    "    def __getattribute__(self, name):\n",
    "        print(f'Get: {name}')\n",
    "        return orig_getattribute(self, name)\n",
    "\n",
    "    cls.__getattribute__ = __getattribute__\n",
    "\n",
    "    return cls\n",
    "\n",
    "\n",
    "class DebugInfo(type):\n",
    "    def __new__(cls, clsname, bases, clsdict):\n",
    "        clsobj = super().__new__(cls, clsname, bases, clsdict)\n",
    "        clsobj = debugattr(clsobj)\n",
    "        return clsobj\n",
    "\n",
    "# Use Class Decorator\n",
    "@debugattr\n",
    "class A:\n",
    "    def __init__(self, a_x):\n",
    "        self.a_x = a_x\n",
    "\n",
    "# Use metaclass\n",
    "class B(metaclass=DebugInfo):\n",
    "    def __init__(self, b_x):\n",
    "        self.b_x = b_x\n",
    "\n",
    "\n",
    "a = A(1)\n",
    "a.a_x\n",
    "\n",
    "b = B(1)\n",
    "b.b_x"
   ]
  },
  {
   "cell_type": "markdown",
   "metadata": {
    "ein.tags": "worksheet-0",
    "slideshow": {
     "slide_type": "-"
    }
   },
   "source": [
    "## memo\n",
    "Decorater -> Functions  \n",
    "Class Decorators  -> Classes  \n",
    "Meta Classes -> Class Hieerarchiese  "
   ]
  },
  {
   "cell_type": "markdown",
   "metadata": {
    "ein.tags": "worksheet-0",
    "slideshow": {
     "slide_type": "-"
    }
   },
   "source": [
    "# Data Structure"
   ]
  },
  {
   "cell_type": "markdown",
   "metadata": {
    "ein.tags": "worksheet-0",
    "slideshow": {
     "slide_type": "-"
    }
   },
   "source": [
    "## とりあえず"
   ]
  },
  {
   "cell_type": "code",
   "execution_count": 41,
   "metadata": {
    "autoscroll": false,
    "collapsed": false,
    "ein.hycell": false,
    "ein.tags": "worksheet-0",
    "slideshow": {
     "slide_type": "-"
    }
   },
   "outputs": [
    {
     "name": "stdout",
     "output_type": "stream",
     "text": [
      "{'name': 'Goog', 'shares': 100, 'price': 490.1}\n",
      "{'name': 'Goog', 'shares': 100}\n"
     ]
    },
    {
     "ename": "TypeError",
     "evalue": "__init__() got an unexpected keyword argument 'name'",
     "output_type": "error",
     "traceback": [
      "\u001b[1;31m---------------------------------------------------------------------------\u001b[0m",
      "\u001b[1;31mTypeError\u001b[0m                                 Traceback (most recent call last)",
      "\u001b[1;32m<ipython-input-41-7e9c61887aff>\u001b[0m in \u001b[0;36m<module>\u001b[1;34m()\u001b[0m\n\u001b[0;32m     20\u001b[0m \u001b[0mprint\u001b[0m\u001b[1;33m(\u001b[0m\u001b[0mst2\u001b[0m\u001b[1;33m.\u001b[0m\u001b[0m__dict__\u001b[0m\u001b[1;33m)\u001b[0m\u001b[1;33m\u001b[0m\u001b[0m\n\u001b[0;32m     21\u001b[0m \u001b[1;33m\u001b[0m\u001b[0m\n\u001b[1;32m---> 22\u001b[1;33m \u001b[0mst3\u001b[0m \u001b[1;33m=\u001b[0m \u001b[0mStock\u001b[0m\u001b[1;33m(\u001b[0m\u001b[0mname\u001b[0m\u001b[1;33m=\u001b[0m\u001b[1;34m'Goog'\u001b[0m\u001b[1;33m)\u001b[0m\u001b[1;33m\u001b[0m\u001b[0m\n\u001b[0m\u001b[0;32m     23\u001b[0m \u001b[0mprint\u001b[0m\u001b[1;33m(\u001b[0m\u001b[0mst3\u001b[0m\u001b[1;33m.\u001b[0m\u001b[0m__dict__\u001b[0m\u001b[1;33m)\u001b[0m\u001b[1;33m\u001b[0m\u001b[0m\n",
      "\u001b[1;31mTypeError\u001b[0m: __init__() got an unexpected keyword argument 'name'"
     ]
    }
   ],
   "source": [
    "class Structure:\n",
    "    _fields = []\n",
    "\n",
    "    def __init__(self, *args):\n",
    "        for name, val in zip(self._fields, args):\n",
    "            setattr(self, name, val)\n",
    "\n",
    "\n",
    "class Stock(Structure):\n",
    "    _fields = ['name', 'shares', 'price']\n",
    "    #     def __init__(self, name, shares, price)\n",
    "    #         self.name = name\n",
    "    #         self.shares = shares\n",
    "    #         self.price = price\n",
    "    \n",
    "st = Stock('Goog', 100, 490.1)\n",
    "print(st.__dict__)\n",
    "\n",
    "# Attrが足りなくても作れる\n",
    "st2 = Stock('Goog', 100)\n",
    "print(st2.__dict__)\n",
    "\n",
    "# kwargとか使えない\n",
    "st3 = Stock(name='Goog')\n",
    "print(st3.__dict__)\n"
   ]
  },
  {
   "cell_type": "markdown",
   "metadata": {
    "ein.tags": "worksheet-0",
    "slideshow": {
     "slide_type": "-"
    }
   },
   "source": [
    "## もう少し足す"
   ]
  },
  {
   "cell_type": "markdown",
   "metadata": {
    "ein.tags": "worksheet-0",
    "slideshow": {
     "slide_type": "-"
    }
   },
   "source": [
    "Blog post fo Parameter, Signature http://blog.amedama.jp/entry/2016/10/31/225219  \n",
    "Parameter https://docs.python.org/3/library/inspect.html#inspect.Parameter\n",
    "Signature https://docs.python.org/3/library/inspect.html#inspect.Signature"
   ]
  },
  {
   "cell_type": "code",
   "execution_count": 29,
   "metadata": {
    "autoscroll": false,
    "collapsed": false,
    "ein.hycell": false,
    "ein.tags": "worksheet-0",
    "slideshow": {
     "slide_type": "-"
    }
   },
   "outputs": [
    {
     "name": "stdout",
     "output_type": "stream",
     "text": [
      "{'name': 'Goog', 'shares': 100, 'price': 490.1}\n",
      "{'name': 'Goog', 'shares': 100, 'price': 490}\n"
     ]
    },
    {
     "ename": "TypeError",
     "evalue": "missing a required argument: 'price'",
     "output_type": "error",
     "traceback": [
      "\u001b[1;31m---------------------------------------------------------------------------\u001b[0m",
      "\u001b[1;31mTypeError\u001b[0m                                 Traceback (most recent call last)",
      "\u001b[1;32m<ipython-input-29-d2158815c28b>\u001b[0m in \u001b[0;36m<module>\u001b[1;34m()\u001b[0m\n\u001b[0;32m     30\u001b[0m \u001b[1;33m\u001b[0m\u001b[0m\n\u001b[0;32m     31\u001b[0m \u001b[1;31m# argが足りないと壊れる\u001b[0m\u001b[1;33m\u001b[0m\u001b[1;33m\u001b[0m\u001b[0m\n\u001b[1;32m---> 32\u001b[1;33m \u001b[0mst4\u001b[0m \u001b[1;33m=\u001b[0m \u001b[0mStock\u001b[0m\u001b[1;33m(\u001b[0m\u001b[0mname\u001b[0m\u001b[1;33m=\u001b[0m\u001b[1;34m'Goog'\u001b[0m\u001b[1;33m,\u001b[0m \u001b[0mshares\u001b[0m\u001b[1;33m=\u001b[0m\u001b[1;36m100\u001b[0m\u001b[1;33m)\u001b[0m\u001b[1;33m\u001b[0m\u001b[0m\n\u001b[0m\u001b[0;32m     33\u001b[0m \u001b[0mst4\u001b[0m\u001b[1;33m.\u001b[0m\u001b[0myo\u001b[0m \u001b[1;33m=\u001b[0m \u001b[1;34m'yo'\u001b[0m\u001b[1;33m\u001b[0m\u001b[0m\n",
      "\u001b[1;32m<ipython-input-29-d2158815c28b>\u001b[0m in \u001b[0;36m__init__\u001b[1;34m(self, *args, **kwargs)\u001b[0m\n\u001b[0;32m     16\u001b[0m \u001b[1;33m\u001b[0m\u001b[0m\n\u001b[0;32m     17\u001b[0m     \u001b[1;32mdef\u001b[0m \u001b[0m__init__\u001b[0m\u001b[1;33m(\u001b[0m\u001b[0mself\u001b[0m\u001b[1;33m,\u001b[0m \u001b[1;33m*\u001b[0m\u001b[0margs\u001b[0m\u001b[1;33m,\u001b[0m \u001b[1;33m**\u001b[0m\u001b[0mkwargs\u001b[0m\u001b[1;33m)\u001b[0m\u001b[1;33m:\u001b[0m\u001b[1;33m\u001b[0m\u001b[0m\n\u001b[1;32m---> 18\u001b[1;33m         \u001b[0mbound\u001b[0m \u001b[1;33m=\u001b[0m \u001b[0mself\u001b[0m\u001b[1;33m.\u001b[0m\u001b[0m__signature__\u001b[0m\u001b[1;33m.\u001b[0m\u001b[0mbind\u001b[0m\u001b[1;33m(\u001b[0m\u001b[1;33m*\u001b[0m\u001b[0margs\u001b[0m\u001b[1;33m,\u001b[0m \u001b[1;33m**\u001b[0m\u001b[0mkwargs\u001b[0m\u001b[1;33m)\u001b[0m\u001b[1;33m\u001b[0m\u001b[0m\n\u001b[0m\u001b[0;32m     19\u001b[0m         \u001b[1;32mfor\u001b[0m \u001b[0mname\u001b[0m\u001b[1;33m,\u001b[0m \u001b[0mval\u001b[0m \u001b[1;32min\u001b[0m \u001b[0mbound\u001b[0m\u001b[1;33m.\u001b[0m\u001b[0marguments\u001b[0m\u001b[1;33m.\u001b[0m\u001b[0mitems\u001b[0m\u001b[1;33m(\u001b[0m\u001b[1;33m)\u001b[0m\u001b[1;33m:\u001b[0m\u001b[1;33m\u001b[0m\u001b[0m\n\u001b[0;32m     20\u001b[0m             \u001b[0msetattr\u001b[0m\u001b[1;33m(\u001b[0m\u001b[0mself\u001b[0m\u001b[1;33m,\u001b[0m \u001b[0mname\u001b[0m\u001b[1;33m,\u001b[0m \u001b[0mval\u001b[0m\u001b[1;33m)\u001b[0m\u001b[1;33m\u001b[0m\u001b[0m\n",
      "\u001b[1;32m~/anaconda3/lib/python3.6/inspect.py\u001b[0m in \u001b[0;36mbind\u001b[1;34m(*args, **kwargs)\u001b[0m\n\u001b[0;32m   2966\u001b[0m         \u001b[1;32mif\u001b[0m \u001b[0mthe\u001b[0m \u001b[0mpassed\u001b[0m \u001b[0marguments\u001b[0m \u001b[0mcan\u001b[0m \u001b[1;32mnot\u001b[0m \u001b[0mbe\u001b[0m \u001b[0mbound\u001b[0m\u001b[1;33m.\u001b[0m\u001b[1;33m\u001b[0m\u001b[0m\n\u001b[0;32m   2967\u001b[0m         \"\"\"\n\u001b[1;32m-> 2968\u001b[1;33m         \u001b[1;32mreturn\u001b[0m \u001b[0margs\u001b[0m\u001b[1;33m[\u001b[0m\u001b[1;36m0\u001b[0m\u001b[1;33m]\u001b[0m\u001b[1;33m.\u001b[0m\u001b[0m_bind\u001b[0m\u001b[1;33m(\u001b[0m\u001b[0margs\u001b[0m\u001b[1;33m[\u001b[0m\u001b[1;36m1\u001b[0m\u001b[1;33m:\u001b[0m\u001b[1;33m]\u001b[0m\u001b[1;33m,\u001b[0m \u001b[0mkwargs\u001b[0m\u001b[1;33m)\u001b[0m\u001b[1;33m\u001b[0m\u001b[0m\n\u001b[0m\u001b[0;32m   2969\u001b[0m \u001b[1;33m\u001b[0m\u001b[0m\n\u001b[0;32m   2970\u001b[0m     \u001b[1;32mdef\u001b[0m \u001b[0mbind_partial\u001b[0m\u001b[1;33m(\u001b[0m\u001b[1;33m*\u001b[0m\u001b[0margs\u001b[0m\u001b[1;33m,\u001b[0m \u001b[1;33m**\u001b[0m\u001b[0mkwargs\u001b[0m\u001b[1;33m)\u001b[0m\u001b[1;33m:\u001b[0m\u001b[1;33m\u001b[0m\u001b[0m\n",
      "\u001b[1;32m~/anaconda3/lib/python3.6/inspect.py\u001b[0m in \u001b[0;36m_bind\u001b[1;34m(self, args, kwargs, partial)\u001b[0m\n\u001b[0;32m   2937\u001b[0m                                                     param.default is _empty):\n\u001b[0;32m   2938\u001b[0m                     raise TypeError('missing a required argument: {arg!r}'. \\\n\u001b[1;32m-> 2939\u001b[1;33m                                     format(arg=param_name)) from None\n\u001b[0m\u001b[0;32m   2940\u001b[0m \u001b[1;33m\u001b[0m\u001b[0m\n\u001b[0;32m   2941\u001b[0m             \u001b[1;32melse\u001b[0m\u001b[1;33m:\u001b[0m\u001b[1;33m\u001b[0m\u001b[0m\n",
      "\u001b[1;31mTypeError\u001b[0m: missing a required argument: 'price'"
     ]
    }
   ],
   "source": [
    "from inspect import Parameter, Signature\n",
    "\n",
    "\n",
    "def make_signature(names):\n",
    "    return Signature(\n",
    "        Parameter(\n",
    "            name=name,\n",
    "            kind=Parameter.POSITIONAL_OR_KEYWORD # https://docs.python.org/3/library/inspect.html#inspect.Parameter.kind\n",
    "        )\n",
    "        for name in names\n",
    "    )\n",
    "\n",
    "\n",
    "class Structure:\n",
    "    __signature__ = make_signature([])\n",
    "\n",
    "    def __init__(self, *args, **kwargs):\n",
    "        bound = self.__signature__.bind(*args, **kwargs)\n",
    "        for name, val in bound.arguments.items():\n",
    "            setattr(self, name, val)\n",
    "\n",
    "class Stock(Structure):\n",
    "    __signature__ = make_signature(['name', 'shares', 'price'])\n",
    "\n",
    "st = Stock('Goog', 100, 490.1)\n",
    "print(st.__dict__)\n",
    "\n",
    "st3 = Stock(name='Goog', shares=100, price=490)\n",
    "print(st3.__dict__)\n",
    "\n",
    "# argが足りないと壊れる\n",
    "st4 = Stock(name='Goog', shares=100)"
   ]
  },
  {
   "cell_type": "markdown",
   "metadata": {
    "ein.tags": "worksheet-0",
    "slideshow": {
     "slide_type": "-"
    }
   },
   "source": [
    "# もっと直す"
   ]
  },
  {
   "cell_type": "code",
   "execution_count": 62,
   "metadata": {
    "autoscroll": false,
    "collapsed": false,
    "ein.hycell": false,
    "ein.tags": "worksheet-0",
    "scrolled": false,
    "slideshow": {
     "slide_type": "-"
    }
   },
   "outputs": [
    {
     "name": "stdout",
     "output_type": "stream",
     "text": [
      "param: []\n",
      "sig: () \n",
      "\n",
      "param: [<Parameter \"name\">, <Parameter \"shares\">, <Parameter \"price\">]\n",
      "sig: (name, shares, price) \n",
      "\n",
      "bound: <BoundArguments (name='AAA', shares=100, price='400')>\n",
      "bound.arguments: OrderedDict([('name', 'AAA'), ('shares', 100), ('price', '400')])\n"
     ]
    },
    {
     "data": {
      "text/plain": [
       "{'name': 'AAA', 'price': '400', 'shares': 100}"
      ]
     },
     "execution_count": 62,
     "metadata": {},
     "output_type": "execute_result"
    }
   ],
   "source": [
    "from inspect import Parameter, Signature\n",
    "\n",
    "\n",
    "def make_signature(names):\n",
    "    params = [Parameter(name, Parameter.POSITIONAL_OR_KEYWORD)\n",
    "              for name in names]\n",
    "    print(f\"param: {params}\")\n",
    "    print(f\"sig: {Signature(params)} \\n\")\n",
    "    return Signature(params)\n",
    "\n",
    "\n",
    "class StructMeta(type):\n",
    "    def __new__(cls, clsname, bases, clsdict):\n",
    "        clsobj = super().__new__(cls, clsname, bases, clsdict)\n",
    "        sig = make_signature(clsobj._fields)\n",
    "        setattr(clsobj, '__signature__', sig)\n",
    "        return clsobj\n",
    "\n",
    "\n",
    "class Structure(metaclass=StructMeta):\n",
    "    _fields = []\n",
    "\n",
    "    def __init__(self, *args, **kwargs):\n",
    "        bound = self.__signature__.bind(*args, **kwargs)\n",
    "        print(f\"bound: {bound}\")\n",
    "        print(f\"bound.arguments: {bound.arguments}\")\n",
    "        for name, val in bound.arguments.items():\n",
    "            setattr(self, name, val)\n",
    "\n",
    "\n",
    "class Stock(Structure):\n",
    "    _fields = ['name', 'shares', 'price']\n",
    "\n",
    "st = Stock(name='AAA', shares=100, price='400')\n",
    "st.__dict__"
   ]
  },
  {
   "cell_type": "markdown",
   "metadata": {
    "ein.tags": "worksheet-0",
    "slideshow": {
     "slide_type": "-"
    }
   },
   "source": [
    "## Memo\n",
    "Class Decorator => Goal is to tweak class that might be unrelated   \n",
    "Metaclass -> trying to perform actions in combination with inheritance"
   ]
  },
  {
   "cell_type": "markdown",
   "metadata": {
    "ein.tags": "worksheet-0",
    "slideshow": {
     "slide_type": "-"
    }
   },
   "source": [
    "# Define Datatype of Attri and Do Validation"
   ]
  },
  {
   "cell_type": "code",
   "execution_count": 63,
   "metadata": {
    "autoscroll": false,
    "collapsed": false,
    "ein.hycell": false,
    "ein.tags": "worksheet-0",
    "slideshow": {
     "slide_type": "-"
    }
   },
   "outputs": [
    {
     "name": "stdout",
     "output_type": "stream",
     "text": [
      "Set: name, Goog\n",
      "Set: shares, 100\n",
      "Set: price, 490.1\n",
      "Set: name, Goog\n"
     ]
    },
    {
     "ename": "ValueError",
     "evalue": "Numbers should be positive!",
     "output_type": "error",
     "traceback": [
      "\u001b[1;31m---------------------------------------------------------------------------\u001b[0m",
      "\u001b[1;31mValueError\u001b[0m                                Traceback (most recent call last)",
      "\u001b[1;32m<ipython-input-63-9c4951503a37>\u001b[0m in \u001b[0;36m<module>\u001b[1;34m()\u001b[0m\n\u001b[0;32m     82\u001b[0m \u001b[1;33m\u001b[0m\u001b[0m\n\u001b[0;32m     83\u001b[0m \u001b[1;31m# マイナスの数字を入れるとエラー\u001b[0m\u001b[1;33m\u001b[0m\u001b[1;33m\u001b[0m\u001b[0m\n\u001b[1;32m---> 84\u001b[1;33m \u001b[0mst\u001b[0m \u001b[1;33m=\u001b[0m \u001b[0mStock\u001b[0m\u001b[1;33m(\u001b[0m\u001b[1;34m'Goog'\u001b[0m\u001b[1;33m,\u001b[0m \u001b[1;33m-\u001b[0m\u001b[1;36m100\u001b[0m\u001b[1;33m,\u001b[0m \u001b[1;36m490.1\u001b[0m\u001b[1;33m)\u001b[0m\u001b[1;33m\u001b[0m\u001b[0m\n\u001b[0m",
      "\u001b[1;32m<ipython-input-63-9c4951503a37>\u001b[0m in \u001b[0;36m__init__\u001b[1;34m(self, *args, **kwargs)\u001b[0m\n\u001b[0;32m     66\u001b[0m         \u001b[0mbound\u001b[0m \u001b[1;33m=\u001b[0m \u001b[0mself\u001b[0m\u001b[1;33m.\u001b[0m\u001b[0m__signature__\u001b[0m\u001b[1;33m.\u001b[0m\u001b[0mbind\u001b[0m\u001b[1;33m(\u001b[0m\u001b[1;33m*\u001b[0m\u001b[0margs\u001b[0m\u001b[1;33m,\u001b[0m \u001b[1;33m**\u001b[0m\u001b[0mkwargs\u001b[0m\u001b[1;33m)\u001b[0m\u001b[1;33m\u001b[0m\u001b[0m\n\u001b[0;32m     67\u001b[0m         \u001b[1;32mfor\u001b[0m \u001b[0mname\u001b[0m\u001b[1;33m,\u001b[0m \u001b[0mval\u001b[0m \u001b[1;32min\u001b[0m \u001b[0mbound\u001b[0m\u001b[1;33m.\u001b[0m\u001b[0marguments\u001b[0m\u001b[1;33m.\u001b[0m\u001b[0mitems\u001b[0m\u001b[1;33m(\u001b[0m\u001b[1;33m)\u001b[0m\u001b[1;33m:\u001b[0m\u001b[1;33m\u001b[0m\u001b[0m\n\u001b[1;32m---> 68\u001b[1;33m             \u001b[0msetattr\u001b[0m\u001b[1;33m(\u001b[0m\u001b[0mself\u001b[0m\u001b[1;33m,\u001b[0m \u001b[0mname\u001b[0m\u001b[1;33m,\u001b[0m \u001b[0mval\u001b[0m\u001b[1;33m)\u001b[0m\u001b[1;33m\u001b[0m\u001b[0m\n\u001b[0m\u001b[0;32m     69\u001b[0m \u001b[1;33m\u001b[0m\u001b[0m\n\u001b[0;32m     70\u001b[0m \u001b[1;33m\u001b[0m\u001b[0m\n",
      "\u001b[1;32m<ipython-input-63-9c4951503a37>\u001b[0m in \u001b[0;36m__set__\u001b[1;34m(self, instance, value)\u001b[0m\n\u001b[0;32m     40\u001b[0m     \u001b[1;32mdef\u001b[0m \u001b[0m__set__\u001b[0m\u001b[1;33m(\u001b[0m\u001b[0mself\u001b[0m\u001b[1;33m,\u001b[0m \u001b[0minstance\u001b[0m\u001b[1;33m,\u001b[0m \u001b[0mvalue\u001b[0m\u001b[1;33m)\u001b[0m\u001b[1;33m:\u001b[0m\u001b[1;33m\u001b[0m\u001b[0m\n\u001b[0;32m     41\u001b[0m         \u001b[1;32mif\u001b[0m \u001b[0mvalue\u001b[0m \u001b[1;33m<\u001b[0m \u001b[1;36m0\u001b[0m\u001b[1;33m:\u001b[0m\u001b[1;33m\u001b[0m\u001b[0m\n\u001b[1;32m---> 42\u001b[1;33m             \u001b[1;32mraise\u001b[0m \u001b[0mValueError\u001b[0m\u001b[1;33m(\u001b[0m\u001b[1;34m'Numbers should be positive!'\u001b[0m\u001b[1;33m)\u001b[0m\u001b[1;33m\u001b[0m\u001b[0m\n\u001b[0m\u001b[0;32m     43\u001b[0m         \u001b[0msuper\u001b[0m\u001b[1;33m(\u001b[0m\u001b[1;33m)\u001b[0m\u001b[1;33m.\u001b[0m\u001b[0m__set__\u001b[0m\u001b[1;33m(\u001b[0m\u001b[0minstance\u001b[0m\u001b[1;33m,\u001b[0m \u001b[0mvalue\u001b[0m\u001b[1;33m)\u001b[0m\u001b[1;33m\u001b[0m\u001b[0m\n\u001b[0;32m     44\u001b[0m \u001b[1;33m\u001b[0m\u001b[0m\n",
      "\u001b[1;31mValueError\u001b[0m: Numbers should be positive!"
     ]
    }
   ],
   "source": [
    "from inspect import Parameter, Signature\n",
    "\n",
    "\n",
    "class Descriptor:\n",
    "    def __init__(self, name=None):\n",
    "        self.name = name\n",
    "\n",
    "    def __set__(self, instance, value):\n",
    "        print(f\"Set: {self.name}, {value}\")\n",
    "        instance.__dict__[self.name] = value\n",
    "\n",
    "    def __delete__(self, instance):\n",
    "        print(f\"Delete: {self.name}\")\n",
    "        del instance.__dict__[self.name]\n",
    "\n",
    "\n",
    "class Typed(Descriptor):\n",
    "    ty = object\n",
    "\n",
    "    def __set__(self, instance, value):\n",
    "        if not isinstance(value, self.ty):\n",
    "            raise TypeError(f\"Expected {self.ty}\")\n",
    "\n",
    "        super().__set__(instance, value)\n",
    "\n",
    "\n",
    "class Integer(Typed):\n",
    "    ty = int\n",
    "\n",
    "\n",
    "class Float(Typed):\n",
    "    ty = float\n",
    "\n",
    "\n",
    "class String(Typed):\n",
    "    ty = str\n",
    "\n",
    "\n",
    "class Positive(Typed):\n",
    "    def __set__(self, instance, value):\n",
    "        if value < 0:\n",
    "            raise ValueError('Numbers should be positive!')\n",
    "        super().__set__(instance, value)\n",
    "\n",
    "class PositiveInteger(Positive, Integer):\n",
    "    pass\n",
    "\n",
    "def make_signature(names):\n",
    "    return Signature(\n",
    "        Parameter(name, Parameter.POSITIONAL_OR_KEYWORD)\n",
    "        for name in names)\n",
    "\n",
    "\n",
    "class StructMeta(type):\n",
    "    def __new__(cls, clsname, bases, clsdict):\n",
    "        clsobj = super().__new__(cls, clsname, bases, clsdict)\n",
    "        sig = make_signature(clsobj._fields)\n",
    "        setattr(clsobj, '__signature__', sig)\n",
    "        return clsobj\n",
    "\n",
    "\n",
    "class Structure(metaclass=StructMeta):\n",
    "    _fields = []\n",
    "\n",
    "    def __init__(self, *args, **kwargs):\n",
    "        bound = self.__signature__.bind(*args, **kwargs)\n",
    "        for name, val in bound.arguments.items():\n",
    "            setattr(self, name, val)\n",
    "\n",
    "\n",
    "class Stock(Structure):\n",
    "    _fields = ['name', 'shares', 'price']\n",
    "    name = String('name')\n",
    "    shares = PositiveInteger('shares')\n",
    "    price = Float('price')\n",
    "\n",
    "\n",
    "st = Stock('Goog', 100, 490.1)\n",
    "\n",
    "# ２つめはIntじゃないとエラー\n",
    "# st = Stock('Goog', '100', 490.1)\n",
    "\n",
    "# マイナスの数字を入れるとエラー\n",
    "st = Stock('Goog', -100, 490.1)"
   ]
  },
  {
   "cell_type": "code",
   "execution_count": 86,
   "metadata": {
    "autoscroll": false,
    "collapsed": false,
    "ein.hycell": false,
    "ein.tags": "worksheet-0",
    "slideshow": {
     "slide_type": "-"
    }
   },
   "outputs": [
    {
     "data": {
      "text/plain": [
       "(__main__.PositiveInteger,\n",
       " __main__.Positive,\n",
       " __main__.Integer,\n",
       " __main__.Typed,\n",
       " __main__.Descriptor,\n",
       " object)"
      ]
     },
     "execution_count": 86,
     "metadata": {},
     "output_type": "execute_result"
    }
   ],
   "source": [
    "PositiveInteger.__mro__"
   ]
  },
  {
   "cell_type": "markdown",
   "metadata": {
    "ein.tags": "worksheet-0",
    "slideshow": {
     "slide_type": "-"
    }
   },
   "source": [
    "## まだ直せる。"
   ]
  },
  {
   "cell_type": "code",
   "execution_count": 112,
   "metadata": {
    "autoscroll": false,
    "collapsed": false,
    "ein.hycell": false,
    "ein.tags": "worksheet-0",
    "slideshow": {
     "slide_type": "-"
    }
   },
   "outputs": [
    {
     "name": "stdout",
     "output_type": "stream",
     "text": [
      "from __new__ clsdict: \n",
      " OrderedDict([('__module__', '__main__'), ('__qualname__', 'Structure'), ('__init__', <function Structure.__init__ at 0x7f3a346d6510>)]) \n",
      "\n",
      " from __new__ clsobj dict :\n",
      " {'__module__': '__main__', '__init__': <function Structure.__init__ at 0x7f3a346d6510>, '__dict__': <attribute '__dict__' of 'Structure' objects>, '__weakref__': <attribute '__weakref__' of 'Structure' objects>, '__doc__': None, '__signature__': <Signature ()>} \n",
      "\n",
      "from __new__ clsdict: \n",
      " OrderedDict([('__module__', '__main__'), ('__qualname__', 'Stock'), ('__doc__', \"\\n    No need for\\n\\n    _fields = ['name', 'shares', 'price']\\n\\n    anymore\\n    \"), ('name', <__main__.SizedRegexString object at 0x7f3a345ec710>), ('shares', <__main__.PosInteger object at 0x7f3a345ec780>), ('price', <__main__.PosFloat object at 0x7f3a345eca58>)]) \n",
      "\n",
      " from __new__ clsobj dict :\n",
      " {'__module__': '__main__', '__doc__': \"\\n    No need for\\n\\n    _fields = ['name', 'shares', 'price']\\n\\n    anymore\\n    \", 'name': <__main__.SizedRegexString object at 0x7f3a345ec710>, 'shares': <__main__.PosInteger object at 0x7f3a345ec780>, 'price': <__main__.PosFloat object at 0x7f3a345eca58>, '__signature__': <Signature (name, shares, price)>} \n",
      "\n",
      "Help on Stock in module __main__ object:\n",
      "\n",
      "class Stock(Structure)\n",
      " |  No need for\n",
      " |  \n",
      " |  _fields = ['name', 'shares', 'price']\n",
      " |  \n",
      " |  anymore\n",
      " |  \n",
      " |  Method resolution order:\n",
      " |      Stock\n",
      " |      Structure\n",
      " |      builtins.object\n",
      " |  \n",
      " |  Data and other attributes defined here:\n",
      " |  \n",
      " |  __signature__ = <Signature (name, shares, price)>\n",
      " |  \n",
      " |  name = <__main__.SizedRegexString object>\n",
      " |  \n",
      " |  price = <__main__.PosFloat object>\n",
      " |  \n",
      " |  shares = <__main__.PosInteger object>\n",
      " |  \n",
      " |  ----------------------------------------------------------------------\n",
      " |  Methods inherited from Structure:\n",
      " |  \n",
      " |  __init__(self, *args, **kwargs)\n",
      " |      Initialize self.  See help(type(self)) for accurate signature.\n",
      " |  \n",
      " |  ----------------------------------------------------------------------\n",
      " |  Data descriptors inherited from Structure:\n",
      " |  \n",
      " |  __dict__\n",
      " |      dictionary for instance variables (if defined)\n",
      " |  \n",
      " |  __weakref__\n",
      " |      list of weak references to the object (if defined)\n",
      "\n"
     ]
    }
   ],
   "source": [
    "# Example of defining descriptors to customize attribute access.\n",
    "from inspect import Parameter, Signature\n",
    "import re\n",
    "from collections import OrderedDict\n",
    "\n",
    "class Descriptor:\n",
    "    def __init__(self, name=None):\n",
    "        self.name = name\n",
    "\n",
    "    def __set__(self, instance, value):\n",
    "        instance.__dict__[self.name] = value\n",
    "\n",
    "    def __delete__(self, instance):\n",
    "        raise AttributeError(\"Can't delete\")\n",
    "\n",
    "class Typed(Descriptor):\n",
    "    ty = object\n",
    "    def __set__(self, instance, value):\n",
    "        if not isinstance(value, self.ty):\n",
    "            raise TypeError('Expected %s' % self.ty)\n",
    "        super().__set__(instance, value)\n",
    "\n",
    "# Specialized types\n",
    "class Integer(Typed):\n",
    "    ty = int\n",
    "\n",
    "class Float(Typed):\n",
    "    ty = float\n",
    "\n",
    "class String(Typed):\n",
    "    ty = str\n",
    "\n",
    "# Value checking\n",
    "class Positive(Descriptor):\n",
    "    def __set__(self, instance, value):\n",
    "        if value < 0:\n",
    "            raise ValueError('Expected >= 0')\n",
    "        super().__set__(instance, value)\n",
    "\n",
    "# More specialized types\n",
    "class PosInteger(Integer, Positive):\n",
    "    pass\n",
    "\n",
    "class PosFloat(Float, Positive):\n",
    "    pass\n",
    "\n",
    "# Length checking\n",
    "class Sized(Descriptor):\n",
    "    def __init__(self, *args, maxlen, **kwargs):\n",
    "        self.maxlen = maxlen\n",
    "        super().__init__(*args, **kwargs)\n",
    "\n",
    "\n",
    "    def __set__(self, instance, value):\n",
    "        if len(value) > self.maxlen:\n",
    "            raise ValueError('Too big')\n",
    "        super().__set__(instance, value)\n",
    "\n",
    "class SizedString(String, Sized):\n",
    "    pass\n",
    "\n",
    "# Pattern matching\n",
    "class Regex(Descriptor):\n",
    "    def __init__(self, *args, pat, **kwargs):\n",
    "        self.pat = re.compile(pat)\n",
    "        super().__init__(*args, **kwargs)\n",
    "\n",
    "    def __set__(self, instance, value):\n",
    "        if not self.pat.match(value):\n",
    "            raise ValueError('Invalid string')\n",
    "        super().__set__(instance, value)\n",
    "\n",
    "class SizedRegexString(SizedString, Regex):\n",
    "    pass\n",
    "\n",
    "# Structure definition code\n",
    "\n",
    "def make_signature(names):\n",
    "    return Signature(\n",
    "        Parameter(name, Parameter.POSITIONAL_OR_KEYWORD)\n",
    "        for name in names)\n",
    "\n",
    "class StructMeta(type):\n",
    "    @classmethod\n",
    "    def __prepare__(cls, name, bases):\n",
    "        '''\n",
    "        __prepare__ :\n",
    "                Creates and returns Dict to use for execution of the class body.\n",
    "\n",
    "        '''\n",
    "        return OrderedDict()\n",
    "\n",
    "    def __new__(cls, clsname, bases, clsdict):\n",
    "        '''\n",
    "        cls dict is now an OrderedDict(),  because of __prepare__.\n",
    "        '''\n",
    "        print(f'from __new__ clsdict: \\n {clsdict} \\n')\n",
    "        fields = [key for key, val in clsdict.items()\n",
    "                  if isinstance(val, Descriptor) ]\n",
    "        \n",
    "        # make a clsdict\n",
    "        for name in fields:\n",
    "            clsdict[name].name = name\n",
    "    \n",
    "        # initialize obj by clsdict\n",
    "        clsobj = super().__new__(cls, clsname, bases, clsdict)\n",
    "        sig = make_signature(fields)\n",
    "        setattr(clsobj, '__signature__', sig)\n",
    "        print(f' from __new__ clsobj dict :\\n {clsobj.__dict__} \\n')\n",
    "        return clsobj\n",
    "\n",
    "class Structure(metaclass=StructMeta):\n",
    "    def __init__(self, *args, **kwargs):\n",
    "        bound = self.__signature__.bind(*args, **kwargs)\n",
    "        for name, val in bound.arguments.items():\n",
    "            setattr(self, name, val)\n",
    "\n",
    "class Stock(Structure):\n",
    "    '''\n",
    "    No need for\n",
    "\n",
    "    _fields = ['name', 'shares', 'price']\n",
    "\n",
    "    anymore\n",
    "    '''\n",
    "    name = SizedRegexString(maxlen=8, pat='[A-Z]+$')\n",
    "    shares = PosInteger() # PositiveInteger('shares') としなくてよい\n",
    "    price = PosFloat()\n",
    "\n",
    "    \n",
    "st = Stock('GOOG', 100, 490.1)\n",
    "st.__dict__\n",
    "help(st)"
   ]
  },
  {
   "cell_type": "code",
   "execution_count": null,
   "metadata": {
    "autoscroll": false,
    "collapsed": false,
    "ein.hycell": false,
    "ein.tags": "worksheet-0",
    "slideshow": {
     "slide_type": "-"
    }
   },
   "outputs": [],
   "source": []
  }
 ],
 "metadata": {
  "anaconda-cloud": null,
  "kernelspec": {
   "display_name": "Python [default]",
   "name": "python3"
  },
  "language_info": {
   "codemirror_mode": {
    "name": "ipython",
    "version": 3
   },
   "file_extension": ".py",
   "mimetype": "text/x-python",
   "name": "python",
   "nbconvert_exporter": "python",
   "pygments_lexer": "ipython3",
   "version": "3.6.5"
  },
  "name": "MetaProgramming.ipynb",
  "toc": {
   "nav_menu": null,
   "number_sections": true,
   "sideBar": true,
   "skip_h1_title": false,
   "toc_cell": true,
   "toc_position": null,
   "toc_section_display": "block",
   "toc_window_display": false
  }
 },
 "nbformat": 4,
 "nbformat_minor": 2
}
