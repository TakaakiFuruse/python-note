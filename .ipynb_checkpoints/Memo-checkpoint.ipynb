{
 "cells": [
  {
   "cell_type": "markdown",
   "metadata": {
    "toc": true
   },
   "source": [
    "<h1><span class=\"tocSkip\"></span></h1>\n",
    "<div class=\"toc\"><ul class=\"toc-item\"><li><span><a href=\"#__getattr__\" data-toc-modified-id=\"__getattr__-1\"><span class=\"toc-item-num\">1&nbsp;&nbsp;</span>__getattr__</a></span></li></ul></div>"
   ]
  },
  {
   "cell_type": "markdown",
   "metadata": {},
   "source": [
    "# \\_\\_getattr\\_\\_"
   ]
  },
  {
   "cell_type": "markdown",
   "metadata": {},
   "source": [
    "ref: https://github.com/mozilla/agithub/blob/master/agithub/base.py#L86"
   ]
  },
  {
   "cell_type": "code",
   "execution_count": 33,
   "metadata": {},
   "outputs": [],
   "source": [
    "class Test():\n",
    "    \n",
    "    dangerouse_calls = (\n",
    "        \"kaboom\"\n",
    "        )\n",
    "    \n",
    "    def __init__(self):\n",
    "        self.strs = \"\"\n",
    "        self.kaboomer = Kaboomer()\n",
    "        \n",
    "    def __getattr__(self, key):\n",
    "        print(key)\n",
    "        self.strs += \"/\" + key\n",
    "        if key in self.dangerouse_calls:\n",
    "            self.kaboomer.kaboom()\n",
    "        return self\n",
    "\n",
    "class Kaboomer():\n",
    "    def kaboom(self):\n",
    "            print(\"\")\n",
    "            print(\"===========\")\n",
    "            print(\"NOOOOOOOO!!!\")\n",
    "            print(\"===========\")\n",
    "            print(\"\")\n",
    "    "
   ]
  },
  {
   "cell_type": "code",
   "execution_count": 34,
   "metadata": {},
   "outputs": [
    {
     "name": "stdout",
     "output_type": "stream",
     "text": [
      "let\n",
      "me\n",
      "see\n",
      "how\n",
      "my\n",
      "method\n",
      "chain\n",
      "works\n"
     ]
    },
    {
     "data": {
      "text/plain": [
       "'/let/me/see/how/my/method/chain/works'"
      ]
     },
     "execution_count": 34,
     "metadata": {},
     "output_type": "execute_result"
    }
   ],
   "source": [
    "Test().let.me.see.how.my.method.chain.works.strs"
   ]
  },
  {
   "cell_type": "code",
   "execution_count": 35,
   "metadata": {},
   "outputs": [
    {
     "name": "stdout",
     "output_type": "stream",
     "text": [
      "never\n",
      "use\n",
      "word\n",
      "like\n",
      "kaboom\n",
      "\n",
      "===========\n",
      "NOOOOOOOO!!!\n",
      "===========\n",
      "\n"
     ]
    },
    {
     "data": {
      "text/plain": [
       "'/never/use/word/like/kaboom'"
      ]
     },
     "execution_count": 35,
     "metadata": {},
     "output_type": "execute_result"
    }
   ],
   "source": [
    "Test().never.use.word.like.kaboom.strs"
   ]
  },
  {
   "cell_type": "code",
   "execution_count": null,
   "metadata": {},
   "outputs": [],
   "source": []
  }
 ],
 "metadata": {
  "kernelspec": {
   "display_name": "Python 3",
   "language": "python",
   "name": "python3"
  },
  "language_info": {
   "codemirror_mode": {
    "name": "ipython",
    "version": 3
   },
   "file_extension": ".py",
   "mimetype": "text/x-python",
   "name": "python",
   "nbconvert_exporter": "python",
   "pygments_lexer": "ipython3",
   "version": "3.6.5"
  },
  "toc": {
   "base_numbering": 1,
   "nav_menu": {},
   "number_sections": true,
   "sideBar": true,
   "skip_h1_title": false,
   "title_cell": "",
   "title_sidebar": "",
   "toc_cell": true,
   "toc_position": {},
   "toc_section_display": true,
   "toc_window_display": false
  }
 },
 "nbformat": 4,
 "nbformat_minor": 2
}
