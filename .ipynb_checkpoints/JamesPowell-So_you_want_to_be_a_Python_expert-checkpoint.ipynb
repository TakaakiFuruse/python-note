{
 "cells": [
  {
   "cell_type": "markdown",
   "metadata": {
    "ein.tags": "worksheet-0",
    "slideshow": {
     "slide_type": "-"
    },
    "toc": true
   },
   "source": [
    "<h1>Table of Contents<span class=\"tocSkip\"></span></h1>\n",
    "<div class=\"toc\" style=\"margin-top: 1em;\"><ul class=\"toc-item\"><li><span><a href=\"#How-you-enforce-to-define-methods\" data-toc-modified-id=\"How-you-enforce-to-define-methods-1\"><span class=\"toc-item-num\">1&nbsp;&nbsp;</span>How you enforce to define methods</a></span></li><li><span><a href=\"#Grab-the-hook-of-class-creation\" data-toc-modified-id=\"Grab-the-hook-of-class-creation-2\"><span class=\"toc-item-num\">2&nbsp;&nbsp;</span>Grab the hook of class creation</a></span></li><li><span><a href=\"#Check-whether-bar-is-defind-in-library-level\" data-toc-modified-id=\"Check-whether-bar-is-defind-in-library-level-3\"><span class=\"toc-item-num\">3&nbsp;&nbsp;</span>Check whether bar is defind in library level</a></span><ul class=\"toc-item\"><li><span><a href=\"#Metaclass\" data-toc-modified-id=\"Metaclass-3.1\"><span class=\"toc-item-num\">3.1&nbsp;&nbsp;</span>Metaclass</a></span></li><li><span><a href=\"#__new__\" data-toc-modified-id=\"__new__-3.2\"><span class=\"toc-item-num\">3.2&nbsp;&nbsp;</span><a href=\"https://docs.python.org/3/reference/datamodel.html#basic-customization\" target=\"_blank\"><code>__new__</code></a></a></span></li><li><span><a href=\"#If-no-bar-method-tell-me!!\" data-toc-modified-id=\"If-no-bar-method-tell-me!!-3.3\"><span class=\"toc-item-num\">3.3&nbsp;&nbsp;</span>If no bar method tell me!!</a></span></li><li><span><a href=\"#↓　bar-がないのでエラーが出る\" data-toc-modified-id=\"↓　bar-がないのでエラーが出る-3.4\"><span class=\"toc-item-num\">3.4&nbsp;&nbsp;</span>↓　bar がないのでエラーが出る</a></span></li><li><span><a href=\"#__init_subclas__を使う\" data-toc-modified-id=\"__init_subclas__を使う-3.5\"><span class=\"toc-item-num\">3.5&nbsp;&nbsp;</span><code>__init_subclas__</code>を使う</a></span></li><li><span><a href=\"#ABC-Metaを使う\" data-toc-modified-id=\"ABC-Metaを使う-3.6\"><span class=\"toc-item-num\">3.6&nbsp;&nbsp;</span>ABC Metaを使う</a></span></li></ul></li><li><span><a href=\"#decorator\" data-toc-modified-id=\"decorator-4\"><span class=\"toc-item-num\">4&nbsp;&nbsp;</span>decorator</a></span><ul class=\"toc-item\"><li><span><a href=\"#関数を使う\" data-toc-modified-id=\"関数を使う-4.1\"><span class=\"toc-item-num\">4.1&nbsp;&nbsp;</span>関数を使う</a></span></li><li><span><a href=\"#関数の中に関数を入れる\" data-toc-modified-id=\"関数の中に関数を入れる-4.2\"><span class=\"toc-item-num\">4.2&nbsp;&nbsp;</span>関数の中に関数を入れる</a></span></li><li><span><a href=\"#上と同じことをDecoratorで\" data-toc-modified-id=\"上と同じことをDecoratorで-4.3\"><span class=\"toc-item-num\">4.3&nbsp;&nbsp;</span>上と同じことをDecoratorで</a></span></li><li><span><a href=\"#繰り返すようにする\" data-toc-modified-id=\"繰り返すようにする-4.4\"><span class=\"toc-item-num\">4.4&nbsp;&nbsp;</span>繰り返すようにする</a></span></li><li><span><a href=\"#繰り返しの回数を指定する-(higher-order-decorators)\" data-toc-modified-id=\"繰り返しの回数を指定する-(higher-order-decorators)-4.5\"><span class=\"toc-item-num\">4.5&nbsp;&nbsp;</span>繰り返しの回数を指定する (higher order decorators)</a></span></li></ul></li><li><span><a href=\"#Generater\" data-toc-modified-id=\"Generater-5\"><span class=\"toc-item-num\">5&nbsp;&nbsp;</span>Generater</a></span><ul class=\"toc-item\"><li><span><a href=\"#Yield-を使ってGeneratorを使う\" data-toc-modified-id=\"Yield-を使ってGeneratorを使う-5.1\"><span class=\"toc-item-num\">5.1&nbsp;&nbsp;</span>Yield を使ってGeneratorを使う</a></span></li><li><span><a href=\"#関数を順番に実行しないといけないとき\" data-toc-modified-id=\"関数を順番に実行しないといけないとき-5.2\"><span class=\"toc-item-num\">5.2&nbsp;&nbsp;</span>関数を順番に実行しないといけないとき</a></span><ul class=\"toc-item\"><li><span><a href=\"#普通のやり方\" data-toc-modified-id=\"普通のやり方-5.2.1\"><span class=\"toc-item-num\">5.2.1&nbsp;&nbsp;</span>普通のやり方</a></span></li><li><span><a href=\"#Genreator\" data-toc-modified-id=\"Genreator-5.2.2\"><span class=\"toc-item-num\">5.2.2&nbsp;&nbsp;</span>Genreator</a></span></li></ul></li></ul></li></ul></div>"
   ]
  },
  {
   "cell_type": "markdown",
   "metadata": {
    "ein.tags": "worksheet-0",
    "slideshow": {
     "slide_type": "-"
    }
   },
   "source": [
    "# How you enforce to define methods"
   ]
  },
  {
   "cell_type": "markdown",
   "metadata": {
    "ein.tags": "worksheet-0",
    "slideshow": {
     "slide_type": "-"
    }
   },
   "source": [
    "# Grab the hook of class creation"
   ]
  },
  {
   "cell_type": "code",
   "execution_count": 1,
   "metadata": {
    "autoscroll": false,
    "collapsed": false,
    "ein.hycell": false,
    "ein.tags": "worksheet-0",
    "slideshow": {
     "slide_type": "-"
    }
   },
   "outputs": [],
   "source": [
    "# library.py\n",
    "class Base:\n",
    "    def foo(self):\n",
    "        return self.bar()\n",
    "\n",
    "old_bc = __build_class__\n",
    "def my_bc(*a, **kw):\n",
    "    print('my build class -> ', a, kw)\n",
    "    return old_bc(*a, **kw)\n",
    "\n",
    "import builtins\n",
    "builtins.__build_class__ = my_bc"
   ]
  },
  {
   "cell_type": "code",
   "execution_count": 2,
   "metadata": {
    "autoscroll": false,
    "collapsed": false,
    "ein.hycell": false,
    "ein.tags": "worksheet-0",
    "slideshow": {
     "slide_type": "-"
    }
   },
   "outputs": [
    {
     "name": "stdout",
     "output_type": "stream",
     "text": [
      "my build class ->  (<function Derived at 0x7fb74c523488>, 'Derived', <class '__main__.Base'>) {}\n"
     ]
    }
   ],
   "source": [
    "# user.py\n",
    "# from libraly import Base\n",
    "\n",
    "class Derived(Base):\n",
    "    def bar(self):\n",
    "        return 'bar'"
   ]
  },
  {
   "cell_type": "code",
   "execution_count": 3,
   "metadata": {
    "autoscroll": false,
    "collapsed": false,
    "ein.hycell": false,
    "ein.tags": "worksheet-0",
    "slideshow": {
     "slide_type": "-"
    }
   },
   "outputs": [
    {
     "data": {
      "text/plain": [
       "'bar'"
      ]
     },
     "execution_count": 3,
     "metadata": {},
     "output_type": "execute_result"
    }
   ],
   "source": [
    "user = Derived()\n",
    "user.bar()"
   ]
  },
  {
   "cell_type": "markdown",
   "metadata": {
    "ein.tags": "worksheet-0",
    "slideshow": {
     "slide_type": "-"
    }
   },
   "source": [
    "# Check whether bar is defind in library level"
   ]
  },
  {
   "cell_type": "code",
   "execution_count": 1,
   "metadata": {
    "autoscroll": false,
    "collapsed": false,
    "ein.hycell": false,
    "ein.tags": "worksheet-0",
    "slideshow": {
     "slide_type": "-"
    }
   },
   "outputs": [],
   "source": [
    "# library.py\n",
    "class Base:\n",
    "    def foo(self):\n",
    "        return self.bar()\n",
    "\n",
    "old_bc = __build_class__\n",
    "def my_bc(fun, name, base=None, **kw):\n",
    "    if base is Base:\n",
    "        print('Check if bar method is defined')\n",
    "    if base is not None:\n",
    "        return old_bc(fun, name, base, **kw)\n",
    "    return old_bc(fun, name)\n",
    "    \n",
    "import builtins\n",
    "builtins.__build_class__ = my_bc"
   ]
  },
  {
   "cell_type": "code",
   "execution_count": 2,
   "metadata": {
    "autoscroll": false,
    "collapsed": false,
    "ein.hycell": false,
    "ein.tags": "worksheet-0",
    "slideshow": {
     "slide_type": "-"
    }
   },
   "outputs": [
    {
     "name": "stdout",
     "output_type": "stream",
     "text": [
      "Check if bar method is defined\n"
     ]
    }
   ],
   "source": [
    "# user.py\n",
    "# from libraly import Base\n",
    "\n",
    "class Derived(Base):\n",
    "    def bar(self):\n",
    "        return 'bar'"
   ]
  },
  {
   "cell_type": "code",
   "execution_count": 3,
   "metadata": {
    "autoscroll": false,
    "collapsed": false,
    "ein.hycell": false,
    "ein.tags": "worksheet-0",
    "slideshow": {
     "slide_type": "-"
    }
   },
   "outputs": [
    {
     "data": {
      "text/plain": [
       "'bar'"
      ]
     },
     "execution_count": 3,
     "metadata": {},
     "output_type": "execute_result"
    }
   ],
   "source": [
    "user = Derived()\n",
    "user.bar()"
   ]
  },
  {
   "cell_type": "markdown",
   "metadata": {
    "ein.tags": "worksheet-0",
    "slideshow": {
     "slide_type": "-"
    }
   },
   "source": [
    "## Metaclass"
   ]
  },
  {
   "cell_type": "code",
   "execution_count": 5,
   "metadata": {
    "autoscroll": false,
    "collapsed": false,
    "ein.hycell": false,
    "ein.tags": "worksheet-0",
    "slideshow": {
     "slide_type": "-"
    }
   },
   "outputs": [
    {
     "name": "stdout",
     "output_type": "stream",
     "text": [
      "BaseMeta.__new__ <class '__main__.BaseMeta'> Base () {'__module__': '__main__', '__qualname__': 'Base', 'foo': <function Base.foo at 0x7ff7c0517950>}\n"
     ]
    }
   ],
   "source": [
    "# library.py\n",
    "\n",
    "class BaseMeta(type):\n",
    "    def __new__(cls, name, bases, body):\n",
    "        print('BaseMeta.__new__', cls, name, bases, body)\n",
    "        return super().__new__(cls, name, bases, body)\n",
    "\n",
    "class Base(metaclass=BaseMeta):\n",
    "    def foo(self):\n",
    "        return self.bar()"
   ]
  },
  {
   "cell_type": "markdown",
   "metadata": {
    "ein.tags": "worksheet-0",
    "slideshow": {
     "slide_type": "-"
    }
   },
   "source": [
    "## [`__new__`](https://docs.python.org/3/reference/datamodel.html#basic-customization)"
   ]
  },
  {
   "cell_type": "markdown",
   "metadata": {
    "ein.tags": "worksheet-0",
    "slideshow": {
     "slide_type": "-"
    }
   },
   "source": [
    "[`**object.__new__(cls[, ...]`) **  ](https://docs.python.org/3/reference/datamodel.html#basic-customization)\n",
    "```\n",
    "Called to create a new instance of class cls. __new__() is a static method (special-cased so you need not declare \n",
    "it as such) that takes the class of which an instance was requested as its first argument. The remaining arguments are those passed to the object constructor expression (the call to the class). The return value of __new__() should be the new object instance (usually an instance of cls).\n",
    "\n",
    "```\n"
   ]
  },
  {
   "cell_type": "markdown",
   "metadata": {
    "ein.tags": "worksheet-0",
    "slideshow": {
     "slide_type": "-"
    }
   },
   "source": [
    "## If no bar method tell me!!"
   ]
  },
  {
   "cell_type": "markdown",
   "metadata": {
    "ein.tags": "worksheet-0",
    "slideshow": {
     "slide_type": "-"
    }
   },
   "source": [
    "## ↓　bar がないのでエラーが出る"
   ]
  },
  {
   "cell_type": "code",
   "execution_count": 15,
   "metadata": {
    "autoscroll": false,
    "collapsed": false,
    "ein.hycell": false,
    "ein.tags": "worksheet-0",
    "slideshow": {
     "slide_type": "-"
    }
   },
   "outputs": [
    {
     "ename": "TypeError",
     "evalue": "Bad User Class",
     "output_type": "error",
     "traceback": [
      "\u001b[1;31m---------------------------------------------------------------------------\u001b[0m",
      "\u001b[1;31mTypeError\u001b[0m                                 Traceback (most recent call last)",
      "\u001b[1;32m<ipython-input-15-d102e038da7d>\u001b[0m in \u001b[0;36m<module>\u001b[1;34m()\u001b[0m\n\u001b[0;32m      7\u001b[0m         \u001b[1;32mreturn\u001b[0m \u001b[0msuper\u001b[0m\u001b[1;33m(\u001b[0m\u001b[1;33m)\u001b[0m\u001b[1;33m.\u001b[0m\u001b[0m__new__\u001b[0m\u001b[1;33m(\u001b[0m\u001b[0mcls\u001b[0m\u001b[1;33m,\u001b[0m \u001b[0mname\u001b[0m\u001b[1;33m,\u001b[0m \u001b[0mbases\u001b[0m\u001b[1;33m,\u001b[0m \u001b[0mbody\u001b[0m\u001b[1;33m)\u001b[0m\u001b[1;33m\u001b[0m\u001b[0m\n\u001b[0;32m      8\u001b[0m \u001b[1;33m\u001b[0m\u001b[0m\n\u001b[1;32m----> 9\u001b[1;33m \u001b[1;32mclass\u001b[0m \u001b[0mBase\u001b[0m\u001b[1;33m(\u001b[0m\u001b[0mmetaclass\u001b[0m\u001b[1;33m=\u001b[0m\u001b[0mBaseMeta\u001b[0m\u001b[1;33m)\u001b[0m\u001b[1;33m:\u001b[0m\u001b[1;33m\u001b[0m\u001b[0m\n\u001b[0m\u001b[0;32m     10\u001b[0m     \u001b[1;32mdef\u001b[0m \u001b[0mfoo\u001b[0m\u001b[1;33m(\u001b[0m\u001b[0mself\u001b[0m\u001b[1;33m)\u001b[0m\u001b[1;33m:\u001b[0m\u001b[1;33m\u001b[0m\u001b[0m\n\u001b[0;32m     11\u001b[0m         \u001b[1;32mreturn\u001b[0m \u001b[0mself\u001b[0m\u001b[1;33m.\u001b[0m\u001b[0mbar\u001b[0m\u001b[1;33m(\u001b[0m\u001b[1;33m)\u001b[0m\u001b[1;33m\u001b[0m\u001b[0m\n",
      "\u001b[1;32m<ipython-input-15-d102e038da7d>\u001b[0m in \u001b[0;36m__new__\u001b[1;34m(cls, name, bases, body)\u001b[0m\n\u001b[0;32m      4\u001b[0m     \u001b[1;32mdef\u001b[0m \u001b[0m__new__\u001b[0m\u001b[1;33m(\u001b[0m\u001b[0mcls\u001b[0m\u001b[1;33m,\u001b[0m \u001b[0mname\u001b[0m\u001b[1;33m,\u001b[0m \u001b[0mbases\u001b[0m\u001b[1;33m,\u001b[0m \u001b[0mbody\u001b[0m\u001b[1;33m)\u001b[0m\u001b[1;33m:\u001b[0m\u001b[1;33m\u001b[0m\u001b[0m\n\u001b[0;32m      5\u001b[0m         \u001b[1;32mif\u001b[0m \u001b[1;32mnot\u001b[0m \u001b[1;34m'bar'\u001b[0m \u001b[1;32min\u001b[0m \u001b[0mbody\u001b[0m\u001b[1;33m:\u001b[0m\u001b[1;33m\u001b[0m\u001b[0m\n\u001b[1;32m----> 6\u001b[1;33m             \u001b[1;32mraise\u001b[0m \u001b[0mTypeError\u001b[0m\u001b[1;33m(\u001b[0m\u001b[1;34m\"Bad User Class\"\u001b[0m\u001b[1;33m)\u001b[0m\u001b[1;33m\u001b[0m\u001b[0m\n\u001b[0m\u001b[0;32m      7\u001b[0m         \u001b[1;32mreturn\u001b[0m \u001b[0msuper\u001b[0m\u001b[1;33m(\u001b[0m\u001b[1;33m)\u001b[0m\u001b[1;33m.\u001b[0m\u001b[0m__new__\u001b[0m\u001b[1;33m(\u001b[0m\u001b[0mcls\u001b[0m\u001b[1;33m,\u001b[0m \u001b[0mname\u001b[0m\u001b[1;33m,\u001b[0m \u001b[0mbases\u001b[0m\u001b[1;33m,\u001b[0m \u001b[0mbody\u001b[0m\u001b[1;33m)\u001b[0m\u001b[1;33m\u001b[0m\u001b[0m\n\u001b[0;32m      8\u001b[0m \u001b[1;33m\u001b[0m\u001b[0m\n",
      "\u001b[1;31mTypeError\u001b[0m: Bad User Class"
     ]
    }
   ],
   "source": [
    "# library.py\n",
    "\n",
    "class BaseMeta(type):\n",
    "    def __new__(cls, name, bases, body):\n",
    "        if not 'bar' in body:\n",
    "            raise TypeError(\"Bad User Class\")\n",
    "        return super().__new__(cls, name, bases, body)\n",
    "\n",
    "class Base(metaclass=BaseMeta):\n",
    "    def foo(self):\n",
    "        return self.bar()"
   ]
  },
  {
   "cell_type": "markdown",
   "metadata": {
    "ein.tags": "worksheet-0",
    "slideshow": {
     "slide_type": "-"
    }
   },
   "source": [
    "↓　エラーが出ない"
   ]
  },
  {
   "cell_type": "code",
   "execution_count": 1,
   "metadata": {
    "autoscroll": false,
    "collapsed": false,
    "ein.hycell": false,
    "ein.tags": "worksheet-0",
    "slideshow": {
     "slide_type": "-"
    }
   },
   "outputs": [],
   "source": [
    "# library.py\n",
    "\n",
    "class BaseMeta(type):\n",
    "    def __new__(cls, name, bases, body):\n",
    "        if not 'bar' in body:\n",
    "            raise TypeError(\"Bad User Class\")\n",
    "        return super().__new__(cls, name, bases, body)\n",
    "\n",
    "class Base(metaclass=BaseMeta):\n",
    "    def foo(self):\n",
    "        return self.bar()\n",
    "    def bar(self):\n",
    "        pass"
   ]
  },
  {
   "cell_type": "markdown",
   "metadata": {
    "ein.tags": "worksheet-0",
    "slideshow": {
     "slide_type": "-"
    }
   },
   "source": [
    "## `__init_subclas__`を使う"
   ]
  },
  {
   "cell_type": "code",
   "execution_count": 14,
   "metadata": {
    "autoscroll": false,
    "collapsed": false,
    "ein.hycell": false,
    "ein.tags": "worksheet-0",
    "slideshow": {
     "slide_type": "-"
    }
   },
   "outputs": [],
   "source": [
    "# library.py\n",
    "\n",
    "\n",
    "class Base:\n",
    "    def foo(self):\n",
    "        return self.bar()\n",
    "\n",
    "    def __init_subclass__(cls, *args, **kwargs):\n",
    "        print('init_subclass', cls, args, kwargs)\n",
    "        if 'bar' not in cls.__dict__.keys():\n",
    "            raise AttributeError('HEY!! bar method is not defind!!')"
   ]
  },
  {
   "cell_type": "code",
   "execution_count": 15,
   "metadata": {
    "autoscroll": false,
    "collapsed": false,
    "ein.hycell": false,
    "ein.tags": "worksheet-0",
    "slideshow": {
     "slide_type": "-"
    }
   },
   "outputs": [
    {
     "name": "stdout",
     "output_type": "stream",
     "text": [
      "init_subclass <class '__main__.Derived'> () {}\n"
     ]
    }
   ],
   "source": [
    "# user.py\n",
    "# from libraly import Base\n",
    "\n",
    "class Derived(Base):\n",
    "    def bar(self):\n",
    "        return 'bar'"
   ]
  },
  {
   "cell_type": "code",
   "execution_count": 16,
   "metadata": {
    "autoscroll": false,
    "collapsed": false,
    "ein.hycell": false,
    "ein.tags": "worksheet-0",
    "slideshow": {
     "slide_type": "-"
    }
   },
   "outputs": [
    {
     "name": "stdout",
     "output_type": "stream",
     "text": [
      "init_subclass <class '__main__.Derived'> () {}\n"
     ]
    },
    {
     "ename": "AttributeError",
     "evalue": "HEY!! bar method is not defind!!",
     "output_type": "error",
     "traceback": [
      "\u001b[1;31m---------------------------------------------------------------------------\u001b[0m",
      "\u001b[1;31mAttributeError\u001b[0m                            Traceback (most recent call last)",
      "\u001b[1;32m<ipython-input-16-fa7f8376ea84>\u001b[0m in \u001b[0;36m<module>\u001b[1;34m()\u001b[0m\n\u001b[0;32m      2\u001b[0m \u001b[1;31m# from libraly import Base\u001b[0m\u001b[1;33m\u001b[0m\u001b[1;33m\u001b[0m\u001b[0m\n\u001b[0;32m      3\u001b[0m \u001b[1;33m\u001b[0m\u001b[0m\n\u001b[1;32m----> 4\u001b[1;33m \u001b[1;32mclass\u001b[0m \u001b[0mDerived\u001b[0m\u001b[1;33m(\u001b[0m\u001b[0mBase\u001b[0m\u001b[1;33m)\u001b[0m\u001b[1;33m:\u001b[0m\u001b[1;33m\u001b[0m\u001b[0m\n\u001b[0m\u001b[0;32m      5\u001b[0m     \u001b[1;32mdef\u001b[0m \u001b[0myo\u001b[0m\u001b[1;33m(\u001b[0m\u001b[0mself\u001b[0m\u001b[1;33m)\u001b[0m\u001b[1;33m:\u001b[0m\u001b[1;33m\u001b[0m\u001b[0m\n\u001b[0;32m      6\u001b[0m         \u001b[1;32mreturn\u001b[0m \u001b[1;34m'bar'\u001b[0m\u001b[1;33m\u001b[0m\u001b[0m\n",
      "\u001b[1;32m<ipython-input-14-7cf41e4f2571>\u001b[0m in \u001b[0;36m__init_subclass__\u001b[1;34m(cls, *args, **kwargs)\u001b[0m\n\u001b[0;32m      9\u001b[0m         \u001b[0mprint\u001b[0m\u001b[1;33m(\u001b[0m\u001b[1;34m'init_subclass'\u001b[0m\u001b[1;33m,\u001b[0m \u001b[0mcls\u001b[0m\u001b[1;33m,\u001b[0m \u001b[0margs\u001b[0m\u001b[1;33m,\u001b[0m \u001b[0mkwargs\u001b[0m\u001b[1;33m)\u001b[0m\u001b[1;33m\u001b[0m\u001b[0m\n\u001b[0;32m     10\u001b[0m         \u001b[1;32mif\u001b[0m \u001b[1;34m'bar'\u001b[0m \u001b[1;32mnot\u001b[0m \u001b[1;32min\u001b[0m \u001b[0mcls\u001b[0m\u001b[1;33m.\u001b[0m\u001b[0m__dict__\u001b[0m\u001b[1;33m.\u001b[0m\u001b[0mkeys\u001b[0m\u001b[1;33m(\u001b[0m\u001b[1;33m)\u001b[0m\u001b[1;33m:\u001b[0m\u001b[1;33m\u001b[0m\u001b[0m\n\u001b[1;32m---> 11\u001b[1;33m             \u001b[1;32mraise\u001b[0m \u001b[0mAttributeError\u001b[0m\u001b[1;33m(\u001b[0m\u001b[1;34m'HEY!! bar method is not defind!!'\u001b[0m\u001b[1;33m)\u001b[0m\u001b[1;33m\u001b[0m\u001b[0m\n\u001b[0m",
      "\u001b[1;31mAttributeError\u001b[0m: HEY!! bar method is not defind!!"
     ]
    }
   ],
   "source": [
    "# user.py\n",
    "# from libraly import Base\n",
    "\n",
    "class Derived(Base):\n",
    "    def yo(self):\n",
    "        return 'bar'"
   ]
  },
  {
   "cell_type": "markdown",
   "metadata": {
    "ein.tags": "worksheet-0",
    "slideshow": {
     "slide_type": "-"
    }
   },
   "source": [
    "## ABC Metaを使う"
   ]
  },
  {
   "cell_type": "code",
   "execution_count": 20,
   "metadata": {
    "autoscroll": false,
    "collapsed": false,
    "ein.hycell": false,
    "ein.tags": "worksheet-0",
    "slideshow": {
     "slide_type": "-"
    }
   },
   "outputs": [],
   "source": [
    "# library.py\n",
    "\n",
    "from abc import ABCMeta\n",
    "class Base(metaclass=ABCMeta):\n",
    "    \n",
    "    def foo(self):\n",
    "        return self.bar()\n",
    "    \n",
    "    @abstractmethod\n",
    "    def bar(self):\n",
    "        pass"
   ]
  },
  {
   "cell_type": "code",
   "execution_count": 21,
   "metadata": {
    "autoscroll": false,
    "collapsed": false,
    "ein.hycell": false,
    "ein.tags": "worksheet-0",
    "slideshow": {
     "slide_type": "-"
    }
   },
   "outputs": [],
   "source": [
    "# user.py\n",
    "# from libraly import Base\n",
    "\n",
    "class Derived(Base):\n",
    "    def yo(self):\n",
    "        return 'bar'"
   ]
  },
  {
   "cell_type": "code",
   "execution_count": 22,
   "metadata": {
    "autoscroll": false,
    "collapsed": false,
    "ein.hycell": false,
    "ein.tags": "worksheet-0",
    "slideshow": {
     "slide_type": "-"
    }
   },
   "outputs": [
    {
     "ename": "TypeError",
     "evalue": "Can't instantiate abstract class Derived with abstract methods bar",
     "output_type": "error",
     "traceback": [
      "\u001b[1;31m---------------------------------------------------------------------------\u001b[0m",
      "\u001b[1;31mTypeError\u001b[0m                                 Traceback (most recent call last)",
      "\u001b[1;32m<ipython-input-22-6434275fc6d2>\u001b[0m in \u001b[0;36m<module>\u001b[1;34m()\u001b[0m\n\u001b[1;32m----> 1\u001b[1;33m \u001b[0muser\u001b[0m \u001b[1;33m=\u001b[0m \u001b[0mDerived\u001b[0m\u001b[1;33m(\u001b[0m\u001b[1;33m)\u001b[0m\u001b[1;33m\u001b[0m\u001b[0m\n\u001b[0m",
      "\u001b[1;31mTypeError\u001b[0m: Can't instantiate abstract class Derived with abstract methods bar"
     ]
    }
   ],
   "source": [
    "user = Derived()"
   ]
  },
  {
   "cell_type": "markdown",
   "metadata": {
    "ein.tags": "worksheet-0",
    "slideshow": {
     "slide_type": "-"
    }
   },
   "source": [
    "# decorator"
   ]
  },
  {
   "cell_type": "markdown",
   "metadata": {
    "ein.tags": "worksheet-0",
    "slideshow": {
     "slide_type": "-"
    }
   },
   "source": [
    "## 関数を使う"
   ]
  },
  {
   "cell_type": "code",
   "execution_count": 20,
   "metadata": {
    "autoscroll": false,
    "collapsed": false,
    "ein.hycell": false,
    "ein.tags": "worksheet-0",
    "slideshow": {
     "slide_type": "-"
    }
   },
   "outputs": [
    {
     "name": "stdout",
     "output_type": "stream",
     "text": [
      "elapsed 4.76837158203125e-07\n",
      "add 30\n",
      "elapsed 4.76837158203125e-07\n",
      "sub -10\n"
     ]
    }
   ],
   "source": [
    "# dec.py\n",
    "\n",
    "from time import time\n",
    "\n",
    "\n",
    "def timer(func, x, y):\n",
    "    before = time()\n",
    "    rv = func(x, y)\n",
    "    after = time()\n",
    "    print('elapsed', after - before)\n",
    "    return rv\n",
    "\n",
    "\n",
    "def add(x, y):\n",
    "    return x + y\n",
    "\n",
    "\n",
    "def sub(x, y):\n",
    "    return x - y\n",
    "\n",
    "\n",
    "print('add', timer(add, 10, 20))\n",
    "print('sub', timer(sub, 10, 20))"
   ]
  },
  {
   "cell_type": "markdown",
   "metadata": {
    "ein.tags": "worksheet-0",
    "slideshow": {
     "slide_type": "-"
    }
   },
   "source": [
    "## 関数の中に関数を入れる"
   ]
  },
  {
   "cell_type": "code",
   "execution_count": 22,
   "metadata": {
    "autoscroll": false,
    "collapsed": false,
    "ein.hycell": false,
    "ein.tags": "worksheet-0",
    "slideshow": {
     "slide_type": "-"
    }
   },
   "outputs": [
    {
     "name": "stdout",
     "output_type": "stream",
     "text": [
      "elapsed 7.152557373046875e-07\n",
      "add 30\n",
      "elapsed 9.5367431640625e-07\n",
      "sub -10\n"
     ]
    }
   ],
   "source": [
    "# dec.py\n",
    "\n",
    "from time import time\n",
    "\n",
    "\n",
    "def timer(func):\n",
    "    def f(x, y):\n",
    "        before = time()\n",
    "        rv = func(x, y)\n",
    "        after = time()\n",
    "        print('elapsed', after - before)\n",
    "        return rv\n",
    "    return f\n",
    "\n",
    "\n",
    "def add(x, y):\n",
    "    return x + y\n",
    "\n",
    "add = timer(add)\n",
    "\n",
    "def sub(x, y):\n",
    "    return x - y\n",
    "\n",
    "sub = timer(sub)\n",
    "\n",
    "print('add', add(10, 20))\n",
    "print('sub', sub(10, 20))"
   ]
  },
  {
   "cell_type": "markdown",
   "metadata": {
    "ein.tags": "worksheet-0",
    "slideshow": {
     "slide_type": "-"
    }
   },
   "source": [
    "## 上と同じことをDecoratorで"
   ]
  },
  {
   "cell_type": "code",
   "execution_count": 2,
   "metadata": {
    "autoscroll": false,
    "collapsed": false,
    "ein.hycell": false,
    "ein.tags": "worksheet-0",
    "slideshow": {
     "slide_type": "-"
    }
   },
   "outputs": [
    {
     "name": "stdout",
     "output_type": "stream",
     "text": [
      "elapsed 3.5762786865234375e-06\n",
      "add 30\n",
      "elapsed 2.6226043701171875e-06\n",
      "sub -10\n"
     ]
    }
   ],
   "source": [
    "# dec.py\n",
    "\n",
    "from time import time\n",
    "\n",
    "\n",
    "def timer(func):\n",
    "    def f(*args, **kwargs):\n",
    "        before = time()\n",
    "        rv = func(*args, **kwargs)\n",
    "        after = time()\n",
    "        print('elapsed', after - before)\n",
    "        return rv\n",
    "    return f\n",
    "\n",
    "\n",
    "@timer\n",
    "def add(x, y):\n",
    "    return x + y\n",
    "\n",
    "\n",
    "@timer\n",
    "def sub(x, y):\n",
    "    return x - y\n",
    "\n",
    "\n",
    "print('add', add(10, 20))\n",
    "print('sub', sub(10, 20))"
   ]
  },
  {
   "cell_type": "markdown",
   "metadata": {
    "ein.tags": "worksheet-0",
    "slideshow": {
     "slide_type": "-"
    }
   },
   "source": [
    "## 繰り返すようにする"
   ]
  },
  {
   "cell_type": "code",
   "execution_count": 12,
   "metadata": {
    "autoscroll": false,
    "collapsed": false,
    "ein.hycell": false,
    "ein.tags": "worksheet-0",
    "slideshow": {
     "slide_type": "-"
    }
   },
   "outputs": [
    {
     "name": "stdout",
     "output_type": "stream",
     "text": [
      "<function add at 0x7fa800194b70> is running 0 time(s).\n",
      "<function add at 0x7fa800194b70> is running 1 time(s).\n",
      "add 30\n",
      "<function sub at 0x7fa800101d08> is running 0 time(s).\n",
      "<function sub at 0x7fa800101d08> is running 1 time(s).\n",
      "sub -10\n"
     ]
    }
   ],
   "source": [
    "# dec.py\n",
    "\n",
    "from time import time\n",
    "\n",
    "\n",
    "def timer(func):\n",
    "    def f(*args, **kwargs):\n",
    "        before = time()\n",
    "        rv = func(*args, **kwargs)\n",
    "        after = time()\n",
    "        print('elapsed', after - before)\n",
    "        return rv\n",
    "    return f\n",
    "\n",
    "n = 2\n",
    "def ntimes(f):\n",
    "    def wrapper(*args, **kwargs):\n",
    "        for i in range(n):\n",
    "            print(f'{f} is running {i} time(s).')\n",
    "            rv = f(*args, **kwargs)\n",
    "        return rv\n",
    "    return wrapper\n",
    "        \n",
    "@ntimes\n",
    "def add(x, y):\n",
    "    return x + y\n",
    "\n",
    "@ntimes\n",
    "def sub(x, y):\n",
    "    return x - y\n",
    "\n",
    "\n",
    "print('add', add(10, 20))\n",
    "print('sub', sub(10, 20))"
   ]
  },
  {
   "cell_type": "markdown",
   "metadata": {
    "ein.tags": "worksheet-0",
    "slideshow": {
     "slide_type": "-"
    }
   },
   "source": [
    "## 繰り返しの回数を指定する (higher order decorators)"
   ]
  },
  {
   "cell_type": "code",
   "execution_count": 14,
   "metadata": {
    "autoscroll": false,
    "collapsed": false,
    "ein.hycell": false,
    "ein.tags": "worksheet-0",
    "slideshow": {
     "slide_type": "-"
    }
   },
   "outputs": [
    {
     "name": "stdout",
     "output_type": "stream",
     "text": [
      "<function add at 0x7fa800101378> is running 0 time(s).\n",
      "<function add at 0x7fa800101378> is running 1 time(s).\n",
      "<function add at 0x7fa800101378> is running 2 time(s).\n",
      "add 30\n",
      "<function sub at 0x7fa800101598> is running 0 time(s).\n",
      "<function sub at 0x7fa800101598> is running 1 time(s).\n",
      "<function sub at 0x7fa800101598> is running 2 time(s).\n",
      "<function sub at 0x7fa800101598> is running 3 time(s).\n",
      "sub -10\n"
     ]
    }
   ],
   "source": [
    "# dec.py\n",
    "\n",
    "from time import time\n",
    "\n",
    "\n",
    "def timer(func):\n",
    "    def f(*args, **kwargs):\n",
    "        before = time()\n",
    "        rv = func(*args, **kwargs)\n",
    "        after = time()\n",
    "        print('elapsed', after - before)\n",
    "        return rv\n",
    "    return f\n",
    "\n",
    "def ntimes(n):\n",
    "    def inner(f):\n",
    "        def wrapper(*args, **kwargs):\n",
    "            for i in range(n):\n",
    "                print(f'{f} is running {i} time(s).')\n",
    "                rv = f(*args, **kwargs)\n",
    "            return rv\n",
    "        return wrapper\n",
    "    return inner\n",
    "        \n",
    "@ntimes(3)\n",
    "def add(x, y):\n",
    "    return x + y\n",
    "\n",
    "@ntimes(4)\n",
    "def sub(x, y):\n",
    "    return x - y\n",
    "\n",
    "\n",
    "print('add', add(10, 20))\n",
    "print('sub', sub(10, 20))"
   ]
  },
  {
   "cell_type": "markdown",
   "metadata": {
    "ein.tags": "worksheet-0",
    "slideshow": {
     "slide_type": "-"
    }
   },
   "source": [
    "# Generater"
   ]
  },
  {
   "cell_type": "code",
   "execution_count": null,
   "metadata": {
    "autoscroll": false,
    "collapsed": false,
    "ein.hycell": false,
    "ein.tags": "worksheet-0",
    "slideshow": {
     "slide_type": "-"
    }
   },
   "outputs": [],
   "source": [
    "from time import sleep\n",
    "\n",
    "# simulate heavy computing process\n",
    "def compute():\n",
    "    rv = []\n",
    "    for i in range(10):\n",
    "        sleep(.5)\n",
    "        rv.append(i)\n",
    "    return rv"
   ]
  },
  {
   "cell_type": "markdown",
   "metadata": {
    "ein.tags": "worksheet-0",
    "slideshow": {
     "slide_type": "-"
    }
   },
   "source": [
    "上のようなものがあったとする。初めのいくつかだけほしい。  \n",
    "もしくはデータがでかすぎるので、ひとつずつほしい  \n",
    "これでは時間がかかりすぎる"
   ]
  },
  {
   "cell_type": "code",
   "execution_count": 62,
   "metadata": {
    "autoscroll": false,
    "collapsed": false,
    "ein.hycell": false,
    "ein.tags": "worksheet-0",
    "slideshow": {
     "slide_type": "-"
    }
   },
   "outputs": [
    {
     "name": "stdout",
     "output_type": "stream",
     "text": [
      "0\n",
      "1\n",
      "2\n",
      "3\n",
      "4\n",
      "5\n",
      "6\n",
      "7\n",
      "8\n",
      "9\n"
     ]
    }
   ],
   "source": [
    "from time import sleep\n",
    "\n",
    "# simulate heavy computing process\n",
    "\n",
    "\n",
    "class Compute:\n",
    "    def __iter__(self):\n",
    "            self.last = 0\n",
    "            return self\n",
    "    def __next__(self):\n",
    "        rv = self.last\n",
    "        self.last += 1\n",
    "        \n",
    "        # とりあえず10ほしいので10\n",
    "        if self.last > 10:\n",
    "            raise StopIteration()\n",
    "        sleep(.5)\n",
    "        return rv\n",
    "\n",
    "for val in Compute():\n",
    "    print(val)"
   ]
  },
  {
   "cell_type": "markdown",
   "metadata": {
    "ein.tags": "worksheet-0",
    "slideshow": {
     "slide_type": "-"
    }
   },
   "source": [
    "上の方法ではまだ読みづらい。  \n",
    "## Yield を使ってGeneratorを使う"
   ]
  },
  {
   "cell_type": "code",
   "execution_count": 61,
   "metadata": {
    "autoscroll": false,
    "collapsed": false,
    "ein.hycell": false,
    "ein.tags": "worksheet-0",
    "slideshow": {
     "slide_type": "-"
    }
   },
   "outputs": [
    {
     "name": "stdout",
     "output_type": "stream",
     "text": [
      "0\n",
      "1\n",
      "2\n",
      "3\n",
      "4\n",
      "5\n",
      "6\n",
      "7\n",
      "8\n",
      "9\n"
     ]
    }
   ],
   "source": [
    "from time import sleep\n",
    "\n",
    "# simulate heavy computing process\n",
    "def compute():\n",
    "    rv = []\n",
    "    for i in range(10):\n",
    "        sleep(.5)\n",
    "        yield i\n",
    "\n",
    "for i in compute():\n",
    "    print(i)"
   ]
  },
  {
   "cell_type": "markdown",
   "metadata": {
    "ein.tags": "worksheet-0",
    "slideshow": {
     "slide_type": "-"
    }
   },
   "source": [
    "## 関数を順番に実行しないといけないとき"
   ]
  },
  {
   "cell_type": "code",
   "execution_count": 2,
   "metadata": {
    "autoscroll": false,
    "collapsed": false,
    "ein.hycell": false,
    "ein.tags": "worksheet-0",
    "slideshow": {
     "slide_type": "-"
    }
   },
   "outputs": [],
   "source": [
    "class Api:\n",
    "    def first(self):\n",
    "        print('First')\n",
    "\n",
    "    def second(self):\n",
    "        print('Second')\n",
    "\n",
    "    def last(self):\n",
    "        print('Last')"
   ]
  },
  {
   "cell_type": "markdown",
   "metadata": {
    "ein.tags": "worksheet-0",
    "slideshow": {
     "slide_type": "-"
    }
   },
   "source": [
    "### 普通のやり方"
   ]
  }
 ],
 "metadata": {
  "anaconda-cloud": null,
  "kernelspec": {
   "display_name": "Python [conda root]",
   "name": "conda-root-py"
  },
  "language_info": {
   "codemirror_mode": {
    "name": "ipython",
    "version": 3
   },
   "file_extension": ".py",
   "mimetype": "text/x-python",
   "name": "python",
   "nbconvert_exporter": "python",
   "pygments_lexer": "ipython3",
   "version": "3.6.5"
  },
  "name": "JamesPowell-So_you_want_to_be_a_Python_expert.ipynb",
  "toc": {
   "nav_menu": null,
   "number_sections": true,
   "sideBar": true,
   "skip_h1_title": false,
   "toc_cell": true,
   "toc_position": null,
   "toc_section_display": "block",
   "toc_window_display": false
  }
 },
 "nbformat": 4,
 "nbformat_minor": 2
}
