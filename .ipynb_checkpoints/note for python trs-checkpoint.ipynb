{
 "cells": [
  {
   "cell_type": "markdown",
   "metadata": {},
   "source": [
    "# assertion"
   ]
  },
  {
   "cell_type": "code",
   "execution_count": 8,
   "metadata": {},
   "outputs": [
    {
     "data": {
      "text/plain": [
       "140000"
      ]
     },
     "execution_count": 8,
     "metadata": {},
     "output_type": "execute_result"
    }
   ],
   "source": [
    "def waribiki(product, discount):\n",
    "    price = int(product['price'] * (1.0 - discount))\n",
    "    assert 0 <= price <= product['price']\n",
    "    \n",
    "    return price\n",
    "\n",
    "# 動く\n",
    "product1 = {'name': 'ruby gem stone', 'price': 200000}\n",
    "waribiki(product1, 0.3)"
   ]
  },
  {
   "cell_type": "code",
   "execution_count": 9,
   "metadata": {},
   "outputs": [
    {
     "data": {
      "text/plain": [
       "140000"
      ]
     },
     "execution_count": 9,
     "metadata": {},
     "output_type": "execute_result"
    }
   ],
   "source": [
    "# 壊れる\n",
    "product1 = {'name': 'ruby gem stone', 'price': 200000}\n",
    "apply_discount(product1, 0.3)\n"
   ]
  },
  {
   "cell_type": "markdown",
   "metadata": {},
   "source": [
    "assert は無効にできるのであんまり意味がない。デバック用として使うべし。"
   ]
  },
  {
   "cell_type": "code",
   "execution_count": 17,
   "metadata": {},
   "outputs": [
    {
     "ename": "ValueError",
     "evalue": "Discount should be less than 1.",
     "output_type": "error",
     "traceback": [
      "\u001b[1;31m---------------------------------------------------------------------------\u001b[0m",
      "\u001b[1;31mValueError\u001b[0m                                Traceback (most recent call last)",
      "\u001b[1;32m<ipython-input-17-2f606bb92fec>\u001b[0m in \u001b[0;36m<module>\u001b[1;34m()\u001b[0m\n\u001b[0;32m      9\u001b[0m \u001b[1;33m\u001b[0m\u001b[0m\n\u001b[0;32m     10\u001b[0m \u001b[0mproduct1\u001b[0m \u001b[1;33m=\u001b[0m \u001b[1;33m{\u001b[0m\u001b[1;34m'name'\u001b[0m\u001b[1;33m:\u001b[0m \u001b[1;34m'ruby gem stone'\u001b[0m\u001b[1;33m,\u001b[0m \u001b[1;34m'price'\u001b[0m\u001b[1;33m:\u001b[0m \u001b[1;36m200000\u001b[0m\u001b[1;33m}\u001b[0m\u001b[1;33m\u001b[0m\u001b[0m\n\u001b[1;32m---> 11\u001b[1;33m \u001b[0mwaribiki\u001b[0m\u001b[1;33m(\u001b[0m\u001b[0mproduct1\u001b[0m\u001b[1;33m,\u001b[0m \u001b[1;36m2.0\u001b[0m\u001b[1;33m)\u001b[0m\u001b[1;33m\u001b[0m\u001b[0m\n\u001b[0m",
      "\u001b[1;32m<ipython-input-17-2f606bb92fec>\u001b[0m in \u001b[0;36mwaribiki\u001b[1;34m(product, discount)\u001b[0m\n\u001b[0;32m      2\u001b[0m     \u001b[0mprice\u001b[0m \u001b[1;33m=\u001b[0m \u001b[0mint\u001b[0m\u001b[1;33m(\u001b[0m\u001b[0mproduct\u001b[0m\u001b[1;33m[\u001b[0m\u001b[1;34m'price'\u001b[0m\u001b[1;33m]\u001b[0m \u001b[1;33m*\u001b[0m \u001b[1;33m(\u001b[0m\u001b[1;36m1.0\u001b[0m \u001b[1;33m-\u001b[0m \u001b[0mdiscount\u001b[0m\u001b[1;33m)\u001b[0m\u001b[1;33m)\u001b[0m\u001b[1;33m\u001b[0m\u001b[0m\n\u001b[0;32m      3\u001b[0m     \u001b[1;32mif\u001b[0m \u001b[0mdiscount\u001b[0m \u001b[1;33m>\u001b[0m \u001b[1;36m1\u001b[0m\u001b[1;33m:\u001b[0m\u001b[1;33m\u001b[0m\u001b[0m\n\u001b[1;32m----> 4\u001b[1;33m         \u001b[1;32mraise\u001b[0m \u001b[0mValueError\u001b[0m\u001b[1;33m(\u001b[0m\u001b[1;34m'Discount should be less than 1.'\u001b[0m\u001b[1;33m)\u001b[0m\u001b[1;33m\u001b[0m\u001b[0m\n\u001b[0m\u001b[0;32m      5\u001b[0m     \u001b[1;32mif\u001b[0m \u001b[1;36m0\u001b[0m \u001b[1;33m<=\u001b[0m \u001b[0mprice\u001b[0m \u001b[1;33m<=\u001b[0m \u001b[0mproduct\u001b[0m\u001b[1;33m[\u001b[0m\u001b[1;34m'price'\u001b[0m\u001b[1;33m]\u001b[0m\u001b[1;33m:\u001b[0m\u001b[1;33m\u001b[0m\u001b[0m\n\u001b[0;32m      6\u001b[0m         \u001b[1;32mraise\u001b[0m \u001b[0mValueError\u001b[0m\u001b[1;33m(\u001b[0m\u001b[1;34m'After-discount price should be less than before-discount price.'\u001b[0m\u001b[1;33m)\u001b[0m\u001b[1;33m\u001b[0m\u001b[0m\n",
      "\u001b[1;31mValueError\u001b[0m: Discount should be less than 1."
     ]
    }
   ],
   "source": [
    "def waribiki(product, discount):\n",
    "    price = int(product['price'] * (1.0 - discount))\n",
    "    if discount > 1:\n",
    "        raise ValueError('Discount should be less than 1.')\n",
    "    if 0 <= price <= product['price']:\n",
    "        raise ValueError('After-discount price should be less than before-discount price.')\n",
    "    \n",
    "    return price\n",
    "\n",
    "# ちゃんとエラーが出る\n",
    "product1 = {'name': 'ruby gem stone', 'price': 200000}\n",
    "waribiki(product1, 2.0)"
   ]
  },
  {
   "cell_type": "markdown",
   "metadata": {},
   "source": [
    "# try... finally & with"
   ]
  },
  {
   "cell_type": "code",
   "execution_count": null,
   "metadata": {},
   "outputs": [],
   "source": [
    "# クローズするのがめんどい\n",
    "file = open('file.txt', 'w')\n",
    "try: \n",
    "    file.write('てすと')\n",
    "finally:\n",
    "    file.close()"
   ]
  },
  {
   "cell_type": "code",
   "execution_count": 25,
   "metadata": {},
   "outputs": [],
   "source": [
    "# この方が楽\n",
    "with open('file.txt', 'w') as file:\n",
    "    file.write('テスト')"
   ]
  },
  {
   "cell_type": "code",
   "execution_count": 26,
   "metadata": {},
   "outputs": [
    {
     "name": "stdout",
     "output_type": "stream",
     "text": [
      "/home/orz/python_note\n",
      "テスト"
     ]
    }
   ],
   "source": [
    "!pwd\n",
    "!cat file.txt"
   ]
  },
  {
   "cell_type": "markdown",
   "metadata": {},
   "source": [
    "## with(content manager)の仕組み"
   ]
  },
  {
   "cell_type": "code",
   "execution_count": 36,
   "metadata": {},
   "outputs": [
    {
     "name": "stdout",
     "output_type": "stream",
     "text": [
      "entered\n",
      "closing...\n",
      "None\n",
      "None\n",
      "None\n"
     ]
    }
   ],
   "source": [
    "# enter - with に入った時に呼ばれる\n",
    "# exit - 最後に呼ばれる\n",
    "\n",
    "class FileManager:\n",
    "    def __init__(self, name):\n",
    "        self.name = name\n",
    "\n",
    "    def __enter__(self):\n",
    "        print('entered')\n",
    "        self.file = open(self.name, 'w')\n",
    "        return self.file\n",
    "\n",
    "    def __exit__(self, exc_type, exc_val, exc_tb):\n",
    "        if self.file:\n",
    "            print('closing...')\n",
    "            self.file.close()\n",
    "\n",
    "with FileManager('file2.txt') as file:\n",
    "    file.write('てすと')\n",
    "    file.write('終了')\n"
   ]
  },
  {
   "cell_type": "markdown",
   "metadata": {},
   "source": [
    "なぜ３つもargがいるのか？\n",
    "\n",
    "> In order for __exit__ to work properly it must have exactly three arguments: exception_type, exception_value, and traceback. The formal argument names in the method definition do not need to correspond directly to these names, but they must appear in this order. If any exceptions occur while attempting to execute the block of code nested after the with statement, Python will pass information about the exception into the __exit__ method. You can then modify the definition of __exit__ to gracefully handle each type of exception."
   ]
  },
  {
   "cell_type": "code",
   "execution_count": 32,
   "metadata": {},
   "outputs": [
    {
     "name": "stdout",
     "output_type": "stream",
     "text": [
      "/home/orz/python_note\n",
      "てすと終了"
     ]
    }
   ],
   "source": [
    "!pwd\n",
    "!cat file2.txt"
   ]
  },
  {
   "cell_type": "markdown",
   "metadata": {},
   "source": [
    "## 用法"
   ]
  },
  {
   "cell_type": "code",
   "execution_count": 44,
   "metadata": {},
   "outputs": [
    {
     "name": "stdout",
     "output_type": "stream",
     "text": [
      "----てすと\n",
      "--------テスト\n",
      "------------試験\n"
     ]
    }
   ],
   "source": [
    "class IndentKun:\n",
    "    def __init__(self):\n",
    "        self.indent = 0\n",
    "\n",
    "    def __enter__(self):\n",
    "        self.indent += 1\n",
    "        return self\n",
    "\n",
    "    def print_context(self, context):\n",
    "        print (('----' * self.indent) + context)\n",
    "\n",
    "    def __exit__(self, exc_type, exc_val, exc_tb):\n",
    "        self.level = 0\n",
    "\n",
    "\n",
    "with IndentKun() as ind:\n",
    "    ind.print_context('てすと')\n",
    "    with ind:\n",
    "        ind.print_context('テスト')\n",
    "        with ind:\n",
    "            ind.print_context('試験')"
   ]
  },
  {
   "cell_type": "markdown",
   "metadata": {},
   "source": [
    "# var with Underscore"
   ]
  },
  {
   "cell_type": "markdown",
   "metadata": {},
   "source": [
    "- _var 　\n",
    " - プライベート変数、プライベートメソッド\n",
    "\n",
    "- var_  \n",
    "    - 名前が予約語と衝突しないように使う\n",
    "- _\n",
    "    - temporaly varible\n",
    "    - 一時的に使ったり、変数握りつぶして「どうでもいい」とつたえるため"
   ]
  },
  {
   "cell_type": "markdown",
   "metadata": {},
   "source": [
    "## __var -> var for name mangling"
   ]
  },
  {
   "cell_type": "code",
   "execution_count": 60,
   "metadata": {},
   "outputs": [
    {
     "data": {
      "text/plain": [
       "['_DoubleLeadingUnderScore__test',\n",
       " '_DoubleLeadingUnderScore__test_method',\n",
       " '__class__',\n",
       " '__delattr__',\n",
       " '__dict__',\n",
       " '__dir__',\n",
       " '__doc__',\n",
       " '__eq__',\n",
       " '__format__',\n",
       " '__ge__',\n",
       " '__getattribute__',\n",
       " '__gt__',\n",
       " '__hash__',\n",
       " '__init__',\n",
       " '__init_subclass__',\n",
       " '__le__',\n",
       " '__lt__',\n",
       " '__module__',\n",
       " '__ne__',\n",
       " '__new__',\n",
       " '__reduce__',\n",
       " '__reduce_ex__',\n",
       " '__repr__',\n",
       " '__setattr__',\n",
       " '__sizeof__',\n",
       " '__str__',\n",
       " '__subclasshook__',\n",
       " '__weakref__',\n",
       " '_test',\n",
       " 'test']"
      ]
     },
     "execution_count": 60,
     "metadata": {},
     "output_type": "execute_result"
    }
   ],
   "source": [
    "class DoubleLeadingUnderScore:\n",
    "    def __init__(self):\n",
    "        self.test = 1\n",
    "        self._test = 2\n",
    "        self.__test = 3\n",
    "\n",
    "    def  __test_method(self):\n",
    "        print('mangled test method called')\n",
    "\n",
    "test = DoubleLeadingUnderScore()\n",
    "dir(test) # <= '_DoubleLeadingUnderScore__test'"
   ]
  },
  {
   "cell_type": "code",
   "execution_count": 56,
   "metadata": {},
   "outputs": [
    {
     "name": "stdout",
     "output_type": "stream",
     "text": [
      "1\n",
      "2\n",
      "3\n"
     ]
    }
   ],
   "source": [
    "print(test.test)\n",
    "print(test._test)\n",
    "print(test._DoubleLeadingUnderScore__test)"
   ]
  },
  {
   "cell_type": "code",
   "execution_count": 58,
   "metadata": {},
   "outputs": [
    {
     "ename": "AttributeError",
     "evalue": "'DoubleLeadingUnderScore' object has no attribute '__test_method'",
     "output_type": "error",
     "traceback": [
      "\u001b[1;31m---------------------------------------------------------------------------\u001b[0m",
      "\u001b[1;31mAttributeError\u001b[0m                            Traceback (most recent call last)",
      "\u001b[1;32m<ipython-input-58-d800373df11a>\u001b[0m in \u001b[0;36m<module>\u001b[1;34m()\u001b[0m\n\u001b[1;32m----> 1\u001b[1;33m \u001b[0mprint\u001b[0m\u001b[1;33m(\u001b[0m\u001b[0mtest\u001b[0m\u001b[1;33m.\u001b[0m\u001b[0m__test_method\u001b[0m\u001b[1;33m(\u001b[0m\u001b[1;33m)\u001b[0m\u001b[1;33m)\u001b[0m\u001b[1;33m\u001b[0m\u001b[0m\n\u001b[0m",
      "\u001b[1;31mAttributeError\u001b[0m: 'DoubleLeadingUnderScore' object has no attribute '__test_method'"
     ]
    }
   ],
   "source": [
    "print(test.__test_method())"
   ]
  },
  {
   "cell_type": "code",
   "execution_count": 62,
   "metadata": {},
   "outputs": [
    {
     "name": "stdout",
     "output_type": "stream",
     "text": [
      "mangled test method called\n"
     ]
    }
   ],
   "source": [
    "test._DoubleLeadingUnderScore__test_method()"
   ]
  },
  {
   "cell_type": "markdown",
   "metadata": {},
   "source": [
    "おおっぴらに使うもんじゃない\n",
    "\n",
    ">If your class is intended to be subclassed, and you have attributes that you do not want subclasses to use, consider naming them with double leading underscores and no trailing underscores. This invokes Python's name mangling algorithm, where the name of the class is mangled into the attribute name. This helps avoid attribute name collisions should subclasses inadvertently contain attributes with the same name.\n",
    "\n",
    ">Note 1: Note that only the simple class name is used in the mangled name, so if a subclass chooses both the same class name and attribute name, you can still get name collisions.\n",
    "\n",
    ">Note 2: Name mangling can make certain uses, such as debugging and __getattr__(), less convenient. However the name mangling algorithm is well documented and easy to perform manually.\n",
    "\n",
    ">Note 3: Not everyone likes name mangling. Try to balance the need to avoid accidental name clashes with potential use by advanced callers."
   ]
  },
  {
   "cell_type": "markdown",
   "metadata": {},
   "source": [
    "# Dunder = magic methods"
   ]
  },
  {
   "cell_type": "markdown",
   "metadata": {},
   "source": [
    "Pythonが予約してるメソッド\n",
    "\n",
    "[ここ](https://dbader.org/blog/python-dunder-methods)\n",
    "\n",
    "Over rideするといろいろできる"
   ]
  },
  {
   "cell_type": "markdown",
   "metadata": {},
   "source": [
    "# Fucntions"
   ]
  },
  {
   "cell_type": "code",
   "execution_count": 73,
   "metadata": {},
   "outputs": [
    {
     "name": "stdout",
     "output_type": "stream",
     "text": [
      "TEST1!\n",
      "TEST2!\n"
     ]
    }
   ],
   "source": [
    "def capitalize(text):\n",
    "    print(text.upper() + '!')\n",
    "\n",
    "capitalize('test1')\n",
    "\n",
    "# プリントされる\n",
    "test = capitalize\n",
    "test('test2')"
   ]
  },
  {
   "cell_type": "code",
   "execution_count": 74,
   "metadata": {},
   "outputs": [
    {
     "ename": "NameError",
     "evalue": "name 'capitalize' is not defined",
     "output_type": "error",
     "traceback": [
      "\u001b[1;31m---------------------------------------------------------------------------\u001b[0m",
      "\u001b[1;31mNameError\u001b[0m                                 Traceback (most recent call last)",
      "\u001b[1;32m<ipython-input-74-7a7a192c5d27>\u001b[0m in \u001b[0;36m<module>\u001b[1;34m()\u001b[0m\n\u001b[0;32m      1\u001b[0m \u001b[1;31m# 消したのでプリントされない\u001b[0m\u001b[1;33m\u001b[0m\u001b[1;33m\u001b[0m\u001b[0m\n\u001b[0;32m      2\u001b[0m \u001b[1;32mdel\u001b[0m \u001b[0mcapitalize\u001b[0m\u001b[1;33m\u001b[0m\u001b[0m\n\u001b[1;32m----> 3\u001b[1;33m \u001b[0mcapitalize\u001b[0m\u001b[1;33m(\u001b[0m\u001b[1;34m'retest1'\u001b[0m\u001b[1;33m)\u001b[0m\u001b[1;33m\u001b[0m\u001b[0m\n\u001b[0m",
      "\u001b[1;31mNameError\u001b[0m: name 'capitalize' is not defined"
     ]
    }
   ],
   "source": [
    "# 消したのでプリントされない\n",
    "del capitalize\n",
    "capitalize('retest1')\n"
   ]
  },
  {
   "cell_type": "code",
   "execution_count": 75,
   "metadata": {},
   "outputs": [
    {
     "name": "stdout",
     "output_type": "stream",
     "text": [
      "RETEST2!\n"
     ]
    }
   ],
   "source": [
    "# おおもとは消えたけど、代入されたのは残ってる\n",
    "test('retest2')"
   ]
  },
  {
   "cell_type": "markdown",
   "metadata": {},
   "source": [
    "# function を function に渡す"
   ]
  },
  {
   "cell_type": "code",
   "execution_count": 79,
   "metadata": {},
   "outputs": [
    {
     "name": "stdout",
     "output_type": "stream",
     "text": [
      "TEST TEST TEST!\n"
     ]
    }
   ],
   "source": [
    "def capitalize2(text):\n",
    "    return text.upper() + '!'\n",
    "\n",
    "def say(func):\n",
    "    words = func('test test test')\n",
    "    print(words)\n",
    "    \n",
    "\n",
    "say(capitalize2)"
   ]
  },
  {
   "cell_type": "markdown",
   "metadata": {},
   "source": [
    "# map の使い方"
   ]
  },
  {
   "cell_type": "code",
   "execution_count": 80,
   "metadata": {},
   "outputs": [
    {
     "data": {
      "text/plain": [
       "['AAA!', 'BBB!', 'CCC!']"
      ]
     },
     "execution_count": 80,
     "metadata": {},
     "output_type": "execute_result"
    }
   ],
   "source": [
    "list(map(capitalize, ['aaa', 'bbb', 'ccc']))"
   ]
  },
  {
   "cell_type": "markdown",
   "metadata": {},
   "source": [
    "# nest function"
   ]
  },
  {
   "cell_type": "code",
   "execution_count": 94,
   "metadata": {},
   "outputs": [
    {
     "ename": "AttributeError",
     "evalue": "'NoneType' object has no attribute 'loud'",
     "output_type": "error",
     "traceback": [
      "\u001b[1;31m---------------------------------------------------------------------------\u001b[0m",
      "\u001b[1;31mAttributeError\u001b[0m                            Traceback (most recent call last)",
      "\u001b[1;32m<ipython-input-94-80e759c287f5>\u001b[0m in \u001b[0;36m<module>\u001b[1;34m()\u001b[0m\n\u001b[0;32m      5\u001b[0m \u001b[1;33m\u001b[0m\u001b[0m\n\u001b[0;32m      6\u001b[0m \u001b[0msay\u001b[0m \u001b[1;33m=\u001b[0m \u001b[0msay_something\u001b[0m\u001b[1;33m(\u001b[0m\u001b[1;34m'yo'\u001b[0m\u001b[1;33m)\u001b[0m\u001b[1;33m\u001b[0m\u001b[0m\n\u001b[1;32m----> 7\u001b[1;33m \u001b[0msay\u001b[0m\u001b[1;33m.\u001b[0m\u001b[0mloud\u001b[0m\u001b[1;33m\u001b[0m\u001b[0m\n\u001b[0m",
      "\u001b[1;31mAttributeError\u001b[0m: 'NoneType' object has no attribute 'loud'"
     ]
    }
   ],
   "source": [
    "# 呼べない\n",
    "def say_something(context):\n",
    "    def loud(context):\n",
    "        return context.upper() + '!!!!!'\n",
    "\n",
    "say = say_something('yo')\n",
    "say.loud"
   ]
  },
  {
   "cell_type": "code",
   "execution_count": 99,
   "metadata": {},
   "outputs": [
    {
     "data": {
      "text/plain": [
       "'YO!!!!!'"
      ]
     },
     "execution_count": 99,
     "metadata": {},
     "output_type": "execute_result"
    }
   ],
   "source": [
    "# 呼べる\n",
    "def say_something(context):\n",
    "    def loud(text):\n",
    "        return text.upper() + '!!!!!'\n",
    "    return loud(context)\n",
    "\n",
    "say_something('yo')"
   ]
  },
  {
   "cell_type": "markdown",
   "metadata": {},
   "source": [
    "## 場合分け"
   ]
  },
  {
   "cell_type": "code",
   "execution_count": 107,
   "metadata": {},
   "outputs": [
    {
     "name": "stdout",
     "output_type": "stream",
     "text": [
      "YO!!!!!\n",
      "yo.......\n"
     ]
    }
   ],
   "source": [
    "def say_something(context, loudness):\n",
    "    def loud(text):\n",
    "        return text.upper() + '!!!!!'\n",
    "    def quietly(text):\n",
    "        return text.lower() + '.......'\n",
    "\n",
    "    if loudness == 'quietly':\n",
    "        return quietly(context)\n",
    "    if loudness == 'loud':\n",
    "        return loud(context)\n",
    "\n",
    "# 普通に呼ぶ\n",
    "print(say_something('yo', 'loud'))\n",
    "print(say_something('yo', 'quietly'))"
   ]
  },
  {
   "cell_type": "markdown",
   "metadata": {},
   "source": [
    "## child funcs have access to parent's local var"
   ]
  },
  {
   "cell_type": "code",
   "execution_count": 120,
   "metadata": {},
   "outputs": [
    {
     "data": {
      "text/plain": [
       "'yo.......'"
      ]
     },
     "execution_count": 120,
     "metadata": {},
     "output_type": "execute_result"
    }
   ],
   "source": [
    "def say_something(text, loudness):\n",
    "    def loud():\n",
    "        return text.upper() + '!!!!!'\n",
    "    def quietly():\n",
    "        return text.lower() + '.......'\n",
    "\n",
    "    if loudness == 'quietly':\n",
    "        return quietly\n",
    "    if loudness == 'loud':\n",
    "        return loud\n",
    "\n",
    "say_something('yo', 'quietly')()\n"
   ]
  },
  {
   "cell_type": "markdown",
   "metadata": {},
   "source": [
    "# closure"
   ]
  },
  {
   "cell_type": "code",
   "execution_count": 134,
   "metadata": {},
   "outputs": [
    {
     "name": "stdout",
     "output_type": "stream",
     "text": [
      "<function tashizan.<locals>.tasu at 0x7f39a8744840>\n",
      "3\n"
     ]
    }
   ],
   "source": [
    "def tashizan(num):\n",
    "    def tasu(x):\n",
    "        return x + num\n",
    "    return tasu\n",
    "\n",
    "keisan = tashizan(1)\n",
    "print(keisan)\n",
    "print(keisan(2))"
   ]
  },
  {
   "cell_type": "code",
   "execution_count": 132,
   "metadata": {},
   "outputs": [
    {
     "name": "stdout",
     "output_type": "stream",
     "text": [
      "<function print_out at 0x7f39a9320f28>\n",
      "hi\n"
     ]
    }
   ],
   "source": [
    "def print_out(text):\n",
    "    return text\n",
    "    \n",
    "print(print_out)\n",
    "print(print_out('hi'))"
   ]
  },
  {
   "cell_type": "markdown",
   "metadata": {},
   "source": [
    "# Classもclosureっぽくできる"
   ]
  },
  {
   "cell_type": "code",
   "execution_count": 137,
   "metadata": {},
   "outputs": [
    {
     "name": "stdout",
     "output_type": "stream",
     "text": [
      "<__main__.TashiZan object at 0x7f39a86fe3c8>\n",
      "4\n"
     ]
    }
   ],
   "source": [
    "class TashiZan:\n",
    "    def __init__(self, num):\n",
    "        self.num = num\n",
    "    \n",
    "    def __call__(self, x):\n",
    "        return self.num + x\n",
    "\n",
    "tashizan = TashiZan(1)\n",
    "print(tashizan)\n",
    "print(tashizan(3))"
   ]
  },
  {
   "cell_type": "markdown",
   "metadata": {},
   "source": [
    "# lambda"
   ]
  },
  {
   "cell_type": "code",
   "execution_count": 140,
   "metadata": {},
   "outputs": [
    {
     "name": "stdout",
     "output_type": "stream",
     "text": [
      "5\n",
      "5\n"
     ]
    }
   ],
   "source": [
    "def my_tashizan(x, y):\n",
    "    return x + y\n",
    "\n",
    "\n",
    "print(my_tashizan(2, 3))\n",
    "\n",
    "print((lambda x, y: x + y)(2, 3))"
   ]
  },
  {
   "cell_type": "markdown",
   "metadata": {},
   "source": [
    "> Because return is a statement. Lambdas can only contain expressions.\n",
    "\n"
   ]
  },
  {
   "cell_type": "code",
   "execution_count": 144,
   "metadata": {},
   "outputs": [
    {
     "data": {
      "text/plain": [
       "[(3, 'あ'), (2, 'い'), (1, 'う')]"
      ]
     },
     "execution_count": 144,
     "metadata": {},
     "output_type": "execute_result"
    }
   ],
   "source": [
    "tup = [(1, 'う'), (2, 'い'), (3, 'あ')]\n",
    "\n",
    "sorted(tup, key=lambda x: x[1])"
   ]
  },
  {
   "cell_type": "markdown",
   "metadata": {},
   "source": [
    "# lambda で足し算"
   ]
  },
  {
   "cell_type": "code",
   "execution_count": 147,
   "metadata": {},
   "outputs": [
    {
     "name": "stdout",
     "output_type": "stream",
     "text": [
      "<function tashizan.<locals>.<lambda> at 0x7f39a8744730>\n",
      "3\n"
     ]
    }
   ],
   "source": [
    "def tashizan(num):\n",
    "    return lambda x: x + num\n",
    "\n",
    "keisan = tashizan(1)\n",
    "print(keisan)\n",
    "print(keisan(2))"
   ]
  },
  {
   "cell_type": "markdown",
   "metadata": {},
   "source": [
    "# decorator"
   ]
  },
  {
   "cell_type": "code",
   "execution_count": 190,
   "metadata": {},
   "outputs": [
    {
     "name": "stdout",
     "output_type": "stream",
     "text": [
      "<function say_hi at 0x7f39a3d88a60> <= func\n",
      "<function uppercase.<locals>.wrapper at 0x7f39a8087ae8> <= wrapper\n",
      "<function uppercase.<locals>.wrapper at 0x7f39a8087ae8>\n"
     ]
    }
   ],
   "source": [
    "def uppercase(func):\n",
    "    print(func, '<= func')\n",
    "\n",
    "    def wrapper():\n",
    "        # funcでfunctionを渡して\n",
    "        # カッコをつけて stringsにする\n",
    "        print(func, '<= func()')\n",
    "        original = func()\n",
    "        return original.upper()\n",
    "\n",
    "    # 最後に wrapper funcを返す\n",
    "    print(wrapper, '<= wrapper')\n",
    "    return wrapper\n",
    "\n",
    "\n",
    "def uppercase2(strings):\n",
    "    # say_hi() で渡すとstringが渡る\n",
    "    return strings.upper()\n",
    "\n",
    "\n",
    "@uppercase\n",
    "def say_hi():\n",
    "    return 'hi'\n",
    "\n",
    "# これでもおなじこと\n",
    "# print(uppercase2(say_hi()))\n",
    "\n",
    "print(say_hi) # <= これだとwrapperが変えるだけ\n",
    "\n",
    "#print(say_hi()) # <= これだとなかまで実行される\n"
   ]
  },
  {
   "cell_type": "markdown",
   "metadata": {},
   "source": [
    "# multiple decorators"
   ]
  },
  {
   "cell_type": "code",
   "execution_count": 210,
   "metadata": {},
   "outputs": [
    {
     "name": "stdout",
     "output_type": "stream",
     "text": [
      "<function say_smt at 0x7f39a3d88840> func in moji_kazari1\n",
      "exec wrapper in mojikazari1\n",
      "<function moji_kazari1.<locals>.wrapper at 0x7f39a3d88bf8> func in moji_kazari2\n",
      "exec wrapper in mojikazari2\n"
     ]
    },
    {
     "data": {
      "text/plain": [
       "'22222111111yo1111122222'"
      ]
     },
     "execution_count": 210,
     "metadata": {},
     "output_type": "execute_result"
    }
   ],
   "source": [
    "def moji_kazari1(func):\n",
    "    print(func, 'func in moji_kazari1')\n",
    "    def wrapper():\n",
    "        return f\"111111{func()}11111\"\n",
    "    print('exec wrapper in mojikazari1')\n",
    "    return wrapper\n",
    "\n",
    "def moji_kazari2(func):\n",
    "    print(func, 'func in moji_kazari2')\n",
    "    def wrapper():\n",
    "        return f\"22222{func()}22222\"\n",
    "    print('exec wrapper in mojikazari2')\n",
    "    return wrapper\n",
    "\n",
    "@moji_kazari2\n",
    "@moji_kazari1\n",
    "def say_smt():\n",
    "    return 'yo'\n",
    "\n",
    "say_smt()"
   ]
  },
  {
   "cell_type": "markdown",
   "metadata": {},
   "source": [
    "# making debug-friendly decorator"
   ]
  },
  {
   "cell_type": "markdown",
   "metadata": {},
   "source": [
    "## without functools wraps"
   ]
  },
  {
   "cell_type": "code",
   "execution_count": 219,
   "metadata": {},
   "outputs": [
    {
     "name": "stdout",
     "output_type": "stream",
     "text": [
      "wrapper\n",
      "None\n"
     ]
    }
   ],
   "source": [
    "def moji_kazari1(func):\n",
    "    def wrapper():\n",
    "        return f\"111111{func()}11111\"\n",
    "    return wrapper\n",
    "\n",
    "def moji_kazari2(func):\n",
    "    def wrapper():\n",
    "        return f\"22222{func()}22222\"\n",
    "    return wrapper\n",
    "\n",
    "@moji_kazari2\n",
    "@moji_kazari1\n",
    "def say_smt():\n",
    "    \"\"\"\" just say yo... \"\"\"\n",
    "    return 'yo'\n",
    "\n",
    "print(say_smt.__name__)\n",
    "print(say_smt.__doc__)"
   ]
  },
  {
   "cell_type": "markdown",
   "metadata": {},
   "source": [
    "## with functools.wraps "
   ]
  },
  {
   "cell_type": "code",
   "execution_count": 218,
   "metadata": {},
   "outputs": [
    {
     "name": "stdout",
     "output_type": "stream",
     "text": [
      "say_smt\n",
      "\" just say yo... \n"
     ]
    }
   ],
   "source": [
    "import functools\n",
    "\n",
    "def moji_kazari1(func):\n",
    "    @functools.wraps(func)\n",
    "    def wrapper():\n",
    "        return f\"111111{func()}11111\"\n",
    "    return wrapper\n",
    "\n",
    "def moji_kazari2(func):\n",
    "    @functools.wraps(func)\n",
    "    def wrapper():\n",
    "        return f\"22222{func()}22222\"\n",
    "    return wrapper\n",
    "\n",
    "@moji_kazari2\n",
    "@moji_kazari1\n",
    "def say_smt():\n",
    "    \"\"\"\" just say yo... \"\"\"\n",
    "    return 'yo'\n",
    "\n",
    "print(say_smt.__name__)\n",
    "print(say_smt.__doc__)"
   ]
  },
  {
   "cell_type": "markdown",
   "metadata": {},
   "source": [
    "# args and kwargs"
   ]
  },
  {
   "cell_type": "code",
   "execution_count": 225,
   "metadata": {},
   "outputs": [
    {
     "name": "stdout",
     "output_type": "stream",
     "text": [
      "required1\n",
      "requried2\n",
      "('this', 'should', 'be', '*args')\n",
      "requried3\n",
      "('this', 'should', 'be', '*args', {'this': 'will', 'be': 'kwargs'})\n",
      "requried4\n",
      "('this', 'should', 'be', '*args')\n",
      "{'key1': 'this is key 1', 'key2': 'this is key2'}\n",
      "requried5\n",
      "('this', 'should', 'be', '*args')\n",
      "{'key1': {'this': 'will', 'be': 'kwargs'}}\n"
     ]
    }
   ],
   "source": [
    "def args_test(required, *args, **kwargs):\n",
    "    print(required)\n",
    "    if args:\n",
    "        print(args)\n",
    "    if kwargs:\n",
    "        print(kwargs)\n",
    "    \n",
    "args_test('required1')\n",
    "args_test('requried2', 'this', 'should', 'be', '*args')\n",
    "args_test('requried3', 'this', 'should', 'be', '*args', {'this': 'will', 'be': 'kwargs'})\n",
    "args_test('requried4', 'this', 'should', 'be', '*args', key1='this is key 1', key2='this is key2')\n",
    "args_test('requried5', 'this', 'should', 'be', '*args', key1={'this': 'will', 'be': 'kwargs'})"
   ]
  },
  {
   "cell_type": "markdown",
   "metadata": {},
   "source": [
    "## args,  kwags and inheritance"
   ]
  }
 ],
 "metadata": {
  "kernelspec": {
   "display_name": "Python 3",
   "language": "python",
   "name": "python3"
  },
  "language_info": {
   "codemirror_mode": {
    "name": "ipython",
    "version": 3
   },
   "file_extension": ".py",
   "mimetype": "text/x-python",
   "name": "python",
   "nbconvert_exporter": "python",
   "pygments_lexer": "ipython3",
   "version": "3.6.4"
  }
 },
 "nbformat": 4,
 "nbformat_minor": 2
}
