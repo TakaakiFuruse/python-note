{
 "cells": [
  {
   "cell_type": "markdown",
   "metadata": {
    "ein.tags": "worksheet-0",
    "slideshow": {
     "slide_type": "-"
    }
   },
   "source": [
    "# Chap5"
   ]
  },
  {
   "cell_type": "markdown",
   "metadata": {
    "ein.tags": "worksheet-0",
    "slideshow": {
     "slide_type": "-"
    }
   },
   "source": [
    "## 全部のColumnでどの値が何回出てるか調べる（HistGram的）"
   ]
  },
  {
   "cell_type": "code",
   "execution_count": 6,
   "metadata": {
    "autoscroll": false,
    "collapsed": false,
    "ein.hycell": false,
    "ein.tags": "worksheet-0",
    "slideshow": {
     "slide_type": "-"
    }
   },
   "outputs": [
    {
     "data": {
      "text/plain": [
       "      a    b    c\n1   1.0  NaN  1.0\n2   1.0  1.0  NaN\n3   1.0  NaN  1.0\n4   1.0  1.0  NaN\n5   1.0  NaN  NaN\n6   NaN  1.0  1.0\n8   NaN  1.0  NaN\n9   NaN  NaN  1.0\n10  NaN  1.0  NaN\n12  NaN  NaN  1.0"
      ]
     },
     "execution_count": 6,
     "metadata": {},
     "output_type": "execute_result"
    }
   ],
   "source": [
    "import pandas as pd\n",
    "\n",
    "df = pd.DataFrame(\n",
    "    {\n",
    "        'a': [1,2,3,4,5],\n",
    "        'b': [2,4,6,8,10],\n",
    "        'c': [1, 3, 6, 9, 12],\n",
    "    }\n",
    ")\n",
    "\n",
    "df.apply(pd.value_counts)"
   ]
  },
  {
   "cell_type": "code",
   "execution_count": 7,
   "metadata": {
    "autoscroll": false,
    "collapsed": false,
    "ein.hycell": false,
    "ein.tags": "worksheet-0",
    "slideshow": {
     "slide_type": "-"
    }
   },
   "outputs": [
    {
     "data": {
      "text/plain": [
       "      a    b    c\n1   1.0  0.0  1.0\n2   1.0  1.0  0.0\n3   1.0  0.0  1.0\n4   1.0  1.0  0.0\n5   1.0  0.0  0.0\n6   0.0  1.0  1.0\n8   0.0  1.0  0.0\n9   0.0  0.0  1.0\n10  0.0  1.0  0.0\n12  0.0  0.0  1.0"
      ]
     },
     "execution_count": 7,
     "metadata": {},
     "output_type": "execute_result"
    }
   ],
   "source": [
    "df.apply(pd.value_counts).fillna(0)"
   ]
  },
  {
   "cell_type": "code",
   "execution_count": null,
   "metadata": {
    "autoscroll": false,
    "collapsed": false,
    "ein.hycell": false,
    "ein.tags": "worksheet-0",
    "slideshow": {
     "slide_type": "-"
    }
   },
   "outputs": [],
   "source": []
  }
 ],
 "metadata": {
  "kernelspec": {
   "display_name": "Python [conda root]",
   "name": "conda-root-py"
  },
  "name": "Chap5-.ipynb"
 },
 "nbformat": 4,
 "nbformat_minor": 2
}
