{
 "cells": [
  {
   "cell_type": "markdown",
   "metadata": {
    "toc": true
   },
   "source": [
    "<h1><span class=\"tocSkip\"></span></h1>\n",
    "<div class=\"toc\"><ul class=\"toc-item\"><li><span><a href=\"#Chap10-Sequece,-Hasing,-Slicing\" data-toc-modified-id=\"Chap10-Sequece,-Hasing,-Slicing-1\"><span class=\"toc-item-num\">1&nbsp;&nbsp;</span>Chap10 Sequece, Hasing, Slicing</a></span><ul class=\"toc-item\"><li><span><a href=\"#Vector-take-1\" data-toc-modified-id=\"Vector-take-1-1.1\"><span class=\"toc-item-num\">1.1&nbsp;&nbsp;</span>Vector take 1</a></span><ul class=\"toc-item\"><li><span><a href=\"#Make-Vector-iterable-by-_iter_\" data-toc-modified-id=\"Make-Vector-iterable-by-_iter_-1.1.1\"><span class=\"toc-item-num\">1.1.1&nbsp;&nbsp;</span>Make Vector iterable by _<em>iter_</em></a></span></li><li><span><a href=\"#reprlib.repr-で長いListを短くして表示してくれる\" data-toc-modified-id=\"reprlib.repr-で長いListを短くして表示してくれる-1.1.2\"><span class=\"toc-item-num\">1.1.2&nbsp;&nbsp;</span>reprlib.repr で長いListを短くして表示してくれる</a></span></li></ul></li><li><span><a href=\"#Vector-take-2-:-Sliceable-Sequence\" data-toc-modified-id=\"Vector-take-2-:-Sliceable-Sequence-1.2\"><span class=\"toc-item-num\">1.2&nbsp;&nbsp;</span>Vector take 2 : Sliceable Sequence</a></span><ul class=\"toc-item\"><li><span><a href=\"#len-と-getitem-を作る\" data-toc-modified-id=\"len-と-getitem-を作る-1.2.1\"><span class=\"toc-item-num\">1.2.1&nbsp;&nbsp;</span>len と getitem を作る</a></span><ul class=\"toc-item\"><li><span><a href=\"#getitem-はsliceできる。ただ、list-ではなくVectorを返したい\" data-toc-modified-id=\"getitem-はsliceできる。ただ、list-ではなくVectorを返したい-1.2.1.1\"><span class=\"toc-item-num\">1.2.1.1&nbsp;&nbsp;</span>getitem はsliceできる。ただ、list ではなくVectorを返したい</a></span></li></ul></li><li><span><a href=\"#Sliceの仕組み\" data-toc-modified-id=\"Sliceの仕組み-1.2.2\"><span class=\"toc-item-num\">1.2.2&nbsp;&nbsp;</span>Sliceの仕組み</a></span><ul class=\"toc-item\"><li><span><a href=\"#内容について適当な解釈をしてくれる\" data-toc-modified-id=\"内容について適当な解釈をしてくれる-1.2.2.1\"><span class=\"toc-item-num\">1.2.2.1&nbsp;&nbsp;</span>内容について適当な解釈をしてくれる</a></span></li><li><span><a href=\"#Sliceとはなにか\" data-toc-modified-id=\"Sliceとはなにか-1.2.2.2\"><span class=\"toc-item-num\">1.2.2.2&nbsp;&nbsp;</span>Sliceとはなにか</a></span><ul class=\"toc-item\"><li><span><a href=\"#インデックスについて色々よしなに解釈してくれる\" data-toc-modified-id=\"インデックスについて色々よしなに解釈してくれる-1.2.2.2.1\"><span class=\"toc-item-num\">1.2.2.2.1&nbsp;&nbsp;</span>インデックスについて色々よしなに解釈してくれる</a></span></li></ul></li></ul></li><li><span><a href=\"#Make-getitem-slice-aware\" data-toc-modified-id=\"Make-getitem-slice-aware-1.2.3\"><span class=\"toc-item-num\">1.2.3&nbsp;&nbsp;</span>Make getitem slice-aware</a></span></li></ul></li><li><span><a href=\"#Vector-take-2---Dynamic-Attribute-Access\" data-toc-modified-id=\"Vector-take-2---Dynamic-Attribute-Access-1.3\"><span class=\"toc-item-num\">1.3&nbsp;&nbsp;</span>Vector take 2 - Dynamic Attribute Access</a></span><ul class=\"toc-item\"><li><span><a href=\"#_getattri_-で-v.x,-v.x,-v.t-とかで色々座標の値を呼べるようにする\" data-toc-modified-id=\"_getattri_-で-v.x,-v.x,-v.t-とかで色々座標の値を呼べるようにする-1.3.1\"><span class=\"toc-item-num\">1.3.1&nbsp;&nbsp;</span>_<em>getattri_</em> で v.x, v.x, v.t とかで色々座標の値を呼べるようにする</a></span><ul class=\"toc-item\"><li><span><a href=\"#値が呼べることと、エラーが出ることの確認\" data-toc-modified-id=\"値が呼べることと、エラーが出ることの確認-1.3.1.1\"><span class=\"toc-item-num\">1.3.1.1&nbsp;&nbsp;</span>値が呼べることと、エラーが出ることの確認</a></span></li><li><span><a href=\"#値のAssignmentsは受け付けないようにしたい\" data-toc-modified-id=\"値のAssignmentsは受け付けないようにしたい-1.3.1.2\"><span class=\"toc-item-num\">1.3.1.2&nbsp;&nbsp;</span>値のAssignmentsは受け付けないようにしたい</a></span><ul class=\"toc-item\"><li><span><a href=\"#instanceに値を入れるとInstanceができるので、_getattr_は呼ばれなくなる\" data-toc-modified-id=\"instanceに値を入れるとInstanceができるので、_getattr_は呼ばれなくなる-1.3.1.2.1\"><span class=\"toc-item-num\">1.3.1.2.1&nbsp;&nbsp;</span>instanceに値を入れるとInstanceができるので、_<em>getattr_</em>は呼ばれなくなる</a></span></li><li><span><a href=\"#元のObjectは同じ\" data-toc-modified-id=\"元のObjectは同じ-1.3.1.2.2\"><span class=\"toc-item-num\">1.3.1.2.2&nbsp;&nbsp;</span>元のObjectは同じ</a></span></li></ul></li><li><span><a href=\"#_setattr_-でいくつかの座標をReadOnlyにする\" data-toc-modified-id=\"_setattr_-でいくつかの座標をReadOnlyにする-1.3.1.3\"><span class=\"toc-item-num\">1.3.1.3&nbsp;&nbsp;</span>_<em>setattr_</em> でいくつかの座標をReadOnlyにする</a></span><ul class=\"toc-item\"><li><span><a href=\"#x,y,z,t-はダメ\" data-toc-modified-id=\"x,y,z,t-はダメ-1.3.1.3.1\"><span class=\"toc-item-num\">1.3.1.3.1&nbsp;&nbsp;</span>x,y,z,t はダメ</a></span></li><li><span><a href=\"#a-to-z-もだめ\" data-toc-modified-id=\"a-to-z-もだめ-1.3.1.3.2\"><span class=\"toc-item-num\">1.3.1.3.2&nbsp;&nbsp;</span>a to z もだめ</a></span></li><li><span><a href=\"#AとかならOK\" data-toc-modified-id=\"AとかならOK-1.3.1.3.3\"><span class=\"toc-item-num\">1.3.1.3.3&nbsp;&nbsp;</span>AとかならOK</a></span></li></ul></li><li><span><a href=\"#Faster-__eq__\" data-toc-modified-id=\"Faster-__eq__-1.3.1.4\"><span class=\"toc-item-num\">1.3.1.4&nbsp;&nbsp;</span>Faster __eq__</a></span><ul class=\"toc-item\"><li><span><a href=\"#現在は比較のためだけにTupleを作ってるので効率悪い\" data-toc-modified-id=\"現在は比較のためだけにTupleを作ってるので効率悪い-1.3.1.4.1\"><span class=\"toc-item-num\">1.3.1.4.1&nbsp;&nbsp;</span>現在は比較のためだけにTupleを作ってるので効率悪い</a></span></li><li><span><a href=\"#ZIPを使う\" data-toc-modified-id=\"ZIPを使う-1.3.1.4.2\"><span class=\"toc-item-num\">1.3.1.4.2&nbsp;&nbsp;</span>ZIPを使う</a></span><ul class=\"toc-item\"><li><span><a href=\"#もっとかんたんに\" data-toc-modified-id=\"もっとかんたんに-1.3.1.4.2.1\"><span class=\"toc-item-num\">1.3.1.4.2.1&nbsp;&nbsp;</span>もっとかんたんに</a></span></li><li><span><a href=\"#all()\" data-toc-modified-id=\"all()-1.3.1.4.2.2\"><span class=\"toc-item-num\">1.3.1.4.2.2&nbsp;&nbsp;</span>all()</a></span></li><li><span><a href=\"#any()\" data-toc-modified-id=\"any()-1.3.1.4.2.3\"><span class=\"toc-item-num\">1.3.1.4.2.3&nbsp;&nbsp;</span>any()</a></span></li></ul></li></ul></li><li><span><a href=\"#ZIP\" data-toc-modified-id=\"ZIP-1.3.1.5\"><span class=\"toc-item-num\">1.3.1.5&nbsp;&nbsp;</span>ZIP</a></span><ul class=\"toc-item\"><li><span><a href=\"#RubyのZipと似てる\" data-toc-modified-id=\"RubyのZipと似てる-1.3.1.5.1\"><span class=\"toc-item-num\">1.3.1.5.1&nbsp;&nbsp;</span>RubyのZipと似てる</a></span><ul class=\"toc-item\"><li><span><a href=\"#Generatorを返す\" data-toc-modified-id=\"Generatorを返す-1.3.1.5.1.1\"><span class=\"toc-item-num\">1.3.1.5.1.1&nbsp;&nbsp;</span>Generatorを返す</a></span></li><li><span><a href=\"#Listにしてやると交互に出す\" data-toc-modified-id=\"Listにしてやると交互に出す-1.3.1.5.1.2\"><span class=\"toc-item-num\">1.3.1.5.1.2&nbsp;&nbsp;</span>Listにしてやると交互に出す</a></span></li></ul></li><li><span><a href=\"#値が足りないとそこで終わり、エラーはなし\" data-toc-modified-id=\"値が足りないとそこで終わり、エラーはなし-1.3.1.5.2\"><span class=\"toc-item-num\">1.3.1.5.2&nbsp;&nbsp;</span>値が足りないとそこで終わり、エラーはなし</a></span><ul class=\"toc-item\"><li><span><a href=\"#itertools.zip_longest-は足りない値をFillできる\" data-toc-modified-id=\"itertools.zip_longest-は足りない値をFillできる-1.3.1.5.2.1\"><span class=\"toc-item-num\">1.3.1.5.2.1&nbsp;&nbsp;</span>itertools.zip_longest は足りない値をFillできる</a></span></li></ul></li></ul></li></ul></li></ul></li></ul></li><li><span><a href=\"#Chpat-11-:-Intefaces-:-Protocolst-to-ABC\" data-toc-modified-id=\"Chpat-11-:-Intefaces-:-Protocolst-to-ABC-2\"><span class=\"toc-item-num\">2&nbsp;&nbsp;</span>Chpat 11 : Intefaces : Protocolst to ABC</a></span><ul class=\"toc-item\"><li><span><a href=\"#Alex-Metelli's-essay\" data-toc-modified-id=\"Alex-Metelli's-essay-2.1\"><span class=\"toc-item-num\">2.1&nbsp;&nbsp;</span>Alex Metelli's essay</a></span></li><li><span><a href=\"#this-is-duck-type\" data-toc-modified-id=\"this-is-duck-type-2.2\"><span class=\"toc-item-num\">2.2&nbsp;&nbsp;</span>this is duck type</a></span></li><li><span><a href=\"#this-is-not\" data-toc-modified-id=\"this-is-not-2.3\"><span class=\"toc-item-num\">2.3&nbsp;&nbsp;</span>this is not</a></span></li><li><span><a href=\"#ABC-example----collections.Mutable---\" data-toc-modified-id=\"ABC-example----collections.Mutable----2.4\"><span class=\"toc-item-num\">2.4&nbsp;&nbsp;</span>ABC example -- collections.Mutable --</a></span><ul class=\"toc-item\"><li><span><a href=\"#上の状態でInstantiateすると・・・\" data-toc-modified-id=\"上の状態でInstantiateすると・・・-2.4.1\"><span class=\"toc-item-num\">2.4.1&nbsp;&nbsp;</span>上の状態でInstantiateすると・・・</a></span></li><li><span><a href=\"#Interface忘れがなくなる\" data-toc-modified-id=\"Interface忘れがなくなる-2.4.2\"><span class=\"toc-item-num\">2.4.2&nbsp;&nbsp;</span>Interface忘れがなくなる</a></span></li><li><span><a href=\"#なんでこんなふうになってんの?\" data-toc-modified-id=\"なんでこんなふうになってんの?-2.4.3\"><span class=\"toc-item-num\">2.4.3&nbsp;&nbsp;</span>なんでこんなふうになってんの?</a></span></li><li><span><a href=\"#どういう継承図なの?\" data-toc-modified-id=\"どういう継承図なの?-2.4.4\"><span class=\"toc-item-num\">2.4.4&nbsp;&nbsp;</span>どういう継承図なの?</a></span></li></ul></li><li><span><a href=\"#ABCs-in-the-Standard-Library\" data-toc-modified-id=\"ABCs-in-the-Standard-Library-2.5\"><span class=\"toc-item-num\">2.5&nbsp;&nbsp;</span>ABCs in the Standard Library</a></span><ul class=\"toc-item\"><li><span><a href=\"#isinstance-も使った具体例\" data-toc-modified-id=\"isinstance-も使った具体例-2.5.1\"><span class=\"toc-item-num\">2.5.1&nbsp;&nbsp;</span>isinstance も使った具体例</a></span><ul class=\"toc-item\"><li><span><a href=\"#sound-がない場合はエラーが出る\" data-toc-modified-id=\"sound-がない場合はエラーが出る-2.5.1.1\"><span class=\"toc-item-num\">2.5.1.1&nbsp;&nbsp;</span>sound がない場合はエラーが出る</a></span><ul class=\"toc-item\"><li><span><a href=\"#isinstanceを使ってみる\" data-toc-modified-id=\"isinstanceを使ってみる-2.5.1.1.1\"><span class=\"toc-item-num\">2.5.1.1.1&nbsp;&nbsp;</span>isinstanceを使ってみる</a></span></li><li><span><a href=\"#hasattrでもいい\" data-toc-modified-id=\"hasattrでもいい-2.5.1.1.2\"><span class=\"toc-item-num\">2.5.1.1.2&nbsp;&nbsp;</span>hasattrでもいい</a></span></li></ul></li></ul></li></ul></li></ul></li><li><span><a href=\"#chap-12---Inheritance\" data-toc-modified-id=\"chap-12---Inheritance-3\"><span class=\"toc-item-num\">3&nbsp;&nbsp;</span>chap 12 - Inheritance</a></span><ul class=\"toc-item\"><li><span><a href=\"#DictをSubclassしてもうまく動かない例\" data-toc-modified-id=\"DictをSubclassしてもうまく動かない例-3.1\"><span class=\"toc-item-num\">3.1&nbsp;&nbsp;</span>DictをSubclassしてもうまく動かない例</a></span><ul class=\"toc-item\"><li><span><a href=\"#setitemが動かない\" data-toc-modified-id=\"setitemが動かない-3.1.1\"><span class=\"toc-item-num\">3.1.1&nbsp;&nbsp;</span>setitemが動かない</a></span><ul class=\"toc-item\"><li><span><a href=\"#__init__-はsetitemを無視する\" data-toc-modified-id=\"__init__-はsetitemを無視する-3.1.1.1\"><span class=\"toc-item-num\">3.1.1.1&nbsp;&nbsp;</span>__init__ はsetitemを無視する</a></span></li><li><span><a href=\"#この場合はうまく動く\" data-toc-modified-id=\"この場合はうまく動く-3.1.1.2\"><span class=\"toc-item-num\">3.1.1.2&nbsp;&nbsp;</span>この場合はうまく動く</a></span></li><li><span><a href=\"#update-はsetitemを使ってくれない\" data-toc-modified-id=\"update-はsetitemを使ってくれない-3.1.1.3\"><span class=\"toc-item-num\">3.1.1.3&nbsp;&nbsp;</span>update はsetitemを使ってくれない</a></span></li></ul></li><li><span><a href=\"#getitemが動かない\" data-toc-modified-id=\"getitemが動かない-3.1.2\"><span class=\"toc-item-num\">3.1.2&nbsp;&nbsp;</span>getitemが動かない</a></span><ul class=\"toc-item\"><li><span><a href=\"#うごく\" data-toc-modified-id=\"うごく-3.1.2.1\"><span class=\"toc-item-num\">3.1.2.1&nbsp;&nbsp;</span>うごく</a></span></li><li><span><a href=\"#動かない、getitemを無視する\" data-toc-modified-id=\"動かない、getitemを無視する-3.1.2.2\"><span class=\"toc-item-num\">3.1.2.2&nbsp;&nbsp;</span>動かない、getitemを無視する</a></span></li></ul></li></ul></li><li><span><a href=\"#collection.UserDictをつかう\" data-toc-modified-id=\"collection.UserDictをつかう-3.2\"><span class=\"toc-item-num\">3.2&nbsp;&nbsp;</span>collection.UserDictをつかう</a></span><ul class=\"toc-item\"><li><span><a href=\"#setitemをちゃんと使ってくれる\" data-toc-modified-id=\"setitemをちゃんと使ってくれる-3.2.1\"><span class=\"toc-item-num\">3.2.1&nbsp;&nbsp;</span>setitemをちゃんと使ってくれる</a></span></li><li><span><a href=\"#getitemをちゃんと使ってくれる\" data-toc-modified-id=\"getitemをちゃんと使ってくれる-3.2.2\"><span class=\"toc-item-num\">3.2.2&nbsp;&nbsp;</span>getitemをちゃんと使ってくれる</a></span></li></ul></li><li><span><a href=\"#Diamond-Inheritance\" data-toc-modified-id=\"Diamond-Inheritance-3.3\"><span class=\"toc-item-num\">3.3&nbsp;&nbsp;</span>Diamond Inheritance</a></span><ul class=\"toc-item\"><li><span><a href=\"#D-のPONGを実行するとBからくる\" data-toc-modified-id=\"D-のPONGを実行するとBからくる-3.3.1\"><span class=\"toc-item-num\">3.3.1&nbsp;&nbsp;</span>D のPONGを実行するとBからくる</a></span></li><li><span><a href=\"#Cを実行したいときはこうする\" data-toc-modified-id=\"Cを実行したいときはこうする-3.3.2\"><span class=\"toc-item-num\">3.3.2&nbsp;&nbsp;</span>Cを実行したいときはこうする</a></span></li><li><span><a href=\"#pingはAからくる\" data-toc-modified-id=\"pingはAからくる-3.3.3\"><span class=\"toc-item-num\">3.3.3&nbsp;&nbsp;</span>pingはAからくる</a></span></li><li><span><a href=\"#superとの関係\" data-toc-modified-id=\"superとの関係-3.3.4\"><span class=\"toc-item-num\">3.3.4&nbsp;&nbsp;</span>superとの関係</a></span></li><li><span><a href=\"#探索の順番はどうなってるか\" data-toc-modified-id=\"探索の順番はどうなってるか-3.3.5\"><span class=\"toc-item-num\">3.3.5&nbsp;&nbsp;</span>探索の順番はどうなってるか</a></span></li></ul></li><li><span><a href=\"#“Favor-Object-Composition-Over-Class-Inheritance.”\" data-toc-modified-id=\"“Favor-Object-Composition-Over-Class-Inheritance.”-3.4\"><span class=\"toc-item-num\">3.4&nbsp;&nbsp;</span>“Favor Object Composition Over Class Inheritance.”</a></span><ul class=\"toc-item\"><li><span><a href=\"#composition\" data-toc-modified-id=\"composition-3.4.1\"><span class=\"toc-item-num\">3.4.1&nbsp;&nbsp;</span>composition</a></span></li><li><span><a href=\"#composition-and-inheritance\" data-toc-modified-id=\"composition-and-inheritance-3.4.2\"><span class=\"toc-item-num\">3.4.2&nbsp;&nbsp;</span>composition and inheritance</a></span></li></ul></li></ul></li><li><span><a href=\"#Chap-13---Operator-Overloading\" data-toc-modified-id=\"Chap-13---Operator-Overloading-4\"><span class=\"toc-item-num\">4&nbsp;&nbsp;</span>Chap 13 - Operator Overloading</a></span><ul class=\"toc-item\"><li><span><a href=\"#__neg__\" data-toc-modified-id=\"__neg__-4.1\"><span class=\"toc-item-num\">4.1&nbsp;&nbsp;</span>__neg__</a></span></li><li><span><a href=\"#__add__\" data-toc-modified-id=\"__add__-4.2\"><span class=\"toc-item-num\">4.2&nbsp;&nbsp;</span>__add__</a></span><ul class=\"toc-item\"><li><span><a href=\"#Notimplemented-なケース\" data-toc-modified-id=\"Notimplemented-なケース-4.2.1\"><span class=\"toc-item-num\">4.2.1&nbsp;&nbsp;</span>Notimplemented なケース</a></span><ul class=\"toc-item\"><li><span><a href=\"#両方ないのはそりゃあだめ,-TypeError\" data-toc-modified-id=\"両方ないのはそりゃあだめ,-TypeError-4.2.1.1\"><span class=\"toc-item-num\">4.2.1.1&nbsp;&nbsp;</span>両方ないのはそりゃあだめ, TypeError</a></span></li><li><span><a href=\"#片方あれば良い(左側が-__add__持ち)\" data-toc-modified-id=\"片方あれば良い(左側が-__add__持ち)-4.2.1.2\"><span class=\"toc-item-num\">4.2.1.2&nbsp;&nbsp;</span>片方あれば良い(左側が __add__持ち)</a></span></li><li><span><a href=\"#片方あれば良い(__radd__持ち)\" data-toc-modified-id=\"片方あれば良い(__radd__持ち)-4.2.1.3\"><span class=\"toc-item-num\">4.2.1.3&nbsp;&nbsp;</span>片方あれば良い(__radd__持ち)</a></span></li><li><span><a href=\"#how-fallback-&quot;r&quot;-method-works\" data-toc-modified-id=\"how-fallback-&quot;r&quot;-method-works-4.2.1.4\"><span class=\"toc-item-num\">4.2.1.4&nbsp;&nbsp;</span>how fallback \"r\" method works</a></span></li></ul></li></ul></li><li><span><a href=\"#__iadd__\" data-toc-modified-id=\"__iadd__-4.3\"><span class=\"toc-item-num\">4.3&nbsp;&nbsp;</span>__iadd__</a></span></li></ul></li><li><span><a href=\"#Chap-14-Iterables,-Iterators,-Generators\" data-toc-modified-id=\"Chap-14-Iterables,-Iterators,-Generators-5\"><span class=\"toc-item-num\">5&nbsp;&nbsp;</span>Chap 14 Iterables, Iterators, Generators</a></span><ul class=\"toc-item\"><li><span><a href=\"#iter-function\" data-toc-modified-id=\"iter-function-5.1\"><span class=\"toc-item-num\">5.1&nbsp;&nbsp;</span>iter function</a></span><ul class=\"toc-item\"><li><span><a href=\"#Whenever-the-interpreter-needs-to-iterate-over-an-object-x,-it-automatically-calls-iter(x).\" data-toc-modified-id=\"Whenever-the-interpreter-needs-to-iterate-over-an-object-x,-it-automatically-calls-iter(x).-5.1.1\"><span class=\"toc-item-num\">5.1.1&nbsp;&nbsp;</span>Whenever the interpreter needs to iterate over an object x, it automatically calls iter(x).</a></span></li><li><span><a href=\"#__iter__-があれば、-abc.Iterableの-__subclasshook__-のおかげで-abc.Iterableになる\" data-toc-modified-id=\"__iter__-があれば、-abc.Iterableの-__subclasshook__-のおかげで-abc.Iterableになる-5.1.2\"><span class=\"toc-item-num\">5.1.2&nbsp;&nbsp;</span>__iter__ があれば、 abc.Iterableの __subclasshook__ のおかげで abc.Iterableになる</a></span></li><li><span><a href=\"#forを実装してみる\" data-toc-modified-id=\"forを実装してみる-5.1.3\"><span class=\"toc-item-num\">5.1.3&nbsp;&nbsp;</span>forを実装してみる</a></span><ul class=\"toc-item\"><li><span><a href=\"#next-やりまくって、これ以上無い場合は-StopIteration-がでて、それをTryで取る\" data-toc-modified-id=\"next-やりまくって、これ以上無い場合は-StopIteration-がでて、それをTryで取る-5.1.3.1\"><span class=\"toc-item-num\">5.1.3.1&nbsp;&nbsp;</span>next やりまくって、これ以上無い場合は StopIteration がでて、それをTryで取る</a></span><ul class=\"toc-item\"><li><span><a href=\"#iterは一回でなくなる\" data-toc-modified-id=\"iterは一回でなくなる-5.1.3.1.1\"><span class=\"toc-item-num\">5.1.3.1.1&nbsp;&nbsp;</span>iterは一回でなくなる</a></span></li></ul></li></ul></li></ul></li><li><span><a href=\"#Iterator-and-Iterable\" data-toc-modified-id=\"Iterator-and-Iterable-5.2\"><span class=\"toc-item-num\">5.2&nbsp;&nbsp;</span>Iterator and Iterable</a></span><ul class=\"toc-item\"><li><span><a href=\"#python-code\" data-toc-modified-id=\"python-code-5.2.1\"><span class=\"toc-item-num\">5.2.1&nbsp;&nbsp;</span>python code</a></span></li></ul></li><li><span><a href=\"#Generator\" data-toc-modified-id=\"Generator-5.3\"><span class=\"toc-item-num\">5.3&nbsp;&nbsp;</span>Generator</a></span><ul class=\"toc-item\"><li><span><a href=\"#SentenceをGeneratorに\" data-toc-modified-id=\"SentenceをGeneratorに-5.3.1\"><span class=\"toc-item-num\">5.3.1&nbsp;&nbsp;</span>SentenceをGeneratorに</a></span><ul class=\"toc-item\"><li><span><a href=\"#結果は同じ\" data-toc-modified-id=\"結果は同じ-5.3.1.1\"><span class=\"toc-item-num\">5.3.1.1&nbsp;&nbsp;</span>結果は同じ</a></span></li></ul></li><li><span><a href=\"#簡単なGenerator\" data-toc-modified-id=\"簡単なGenerator-5.3.2\"><span class=\"toc-item-num\">5.3.2&nbsp;&nbsp;</span>簡単なGenerator</a></span></li><li><span><a href=\"#iterableである(iterateしないと結果がyieldされない)\" data-toc-modified-id=\"iterableである(iterateしないと結果がyieldされない)-5.3.3\"><span class=\"toc-item-num\">5.3.3&nbsp;&nbsp;</span>iterableである(iterateしないと結果がyieldされない)</a></span></li><li><span><a href=\"#next-しまくると-StopIterationがでる\" data-toc-modified-id=\"next-しまくると-StopIterationがでる-5.3.4\"><span class=\"toc-item-num\">5.3.4&nbsp;&nbsp;</span>next しまくると StopIterationがでる</a></span></li><li><span><a href=\"#Generator-YIELDS-or-PRODUCES-values-as-a-result.-And,-It-RETURNS-fucntions-when-it-was-called\" data-toc-modified-id=\"Generator-YIELDS-or-PRODUCES-values-as-a-result.-And,-It-RETURNS-fucntions-when-it-was-called-5.3.5\"><span class=\"toc-item-num\">5.3.5&nbsp;&nbsp;</span>Generator YIELDS or PRODUCES values as a result. And, It RETURNS fucntions when it was called</a></span></li><li><span><a href=\"#More-Lazy-Sentence-Implementaition\" data-toc-modified-id=\"More-Lazy-Sentence-Implementaition-5.3.6\"><span class=\"toc-item-num\">5.3.6&nbsp;&nbsp;</span>More Lazy Sentence Implementaition</a></span></li><li><span><a href=\"#LIst-Comprehention-and-Generator-Expression\" data-toc-modified-id=\"LIst-Comprehention-and-Generator-Expression-5.3.7\"><span class=\"toc-item-num\">5.3.7&nbsp;&nbsp;</span>LIst Comprehention and Generator Expression</a></span><ul class=\"toc-item\"><li><span><a href=\"#List-Comprehension-だと途中で消費される\" data-toc-modified-id=\"List-Comprehension-だと途中で消費される-5.3.7.1\"><span class=\"toc-item-num\">5.3.7.1&nbsp;&nbsp;</span>List Comprehension だと途中で消費される</a></span></li><li><span><a href=\"#Generator-Expression-だと途中で消費されない\" data-toc-modified-id=\"Generator-Expression-だと途中で消費されない-5.3.7.2\"><span class=\"toc-item-num\">5.3.7.2&nbsp;&nbsp;</span>Generator Expression だと途中で消費されない</a></span></li><li><span><a href=\"#SentenceにGeneretor-Expressionをつかう\" data-toc-modified-id=\"SentenceにGeneretor-Expressionをつかう-5.3.7.3\"><span class=\"toc-item-num\">5.3.7.3&nbsp;&nbsp;</span>SentenceにGeneretor Expressionをつかう</a></span></li></ul></li><li><span><a href=\"#続きの数を生成する\" data-toc-modified-id=\"続きの数を生成する-5.3.8\"><span class=\"toc-item-num\">5.3.8&nbsp;&nbsp;</span>続きの数を生成する</a></span></li></ul></li></ul></li></ul></div>"
   ]
  },
  {
   "cell_type": "markdown",
   "metadata": {},
   "source": [
    "# Chap10 Sequece, Hasing, Slicing"
   ]
  },
  {
   "cell_type": "markdown",
   "metadata": {},
   "source": [
    "## Vector take 1"
   ]
  },
  {
   "cell_type": "code",
   "execution_count": 37,
   "metadata": {},
   "outputs": [],
   "source": [
    "from array import array\n",
    "import reprlib\n",
    "import math\n",
    "import numbers\n",
    "\n",
    "\n",
    "class Vector:\n",
    "    typecode = 'd'\n",
    "\n",
    "    def __init__(self, components):\n",
    "        self._components = array(self.typecode, components)\n",
    "\n",
    "    def __iter__(self):\n",
    "        print('__iter__')\n",
    "        print(iter(self._components))\n",
    "        return iter(self._components)\n",
    "\n",
    "    def __repr__(self):\n",
    "        components = reprlib.repr(self._components)\n",
    "        components = components[components.find('['):-1]\n",
    "        return 'Vector repr({})'.format(components)\n",
    "\n",
    "    def __str__(self):\n",
    "        return str(tuple(self))\n",
    "\n",
    "    def __bytes__(self):\n",
    "        return (bytes[ord(self.typecode)]) + bytes(self._components)\n",
    "\n",
    "    #  はじめの__eq__これだと遅い\n",
    "    #     def __eq__(self, other):\n",
    "    #         return tuple(self) == tuple(other)\n",
    "\n",
    "    #     早くした\n",
    "    #     def __eq__(self, other):\n",
    "    #         if len(self) != len(other):\n",
    "    #             return False\n",
    "    #         for a, b in zip(self, other):\n",
    "    #             if a != b:\n",
    "    #                 return false\n",
    "    #         return True\n",
    "    \n",
    "    # 簡素に書いたもの\n",
    "    def __eq__(self, other):\n",
    "        return len(self) == len(other) and all(a==b for a, b in zip(self, other))\n",
    "\n",
    "    def __abs__(self):\n",
    "        return math.sqrt(sum(x * x for x in self))\n",
    "\n",
    "    def __bool__(self):\n",
    "        return bool(abs(self))\n",
    "\n",
    "    @classmethod\n",
    "    def frombytes(cls, octets):\n",
    "        typecode = chr(octets[0])\n",
    "        memv = memoryview(octets[1:]).cast(typecode)\n",
    "        return cls(memv)\n",
    "\n",
    "    def __len__(self):\n",
    "        print('__len__')\n",
    "        return len(self._components)\n",
    "\n",
    "#     初めの getitem\n",
    "#     def __getitem__(self, index):\n",
    "#         print('__getitem__')\n",
    "#         return self._components[index]\n",
    "\n",
    "# 二個目のslice-aware getitem\n",
    "    def __getitem__(self, index):\n",
    "        cls = type(self)\n",
    "        if isinstance(index, slice):\n",
    "            print('index argument is a slice')\n",
    "            print('Initializing vector ...')\n",
    "            return cls(self._components[index])\n",
    "        elif isinstance(index, numbers.Integral):\n",
    "            print('index arg is kind like an Int')\n",
    "            return self._components[index]\n",
    "        else:\n",
    "            msg = '{cls.__name__} indices must be integers'\n",
    "            raise TypeError(msg.format(cls=cls))\n",
    "\n",
    "    # __get_attr__ で座標を呼べるようにする\n",
    "    shortcut_names = 'xyzt'\n",
    "\n",
    "    def __getattr__(self, name):\n",
    "        print('__getattr__')\n",
    "        cls = type(self)\n",
    "        if len(name) == 1:\n",
    "            pos = cls.shortcut_names.find(name)\n",
    "            if 0 <= pos < len(self._components):\n",
    "                return self._components[pos]\n",
    "        msg = '{.__name__!r} object has no attribute {!r}'\n",
    "        raise AttributeError(msg.format(cls, name))\n",
    "\n",
    "    # 座標をセットできるようにする\n",
    "    def __setattr__(self, name, value):\n",
    "        print('__setattr__')\n",
    "        cls = type(self)\n",
    "\n",
    "        if len(name) == 1:  # if char is single\n",
    "            if name in cls.shortcut_names:  # if name is xyzt\n",
    "                error = 'readonly attributes {attr_name!r}'\n",
    "            elif name.islower():  # if other than xyzt\n",
    "                error = \"can't set attributes 'a' to 'z' in {cls_name!r}\"\n",
    "            else:  # otherwise set it blank\n",
    "                error = ''\n",
    "\n",
    "            if error:  # dealing with error\n",
    "                msg = error.format(cls_name=cls.__name__, attr_name=name)\n",
    "                raise AttributeError(msg)\n",
    "        # 何もおこらなかったときは上のクラスの挙動をSuper\n",
    "        super().__setattr__(name, value)"
   ]
  },
  {
   "cell_type": "code",
   "execution_count": 66,
   "metadata": {},
   "outputs": [
    {
     "data": {
      "text/plain": [
       "Vector repr([3.0, 4.0])"
      ]
     },
     "execution_count": 66,
     "metadata": {},
     "output_type": "execute_result"
    }
   ],
   "source": [
    "Vector([3, 4])"
   ]
  },
  {
   "cell_type": "markdown",
   "metadata": {},
   "source": [
    "### Make Vector iterable by \\__iter__\n",
    "\n",
    "- Object is not iterable"
   ]
  },
  {
   "cell_type": "code",
   "execution_count": 67,
   "metadata": {},
   "outputs": [
    {
     "name": "stdout",
     "output_type": "stream",
     "text": [
      "__iter__\n",
      "<arrayiterator object at 0x7f3a28647408>\n",
      "__len__\n",
      "(3.0, 4.0)\n"
     ]
    }
   ],
   "source": [
    "print(Vector([3,4]))"
   ]
  },
  {
   "cell_type": "markdown",
   "metadata": {},
   "source": [
    "### reprlib.repr で長いListを短くして表示してくれる"
   ]
  },
  {
   "cell_type": "code",
   "execution_count": 68,
   "metadata": {},
   "outputs": [
    {
     "data": {
      "text/plain": [
       "Vector repr([0.0, 1.0, 2.0, 3.0, 4.0, ...])"
      ]
     },
     "execution_count": 68,
     "metadata": {},
     "output_type": "execute_result"
    }
   ],
   "source": [
    "Vector(range(10))"
   ]
  },
  {
   "cell_type": "markdown",
   "metadata": {},
   "source": [
    "## Vector take 2 : Sliceable Sequence"
   ]
  },
  {
   "cell_type": "markdown",
   "metadata": {},
   "source": [
    "### len と getitem を作る"
   ]
  },
  {
   "cell_type": "code",
   "execution_count": 69,
   "metadata": {},
   "outputs": [
    {
     "name": "stdout",
     "output_type": "stream",
     "text": [
      "__len__\n"
     ]
    },
    {
     "data": {
      "text/plain": [
       "3"
      ]
     },
     "execution_count": 69,
     "metadata": {},
     "output_type": "execute_result"
    }
   ],
   "source": [
    "v1 = Vector([2,3,4])\n",
    "len(v1)"
   ]
  },
  {
   "cell_type": "code",
   "execution_count": 70,
   "metadata": {},
   "outputs": [
    {
     "name": "stdout",
     "output_type": "stream",
     "text": [
      "__getitem__\n",
      "__getitem__\n"
     ]
    },
    {
     "data": {
      "text/plain": [
       "(2.0, 4.0)"
      ]
     },
     "execution_count": 70,
     "metadata": {},
     "output_type": "execute_result"
    }
   ],
   "source": [
    "v1[0], v1[-1]"
   ]
  },
  {
   "cell_type": "markdown",
   "metadata": {},
   "source": [
    "#### getitem はsliceできる。ただ、list ではなくVectorを返したい"
   ]
  },
  {
   "cell_type": "code",
   "execution_count": 64,
   "metadata": {},
   "outputs": [],
   "source": [
    "# 現状こんな感じ\n",
    "def __getitem__(self, index):\n",
    "    print('__getitem__')\n",
    "    return self._components[index]"
   ]
  },
  {
   "cell_type": "code",
   "execution_count": 71,
   "metadata": {},
   "outputs": [
    {
     "name": "stdout",
     "output_type": "stream",
     "text": [
      "__getitem__\n"
     ]
    },
    {
     "data": {
      "text/plain": [
       "array('d', [1.0, 2.0, 3.0])"
      ]
     },
     "execution_count": 71,
     "metadata": {},
     "output_type": "execute_result"
    }
   ],
   "source": [
    "v7 = Vector(range(7))\n",
    "v7[1:4]"
   ]
  },
  {
   "cell_type": "markdown",
   "metadata": {},
   "source": [
    "### Sliceの仕組み"
   ]
  },
  {
   "cell_type": "code",
   "execution_count": 72,
   "metadata": {},
   "outputs": [],
   "source": [
    "class MySeq:\n",
    "    def __getitem__(self, index):\n",
    "        return index\n",
    "    \n",
    "s = MySeq()"
   ]
  },
  {
   "cell_type": "markdown",
   "metadata": {},
   "source": [
    "#### 内容について適当な解釈をしてくれる"
   ]
  },
  {
   "cell_type": "code",
   "execution_count": 73,
   "metadata": {},
   "outputs": [
    {
     "data": {
      "text/plain": [
       "1"
      ]
     },
     "execution_count": 73,
     "metadata": {},
     "output_type": "execute_result"
    }
   ],
   "source": [
    "s[1]"
   ]
  },
  {
   "cell_type": "code",
   "execution_count": 74,
   "metadata": {},
   "outputs": [
    {
     "data": {
      "text/plain": [
       "slice(1, 4, None)"
      ]
     },
     "execution_count": 74,
     "metadata": {},
     "output_type": "execute_result"
    }
   ],
   "source": [
    "s[1:4]"
   ]
  },
  {
   "cell_type": "code",
   "execution_count": 75,
   "metadata": {},
   "outputs": [
    {
     "data": {
      "text/plain": [
       "(slice(1, 4, 2), slice(7, 9, None))"
      ]
     },
     "execution_count": 75,
     "metadata": {},
     "output_type": "execute_result"
    }
   ],
   "source": [
    "s[1:4:2, 7:9]"
   ]
  },
  {
   "cell_type": "markdown",
   "metadata": {},
   "source": [
    "#### Sliceとはなにか"
   ]
  },
  {
   "cell_type": "code",
   "execution_count": 78,
   "metadata": {},
   "outputs": [
    {
     "name": "stdout",
     "output_type": "stream",
     "text": [
      "<class 'slice'>\n",
      "['__class__', '__delattr__', '__dir__', '__doc__', '__eq__', '__format__', '__ge__', '__getattribute__', '__gt__', '__hash__', '__init__', '__init_subclass__', '__le__', '__lt__', '__ne__', '__new__', '__reduce__', '__reduce_ex__', '__repr__', '__setattr__', '__sizeof__', '__str__', '__subclasshook__', 'indices', 'start', 'step', 'stop']\n"
     ]
    }
   ],
   "source": [
    "print(slice)\n",
    "print(dir(slice))"
   ]
  },
  {
   "cell_type": "markdown",
   "metadata": {},
   "source": [
    "```\n",
    "help(slice)\n",
    "\n",
    "↓\n",
    "```\n",
    "\n",
    "```\n",
    "|  indices(...)\n",
    " |      S.indices(len) -> (start, stop, stride)\n",
    " |      \n",
    " |      Assuming a sequence of length len, calculate the start and stop\n",
    " |      indices, and the stride length of the extended slice described by\n",
    " |      S. Out of bounds indices are clipped in a manner consistent with the\n",
    " |      handling of normal slices.\n",
    "```"
   ]
  },
  {
   "cell_type": "markdown",
   "metadata": {},
   "source": [
    "##### インデックスについて色々よしなに解釈してくれる"
   ]
  },
  {
   "cell_type": "code",
   "execution_count": 84,
   "metadata": {},
   "outputs": [
    {
     "name": "stdout",
     "output_type": "stream",
     "text": [
      "(0, 5, 2)\n",
      "(0, 5, 2)\n"
     ]
    }
   ],
   "source": [
    "print(slice(None, 10, 2).indices(5))\n",
    "print(slice(0, 5, 2).indices(5))"
   ]
  },
  {
   "cell_type": "markdown",
   "metadata": {},
   "source": [
    "### Make getitem slice-aware"
   ]
  },
  {
   "cell_type": "code",
   "execution_count": null,
   "metadata": {},
   "outputs": [],
   "source": [
    "# 二個目のslice-aware getitem\n",
    "    def __getitem__(self, index):\n",
    "        cls = type(self)\n",
    "        if isinstance(index, slice):\n",
    "            print('index argument is a slice')\n",
    "            print('Initializing vector ...')\n",
    "            return cls(self._components[index])\n",
    "        elif isinstance(index, numbers.Integral):\n",
    "            print('index arg is kind like an Int')\n",
    "            return self._components[index]\n",
    "        else:\n",
    "            msg = '{cls.__name__} indices must be integers'\n",
    "            raise TypeError(msg.format(cls=cls))"
   ]
  },
  {
   "cell_type": "code",
   "execution_count": 96,
   "metadata": {},
   "outputs": [
    {
     "name": "stdout",
     "output_type": "stream",
     "text": [
      "index arg is kind link an Int\n"
     ]
    },
    {
     "data": {
      "text/plain": [
       "6.0"
      ]
     },
     "execution_count": 96,
     "metadata": {},
     "output_type": "execute_result"
    }
   ],
   "source": [
    "v7 = Vector(range(7))\n",
    "v7[-1]"
   ]
  },
  {
   "cell_type": "code",
   "execution_count": 97,
   "metadata": {},
   "outputs": [
    {
     "name": "stdout",
     "output_type": "stream",
     "text": [
      "index argument is a slice\n",
      "Initializing vector ...\n"
     ]
    },
    {
     "data": {
      "text/plain": [
       "Vector repr([1.0, 2.0, 3.0])"
      ]
     },
     "execution_count": 97,
     "metadata": {},
     "output_type": "execute_result"
    }
   ],
   "source": [
    "v7[1:4]"
   ]
  },
  {
   "cell_type": "code",
   "execution_count": 98,
   "metadata": {},
   "outputs": [
    {
     "ename": "TypeError",
     "evalue": "Vector indices must be integers",
     "output_type": "error",
     "traceback": [
      "\u001b[1;31m---------------------------------------------------------------------------\u001b[0m",
      "\u001b[1;31mTypeError\u001b[0m                                 Traceback (most recent call last)",
      "\u001b[1;32m<ipython-input-98-0f616761b0d9>\u001b[0m in \u001b[0;36m<module>\u001b[1;34m()\u001b[0m\n\u001b[1;32m----> 1\u001b[1;33m \u001b[0mv7\u001b[0m\u001b[1;33m[\u001b[0m\u001b[1;36m1\u001b[0m\u001b[1;33m,\u001b[0m\u001b[1;36m2\u001b[0m\u001b[1;33m]\u001b[0m\u001b[1;33m\u001b[0m\u001b[0m\n\u001b[0m",
      "\u001b[1;32m<ipython-input-95-17007e20c206>\u001b[0m in \u001b[0;36m__getitem__\u001b[1;34m(self, index)\u001b[0m\n\u001b[0;32m     62\u001b[0m         \u001b[1;32melse\u001b[0m\u001b[1;33m:\u001b[0m\u001b[1;33m\u001b[0m\u001b[0m\n\u001b[0;32m     63\u001b[0m             \u001b[0mmsg\u001b[0m \u001b[1;33m=\u001b[0m \u001b[1;34m'{cls.__name__} indices must be integers'\u001b[0m\u001b[1;33m\u001b[0m\u001b[0m\n\u001b[1;32m---> 64\u001b[1;33m             \u001b[1;32mraise\u001b[0m \u001b[0mTypeError\u001b[0m\u001b[1;33m(\u001b[0m\u001b[0mmsg\u001b[0m\u001b[1;33m.\u001b[0m\u001b[0mformat\u001b[0m\u001b[1;33m(\u001b[0m\u001b[0mcls\u001b[0m\u001b[1;33m=\u001b[0m\u001b[0mcls\u001b[0m\u001b[1;33m)\u001b[0m\u001b[1;33m)\u001b[0m\u001b[1;33m\u001b[0m\u001b[0m\n\u001b[0m",
      "\u001b[1;31mTypeError\u001b[0m: Vector indices must be integers"
     ]
    }
   ],
   "source": [
    "v7[1,2]"
   ]
  },
  {
   "cell_type": "markdown",
   "metadata": {},
   "source": [
    "## Vector take 2 - Dynamic Attribute Access"
   ]
  },
  {
   "cell_type": "markdown",
   "metadata": {},
   "source": [
    "### \\__getattri__ で v.x, v.x, v.t とかで色々座標の値を呼べるようにする"
   ]
  },
  {
   "cell_type": "code",
   "execution_count": null,
   "metadata": {},
   "outputs": [],
   "source": [
    "    def __getattr__(self, name):\n",
    "        print('__get_attr__')\n",
    "        cls = type(self)\n",
    "        if len(name) == 1: # name is 1 char?\n",
    "            pos = cls.shortcut_names.find(name)\n",
    "            if 0 <= pos < len(self._components):\n",
    "                return self._components[pos]\n",
    "        msg = '{.__name__!r} object has no attribute {!r}'\n",
    "        raise AttributeError(msg.format(cls, name))"
   ]
  },
  {
   "cell_type": "code",
   "execution_count": 3,
   "metadata": {},
   "outputs": [
    {
     "data": {
      "text/plain": [
       "str"
      ]
     },
     "execution_count": 3,
     "metadata": {},
     "output_type": "execute_result"
    }
   ],
   "source": [
    "type('hey')"
   ]
  },
  {
   "cell_type": "code",
   "execution_count": 10,
   "metadata": {},
   "outputs": [
    {
     "name": "stdout",
     "output_type": "stream",
     "text": [
      "__getattr__\n",
      "__getattr__\n",
      "__getattr__\n",
      "__getattr__\n",
      "__getattr__\n",
      "__getattr__\n",
      "__getattr__\n",
      "__getattr__\n",
      "__getattr__\n",
      "__getattr__\n",
      "__getattr__\n",
      "__getattr__\n",
      "__getattr__\n",
      "__getattr__\n",
      "__getattr__\n",
      "__getattr__\n",
      "__getattr__\n",
      "__getattr__\n",
      "__getattr__\n",
      "__getattr__\n",
      "__getattr__\n",
      "__getattr__\n"
     ]
    },
    {
     "data": {
      "text/plain": [
       "Vector repr([0.0, 1.0, 2.0, 3.0, 4.0])"
      ]
     },
     "execution_count": 10,
     "metadata": {},
     "output_type": "execute_result"
    }
   ],
   "source": [
    "v = Vector(range(5))\n",
    "v"
   ]
  },
  {
   "cell_type": "markdown",
   "metadata": {},
   "source": [
    "#### 値が呼べることと、エラーが出ることの確認"
   ]
  },
  {
   "cell_type": "code",
   "execution_count": 14,
   "metadata": {},
   "outputs": [
    {
     "name": "stdout",
     "output_type": "stream",
     "text": [
      "__getattr__\n"
     ]
    },
    {
     "data": {
      "text/plain": [
       "3.0"
      ]
     },
     "execution_count": 14,
     "metadata": {},
     "output_type": "execute_result"
    }
   ],
   "source": [
    "v.x"
   ]
  },
  {
   "cell_type": "code",
   "execution_count": 15,
   "metadata": {},
   "outputs": [
    {
     "name": "stdout",
     "output_type": "stream",
     "text": [
      "__getattr__\n"
     ]
    },
    {
     "ename": "AttributeError",
     "evalue": "'Vector' object has no attribute 'a'",
     "output_type": "error",
     "traceback": [
      "\u001b[1;31m---------------------------------------------------------------------------\u001b[0m",
      "\u001b[1;31mAttributeError\u001b[0m                            Traceback (most recent call last)",
      "\u001b[1;32m<ipython-input-15-bd111c48723f>\u001b[0m in \u001b[0;36m<module>\u001b[1;34m()\u001b[0m\n\u001b[1;32m----> 1\u001b[1;33m \u001b[0mv\u001b[0m\u001b[1;33m.\u001b[0m\u001b[0ma\u001b[0m\u001b[1;33m\u001b[0m\u001b[0m\n\u001b[0m",
      "\u001b[1;32m<ipython-input-7-4508e089fd60>\u001b[0m in \u001b[0;36m__getattr__\u001b[1;34m(self, name)\u001b[0m\n\u001b[0;32m     76\u001b[0m                 \u001b[1;32mreturn\u001b[0m \u001b[0mself\u001b[0m\u001b[1;33m.\u001b[0m\u001b[0m_components\u001b[0m\u001b[1;33m[\u001b[0m\u001b[0mpos\u001b[0m\u001b[1;33m]\u001b[0m\u001b[1;33m\u001b[0m\u001b[0m\n\u001b[0;32m     77\u001b[0m         \u001b[0mmsg\u001b[0m \u001b[1;33m=\u001b[0m \u001b[1;34m'{.__name__!r} object has no attribute {!r}'\u001b[0m\u001b[1;33m\u001b[0m\u001b[0m\n\u001b[1;32m---> 78\u001b[1;33m         \u001b[1;32mraise\u001b[0m \u001b[0mAttributeError\u001b[0m\u001b[1;33m(\u001b[0m\u001b[0mmsg\u001b[0m\u001b[1;33m.\u001b[0m\u001b[0mformat\u001b[0m\u001b[1;33m(\u001b[0m\u001b[0mcls\u001b[0m\u001b[1;33m,\u001b[0m \u001b[0mname\u001b[0m\u001b[1;33m)\u001b[0m\u001b[1;33m)\u001b[0m\u001b[1;33m\u001b[0m\u001b[0m\n\u001b[0m",
      "\u001b[1;31mAttributeError\u001b[0m: 'Vector' object has no attribute 'a'"
     ]
    }
   ],
   "source": [
    "v.a"
   ]
  },
  {
   "cell_type": "markdown",
   "metadata": {},
   "source": [
    "#### 値のAssignmentsは受け付けないようにしたい"
   ]
  },
  {
   "cell_type": "markdown",
   "metadata": {},
   "source": [
    "##### instanceに値を入れるとInstanceができるので、\\__getattr__は呼ばれなくなる\n",
    "\n",
    "Python calls \\__getattr__ as a fallback.  \n",
    "Now v.x is already set, so the v.x call does not go through \\__getattr_"
   ]
  },
  {
   "cell_type": "code",
   "execution_count": 19,
   "metadata": {},
   "outputs": [
    {
     "data": {
      "text/plain": [
       "10"
      ]
     },
     "execution_count": 19,
     "metadata": {},
     "output_type": "execute_result"
    }
   ],
   "source": [
    "v.x = 10\n",
    "v.x # print文が出てきていない"
   ]
  },
  {
   "cell_type": "markdown",
   "metadata": {},
   "source": [
    "##### 元のObjectは同じ"
   ]
  },
  {
   "cell_type": "code",
   "execution_count": 17,
   "metadata": {},
   "outputs": [
    {
     "name": "stdout",
     "output_type": "stream",
     "text": [
      "__getattr__\n",
      "__getattr__\n",
      "__getattr__\n",
      "__getattr__\n",
      "__getattr__\n",
      "__getattr__\n",
      "__getattr__\n",
      "__getattr__\n",
      "__getattr__\n",
      "__getattr__\n",
      "__getattr__\n",
      "__getattr__\n",
      "__getattr__\n",
      "__getattr__\n",
      "__getattr__\n",
      "__getattr__\n",
      "__getattr__\n",
      "__getattr__\n",
      "__getattr__\n",
      "__getattr__\n",
      "__getattr__\n",
      "__getattr__\n"
     ]
    },
    {
     "data": {
      "text/plain": [
       "Vector repr([0.0, 1.0, 2.0, 3.0, 4.0])"
      ]
     },
     "execution_count": 17,
     "metadata": {},
     "output_type": "execute_result"
    }
   ],
   "source": [
    "v"
   ]
  },
  {
   "cell_type": "markdown",
   "metadata": {},
   "source": [
    "#### \\__setattr__ でいくつかの座標をReadOnlyにする"
   ]
  },
  {
   "cell_type": "code",
   "execution_count": null,
   "metadata": {},
   "outputs": [],
   "source": [
    "def __setattr__(self, name, value):\n",
    "    print('__setattr__')\n",
    "    cls = type(self)\n",
    "\n",
    "    if len(name) == 1:  # if char is single\n",
    "        if name in cls.shortcut_names:  # if name is xyzt\n",
    "            error = 'readonly attributes {attr_name!r}'\n",
    "        elif name.islower():  # if other than xyzt\n",
    "            error = \"can't set attributes 'a' to 'z' in {cls_name!r}\"\n",
    "        else:  # otherwise set it blank\n",
    "            error = ''\n",
    "\n",
    "        if error:  # dealing with error\n",
    "            msg = error.format(cls_name=cls.__name__, attr_name=name)\n",
    "            raise AttributeError(msg)\n",
    "    # 何もおこらなかったときは上のクラスの挙動をSuper\n",
    "    super().__setattr__(name, value)"
   ]
  },
  {
   "cell_type": "code",
   "execution_count": 26,
   "metadata": {},
   "outputs": [
    {
     "name": "stdout",
     "output_type": "stream",
     "text": [
      "__setattr__\n"
     ]
    }
   ],
   "source": [
    "v = Vector(range(5))"
   ]
  },
  {
   "cell_type": "markdown",
   "metadata": {},
   "source": [
    "##### x,y,z,t はダメ"
   ]
  },
  {
   "cell_type": "code",
   "execution_count": 27,
   "metadata": {},
   "outputs": [
    {
     "name": "stdout",
     "output_type": "stream",
     "text": [
      "__setattr__\n"
     ]
    },
    {
     "ename": "AttributeError",
     "evalue": "readonly attributes 'x'",
     "output_type": "error",
     "traceback": [
      "\u001b[1;31m---------------------------------------------------------------------------\u001b[0m",
      "\u001b[1;31mAttributeError\u001b[0m                            Traceback (most recent call last)",
      "\u001b[1;32m<ipython-input-27-ab03a2bcc936>\u001b[0m in \u001b[0;36m<module>\u001b[1;34m()\u001b[0m\n\u001b[1;32m----> 1\u001b[1;33m \u001b[0mv\u001b[0m\u001b[1;33m.\u001b[0m\u001b[0mx\u001b[0m \u001b[1;33m=\u001b[0m \u001b[1;36m10\u001b[0m\u001b[1;33m\u001b[0m\u001b[0m\n\u001b[0m",
      "\u001b[1;32m<ipython-input-24-a58bdeb9bc89>\u001b[0m in \u001b[0;36m__setattr__\u001b[1;34m(self, name, value)\u001b[0m\n\u001b[0;32m     93\u001b[0m             \u001b[1;32mif\u001b[0m \u001b[0merror\u001b[0m\u001b[1;33m:\u001b[0m  \u001b[1;31m# dealing with error\u001b[0m\u001b[1;33m\u001b[0m\u001b[0m\n\u001b[0;32m     94\u001b[0m                 \u001b[0mmsg\u001b[0m \u001b[1;33m=\u001b[0m \u001b[0merror\u001b[0m\u001b[1;33m.\u001b[0m\u001b[0mformat\u001b[0m\u001b[1;33m(\u001b[0m\u001b[0mcls_name\u001b[0m\u001b[1;33m=\u001b[0m\u001b[0mcls\u001b[0m\u001b[1;33m.\u001b[0m\u001b[0m__name__\u001b[0m\u001b[1;33m,\u001b[0m \u001b[0mattr_name\u001b[0m\u001b[1;33m=\u001b[0m\u001b[0mname\u001b[0m\u001b[1;33m)\u001b[0m\u001b[1;33m\u001b[0m\u001b[0m\n\u001b[1;32m---> 95\u001b[1;33m                 \u001b[1;32mraise\u001b[0m \u001b[0mAttributeError\u001b[0m\u001b[1;33m(\u001b[0m\u001b[0mmsg\u001b[0m\u001b[1;33m)\u001b[0m\u001b[1;33m\u001b[0m\u001b[0m\n\u001b[0m\u001b[0;32m     96\u001b[0m         \u001b[1;31m# 何もおこらなかったときは上のクラスの挙動をSuper\u001b[0m\u001b[1;33m\u001b[0m\u001b[1;33m\u001b[0m\u001b[0m\n\u001b[0;32m     97\u001b[0m         \u001b[0msuper\u001b[0m\u001b[1;33m(\u001b[0m\u001b[1;33m)\u001b[0m\u001b[1;33m.\u001b[0m\u001b[0m__setattr__\u001b[0m\u001b[1;33m(\u001b[0m\u001b[0mname\u001b[0m\u001b[1;33m,\u001b[0m \u001b[0mvalue\u001b[0m\u001b[1;33m)\u001b[0m\u001b[1;33m\u001b[0m\u001b[0m\n",
      "\u001b[1;31mAttributeError\u001b[0m: readonly attributes 'x'"
     ]
    }
   ],
   "source": [
    "v.x = 10"
   ]
  },
  {
   "cell_type": "markdown",
   "metadata": {},
   "source": [
    "##### a to z もだめ"
   ]
  },
  {
   "cell_type": "code",
   "execution_count": 30,
   "metadata": {},
   "outputs": [
    {
     "name": "stdout",
     "output_type": "stream",
     "text": [
      "__setattr__\n"
     ]
    },
    {
     "ename": "AttributeError",
     "evalue": "can't set attributes 'a' to 'z' in 'Vector'",
     "output_type": "error",
     "traceback": [
      "\u001b[1;31m---------------------------------------------------------------------------\u001b[0m",
      "\u001b[1;31mAttributeError\u001b[0m                            Traceback (most recent call last)",
      "\u001b[1;32m<ipython-input-30-28ef958cb43b>\u001b[0m in \u001b[0;36m<module>\u001b[1;34m()\u001b[0m\n\u001b[1;32m----> 1\u001b[1;33m \u001b[0mv\u001b[0m\u001b[1;33m.\u001b[0m\u001b[0ma\u001b[0m \u001b[1;33m=\u001b[0m \u001b[1;36m10\u001b[0m\u001b[1;33m\u001b[0m\u001b[0m\n\u001b[0m",
      "\u001b[1;32m<ipython-input-24-a58bdeb9bc89>\u001b[0m in \u001b[0;36m__setattr__\u001b[1;34m(self, name, value)\u001b[0m\n\u001b[0;32m     93\u001b[0m             \u001b[1;32mif\u001b[0m \u001b[0merror\u001b[0m\u001b[1;33m:\u001b[0m  \u001b[1;31m# dealing with error\u001b[0m\u001b[1;33m\u001b[0m\u001b[0m\n\u001b[0;32m     94\u001b[0m                 \u001b[0mmsg\u001b[0m \u001b[1;33m=\u001b[0m \u001b[0merror\u001b[0m\u001b[1;33m.\u001b[0m\u001b[0mformat\u001b[0m\u001b[1;33m(\u001b[0m\u001b[0mcls_name\u001b[0m\u001b[1;33m=\u001b[0m\u001b[0mcls\u001b[0m\u001b[1;33m.\u001b[0m\u001b[0m__name__\u001b[0m\u001b[1;33m,\u001b[0m \u001b[0mattr_name\u001b[0m\u001b[1;33m=\u001b[0m\u001b[0mname\u001b[0m\u001b[1;33m)\u001b[0m\u001b[1;33m\u001b[0m\u001b[0m\n\u001b[1;32m---> 95\u001b[1;33m                 \u001b[1;32mraise\u001b[0m \u001b[0mAttributeError\u001b[0m\u001b[1;33m(\u001b[0m\u001b[0mmsg\u001b[0m\u001b[1;33m)\u001b[0m\u001b[1;33m\u001b[0m\u001b[0m\n\u001b[0m\u001b[0;32m     96\u001b[0m         \u001b[1;31m# 何もおこらなかったときは上のクラスの挙動をSuper\u001b[0m\u001b[1;33m\u001b[0m\u001b[1;33m\u001b[0m\u001b[0m\n\u001b[0;32m     97\u001b[0m         \u001b[0msuper\u001b[0m\u001b[1;33m(\u001b[0m\u001b[1;33m)\u001b[0m\u001b[1;33m.\u001b[0m\u001b[0m__setattr__\u001b[0m\u001b[1;33m(\u001b[0m\u001b[0mname\u001b[0m\u001b[1;33m,\u001b[0m \u001b[0mvalue\u001b[0m\u001b[1;33m)\u001b[0m\u001b[1;33m\u001b[0m\u001b[0m\n",
      "\u001b[1;31mAttributeError\u001b[0m: can't set attributes 'a' to 'z' in 'Vector'"
     ]
    }
   ],
   "source": [
    "v.a = 10"
   ]
  },
  {
   "cell_type": "markdown",
   "metadata": {},
   "source": [
    "##### AとかならOK"
   ]
  },
  {
   "cell_type": "code",
   "execution_count": 35,
   "metadata": {},
   "outputs": [
    {
     "name": "stdout",
     "output_type": "stream",
     "text": [
      "__setattr__\n"
     ]
    },
    {
     "data": {
      "text/plain": [
       "10"
      ]
     },
     "execution_count": 35,
     "metadata": {},
     "output_type": "execute_result"
    }
   ],
   "source": [
    "v.A = 10\n",
    "v.A"
   ]
  },
  {
   "cell_type": "markdown",
   "metadata": {},
   "source": [
    "#### Faster \\_\\_eq\\_\\_"
   ]
  },
  {
   "cell_type": "markdown",
   "metadata": {},
   "source": [
    "##### 現在は比較のためだけにTupleを作ってるので効率悪い"
   ]
  },
  {
   "cell_type": "code",
   "execution_count": null,
   "metadata": {},
   "outputs": [],
   "source": [
    "def __eq__(self, other):\n",
    "    return tuple(self) == tuple(other)"
   ]
  },
  {
   "cell_type": "markdown",
   "metadata": {},
   "source": [
    "##### ZIPを使う"
   ]
  },
  {
   "cell_type": "code",
   "execution_count": null,
   "metadata": {},
   "outputs": [],
   "source": [
    "def __eq__(self, other):\n",
    "    if len(self) != len(other):\n",
    "        return False\n",
    "    for a, b in zip(self, other):\n",
    "        if a != b:\n",
    "            return false\n",
    "    return True"
   ]
  },
  {
   "cell_type": "markdown",
   "metadata": {},
   "source": [
    "###### もっとかんたんに"
   ]
  },
  {
   "cell_type": "code",
   "execution_count": null,
   "metadata": {},
   "outputs": [],
   "source": [
    "def __eq__(self, other):\n",
    "    return len(self) == len(other) and all(a==b for a, b in zip(self, other))"
   ]
  },
  {
   "cell_type": "markdown",
   "metadata": {},
   "source": [
    "\n",
    "###### all()"
   ]
  },
  {
   "cell_type": "markdown",
   "metadata": {},
   "source": [
    "- all -> Return True if **all** elements of the iterable are true (or if the iterable is empty). Equivalent to:"
   ]
  },
  {
   "cell_type": "code",
   "execution_count": 42,
   "metadata": {},
   "outputs": [
    {
     "name": "stdout",
     "output_type": "stream",
     "text": [
      "True\n",
      "False\n"
     ]
    }
   ],
   "source": [
    "a_list = [2,4,6,8]\n",
    "b_list = [2,4,6,9]\n",
    "\n",
    "print(all(num % 2 == 0 for num in a_list))\n",
    "print(all(num % 2 == 0 for num in b_list))"
   ]
  },
  {
   "cell_type": "markdown",
   "metadata": {},
   "source": [
    "###### any()\n",
    "\n",
    "- any() => Return True if **any** element of the iterable is true. If the iterable is empty, return False. Equivalent to:\n",
    "\n"
   ]
  },
  {
   "cell_type": "code",
   "execution_count": 43,
   "metadata": {},
   "outputs": [
    {
     "name": "stdout",
     "output_type": "stream",
     "text": [
      "True\n",
      "True\n"
     ]
    }
   ],
   "source": [
    "a_list = [2,4,6,8]\n",
    "b_list = [2,4,6,9]\n",
    "\n",
    "print(any(num % 2 == 0 for num in a_list))\n",
    "print(any(num % 2 == 0 for num in b_list))"
   ]
  },
  {
   "cell_type": "markdown",
   "metadata": {},
   "source": [
    "#### ZIP\n",
    "\n",
    "##### RubyのZipと似てる"
   ]
  },
  {
   "cell_type": "markdown",
   "metadata": {},
   "source": [
    "###### Generatorを返す"
   ]
  },
  {
   "cell_type": "code",
   "execution_count": 45,
   "metadata": {},
   "outputs": [
    {
     "data": {
      "text/plain": [
       "<zip at 0x7fb7601cb4c8>"
      ]
     },
     "execution_count": 45,
     "metadata": {},
     "output_type": "execute_result"
    }
   ],
   "source": [
    "zip(range(3), 'ABC')"
   ]
  },
  {
   "cell_type": "markdown",
   "metadata": {},
   "source": [
    "###### Listにしてやると交互に出す"
   ]
  },
  {
   "cell_type": "code",
   "execution_count": 46,
   "metadata": {},
   "outputs": [
    {
     "data": {
      "text/plain": [
       "[(0, 'A'), (1, 'B'), (2, 'C')]"
      ]
     },
     "execution_count": 46,
     "metadata": {},
     "output_type": "execute_result"
    }
   ],
   "source": [
    "list(zip(range(3), 'ABC'))"
   ]
  },
  {
   "cell_type": "markdown",
   "metadata": {},
   "source": [
    "##### 値が足りないとそこで終わり、エラーはなし"
   ]
  },
  {
   "cell_type": "code",
   "execution_count": 47,
   "metadata": {},
   "outputs": [
    {
     "data": {
      "text/plain": [
       "[(0, 'A', 0), (1, 'B', 1), (2, 'C', 2)]"
      ]
     },
     "execution_count": 47,
     "metadata": {},
     "output_type": "execute_result"
    }
   ],
   "source": [
    "list(zip(range(3), 'ABC', [0, 1, 2, 3]))"
   ]
  },
  {
   "cell_type": "markdown",
   "metadata": {},
   "source": [
    "###### itertools.zip_longest は足りない値をFillできる"
   ]
  },
  {
   "cell_type": "code",
   "execution_count": 51,
   "metadata": {},
   "outputs": [
    {
     "data": {
      "text/plain": [
       "[(0, 'A', 0), (1, 'B', 1), (2, 'C', 2), ('@', '@', 3)]"
      ]
     },
     "execution_count": 51,
     "metadata": {},
     "output_type": "execute_result"
    }
   ],
   "source": [
    "from itertools import zip_longest\n",
    "\n",
    "list(\n",
    "    zip_longest(\n",
    "        range(3), 'ABC', [0, 1, 2, 3], fillvalue='@'\n",
    "    )\n",
    ")"
   ]
  },
  {
   "cell_type": "markdown",
   "metadata": {},
   "source": [
    "# Chpat 11 : Intefaces : Protocolst to ABC\n",
    "\n",
    "- ABCは何をするか? \n",
    "    - クラスのインスタンスメソッドを統一することで、アクセスしやすいクラスが作れる\n",
    "- 使い方\n",
    "    - 何らかのクラスを作るときに、すでにあるABCを継承するとわかりやすやすい\n",
    "    - Interfaceも決まってるので、使いやすい\n",
    "        - @abstractmedhod Decorator\n",
    "            - 定義されてるので継承したクラスのメソッドの定義忘れなどがわかる。\n",
    "        - \\_\\_subclasshook\\_\\_\n",
    "            - 継承したクラスのサブクラスも定義忘れを見てくれる\n",
    "    - IterとかAsyc用のIterとか予め定義してあるABCを継承してやると処理も効率的?\n",
    "    - 自分でABCを作るのはおすすめできない\n",
    "   "
   ]
  },
  {
   "cell_type": "markdown",
   "metadata": {},
   "source": [
    "## Alex Metelli's essay\n",
    "- duck typing\n",
    "  - ignoreing an object's actual type\n",
    "  - ensuring the object has certain method names, signatures, ....\n",
    "\n",
    "- for python avoid  **USING isinstance**. **USING type(xyz) is abc**\n",
    "\n",
    "- Just like classifying species, **FOCUSE ON OBSERVABLE TRAITS** \n",
    "\n",
    "- Drawbacks **accidental similarities** \n",
    "  - An artist DRAWs paints.\n",
    "  - A gunman DRAWs guns.\n",
    "  - You DRAW a lottery.\n",
    "  \n",
    "- goose typing -> it's ok to use isinstance(obj, cls) if cls is ABC\n",
    "\n",
    "- “goose typing,” \n",
    "  - inheriting from an ABC is more than implementing the required methods: it’s also a clear declaration of intent by the developer.  \n",
    "  \n",
    "- the use of isinstance and issubclass \n",
    "  - more acceptable to test against ABCs. \n",
    "  - (In the past, these functions worked against duck typing,) \n",
    "  - if a component does not implement an ABC by subclassing, it can always be registered\n",
    "\n",
    "- you should beware that excessive use of isinstance checks may be a code smel\n",
    "    - not OK to have a chain of if/elif/elif with insinstance checks\n",
    "    - you should be using polymorphism for that\n",
    "\n",
    "-  it’s usually OK to perform an insinstance check against an ABC\n",
    "\n",
    "\n"
   ]
  },
  {
   "cell_type": "markdown",
   "metadata": {},
   "source": [
    "## this is duck type\n",
    "\n",
    "something1.compute()  \n",
    "something1.output()\n",
    "\n",
    "## this is not\n",
    "\n",
    "```\n",
    "obj = something1\n",
    "\n",
    "if obj is something\n",
    "    obj.compute1()\n",
    "if obj is anything\n",
    "    obj.compute2()\n",
    "if obj is nothing\n",
    "    pass\n",
    ".....\n",
    "```"
   ]
  },
  {
   "cell_type": "markdown",
   "metadata": {},
   "source": [
    "- duck-typing\n",
    "    - A programming style which does not look at an object’s type to determine if it has the right interface\n",
    "    - instead, the method or attribute is simply called or used\n",
    "    - emphasizing interfaces rather than specific types,\n",
    "    - avoids tests using type() or isinstance(). "
   ]
  },
  {
   "cell_type": "markdown",
   "metadata": {},
   "source": [
    "## ABC example -- collections.Mutable --"
   ]
  },
  {
   "cell_type": "markdown",
   "metadata": {},
   "source": [
    "参考\n",
    "https://github.com/python/cpython/blob/master/Lib/_collections_abc.py"
   ]
  },
  {
   "cell_type": "code",
   "execution_count": 14,
   "metadata": {},
   "outputs": [],
   "source": [
    "import collections\n",
    "\n",
    "Card = collections.namedtuple('Card', ['rank', 'suit'])\n",
    "\n",
    "\n",
    "class FrenchDeck2(collections.MutableSequence):\n",
    "    ranks = [str(n) for n in range(2, 11)] + list('JQKA')\n",
    "    suits = '♠ ◆ ♣ ♥'.split()\n",
    "\n",
    "    def __init__(self):\n",
    "        self._cards = [Card(rank, suit)\n",
    "                       for suit in self.suits\n",
    "                       for rank in self.ranks]\n",
    "\n",
    "    def __len__(self):\n",
    "        return len(self._cards)\n",
    "\n",
    "    def __getitem__(self, position):\n",
    "        return self._cards[position]"
   ]
  },
  {
   "cell_type": "markdown",
   "metadata": {},
   "source": [
    "### 上の状態でInstantiateすると・・・\n",
    "\n",
    "interfaceの作り忘れを教えてくれる"
   ]
  },
  {
   "cell_type": "code",
   "execution_count": 18,
   "metadata": {},
   "outputs": [
    {
     "ename": "TypeError",
     "evalue": "Can't instantiate abstract class FrenchDeck2 with abstract methods __delitem__, __setitem__, insert",
     "output_type": "error",
     "traceback": [
      "\u001b[0;31m---------------------------------------------------------------------------\u001b[0m",
      "\u001b[0;31mTypeError\u001b[0m                                 Traceback (most recent call last)",
      "\u001b[0;32m<ipython-input-18-bc3fb4f188a0>\u001b[0m in \u001b[0;36m<module>\u001b[0;34m()\u001b[0m\n\u001b[0;32m----> 1\u001b[0;31m \u001b[0mdeck\u001b[0m \u001b[0;34m=\u001b[0m \u001b[0mFrenchDeck2\u001b[0m\u001b[0;34m(\u001b[0m\u001b[0;34m)\u001b[0m\u001b[0;34m\u001b[0m\u001b[0m\n\u001b[0m",
      "\u001b[0;31mTypeError\u001b[0m: Can't instantiate abstract class FrenchDeck2 with abstract methods __delitem__, __setitem__, insert"
     ]
    }
   ],
   "source": [
    "deck = FrenchDeck2()"
   ]
  },
  {
   "cell_type": "markdown",
   "metadata": {},
   "source": [
    "### Interface忘れがなくなる"
   ]
  },
  {
   "cell_type": "code",
   "execution_count": 25,
   "metadata": {},
   "outputs": [],
   "source": [
    "import collections\n",
    "\n",
    "Card = collections.namedtuple('Card', ['rank', 'suit'])\n",
    "\n",
    "\n",
    "class FrenchDeck2(collections.MutableSequence):\n",
    "    ranks = [str(n) for n in range(2, 11)] + list('JQKA')\n",
    "    suits = '♠ ◆ ♣ ♥'.split()\n",
    "\n",
    "    def __init__(self):\n",
    "        self._cards = [Card(rank, suit)\n",
    "                       for suit in self.suits\n",
    "                       for rank in self.ranks]\n",
    "\n",
    "    def __len__(self):\n",
    "        print('__len__')\n",
    "        return len(self._cards)\n",
    "\n",
    "    def __getitem__(self, position):\n",
    "        print(f'getting item {self._cards[position]}!!')\n",
    "        return self._cards[position]\n",
    "    \n",
    "    def __setitem__(self, position, value):\n",
    "        print(f'setting item {self._cards[position]}!!')\n",
    "        self._cards[position] = value\n",
    "        \n",
    "    def __delitem__(self, position):\n",
    "        print(f'deleting item {self._cards[position]}!!')\n",
    "        del self._cards[position]\n",
    "        \n",
    "    def insert(self, position, value):\n",
    "        print(f'inserting item {value}!!')\n",
    "        self._cards.insert(position, value)"
   ]
  },
  {
   "cell_type": "code",
   "execution_count": 26,
   "metadata": {},
   "outputs": [
    {
     "data": {
      "text/plain": [
       "<__main__.FrenchDeck2 at 0x7fe4a45a8b70>"
      ]
     },
     "execution_count": 26,
     "metadata": {},
     "output_type": "execute_result"
    }
   ],
   "source": [
    "deck = FrenchDeck2()\n",
    "deck"
   ]
  },
  {
   "cell_type": "code",
   "execution_count": 27,
   "metadata": {},
   "outputs": [
    {
     "name": "stdout",
     "output_type": "stream",
     "text": [
      "getting item Card(rank='3', suit='♠')!!\n"
     ]
    },
    {
     "data": {
      "text/plain": [
       "Card(rank='3', suit='♠')"
      ]
     },
     "execution_count": 27,
     "metadata": {},
     "output_type": "execute_result"
    }
   ],
   "source": [
    "deck[1]"
   ]
  },
  {
   "cell_type": "code",
   "execution_count": 28,
   "metadata": {},
   "outputs": [
    {
     "name": "stdout",
     "output_type": "stream",
     "text": [
      "setting item Card(rank='3', suit='♠')!!\n"
     ]
    }
   ],
   "source": [
    "deck[1] = Card(rank='4', suit='♠')"
   ]
  },
  {
   "cell_type": "code",
   "execution_count": 29,
   "metadata": {},
   "outputs": [
    {
     "name": "stdout",
     "output_type": "stream",
     "text": [
      "getting item Card(rank='4', suit='♠')!!\n"
     ]
    },
    {
     "data": {
      "text/plain": [
       "Card(rank='4', suit='♠')"
      ]
     },
     "execution_count": 29,
     "metadata": {},
     "output_type": "execute_result"
    }
   ],
   "source": [
    "deck[1]"
   ]
  },
  {
   "cell_type": "code",
   "execution_count": 30,
   "metadata": {},
   "outputs": [
    {
     "name": "stdout",
     "output_type": "stream",
     "text": [
      "deleting item Card(rank='4', suit='♠')!!\n"
     ]
    }
   ],
   "source": [
    "del deck[1]"
   ]
  },
  {
   "cell_type": "code",
   "execution_count": 31,
   "metadata": {},
   "outputs": [
    {
     "name": "stdout",
     "output_type": "stream",
     "text": [
      "getting item Card(rank='4', suit='♠')!!\n"
     ]
    },
    {
     "data": {
      "text/plain": [
       "Card(rank='4', suit='♠')"
      ]
     },
     "execution_count": 31,
     "metadata": {},
     "output_type": "execute_result"
    }
   ],
   "source": [
    "deck[1]"
   ]
  },
  {
   "cell_type": "code",
   "execution_count": 32,
   "metadata": {},
   "outputs": [
    {
     "name": "stdout",
     "output_type": "stream",
     "text": [
      "inserting item Card(rank='Joker', suit='Joker')!!\n"
     ]
    }
   ],
   "source": [
    "deck.insert(1, Card(rank='Joker', suit='Joker'))"
   ]
  },
  {
   "cell_type": "code",
   "execution_count": 33,
   "metadata": {},
   "outputs": [
    {
     "name": "stdout",
     "output_type": "stream",
     "text": [
      "getting item Card(rank='Joker', suit='Joker')!!\n"
     ]
    },
    {
     "data": {
      "text/plain": [
       "Card(rank='Joker', suit='Joker')"
      ]
     },
     "execution_count": 33,
     "metadata": {},
     "output_type": "execute_result"
    }
   ],
   "source": [
    "deck[1]"
   ]
  },
  {
   "cell_type": "markdown",
   "metadata": {},
   "source": [
    "### なんでこんなふうになってんの?"
   ]
  },
  {
   "cell_type": "markdown",
   "metadata": {},
   "source": [
    "@abstractmethod と継承"
   ]
  },
  {
   "cell_type": "code",
   "execution_count": null,
   "metadata": {},
   "outputs": [],
   "source": [
    "class MutableSequence(Sequence):\n",
    "\n",
    "    __slots__ = ()\n",
    "\n",
    "    \"\"\"All the operations on a read-write sequence.\n",
    "    Concrete subclasses must provide __new__ or __init__,\n",
    "    __getitem__, __setitem__, __delitem__, __len__, and insert().\n",
    "    \"\"\"\n",
    "\n",
    "    @abstractmethod\n",
    "    def __setitem__(self, index, value):\n",
    "        raise IndexError\n",
    "\n",
    "    @abstractmethod\n",
    "    def __delitem__(self, index):\n",
    "        raise IndexError\n",
    "\n",
    "    @abstractmethod\n",
    "    def insert(self, index, value):\n",
    "        'S.insert(index, value) -- insert value before index'\n",
    "        raise IndexError\n",
    "\n",
    "    def append(self, value):\n",
    "        'S.append(value) -- append value to the end of the sequence'\n",
    "        self.insert(len(self), value)\n",
    "\n",
    "    def clear(self):\n",
    "        'S.clear() -> None -- remove all items from S'\n",
    "        try:\n",
    "            while True:\n",
    "                self.pop()\n",
    "        except IndexError:\n",
    "            pass\n",
    "\n",
    "    def reverse(self):\n",
    "        'S.reverse() -- reverse *IN PLACE*'\n",
    "        n = len(self)\n",
    "        for i in range(n//2):\n",
    "            self[i], self[n-i-1] = self[n-i-1], self[i]\n",
    "\n",
    "    def extend(self, values):\n",
    "        'S.extend(iterable) -- extend sequence by appending elements from the iterable'\n",
    "        for v in values:\n",
    "            self.append(v)\n",
    "\n",
    "    def pop(self, index=-1):\n",
    "        '''S.pop([index]) -> item -- remove and return item at index (default last).\n",
    "           Raise IndexError if list is empty or index is out of range.\n",
    "        '''\n",
    "        v = self[index]\n",
    "        del self[index]\n",
    "        return v\n",
    "\n",
    "    def remove(self, value):\n",
    "        '''S.remove(value) -- remove first occurrence of value.\n",
    "           Raise ValueError if the value is not present.\n",
    "        '''\n",
    "        del self[self.index(value)]\n",
    "\n",
    "    def __iadd__(self, values):\n",
    "        self.extend(values)\n",
    "        return self"
   ]
  },
  {
   "cell_type": "markdown",
   "metadata": {},
   "source": [
    "### どういう継承図なの?"
   ]
  },
  {
   "cell_type": "code",
   "execution_count": 35,
   "metadata": {},
   "outputs": [
    {
     "data": {
      "text/plain": [
       "(__main__.FrenchDeck2,\n",
       " collections.abc.MutableSequence,\n",
       " collections.abc.Sequence,\n",
       " collections.abc.Reversible,\n",
       " collections.abc.Collection,\n",
       " collections.abc.Sized,\n",
       " collections.abc.Iterable,\n",
       " collections.abc.Container,\n",
       " object)"
      ]
     },
     "execution_count": 35,
     "metadata": {},
     "output_type": "execute_result"
    }
   ],
   "source": [
    "import inspect\n",
    "inspect.getmro(FrenchDeck2)"
   ]
  },
  {
   "cell_type": "markdown",
   "metadata": {},
   "source": [
    "## ABCs in the Standard Library"
   ]
  },
  {
   "cell_type": "markdown",
   "metadata": {},
   "source": [
    "collections.abc -> abc in the standard lib (_collections_abc.py)  \n",
    "abc.ABC -> Every ABC depends on it but not needed normally (lib/abc.py)\n",
    "\n",
    "あとはnumber とか  https://docs.python.org/3/library/numbers.html"
   ]
  },
  {
   "cell_type": "markdown",
   "metadata": {},
   "source": [
    "### isinstance も使った具体例"
   ]
  },
  {
   "cell_type": "code",
   "execution_count": 2,
   "metadata": {},
   "outputs": [],
   "source": [
    "from abc import ABCMeta, abstractmethod\n",
    "\n",
    "class Animal(metaclass=ABCMeta):\n",
    "    @abstractmethod\n",
    "    def sound(self):\n",
    "        pass\n",
    "\n",
    "class Cat(Animal):\n",
    "    def sound(self):\n",
    "        print('にゃー')\n",
    "\n",
    "class Dog():\n",
    "    def sound(self):\n",
    "        print('わん')\n",
    "\n",
    "# 継承してなくても、これでVirtual subclassに登録できる\n",
    "Animal.register(Dog)\n",
    "\n",
    "class Book():\n",
    "    pass\n",
    "\n",
    "def bark(obj):\n",
    "    obj.sound()"
   ]
  },
  {
   "cell_type": "markdown",
   "metadata": {},
   "source": [
    "#### sound がない場合はエラーが出る"
   ]
  },
  {
   "cell_type": "markdown",
   "metadata": {},
   "source": [
    "- 全部にABCを継承させるか\n",
    "- isinstance でちぇっくするか"
   ]
  },
  {
   "cell_type": "code",
   "execution_count": 3,
   "metadata": {},
   "outputs": [],
   "source": [
    "c = Cat()\n",
    "d = Dog()\n",
    "b = Book()"
   ]
  },
  {
   "cell_type": "code",
   "execution_count": 4,
   "metadata": {},
   "outputs": [
    {
     "name": "stdout",
     "output_type": "stream",
     "text": [
      "にゃー\n",
      "わん\n"
     ]
    },
    {
     "ename": "AttributeError",
     "evalue": "'Book' object has no attribute 'sound'",
     "output_type": "error",
     "traceback": [
      "\u001b[0;31m---------------------------------------------------------------------------\u001b[0m",
      "\u001b[0;31mAttributeError\u001b[0m                            Traceback (most recent call last)",
      "\u001b[0;32m<ipython-input-4-6f1f2956a1a7>\u001b[0m in \u001b[0;36m<module>\u001b[0;34m()\u001b[0m\n\u001b[1;32m      1\u001b[0m \u001b[0mbark\u001b[0m\u001b[0;34m(\u001b[0m\u001b[0mc\u001b[0m\u001b[0;34m)\u001b[0m\u001b[0;34m\u001b[0m\u001b[0m\n\u001b[1;32m      2\u001b[0m \u001b[0mbark\u001b[0m\u001b[0;34m(\u001b[0m\u001b[0md\u001b[0m\u001b[0;34m)\u001b[0m\u001b[0;34m\u001b[0m\u001b[0m\n\u001b[0;32m----> 3\u001b[0;31m \u001b[0mbark\u001b[0m\u001b[0;34m(\u001b[0m\u001b[0mb\u001b[0m\u001b[0;34m)\u001b[0m\u001b[0;34m\u001b[0m\u001b[0m\n\u001b[0m",
      "\u001b[0;32m<ipython-input-2-0d477de12d72>\u001b[0m in \u001b[0;36mbark\u001b[0;34m(obj)\u001b[0m\n\u001b[1;32m     21\u001b[0m \u001b[0;34m\u001b[0m\u001b[0m\n\u001b[1;32m     22\u001b[0m \u001b[0;32mdef\u001b[0m \u001b[0mbark\u001b[0m\u001b[0;34m(\u001b[0m\u001b[0mobj\u001b[0m\u001b[0;34m)\u001b[0m\u001b[0;34m:\u001b[0m\u001b[0;34m\u001b[0m\u001b[0m\n\u001b[0;32m---> 23\u001b[0;31m     \u001b[0mobj\u001b[0m\u001b[0;34m.\u001b[0m\u001b[0msound\u001b[0m\u001b[0;34m(\u001b[0m\u001b[0;34m)\u001b[0m\u001b[0;34m\u001b[0m\u001b[0m\n\u001b[0m",
      "\u001b[0;31mAttributeError\u001b[0m: 'Book' object has no attribute 'sound'"
     ]
    }
   ],
   "source": [
    "bark(c)\n",
    "bark(d)\n",
    "bark(b)"
   ]
  },
  {
   "cell_type": "markdown",
   "metadata": {},
   "source": [
    "##### isinstanceを使ってみる"
   ]
  },
  {
   "cell_type": "code",
   "execution_count": 12,
   "metadata": {},
   "outputs": [],
   "source": [
    "def bark2(obj):\n",
    "    if not isinstance(obj, Animal):\n",
    "        print('ーー鳴き声はありませんーー')\n",
    "    else:\n",
    "        obj.sound()"
   ]
  },
  {
   "cell_type": "code",
   "execution_count": 13,
   "metadata": {},
   "outputs": [
    {
     "name": "stdout",
     "output_type": "stream",
     "text": [
      "にゃー\n",
      "わん\n",
      "ーー鳴き声はありませんーー\n"
     ]
    }
   ],
   "source": [
    "bark2(c)\n",
    "bark2(d)\n",
    "bark2(b)"
   ]
  },
  {
   "cell_type": "markdown",
   "metadata": {},
   "source": [
    "##### hasattrでもいい"
   ]
  },
  {
   "cell_type": "code",
   "execution_count": 14,
   "metadata": {},
   "outputs": [],
   "source": [
    "def bark3(obj):\n",
    "    if not hasattr(obj, 'sound'):\n",
    "        print('ーー鳴き声はありませんーー')\n",
    "    else:\n",
    "        obj.sound()"
   ]
  },
  {
   "cell_type": "code",
   "execution_count": 15,
   "metadata": {},
   "outputs": [
    {
     "name": "stdout",
     "output_type": "stream",
     "text": [
      "にゃー\n",
      "わん\n",
      "ーー鳴き声はありませんーー\n"
     ]
    }
   ],
   "source": [
    "bark3(c)\n",
    "bark3(d)\n",
    "bark3(b)"
   ]
  },
  {
   "cell_type": "markdown",
   "metadata": {},
   "source": [
    "参考: https://pymotw.com/3/abc/index.html  \n",
    "参考:  https://qiita.com/kaneshin/items/269bc5f156d86f8a91c4  \n",
    "公式Doc: https://docs.python.org/3/library/abc.html  \n",
    "Iterator, Generator : https://qiita.com/knknkn1162/items/17f7f370a2cc27f812ee   "
   ]
  },
  {
   "cell_type": "markdown",
   "metadata": {},
   "source": [
    "# chap 12 - Inheritance"
   ]
  },
  {
   "cell_type": "markdown",
   "metadata": {},
   "source": [
    "## DictをSubclassしてもうまく動かない例\n",
    "\n",
    "built-in type はsubclassしてもうまく動かない。  \n",
    "built-in method は勝手に定義した関数を無視するように作られているから"
   ]
  },
  {
   "cell_type": "code",
   "execution_count": 13,
   "metadata": {},
   "outputs": [],
   "source": [
    "class DoppleDict(dict):\n",
    "    def __setitem__(self, key, value):\n",
    "        super().__setitem__(key, 'VALUE OVERRIDDEN!!')"
   ]
  },
  {
   "cell_type": "markdown",
   "metadata": {},
   "source": [
    "### setitemが動かない"
   ]
  },
  {
   "cell_type": "markdown",
   "metadata": {},
   "source": [
    "####  \\_\\_init\\_\\_ はsetitemを無視する"
   ]
  },
  {
   "cell_type": "code",
   "execution_count": 14,
   "metadata": {},
   "outputs": [
    {
     "data": {
      "text/plain": [
       "{'one': 1}"
      ]
     },
     "execution_count": 14,
     "metadata": {},
     "output_type": "execute_result"
    }
   ],
   "source": [
    "dd = DoppleDict(one=1)\n",
    "dd"
   ]
  },
  {
   "cell_type": "markdown",
   "metadata": {},
   "source": [
    "#### この場合はうまく動く"
   ]
  },
  {
   "cell_type": "code",
   "execution_count": 15,
   "metadata": {},
   "outputs": [
    {
     "data": {
      "text/plain": [
       "{'one': 1, 'two': 'VALUE OVERRIDDEN!!'}"
      ]
     },
     "execution_count": 15,
     "metadata": {},
     "output_type": "execute_result"
    }
   ],
   "source": [
    "dd['two'] = 2\n",
    "dd"
   ]
  },
  {
   "cell_type": "markdown",
   "metadata": {},
   "source": [
    "#### update はsetitemを使ってくれない"
   ]
  },
  {
   "cell_type": "code",
   "execution_count": 16,
   "metadata": {},
   "outputs": [
    {
     "data": {
      "text/plain": [
       "{'one': 1, 'two': 'VALUE OVERRIDDEN!!', 'three': 3}"
      ]
     },
     "execution_count": 16,
     "metadata": {},
     "output_type": "execute_result"
    }
   ],
   "source": [
    "dd.update(three=3)\n",
    "dd"
   ]
  },
  {
   "cell_type": "markdown",
   "metadata": {},
   "source": [
    "### getitemが動かない"
   ]
  },
  {
   "cell_type": "code",
   "execution_count": null,
   "metadata": {},
   "outputs": [],
   "source": [
    "class AnserDict(dict):\n",
    "    def __getitem__(self, key):\n",
    "        return 42"
   ]
  },
  {
   "cell_type": "markdown",
   "metadata": {},
   "source": [
    "#### うごく"
   ]
  },
  {
   "cell_type": "code",
   "execution_count": 17,
   "metadata": {},
   "outputs": [
    {
     "data": {
      "text/plain": [
       "42"
      ]
     },
     "execution_count": 17,
     "metadata": {},
     "output_type": "execute_result"
    }
   ],
   "source": [
    "ad = AnserDict(a='foo')\n",
    "ad['a']"
   ]
  },
  {
   "cell_type": "markdown",
   "metadata": {},
   "source": [
    "#### 動かない、getitemを無視する"
   ]
  },
  {
   "cell_type": "code",
   "execution_count": 20,
   "metadata": {},
   "outputs": [
    {
     "data": {
      "text/plain": [
       "'foo'"
      ]
     },
     "execution_count": 20,
     "metadata": {},
     "output_type": "execute_result"
    }
   ],
   "source": [
    "d = {}\n",
    "d.update(ad)\n",
    "d['a']"
   ]
  },
  {
   "cell_type": "markdown",
   "metadata": {},
   "source": [
    "## collection.UserDictをつかう"
   ]
  },
  {
   "cell_type": "markdown",
   "metadata": {},
   "source": [
    "### setitemをちゃんと使ってくれる"
   ]
  },
  {
   "cell_type": "code",
   "execution_count": 22,
   "metadata": {},
   "outputs": [],
   "source": [
    "import collections\n",
    "\n",
    "class DoppelDict2(collections.UserDict):\n",
    "    def __setitem__(self, key, value):\n",
    "        super().__setitem__(key, \"VALUE OVERRIDDEN!!\")"
   ]
  },
  {
   "cell_type": "code",
   "execution_count": 23,
   "metadata": {},
   "outputs": [
    {
     "data": {
      "text/plain": [
       "{'one': 'VALUE OVERRIDDEN!!'}"
      ]
     },
     "execution_count": 23,
     "metadata": {},
     "output_type": "execute_result"
    }
   ],
   "source": [
    "dd = DoppelDict2(one=1)\n",
    "dd"
   ]
  },
  {
   "cell_type": "code",
   "execution_count": 24,
   "metadata": {},
   "outputs": [
    {
     "data": {
      "text/plain": [
       "{'one': 'VALUE OVERRIDDEN!!', 'two': 'VALUE OVERRIDDEN!!'}"
      ]
     },
     "execution_count": 24,
     "metadata": {},
     "output_type": "execute_result"
    }
   ],
   "source": [
    "dd['two'] = 2\n",
    "dd"
   ]
  },
  {
   "cell_type": "code",
   "execution_count": 25,
   "metadata": {},
   "outputs": [
    {
     "data": {
      "text/plain": [
       "{'one': 'VALUE OVERRIDDEN!!', 'two': 'VALUE OVERRIDDEN!!', 'three': 'VALUE OVERRIDDEN!!'}"
      ]
     },
     "execution_count": 25,
     "metadata": {},
     "output_type": "execute_result"
    }
   ],
   "source": [
    "dd.update(three=3)\n",
    "dd"
   ]
  },
  {
   "cell_type": "markdown",
   "metadata": {},
   "source": [
    "### getitemをちゃんと使ってくれる"
   ]
  },
  {
   "cell_type": "code",
   "execution_count": 26,
   "metadata": {},
   "outputs": [],
   "source": [
    "import collections\n",
    "\n",
    "class AnserDict(collections.UserDict):\n",
    "    def __getitem__(self, key):\n",
    "        return 42"
   ]
  },
  {
   "cell_type": "code",
   "execution_count": 27,
   "metadata": {},
   "outputs": [
    {
     "data": {
      "text/plain": [
       "42"
      ]
     },
     "execution_count": 27,
     "metadata": {},
     "output_type": "execute_result"
    }
   ],
   "source": [
    "ad = AnserDict(a='foo')\n",
    "ad['a']"
   ]
  },
  {
   "cell_type": "code",
   "execution_count": 30,
   "metadata": {},
   "outputs": [
    {
     "data": {
      "text/plain": [
       "42"
      ]
     },
     "execution_count": 30,
     "metadata": {},
     "output_type": "execute_result"
    }
   ],
   "source": [
    "d = {}\n",
    "d.update(ad)\n",
    "d['a']"
   ]
  },
  {
   "cell_type": "code",
   "execution_count": 31,
   "metadata": {},
   "outputs": [
    {
     "data": {
      "text/plain": [
       "{'a': 42}"
      ]
     },
     "execution_count": 31,
     "metadata": {},
     "output_type": "execute_result"
    }
   ],
   "source": [
    "d"
   ]
  },
  {
   "cell_type": "markdown",
   "metadata": {},
   "source": [
    "## Diamond Inheritance"
   ]
  },
  {
   "cell_type": "code",
   "execution_count": 24,
   "metadata": {},
   "outputs": [],
   "source": [
    "class A:\n",
    "    def ping(self):\n",
    "        print('ping of A', self)\n",
    "        print('----')\n",
    "\n",
    "class B(A):\n",
    "    def pong(self):\n",
    "        print('pong of B', self)\n",
    "        print('====')\n",
    "        \n",
    "class C(A):\n",
    "    def pong(self):\n",
    "        print('pong of C', self)\n",
    "        print('****')\n",
    "\n",
    "class D(B,C):\n",
    "    def ping(self):\n",
    "        super().ping()\n",
    "        print('post-ping', self)\n",
    "        print('@@@@')\n",
    "  \n",
    "\n",
    "    def super_ping(self):\n",
    "        self.ping()\n",
    "        super().ping()\n",
    "    \n",
    "    def super_pong(self):\n",
    "        self.pong()\n",
    "        super().pong()\n",
    "    \n",
    "    def c_pong(self):\n",
    "        C.pong(self)"
   ]
  },
  {
   "cell_type": "markdown",
   "metadata": {},
   "source": [
    "### D のPONGを実行するとBからくる"
   ]
  },
  {
   "cell_type": "code",
   "execution_count": 25,
   "metadata": {},
   "outputs": [
    {
     "name": "stdout",
     "output_type": "stream",
     "text": [
      "pong of B <__main__.D object at 0x7fae042d3208>\n",
      "====\n"
     ]
    }
   ],
   "source": [
    "d = D()\n",
    "d.pong()"
   ]
  },
  {
   "cell_type": "markdown",
   "metadata": {},
   "source": [
    "### Cを実行したいときはこうする"
   ]
  },
  {
   "cell_type": "code",
   "execution_count": 26,
   "metadata": {},
   "outputs": [
    {
     "name": "stdout",
     "output_type": "stream",
     "text": [
      "pong of C <__main__.D object at 0x7fae042d3208>\n",
      "****\n"
     ]
    }
   ],
   "source": [
    "C.pong(d)"
   ]
  },
  {
   "cell_type": "markdown",
   "metadata": {},
   "source": [
    "### pingはAからくる"
   ]
  },
  {
   "cell_type": "code",
   "execution_count": 27,
   "metadata": {},
   "outputs": [
    {
     "name": "stdout",
     "output_type": "stream",
     "text": [
      "ping of A <__main__.D object at 0x7fae042d3208>\n",
      "----\n",
      "post-ping <__main__.D object at 0x7fae042d3208>\n",
      "@@@@\n"
     ]
    }
   ],
   "source": [
    "d.ping()"
   ]
  },
  {
   "cell_type": "markdown",
   "metadata": {},
   "source": [
    "### superとの関係"
   ]
  },
  {
   "cell_type": "code",
   "execution_count": 28,
   "metadata": {},
   "outputs": [
    {
     "name": "stdout",
     "output_type": "stream",
     "text": [
      "ping of A <__main__.D object at 0x7fae042d3208>\n",
      "----\n",
      "post-ping <__main__.D object at 0x7fae042d3208>\n",
      "@@@@\n",
      "ping of A <__main__.D object at 0x7fae042d3208>\n",
      "----\n"
     ]
    }
   ],
   "source": [
    "d.super_ping()"
   ]
  },
  {
   "cell_type": "code",
   "execution_count": 29,
   "metadata": {},
   "outputs": [
    {
     "name": "stdout",
     "output_type": "stream",
     "text": [
      "pong of B <__main__.D object at 0x7fae042d3208>\n",
      "====\n",
      "pong of B <__main__.D object at 0x7fae042d3208>\n",
      "====\n"
     ]
    }
   ],
   "source": [
    "d.super_pong()"
   ]
  },
  {
   "cell_type": "code",
   "execution_count": 30,
   "metadata": {},
   "outputs": [
    {
     "name": "stdout",
     "output_type": "stream",
     "text": [
      "pong of C <__main__.D object at 0x7fae042d3208>\n",
      "****\n"
     ]
    }
   ],
   "source": [
    "d.c_pong()"
   ]
  },
  {
   "cell_type": "markdown",
   "metadata": {},
   "source": [
    "### 探索の順番はどうなってるか"
   ]
  },
  {
   "cell_type": "code",
   "execution_count": 54,
   "metadata": {},
   "outputs": [
    {
     "data": {
      "text/plain": [
       "(__main__.D, __main__.B, __main__.C, __main__.A, object)"
      ]
     },
     "execution_count": 54,
     "metadata": {},
     "output_type": "execute_result"
    }
   ],
   "source": [
    "D.__mro__"
   ]
  },
  {
   "cell_type": "markdown",
   "metadata": {},
   "source": [
    "P355"
   ]
  },
  {
   "cell_type": "markdown",
   "metadata": {},
   "source": [
    "\n",
    "\n",
    "\n",
    "## “Favor Object Composition Over Class Inheritance.”"
   ]
  },
  {
   "cell_type": "markdown",
   "metadata": {},
   "source": [
    "### composition"
   ]
  },
  {
   "cell_type": "code",
   "execution_count": 39,
   "metadata": {},
   "outputs": [
    {
     "name": "stdout",
     "output_type": "stream",
     "text": [
      "Total: 1210\n"
     ]
    }
   ],
   "source": [
    "class Salary:\n",
    "    def __init__(self,pay):\n",
    "        self.pay=pay\n",
    "\n",
    "    def get_total(self):\n",
    "       return (self.pay*12)\n",
    "\n",
    "    def increase(self):\n",
    "        self.pay *= 1.1\n",
    "\n",
    "\n",
    "class Employee():\n",
    "    def __init__(self,pay,bonus):\n",
    "        self.pay=pay\n",
    "        self.bonus=bonus\n",
    "        self.obj_salary=Salary(self.pay)\n",
    "\n",
    "    def annual_salary(self):\n",
    "        return \"Total: \"  +  str(self.obj_salary.get_total()+self.bonus)\n",
    "\n",
    "\n",
    "obj_emp=Employee(100,10)\n",
    "print (obj_emp.annual_salary())"
   ]
  },
  {
   "cell_type": "markdown",
   "metadata": {},
   "source": [
    "### composition and inheritance"
   ]
  },
  {
   "cell_type": "code",
   "execution_count": 122,
   "metadata": {},
   "outputs": [],
   "source": [
    "from abc import ABCMeta, abstractmethod\n",
    "\n",
    "class Salary:\n",
    "    def __init__(self,pay):\n",
    "        self.pay=pay\n",
    "\n",
    "    def get_total(self):\n",
    "       return (self.pay*12)\n",
    "\n",
    "    def increase(self):\n",
    "        self.pay *= 1.1\n",
    "\n",
    "\n",
    "class Employee(metaclass=ABCMeta):\n",
    "    def __init__(self,pay,bonus, name):\n",
    "        self.pay=pay\n",
    "        self.bonus=bonus\n",
    "        self.obj_salary=Salary(self.pay)        \n",
    "        self.name=name\n",
    "        \n",
    "    @abstractmethod\n",
    "    def annual_salary(self):\n",
    "        return \"Total: \"  +  str(self.obj_salary.get_total()+self.bonus)\n",
    "    \n",
    "    @abstractmethod\n",
    "    def katagaki(self):\n",
    "        print(f'{self.name}社員')\n",
    "    \n",
    "\n",
    "class Bucho(Employee):\n",
    "    def __init__(self,pay,bonus, name):\n",
    "        super().__init__(pay, bonus, name)\n",
    "    def annual_salary(self):\n",
    "        print(f\"年棒は{(self.obj_salary.get_total()+self.bonus)}円とどんぐり三個です\")\n",
    "        \n",
    "    def katagaki(self):\n",
    "        print(f'{self.name}部長')\n",
    "        \n",
    "class Shacho(Employee):\n",
    "    def __init__(self, pay, bonus, name):\n",
    "        super().__init__(pay, bonus, name)\n",
    "\n",
    "    def annual_salary(self):\n",
    "        print(f\"年棒は蛇の抜け殻一枚です\")\n",
    "        \n",
    "    def katagaki(self):\n",
    "        print(f'{self.name}代表戸締役')\n",
    "            "
   ]
  },
  {
   "cell_type": "code",
   "execution_count": 123,
   "metadata": {},
   "outputs": [],
   "source": [
    "bc = Bucho(pay=100, bonus=1000, name='あああ')"
   ]
  },
  {
   "cell_type": "code",
   "execution_count": 124,
   "metadata": {},
   "outputs": [
    {
     "name": "stdout",
     "output_type": "stream",
     "text": [
      "あああ部長\n"
     ]
    }
   ],
   "source": [
    "bc.katagaki()"
   ]
  },
  {
   "cell_type": "code",
   "execution_count": 125,
   "metadata": {},
   "outputs": [
    {
     "name": "stdout",
     "output_type": "stream",
     "text": [
      "年棒は2200円とどんぐり三個です\n"
     ]
    }
   ],
   "source": [
    "bc.annual_salary()"
   ]
  },
  {
   "cell_type": "code",
   "execution_count": 126,
   "metadata": {},
   "outputs": [],
   "source": [
    "sc = Shacho(pay=0, bonus=0, name='いいい')"
   ]
  },
  {
   "cell_type": "code",
   "execution_count": 127,
   "metadata": {},
   "outputs": [
    {
     "name": "stdout",
     "output_type": "stream",
     "text": [
      "年棒は蛇の抜け殻一枚です\n"
     ]
    }
   ],
   "source": [
    "sc.annual_salary()"
   ]
  },
  {
   "cell_type": "markdown",
   "metadata": {},
   "source": [
    "# Chap 13 - Operator Overloading"
   ]
  },
  {
   "cell_type": "markdown",
   "metadata": {},
   "source": [
    "- We cannot overload operators for the built-in types.\n",
    "- We cannot create new operators, only overload existing ones.\n",
    "- A few operators can’t be overloaded: is, and, or, not (but the bitwise &, |, ~, can)."
   ]
  },
  {
   "cell_type": "markdown",
   "metadata": {},
   "source": [
    "- Unary operators  \n",
    "「-」 → __neg__  \n",
    "「+」 → __pos__  \n",
    "「~」 → __invert__  "
   ]
  },
  {
   "cell_type": "code",
   "execution_count": 187,
   "metadata": {},
   "outputs": [],
   "source": [
    "import itertools\n",
    "\n",
    "\n",
    "class Numbers:\n",
    "\n",
    "    def __init__(self, numbers):\n",
    "        self.numbers = numbers\n",
    "\n",
    "    def __neg__(self):\n",
    "        return [i * -1 for i in self.numbers]\n",
    "\n",
    "    def __add__(self, other):\n",
    "        zipped = itertools.zip_longest(\n",
    "            self.numbers, other.numbers, fillvalue=0.0)\n",
    "        return [n + m for n, m in zipped]\n",
    "\n",
    "\n",
    "class NumbersNoAdds:\n",
    "\n",
    "    def __init__(self, numbers):\n",
    "        self.numbers = numbers\n",
    "\n",
    "\n",
    "class NumbersRAdd:\n",
    "\n",
    "    def __init__(self, numbers):\n",
    "        self.numbers = numbers\n",
    "\n",
    "    def __radd__(self, other):\n",
    "        zipped = itertools.zip_longest(\n",
    "            self.numbers, other.numbers, fillvalue=0.0)\n",
    "        return [n + m for n, m in zipped]"
   ]
  },
  {
   "cell_type": "markdown",
   "metadata": {},
   "source": [
    "## \\_\\_neg\\_\\_"
   ]
  },
  {
   "cell_type": "code",
   "execution_count": 188,
   "metadata": {},
   "outputs": [
    {
     "data": {
      "text/plain": [
       "[-1, -2, -3, -4]"
      ]
     },
     "execution_count": 188,
     "metadata": {},
     "output_type": "execute_result"
    }
   ],
   "source": [
    "n = Numbers([1, 2, 3, 4])\n",
    "-n"
   ]
  },
  {
   "cell_type": "markdown",
   "metadata": {},
   "source": [
    "## \\_\\_add\\_\\_"
   ]
  },
  {
   "cell_type": "code",
   "execution_count": 189,
   "metadata": {},
   "outputs": [
    {
     "data": {
      "text/plain": [
       "[3, 4, 5, 6]"
      ]
     },
     "execution_count": 189,
     "metadata": {},
     "output_type": "execute_result"
    }
   ],
   "source": [
    "n = Numbers([1, 2, 3, 4])\n",
    "m = Numbers([2,2,2,2])\n",
    "\n",
    "n + m"
   ]
  },
  {
   "cell_type": "markdown",
   "metadata": {},
   "source": [
    "###  Notimplemented なケース"
   ]
  },
  {
   "cell_type": "markdown",
   "metadata": {},
   "source": [
    "#### 両方ないのはそりゃあだめ, TypeError"
   ]
  },
  {
   "cell_type": "code",
   "execution_count": 190,
   "metadata": {},
   "outputs": [
    {
     "ename": "TypeError",
     "evalue": "unsupported operand type(s) for +: 'NumbersNoAdds' and 'NumbersNoAdds'",
     "output_type": "error",
     "traceback": [
      "\u001b[0;31m---------------------------------------------------------------------------\u001b[0m",
      "\u001b[0;31mTypeError\u001b[0m                                 Traceback (most recent call last)",
      "\u001b[0;32m<ipython-input-190-952a03b73b7d>\u001b[0m in \u001b[0;36m<module>\u001b[0;34m()\u001b[0m\n\u001b[1;32m      2\u001b[0m \u001b[0mm\u001b[0m \u001b[0;34m=\u001b[0m \u001b[0mNumbersNoAdds\u001b[0m\u001b[0;34m(\u001b[0m\u001b[0;34m[\u001b[0m\u001b[0;36m2\u001b[0m\u001b[0;34m,\u001b[0m\u001b[0;36m2\u001b[0m\u001b[0;34m,\u001b[0m\u001b[0;36m2\u001b[0m\u001b[0;34m,\u001b[0m\u001b[0;36m2\u001b[0m\u001b[0;34m]\u001b[0m\u001b[0;34m)\u001b[0m\u001b[0;34m\u001b[0m\u001b[0m\n\u001b[1;32m      3\u001b[0m \u001b[0;34m\u001b[0m\u001b[0m\n\u001b[0;32m----> 4\u001b[0;31m \u001b[0mn\u001b[0m \u001b[0;34m+\u001b[0m \u001b[0mm\u001b[0m\u001b[0;34m\u001b[0m\u001b[0m\n\u001b[0m",
      "\u001b[0;31mTypeError\u001b[0m: unsupported operand type(s) for +: 'NumbersNoAdds' and 'NumbersNoAdds'"
     ]
    }
   ],
   "source": [
    "n = NumbersNoAdds([1, 2, 3, 4])\n",
    "m = NumbersNoAdds([2,2,2,2])\n",
    "\n",
    "n + m"
   ]
  },
  {
   "cell_type": "markdown",
   "metadata": {},
   "source": [
    "#### 片方あれば良い(左側が \\_\\_add\\_\\_持ち)"
   ]
  },
  {
   "cell_type": "code",
   "execution_count": 191,
   "metadata": {},
   "outputs": [
    {
     "data": {
      "text/plain": [
       "[3, 4, 5, 6]"
      ]
     },
     "execution_count": 191,
     "metadata": {},
     "output_type": "execute_result"
    }
   ],
   "source": [
    "n = Numbers([1, 2, 3, 4])\n",
    "m = NumbersNoAdds([2,2,2,2])\n",
    "\n",
    "n + m"
   ]
  },
  {
   "cell_type": "markdown",
   "metadata": {},
   "source": [
    "#### 片方あれば良い(\\_\\_radd\\_\\_持ち) \n",
    "\n",
    "**r つきのやつは fallback method**\n",
    "\n",
    "Therefore, to make the mixed-type additions in Example 13-6 work, we need to imple‐\n",
    "ment the Vector.\\_\\_radd\\_\\_ method, which Python will invoke as a fall back if the left\n",
    "operand does not implement \\_\\_add\\_\\_ or if it does but returns NotImplemented to signal\n",
    "that it doesn’t know how to handle the right operand."
   ]
  },
  {
   "cell_type": "code",
   "execution_count": 192,
   "metadata": {},
   "outputs": [
    {
     "data": {
      "text/plain": [
       "[3, 4, 5, 6]"
      ]
     },
     "execution_count": 192,
     "metadata": {},
     "output_type": "execute_result"
    }
   ],
   "source": [
    "n = NumbersNoAdds([1, 2, 3, 4])\n",
    "m = NumbersRAdd([2,2,2,2])\n",
    "\n",
    "n + m"
   ]
  },
  {
   "cell_type": "markdown",
   "metadata": {},
   "source": [
    "#### how fallback \"r\" method works"
   ]
  },
  {
   "cell_type": "code",
   "execution_count": 50,
   "metadata": {},
   "outputs": [],
   "source": [
    "import itertools\n",
    "\n",
    "\n",
    "class NumbersBothAdds:\n",
    "\n",
    "    def __init__(self, numbers):\n",
    "        self.numbers = numbers\n",
    "\n",
    "    def __add__(self, other):\n",
    "        try:\n",
    "            zipped = itertools.zip_longest(\n",
    "                self.numbers, other.numbers, fillvalue=0.0)\n",
    "            return [n + m for n, m in zipped]\n",
    "        except TypeError:\n",
    "            return self.numbers + other.numbers"
   ]
  },
  {
   "cell_type": "code",
   "execution_count": 51,
   "metadata": {},
   "outputs": [
    {
     "data": {
      "text/plain": [
       "[4, 5, 6, 7]"
      ]
     },
     "execution_count": 51,
     "metadata": {},
     "output_type": "execute_result"
    }
   ],
   "source": [
    "n = NumbersBothAdds([1,2,3,4])\n",
    "m = NumbersBothAdds([3,3,3,3])\n",
    "n + m"
   ]
  },
  {
   "cell_type": "code",
   "execution_count": 52,
   "metadata": {},
   "outputs": [
    {
     "data": {
      "text/plain": [
       "15"
      ]
     },
     "execution_count": 52,
     "metadata": {},
     "output_type": "execute_result"
    }
   ],
   "source": [
    "n1 = NumbersBothAdds(5)\n",
    "m1 = NumbersBothAdds(10)\n",
    "n1+m1"
   ]
  },
  {
   "cell_type": "markdown",
   "metadata": {},
   "source": [
    "他にも \\_\\_mul\\_\\_,  \\_\\_eq\\_\\_ などで同じようなことができる"
   ]
  },
  {
   "cell_type": "markdown",
   "metadata": {},
   "source": [
    "## \\_\\_iadd\\_\\_"
   ]
  },
  {
   "cell_type": "code",
   "execution_count": 70,
   "metadata": {},
   "outputs": [],
   "source": [
    "class Array(object):\n",
    "    def __init__(self, values):\n",
    "        \"\"\"インスタンス生成時に呼び出されるメソッド\n",
    "           values には数字を格納したリストを渡す\n",
    "        \"\"\"\n",
    "        self.values = values\n",
    "\n",
    "    def __add__(self, other):\n",
    "        \"\"\"+ 演算子を定義するメソッド\n",
    "           values 内の要素同士を足し合わせた新しい Array インスタンスを返す \"\"\"\n",
    "        return Array(list(map(lambda x, y: x + y,\n",
    "                          self.values,\n",
    "                          other.values)))\n",
    "    \n",
    "    def __iadd__(self, element):\n",
    "        \"\"\"+= 演算子を定義するメソッド\n",
    "           values の各要素に渡された値を加算する \"\"\"\n",
    "        self.values = list(map(lambda x: x + element, self.values))\n",
    "        return self"
   ]
  },
  {
   "cell_type": "code",
   "execution_count": 74,
   "metadata": {},
   "outputs": [
    {
     "data": {
      "text/plain": [
       "[3, 3]"
      ]
     },
     "execution_count": 74,
     "metadata": {},
     "output_type": "execute_result"
    }
   ],
   "source": [
    "m1 = Array([1, 1])\n",
    "m2 = Array([2, 2])\n",
    "ar = m1 + m2\n",
    "ar.values"
   ]
  },
  {
   "cell_type": "code",
   "execution_count": 71,
   "metadata": {},
   "outputs": [
    {
     "data": {
      "text/plain": [
       "[4, 6]"
      ]
     },
     "execution_count": 71,
     "metadata": {},
     "output_type": "execute_result"
    }
   ],
   "source": [
    "m1 = Array([3, 5])\n",
    "m1 += 1\n",
    "m1.values"
   ]
  },
  {
   "cell_type": "markdown",
   "metadata": {},
   "source": [
    "#  Chap 14 Iterables, Iterators, Generators"
   ]
  },
  {
   "cell_type": "code",
   "execution_count": 80,
   "metadata": {},
   "outputs": [],
   "source": [
    "import re\n",
    "import reprlib\n",
    "\n",
    "RE_WORD = re.compile('\\w+')\n",
    "\n",
    "class Sentence:\n",
    "    def __init__(self, text):\n",
    "        self.text = text\n",
    "        self.words = RE_WORD.findall(text)\n",
    "        \n",
    "    def __getitem__(self, index):\n",
    "        return self.words[index]\n",
    "    \n",
    "    def __len__(self):\n",
    "        return len(self.words)\n",
    "    \n",
    "    def __repr__(self):\n",
    "        return f\"Sentence : {reprlib.repr(self.text)}\"\n",
    "    "
   ]
  },
  {
   "cell_type": "code",
   "execution_count": 81,
   "metadata": {},
   "outputs": [],
   "source": [
    "s = Sentence('AAA BBB CCC DDD EEE')"
   ]
  },
  {
   "cell_type": "code",
   "execution_count": 83,
   "metadata": {},
   "outputs": [
    {
     "data": {
      "text/plain": [
       "Sentence : 'AAA BBB CCC DDD EEE'"
      ]
     },
     "execution_count": 83,
     "metadata": {},
     "output_type": "execute_result"
    }
   ],
   "source": [
    "s"
   ]
  },
  {
   "cell_type": "code",
   "execution_count": 84,
   "metadata": {},
   "outputs": [
    {
     "name": "stdout",
     "output_type": "stream",
     "text": [
      "AAA\n",
      "BBB\n",
      "CCC\n",
      "DDD\n",
      "EEE\n"
     ]
    }
   ],
   "source": [
    "for word in s:\n",
    "    print(word)"
   ]
  },
  {
   "cell_type": "code",
   "execution_count": 85,
   "metadata": {},
   "outputs": [
    {
     "data": {
      "text/plain": [
       "['AAA', 'BBB', 'CCC', 'DDD', 'EEE']"
      ]
     },
     "execution_count": 85,
     "metadata": {},
     "output_type": "execute_result"
    }
   ],
   "source": [
    "s.words"
   ]
  },
  {
   "cell_type": "markdown",
   "metadata": {},
   "source": [
    "## iter function"
   ]
  },
  {
   "cell_type": "markdown",
   "metadata": {},
   "source": [
    "### Whenever the interpreter needs to iterate over an object x, it automatically calls iter(x).  \n",
    "\n",
    "The iter built-in function:  \n",
    "\n",
    "    1. Checks whether the object implements __iter__, and calls that to obtain an iterator.  \n",
    "\n",
    "    2. If __iter__ is not implemented, but __getitem__ is implemented, Python creates an iterator that attempts to fetch items in order, starting from index 0 (zero).  \n",
    "\n",
    "    3. If that fails, Python raises TypeError, usually saying “C object is not iterable,” where C is the class of the target object.  "
   ]
  },
  {
   "cell_type": "markdown",
   "metadata": {},
   "source": [
    "- Python sequens is ieterable because all has \\_\\_getitem\\_\\_\n",
    "- But Use \\_\\_iter\\_\\_\n",
    "- getitem is for backward compatibility"
   ]
  },
  {
   "cell_type": "markdown",
   "metadata": {},
   "source": [
    "### \\_\\_iter\\_\\_ があれば、 abc.Iterableの \\_\\_subclasshook\\_\\_ のおかげで abc.Iterableになる"
   ]
  },
  {
   "cell_type": "code",
   "execution_count": 94,
   "metadata": {},
   "outputs": [],
   "source": [
    "class Foo:\n",
    "    def __iter__(self):\n",
    "        pass"
   ]
  },
  {
   "cell_type": "code",
   "execution_count": 95,
   "metadata": {},
   "outputs": [
    {
     "data": {
      "text/plain": [
       "True"
      ]
     },
     "execution_count": 95,
     "metadata": {},
     "output_type": "execute_result"
    }
   ],
   "source": [
    "from collections import abc\n",
    "issubclass(Foo, abc.Iterable)"
   ]
  },
  {
   "cell_type": "code",
   "execution_count": 96,
   "metadata": {},
   "outputs": [
    {
     "data": {
      "text/plain": [
       "True"
      ]
     },
     "execution_count": 96,
     "metadata": {},
     "output_type": "execute_result"
    }
   ],
   "source": [
    "f = Foo()\n",
    "isinstance(f, abc.Iterable)"
   ]
  },
  {
   "cell_type": "markdown",
   "metadata": {},
   "source": [
    "### forを実装してみる"
   ]
  },
  {
   "cell_type": "code",
   "execution_count": 97,
   "metadata": {},
   "outputs": [
    {
     "name": "stdout",
     "output_type": "stream",
     "text": [
      "A\n",
      "B\n",
      "C\n"
     ]
    }
   ],
   "source": [
    "s = 'ABC'\n",
    "for char in s:\n",
    "    print(char)"
   ]
  },
  {
   "cell_type": "markdown",
   "metadata": {},
   "source": [
    "#### next やりまくって、これ以上無い場合は StopIteration がでて、それをTryで取る"
   ]
  },
  {
   "cell_type": "code",
   "execution_count": 101,
   "metadata": {},
   "outputs": [
    {
     "data": {
      "text/plain": [
       "<str_iterator at 0x7fd7e0092f98>"
      ]
     },
     "execution_count": 101,
     "metadata": {},
     "output_type": "execute_result"
    }
   ],
   "source": [
    "s = 'ABC'\n",
    "it = iter(s)\n",
    "it"
   ]
  },
  {
   "cell_type": "code",
   "execution_count": 102,
   "metadata": {},
   "outputs": [
    {
     "name": "stdout",
     "output_type": "stream",
     "text": [
      "A\n",
      "B\n",
      "C\n"
     ]
    }
   ],
   "source": [
    "while True:\n",
    "    try:\n",
    "        print(next(it))\n",
    "    except StopIteration:\n",
    "        del it # release refference\n",
    "        break"
   ]
  },
  {
   "cell_type": "markdown",
   "metadata": {},
   "source": [
    "##### iterは一回でなくなる"
   ]
  },
  {
   "cell_type": "code",
   "execution_count": 110,
   "metadata": {},
   "outputs": [
    {
     "name": "stdout",
     "output_type": "stream",
     "text": [
      "A\n",
      "B\n",
      "C\n",
      "[]\n",
      "['A', 'B', 'C']\n"
     ]
    }
   ],
   "source": [
    "s = 'ABC'\n",
    "it = iter(s)\n",
    "it\n",
    "print(next(it))\n",
    "print(next(it))\n",
    "print(next(it))\n",
    "# print(next(it))  # <- StoprIteration が起きる\n",
    "print(list(it))  # 一回使われるとなくなる\n",
    "\n",
    "print(list(iter(s))) # もう一回作る必要がある"
   ]
  },
  {
   "cell_type": "markdown",
   "metadata": {},
   "source": [
    "## Iterator and Iterable"
   ]
  },
  {
   "cell_type": "markdown",
   "metadata": {},
   "source": [
    "- iterable -> has \\_\\_iter\\_\\_  which instantiates new iterator\n",
    "- iterator -> has \\_\\_next\\_\\_ that returns item\n",
    "- Don't implement \\_\\_next\\_\\_ and \\_\\_iter\\_\\_ witihn a same class"
   ]
  },
  {
   "cell_type": "markdown",
   "metadata": {},
   "source": [
    "- Iteration is a general term for taking each item of something, one after another. Any time you use a loop, explicit or implicit, to go over a group of items, that is iteration.\n",
    "\n",
    "- An iterable is an object that has an __iter__ method which returns an iterator, or which defines a __getitem__ method that can take sequential indexes starting from zero (and raises an IndexError when the indexes are no longer valid). So an iterable is an object that you can get an iterator from.\n"
   ]
  },
  {
   "cell_type": "markdown",
   "metadata": {},
   "source": [
    "- To “support multiple traversals” it must be possible to obtain multiple independent\n",
    "iterators from the same iterable instance, and each iterator must keep its own internal\n",
    "state, so a proper implementation of the pattern requires each call to iter(my_itera\n",
    "ble) to create a new, independent, iterator. That is why we need the SentenceItera\n",
    "tor class in this example."
   ]
  },
  {
   "cell_type": "markdown",
   "metadata": {},
   "source": [
    "- An iterable should never act as an iterator over itself. In other\n",
    "words, iterables must implement \\_\\_iter__, but not \\_\\_next__.\n",
    "On the other hand, for convenience, iterators should be iterable.\n",
    "An iterator’s \\_\\_iter__ should just return self."
   ]
  },
  {
   "cell_type": "markdown",
   "metadata": {},
   "source": [
    "### python code"
   ]
  },
  {
   "cell_type": "code",
   "execution_count": null,
   "metadata": {},
   "outputs": [],
   "source": [
    "class Iterable(metaclass=ABCMeta):\n",
    "\n",
    "    __slots__ = ()\n",
    "\n",
    "    @abstractmethod\n",
    "    def __iter__(self):\n",
    "        while False:\n",
    "            yield None\n",
    "\n",
    "    @classmethod\n",
    "    def __subclasshook__(cls, C):\n",
    "        if cls is Iterable:\n",
    "            return _check_methods(C, \"__iter__\")\n",
    "        return NotImplemented\n",
    "\n",
    "\n",
    "class Iterator(Iterable):\n",
    "\n",
    "    __slots__ = ()\n",
    "\n",
    "    @abstractmethod\n",
    "    def __next__(self):\n",
    "        'Return the next item from the iterator. When exhausted, raise StopIteration'\n",
    "        raise StopIteration\n",
    "\n",
    "    def __iter__(self):\n",
    "        return self\n",
    "\n",
    "    @classmethod\n",
    "    def __subclasshook__(cls, C):\n",
    "        if cls is Iterator:\n",
    "            return _check_methods(C, '__iter__', '__next__')\n",
    "        return NotImplemented\n"
   ]
  },
  {
   "cell_type": "markdown",
   "metadata": {},
   "source": [
    "## Generator"
   ]
  },
  {
   "cell_type": "markdown",
   "metadata": {},
   "source": [
    "### SentenceをGeneratorに"
   ]
  },
  {
   "cell_type": "code",
   "execution_count": 119,
   "metadata": {},
   "outputs": [],
   "source": [
    "import re\n",
    "import reprlib\n",
    "\n",
    "RE_WORD= re.compile('\\w+')\n",
    "\n",
    "class Sentence:\n",
    "    def __init__(self, text):\n",
    "        self.text = text\n",
    "        self.words = RE_WORD.findall(text)\n",
    "        \n",
    "    def __repr__(self):\n",
    "        return f\"Sentence : {reprlib.repr(self.text)}\"\n",
    "    \n",
    "    def __iter__(self):\n",
    "        for word in self.words:\n",
    "            yield word"
   ]
  },
  {
   "cell_type": "code",
   "execution_count": null,
   "metadata": {},
   "outputs": [],
   "source": [
    "s = Sentence('AAA BBB CCC DDD EEE')"
   ]
  },
  {
   "cell_type": "markdown",
   "metadata": {},
   "source": [
    "#### 結果は同じ"
   ]
  },
  {
   "cell_type": "code",
   "execution_count": 120,
   "metadata": {},
   "outputs": [
    {
     "name": "stdout",
     "output_type": "stream",
     "text": [
      "A\n",
      "B\n",
      "C\n"
     ]
    }
   ],
   "source": [
    "for word in s:\n",
    "    print(word)"
   ]
  },
  {
   "cell_type": "markdown",
   "metadata": {},
   "source": [
    "### 簡単なGenerator"
   ]
  },
  {
   "cell_type": "code",
   "execution_count": 114,
   "metadata": {},
   "outputs": [
    {
     "data": {
      "text/plain": [
       "<function __main__.gen_123()>"
      ]
     },
     "execution_count": 114,
     "metadata": {},
     "output_type": "execute_result"
    }
   ],
   "source": [
    "def gen_123():\n",
    "    yield 1\n",
    "    yield 2\n",
    "    yield 3\n",
    "\n",
    "gen_123    "
   ]
  },
  {
   "cell_type": "code",
   "execution_count": 115,
   "metadata": {},
   "outputs": [
    {
     "data": {
      "text/plain": [
       "<generator object gen_123 at 0x7fd7d2f7e990>"
      ]
     },
     "execution_count": 115,
     "metadata": {},
     "output_type": "execute_result"
    }
   ],
   "source": [
    "gen_123()"
   ]
  },
  {
   "cell_type": "markdown",
   "metadata": {},
   "source": [
    "### iterableである(iterateしないと結果がyieldされない)"
   ]
  },
  {
   "cell_type": "code",
   "execution_count": 116,
   "metadata": {},
   "outputs": [
    {
     "data": {
      "text/plain": [
       "[1, 2, 3]"
      ]
     },
     "execution_count": 116,
     "metadata": {},
     "output_type": "execute_result"
    }
   ],
   "source": [
    "[i for i in gen_123()]"
   ]
  },
  {
   "cell_type": "markdown",
   "metadata": {},
   "source": [
    "### next しまくると StopIterationがでる"
   ]
  },
  {
   "cell_type": "code",
   "execution_count": 117,
   "metadata": {},
   "outputs": [
    {
     "name": "stdout",
     "output_type": "stream",
     "text": [
      "1\n",
      "2\n",
      "3\n"
     ]
    },
    {
     "ename": "StopIteration",
     "evalue": "",
     "output_type": "error",
     "traceback": [
      "\u001b[0;31m---------------------------------------------------------------------------\u001b[0m",
      "\u001b[0;31mStopIteration\u001b[0m                             Traceback (most recent call last)",
      "\u001b[0;32m<ipython-input-117-8d5bd5e1355b>\u001b[0m in \u001b[0;36m<module>\u001b[0;34m()\u001b[0m\n\u001b[1;32m      3\u001b[0m \u001b[0mprint\u001b[0m\u001b[0;34m(\u001b[0m\u001b[0mnext\u001b[0m\u001b[0;34m(\u001b[0m\u001b[0mg\u001b[0m\u001b[0;34m)\u001b[0m\u001b[0;34m)\u001b[0m\u001b[0;34m\u001b[0m\u001b[0m\n\u001b[1;32m      4\u001b[0m \u001b[0mprint\u001b[0m\u001b[0;34m(\u001b[0m\u001b[0mnext\u001b[0m\u001b[0;34m(\u001b[0m\u001b[0mg\u001b[0m\u001b[0;34m)\u001b[0m\u001b[0;34m)\u001b[0m\u001b[0;34m\u001b[0m\u001b[0m\n\u001b[0;32m----> 5\u001b[0;31m \u001b[0mprint\u001b[0m\u001b[0;34m(\u001b[0m\u001b[0mnext\u001b[0m\u001b[0;34m(\u001b[0m\u001b[0mg\u001b[0m\u001b[0;34m)\u001b[0m\u001b[0;34m)\u001b[0m\u001b[0;34m\u001b[0m\u001b[0m\n\u001b[0m",
      "\u001b[0;31mStopIteration\u001b[0m: "
     ]
    }
   ],
   "source": [
    "g = gen_123()\n",
    "print(next(g))\n",
    "print(next(g))\n",
    "print(next(g))\n",
    "print(next(g))"
   ]
  },
  {
   "cell_type": "markdown",
   "metadata": {},
   "source": [
    "### Generator YIELDS or PRODUCES values as a result. And, It RETURNS fucntions when it was called"
   ]
  },
  {
   "cell_type": "markdown",
   "metadata": {},
   "source": [
    "- Functions return values. Calling a generator function returns a generator. \n",
    "- A generator yields or produces values. \n",
    "- A generator doesn’t “return” values in the usual way: the return statement in the body of a generator function causes StopIteration to be raised by the generator object."
   ]
  },
  {
   "cell_type": "markdown",
   "metadata": {},
   "source": [
    "### More Lazy Sentence Implementaition"
   ]
  },
  {
   "cell_type": "markdown",
   "metadata": {},
   "source": [
    "The re.finditer function is a lazy version of re.findall which, instead of a list, re‐\n",
    "turns a generator producing re.MatchObject instances on demand"
   ]
  },
  {
   "cell_type": "code",
   "execution_count": null,
   "metadata": {},
   "outputs": [],
   "source": [
    "import re\n",
    "import reprlib\n",
    "RE_WORD = re.compile('\\w+')\n",
    "\n",
    "\n",
    "class Sentence:\n",
    "    def __init__(self, text):\n",
    "        self.text = text\n",
    "\n",
    "    def __repr__(self):\n",
    "        return 'Sentence(%s)' % reprlib.repr(self.text)\n",
    "\n",
    "    def __iter__(self):\n",
    "        for match in RE_WORD.finditer(self.text):\n",
    "            yield match.group()"
   ]
  },
  {
   "cell_type": "markdown",
   "metadata": {},
   "source": [
    "### LIst Comprehention and Generator Expression"
   ]
  },
  {
   "cell_type": "code",
   "execution_count": 126,
   "metadata": {},
   "outputs": [
    {
     "name": "stdout",
     "output_type": "stream",
     "text": [
      "start\n",
      "continue\n",
      "end.\n"
     ]
    }
   ],
   "source": [
    "def gen_AB():\n",
    "    print('start')\n",
    "    yield 'A'\n",
    "    print('continue')\n",
    "    yield 'B'\n",
    "    print('end.')"
   ]
  },
  {
   "cell_type": "markdown",
   "metadata": {},
   "source": [
    "#### List Comprehension だと途中で消費される"
   ]
  },
  {
   "cell_type": "code",
   "execution_count": 130,
   "metadata": {},
   "outputs": [
    {
     "name": "stdout",
     "output_type": "stream",
     "text": [
      "start\n",
      "continue\n",
      "end.\n"
     ]
    }
   ],
   "source": [
    "res1 = [x*3 for x in gen_AB()]  # <- Printが実行される"
   ]
  },
  {
   "cell_type": "code",
   "execution_count": 128,
   "metadata": {},
   "outputs": [
    {
     "name": "stdout",
     "output_type": "stream",
     "text": [
      "---> AAA\n",
      "---> BBB\n"
     ]
    }
   ],
   "source": [
    "for i in res1:\n",
    "    print('--->', i)"
   ]
  },
  {
   "cell_type": "markdown",
   "metadata": {},
   "source": [
    "#### Generator Expression だと途中で消費されない"
   ]
  },
  {
   "cell_type": "code",
   "execution_count": 131,
   "metadata": {},
   "outputs": [],
   "source": [
    "res2 = (x*3 for x in gen_AB()) # <- Printが実行されない"
   ]
  },
  {
   "cell_type": "code",
   "execution_count": 132,
   "metadata": {},
   "outputs": [
    {
     "name": "stdout",
     "output_type": "stream",
     "text": [
      "start\n",
      "----> AAA\n",
      "continue\n",
      "----> BBB\n",
      "end.\n"
     ]
    }
   ],
   "source": [
    "for i in res2:\n",
    "    print('---->', i)"
   ]
  },
  {
   "cell_type": "markdown",
   "metadata": {},
   "source": [
    "#### SentenceにGeneretor Expressionをつかう"
   ]
  },
  {
   "cell_type": "code",
   "execution_count": 136,
   "metadata": {},
   "outputs": [],
   "source": [
    "import re\n",
    "import reprlib\n",
    "RE_WORD = re.compile('\\w+')\n",
    "\n",
    "\n",
    "class Sentence:\n",
    "    def __init__(self, text):\n",
    "        self.text = text\n",
    "\n",
    "    def __repr__(self):\n",
    "        return 'Sentence(%s)' % reprlib.repr(self.text)\n",
    "\n",
    "    def __iter__(self):\n",
    "        return (match.group() for match in RE_WORD.finditer(self.text))"
   ]
  },
  {
   "cell_type": "code",
   "execution_count": 137,
   "metadata": {},
   "outputs": [],
   "source": [
    "s = Sentence('AAA BBB CCC DDD EEE')"
   ]
  },
  {
   "cell_type": "code",
   "execution_count": 139,
   "metadata": {},
   "outputs": [
    {
     "data": {
      "text/plain": [
       "['AAA', 'BBB', 'CCC', 'DDD', 'EEE']"
      ]
     },
     "execution_count": 139,
     "metadata": {},
     "output_type": "execute_result"
    }
   ],
   "source": [
    "[word for word in s]"
   ]
  },
  {
   "cell_type": "markdown",
   "metadata": {},
   "source": [
    "\n",
    "### 続きの数を生成する"
   ]
  },
  {
   "cell_type": "code",
   "execution_count": null,
   "metadata": {},
   "outputs": [],
   "source": []
  }
 ],
 "metadata": {
  "kernelspec": {
   "display_name": "Python 3",
   "language": "python",
   "name": "python3"
  },
  "language_info": {
   "codemirror_mode": {
    "name": "ipython",
    "version": 3
   },
   "file_extension": ".py",
   "mimetype": "text/x-python",
   "name": "python",
   "nbconvert_exporter": "python",
   "pygments_lexer": "ipython3",
   "version": "3.6.6"
  },
  "toc": {
   "base_numbering": 1,
   "nav_menu": {},
   "number_sections": true,
   "sideBar": true,
   "skip_h1_title": false,
   "title_cell": "",
   "title_sidebar": "",
   "toc_cell": true,
   "toc_position": {},
   "toc_section_display": true,
   "toc_window_display": false
  }
 },
 "nbformat": 4,
 "nbformat_minor": 2
}
