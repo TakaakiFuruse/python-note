{
 "cells": [
  {
   "cell_type": "markdown",
   "metadata": {
    "toc": true
   },
   "source": [
    "<h1>Table of Contents<span class=\"tocSkip\"></span></h1>\n",
    "<div class=\"toc\"><ul class=\"toc-item\"><li><span><a href=\"#Chapter-1\" data-toc-modified-id=\"Chapter-1-1\"><span class=\"toc-item-num\">1&nbsp;&nbsp;</span>Chapter 1</a></span><ul class=\"toc-item\"><li><span><a href=\"#French-Deck\" data-toc-modified-id=\"French-Deck-1.1\"><span class=\"toc-item-num\">1.1&nbsp;&nbsp;</span>French Deck</a></span></li><li><span><a href=\"#Vector\" data-toc-modified-id=\"Vector-1.2\"><span class=\"toc-item-num\">1.2&nbsp;&nbsp;</span>Vector</a></span></li></ul></li><li><span><a href=\"#Chap2\" data-toc-modified-id=\"Chap2-2\"><span class=\"toc-item-num\">2&nbsp;&nbsp;</span>Chap2</a></span><ul class=\"toc-item\"><li><span><a href=\"#Tuple-unpacking\" data-toc-modified-id=\"Tuple-unpacking-2.1\"><span class=\"toc-item-num\">2.1&nbsp;&nbsp;</span>Tuple unpacking</a></span></li><li><span><a href=\"#Chap3\" data-toc-modified-id=\"Chap3-2.2\"><span class=\"toc-item-num\">2.2&nbsp;&nbsp;</span>Chap3</a></span><ul class=\"toc-item\"><li><span><a href=\"#更新するときは-set_default-のほうが-get-よりいい\" data-toc-modified-id=\"更新するときは-set_default-のほうが-get-よりいい-2.2.1\"><span class=\"toc-item-num\">2.2.1&nbsp;&nbsp;</span>更新するときは set_default のほうが get よりいい</a></span><ul class=\"toc-item\"><li><span><a href=\"#get\" data-toc-modified-id=\"get-2.2.1.1\"><span class=\"toc-item-num\">2.2.1.1&nbsp;&nbsp;</span>get</a></span></li><li><span><a href=\"#set_default\" data-toc-modified-id=\"set_default-2.2.1.2\"><span class=\"toc-item-num\">2.2.1.2&nbsp;&nbsp;</span>set_default</a></span></li><li><span><a href=\"#defatuldictを使う\" data-toc-modified-id=\"defatuldictを使う-2.2.1.3\"><span class=\"toc-item-num\">2.2.1.3&nbsp;&nbsp;</span>defatuldictを使う</a></span></li></ul></li><li><span><a href=\"#__missing__-を使う\" data-toc-modified-id=\"__missing__-を使う-2.2.2\"><span class=\"toc-item-num\">2.2.2&nbsp;&nbsp;</span>__missing__ を使う</a></span><ul class=\"toc-item\"><li><span><a href=\"#get-method-を変更する\" data-toc-modified-id=\"get-method-を変更する-2.2.2.1\"><span class=\"toc-item-num\">2.2.2.1&nbsp;&nbsp;</span>get method を変更する</a></span></li><li><span><a href=\"#「in」の挙動を変更する\" data-toc-modified-id=\"「in」の挙動を変更する-2.2.2.2\"><span class=\"toc-item-num\">2.2.2.2&nbsp;&nbsp;</span>「in」の挙動を変更する</a></span></li></ul></li><li><span><a href=\"#Dictのラッパーとかいろいろ\" data-toc-modified-id=\"Dictのラッパーとかいろいろ-2.2.3\"><span class=\"toc-item-num\">2.2.3&nbsp;&nbsp;</span>Dictのラッパーとかいろいろ</a></span><ul class=\"toc-item\"><li><span><a href=\"#Counter\" data-toc-modified-id=\"Counter-2.2.3.1\"><span class=\"toc-item-num\">2.2.3.1&nbsp;&nbsp;</span>Counter</a></span></li><li><span><a href=\"#Dict-継承するぐらいなら、User-Dictを継承したほうが使いやすい。\" data-toc-modified-id=\"Dict-継承するぐらいなら、User-Dictを継承したほうが使いやすい。-2.2.3.2\"><span class=\"toc-item-num\">2.2.3.2&nbsp;&nbsp;</span>Dict 継承するぐらいなら、User Dictを継承したほうが使いやすい。</a></span></li><li><span><a href=\"#Immutable-Dict\" data-toc-modified-id=\"Immutable-Dict-2.2.3.3\"><span class=\"toc-item-num\">2.2.3.3&nbsp;&nbsp;</span>Immutable Dict</a></span></li></ul></li><li><span><a href=\"#Set\" data-toc-modified-id=\"Set-2.2.4\"><span class=\"toc-item-num\">2.2.4&nbsp;&nbsp;</span>Set</a></span><ul class=\"toc-item\"><li><span><a href=\"#set-には&amp;とか使える\" data-toc-modified-id=\"set-には&amp;とか使える-2.2.4.1\"><span class=\"toc-item-num\">2.2.4.1&nbsp;&nbsp;</span>set には&amp;とか使える</a></span></li><li><span><a href=\"#上より重い処理だが、これでもよい\" data-toc-modified-id=\"上より重い処理だが、これでもよい-2.2.4.2\"><span class=\"toc-item-num\">2.2.4.2&nbsp;&nbsp;</span>上より重い処理だが、これでもよい</a></span></li></ul></li></ul></li></ul></li><li><span><a href=\"#Chap5---Function-and-Objects\" data-toc-modified-id=\"Chap5---Function-and-Objects-3\"><span class=\"toc-item-num\">3&nbsp;&nbsp;</span>Chap5 - Function and Objects</a></span><ul class=\"toc-item\"><li><span><a href=\"#Higher-Order-Function---Function-which-takes-function-as-ARG-\" data-toc-modified-id=\"Higher-Order-Function---Function-which-takes-function-as-ARG--3.1\"><span class=\"toc-item-num\">3.1&nbsp;&nbsp;</span>Higher-Order Function - Function which takes function as ARG-</a></span></li><li><span><a href=\"#mapとfilterがあるけど別に使わなくてもいい\" data-toc-modified-id=\"mapとfilterがあるけど別に使わなくてもいい-3.2\"><span class=\"toc-item-num\">3.2&nbsp;&nbsp;</span>mapとfilterがあるけど別に使わなくてもいい</a></span></li><li><span><a href=\"#reduceはRollingCalcに使える\" data-toc-modified-id=\"reduceはRollingCalcに使える-3.3\"><span class=\"toc-item-num\">3.3&nbsp;&nbsp;</span>reduceはRollingCalcに使える</a></span></li><li><span><a href=\"#__call__-を使うと関数をそのまま呼んだときの動作を規定できる\" data-toc-modified-id=\"__call__-を使うと関数をそのまま呼んだときの動作を規定できる-3.4\"><span class=\"toc-item-num\">3.4&nbsp;&nbsp;</span>__call__ を使うと関数をそのまま呼んだときの動作を規定できる</a></span></li><li><span><a href=\"#kwarg-の使い方\" data-toc-modified-id=\"kwarg-の使い方-3.5\"><span class=\"toc-item-num\">3.5&nbsp;&nbsp;</span>kwarg の使い方</a></span></li><li><span><a href=\"#Argumentを取ってくる方法\" data-toc-modified-id=\"Argumentを取ってくる方法-3.6\"><span class=\"toc-item-num\">3.6&nbsp;&nbsp;</span>Argumentを取ってくる方法</a></span><ul class=\"toc-item\"><li><span><a href=\"#dunder-を使う(ややめんどい)\" data-toc-modified-id=\"dunder-を使う(ややめんどい)-3.6.1\"><span class=\"toc-item-num\">3.6.1&nbsp;&nbsp;</span>dunder を使う(ややめんどい)</a></span></li><li><span><a href=\"#signature-使う\" data-toc-modified-id=\"signature-使う-3.6.2\"><span class=\"toc-item-num\">3.6.2&nbsp;&nbsp;</span>signature 使う</a></span></li><li><span><a href=\"#bindで-kwarg-と-**kwargs-を取る\" data-toc-modified-id=\"bindで-kwarg-と-**kwargs-を取る-3.6.3\"><span class=\"toc-item-num\">3.6.3&nbsp;&nbsp;</span>bindで kwarg と **kwargs を取る</a></span><ul class=\"toc-item\"><li><span><a href=\"#bind-を使うと実行しないでも-Args-が正しいか判定できる\" data-toc-modified-id=\"bind-を使うと実行しないでも-Args-が正しいか判定できる-3.6.3.1\"><span class=\"toc-item-num\">3.6.3.1&nbsp;&nbsp;</span>bind を使うと実行しないでも Args が正しいか判定できる</a></span></li></ul></li></ul></li><li><span><a href=\"#Fucntion-Annotations\" data-toc-modified-id=\"Fucntion-Annotations-3.7\"><span class=\"toc-item-num\">3.7&nbsp;&nbsp;</span>Fucntion Annotations</a></span><ul class=\"toc-item\"><li><span><a href=\"#Functional-Programming\" data-toc-modified-id=\"Functional-Programming-3.7.1\"><span class=\"toc-item-num\">3.7.1&nbsp;&nbsp;</span>Functional Programming</a></span><ul class=\"toc-item\"><li><span><a href=\"#Operator\" data-toc-modified-id=\"Operator-3.7.1.1\"><span class=\"toc-item-num\">3.7.1.1&nbsp;&nbsp;</span>Operator</a></span></li><li><span><a href=\"#method-caller\" data-toc-modified-id=\"method-caller-3.7.1.2\"><span class=\"toc-item-num\">3.7.1.2&nbsp;&nbsp;</span>method caller</a></span></li><li><span><a href=\"#関数の呼び出し時に、特定の引数とかを「Freeze」する方法\" data-toc-modified-id=\"関数の呼び出し時に、特定の引数とかを「Freeze」する方法-3.7.1.3\"><span class=\"toc-item-num\">3.7.1.3&nbsp;&nbsp;</span>関数の呼び出し時に、特定の引数とかを「Freeze」する方法</a></span></li></ul></li></ul></li></ul></li><li><span><a href=\"#Chap6-Design-patterns-with-First-Class-Functions\" data-toc-modified-id=\"Chap6-Design-patterns-with-First-Class-Functions-4\"><span class=\"toc-item-num\">4&nbsp;&nbsp;</span>Chap6 Design patterns with First-Class Functions</a></span><ul class=\"toc-item\"><li><span><a href=\"#まずはABC使ってやってみる\" data-toc-modified-id=\"まずはABC使ってやってみる-4.1\"><span class=\"toc-item-num\">4.1&nbsp;&nbsp;</span>まずはABC使ってやってみる</a></span><ul class=\"toc-item\"><li><span><a href=\"#ABCってなんだったか\" data-toc-modified-id=\"ABCってなんだったか-4.1.1\"><span class=\"toc-item-num\">4.1.1&nbsp;&nbsp;</span>ABCってなんだったか</a></span></li></ul></li></ul></li><li><span><a href=\"#Chap5-Decratoer,-Closuer\" data-toc-modified-id=\"Chap5-Decratoer,-Closuer-5\"><span class=\"toc-item-num\">5&nbsp;&nbsp;</span>Chap5 Decratoer, Closuer</a></span><ul class=\"toc-item\"><li><span><a href=\"#Decoratorの基本\" data-toc-modified-id=\"Decoratorの基本-5.1\"><span class=\"toc-item-num\">5.1&nbsp;&nbsp;</span>Decoratorの基本</a></span><ul class=\"toc-item\"><li><span><a href=\"#用法\" data-toc-modified-id=\"用法-5.1.1\"><span class=\"toc-item-num\">5.1.1&nbsp;&nbsp;</span>用法</a></span></li></ul></li><li><span><a href=\"#変数のスコープ\" data-toc-modified-id=\"変数のスコープ-5.2\"><span class=\"toc-item-num\">5.2&nbsp;&nbsp;</span>変数のスコープ</a></span><ul class=\"toc-item\"><li><span><a href=\"#アサインされてないのでエラーが出る(当然)\" data-toc-modified-id=\"アサインされてないのでエラーが出る(当然)-5.2.1\"><span class=\"toc-item-num\">5.2.1&nbsp;&nbsp;</span>アサインされてないのでエラーが出る(当然)</a></span></li><li><span><a href=\"#グローバル変数を定義するとそれを読みに行く\" data-toc-modified-id=\"グローバル変数を定義するとそれを読みに行く-5.2.2\"><span class=\"toc-item-num\">5.2.2&nbsp;&nbsp;</span>グローバル変数を定義するとそれを読みに行く</a></span></li><li><span><a href=\"#関数内で定義下変数は関数内のローカルのものだと思ってくれる\" data-toc-modified-id=\"関数内で定義下変数は関数内のローカルのものだと思ってくれる-5.2.3\"><span class=\"toc-item-num\">5.2.3&nbsp;&nbsp;</span>関数内で定義下変数は関数内のローカルのものだと思ってくれる</a></span><ul class=\"toc-item\"><li><span><a href=\"#グローバル変数だと明確に言いたいときはglobal\" data-toc-modified-id=\"グローバル変数だと明確に言いたいときはglobal-5.2.3.1\"><span class=\"toc-item-num\">5.2.3.1&nbsp;&nbsp;</span>グローバル変数だと明確に言いたいときはglobal</a></span></li></ul></li></ul></li><li><span><a href=\"#Closure\" data-toc-modified-id=\"Closure-5.3\"><span class=\"toc-item-num\">5.3&nbsp;&nbsp;</span>Closure</a></span><ul class=\"toc-item\"><li><span><a href=\"#クラス内のインスタンスメソッドにアクセスしてる\" data-toc-modified-id=\"クラス内のインスタンスメソッドにアクセスしてる-5.3.1\"><span class=\"toc-item-num\">5.3.1&nbsp;&nbsp;</span>クラス内のインスタンスメソッドにアクセスしてる</a></span></li><li><span><a href=\"#関数内でGlobalな値を使って、その値にアクセスさせる\" data-toc-modified-id=\"関数内でGlobalな値を使って、その値にアクセスさせる-5.3.2\"><span class=\"toc-item-num\">5.3.2&nbsp;&nbsp;</span>関数内でGlobalな値を使って、その値にアクセスさせる</a></span></li><li><span><a href=\"#local,-nonlocal\" data-toc-modified-id=\"local,-nonlocal-5.3.3\"><span class=\"toc-item-num\">5.3.3&nbsp;&nbsp;</span>local, nonlocal</a></span><ul class=\"toc-item\"><li><span><a href=\"#スコープの問題。globalをlocalにしてしまってエラー\" data-toc-modified-id=\"スコープの問題。globalをlocalにしてしまってエラー-5.3.3.1\"><span class=\"toc-item-num\">5.3.3.1&nbsp;&nbsp;</span>スコープの問題。globalをlocalにしてしまってエラー</a></span></li><li><span><a href=\"#nonlocal-を使ってFree-VarがどれかPythonに教えてやる\" data-toc-modified-id=\"nonlocal-を使ってFree-VarがどれかPythonに教えてやる-5.3.3.2\"><span class=\"toc-item-num\">5.3.3.2&nbsp;&nbsp;</span>nonlocal を使ってFree VarがどれかPythonに教えてやる</a></span></li></ul></li></ul></li><li><span><a href=\"#Simple-Decorator\" data-toc-modified-id=\"Simple-Decorator-5.4\"><span class=\"toc-item-num\">5.4&nbsp;&nbsp;</span>Simple Decorator</a></span></li><li><span><a href=\"#functools\" data-toc-modified-id=\"functools-5.5\"><span class=\"toc-item-num\">5.5&nbsp;&nbsp;</span>functools</a></span><ul class=\"toc-item\"><li><span><a href=\"#functools.lru_cache-を使うと結果をキャッシュできる\" data-toc-modified-id=\"functools.lru_cache-を使うと結果をキャッシュできる-5.5.1\"><span class=\"toc-item-num\">5.5.1&nbsp;&nbsp;</span>functools.lru_cache を使うと結果をキャッシュできる</a></span><ul class=\"toc-item\"><li><span><a href=\"#キャッシュしてないので結構時間かかる方法\" data-toc-modified-id=\"キャッシュしてないので結構時間かかる方法-5.5.1.1\"><span class=\"toc-item-num\">5.5.1.1&nbsp;&nbsp;</span>キャッシュしてないので結構時間かかる方法</a></span></li><li><span><a href=\"#キャッシュするとはじめの一秒だけ待てば良い\" data-toc-modified-id=\"キャッシュするとはじめの一秒だけ待てば良い-5.5.1.2\"><span class=\"toc-item-num\">5.5.1.2&nbsp;&nbsp;</span>キャッシュするとはじめの一秒だけ待てば良い</a></span></li></ul></li></ul></li><li><span><a href=\"#Generic-Functions-with-Single-Dispatch\" data-toc-modified-id=\"Generic-Functions-with-Single-Dispatch-5.6\"><span class=\"toc-item-num\">5.6&nbsp;&nbsp;</span>Generic Functions with Single Dispatch</a></span></li></ul></li></ul></div>"
   ]
  },
  {
   "cell_type": "markdown",
   "metadata": {
    "ein.tags": "worksheet-0",
    "slideshow": {
     "slide_type": "-"
    }
   },
   "source": [
    "# Chapter 1"
   ]
  },
  {
   "cell_type": "markdown",
   "metadata": {
    "ein.tags": "worksheet-0",
    "slideshow": {
     "slide_type": "-"
    }
   },
   "source": [
    "## French Deck"
   ]
  },
  {
   "cell_type": "code",
   "execution_count": 7,
   "metadata": {
    "autoscroll": false,
    "ein.hycell": false,
    "ein.tags": "worksheet-0",
    "slideshow": {
     "slide_type": "-"
    }
   },
   "outputs": [],
   "source": [
    "import collections\n",
    "\n",
    "Card = collections.namedtuple('Card', ['rank', 'suit'])\n",
    "\n",
    "class FrenchDeck(object):\n",
    "    ranks = [str(n) for n in range(2,11)] + list('JQKA')\n",
    "    suits = 'spades diamonds clubs hearts'.split()\n",
    "\n",
    "    def __init__(self, ):\n",
    "        self._cards = [Card(rank, suit) for suit in self.suits\n",
    "                                        for rank in self.ranks]\n",
    "        \n",
    "    def __len__(self):\n",
    "        print('showing len...')\n",
    "        return len(self._cards)\n",
    "        \n",
    "    def __getitem__(self, position):\n",
    "        print('getting items...')\n",
    "        return self._cards[position]                "
   ]
  },
  {
   "cell_type": "code",
   "execution_count": 8,
   "metadata": {
    "autoscroll": false,
    "ein.hycell": false,
    "ein.tags": "worksheet-0",
    "slideshow": {
     "slide_type": "-"
    }
   },
   "outputs": [
    {
     "data": {
      "text/plain": [
       "Card(rank='7', suit='diamonds')"
      ]
     },
     "execution_count": 8,
     "metadata": {},
     "output_type": "execute_result"
    }
   ],
   "source": [
    "beer_card = Card('7', 'diamonds')\n",
    "beer_card"
   ]
  },
  {
   "cell_type": "code",
   "execution_count": 9,
   "metadata": {
    "autoscroll": false,
    "ein.hycell": false,
    "ein.tags": "worksheet-0",
    "slideshow": {
     "slide_type": "-"
    }
   },
   "outputs": [
    {
     "name": "stdout",
     "output_type": "stream",
     "text": [
      "showing len...\n"
     ]
    },
    {
     "data": {
      "text/plain": [
       "52"
      ]
     },
     "execution_count": 9,
     "metadata": {},
     "output_type": "execute_result"
    }
   ],
   "source": [
    "deck = FrenchDeck()\n",
    "len(deck)"
   ]
  },
  {
   "cell_type": "code",
   "execution_count": 12,
   "metadata": {
    "autoscroll": false,
    "ein.hycell": false,
    "ein.tags": "worksheet-0",
    "slideshow": {
     "slide_type": "-"
    }
   },
   "outputs": [
    {
     "name": "stdout",
     "output_type": "stream",
     "text": [
      "getting items...\n"
     ]
    },
    {
     "data": {
      "text/plain": [
       "Card(rank='2', suit='spades')"
      ]
     },
     "execution_count": 12,
     "metadata": {},
     "output_type": "execute_result"
    }
   ],
   "source": [
    "deck[0]"
   ]
  },
  {
   "cell_type": "code",
   "execution_count": 13,
   "metadata": {
    "autoscroll": false,
    "ein.hycell": false,
    "ein.tags": "worksheet-0",
    "slideshow": {
     "slide_type": "-"
    }
   },
   "outputs": [
    {
     "name": "stdout",
     "output_type": "stream",
     "text": [
      "showing len...\n",
      "getting items...\n"
     ]
    },
    {
     "data": {
      "text/plain": [
       "Card(rank='K', suit='clubs')"
      ]
     },
     "execution_count": 13,
     "metadata": {},
     "output_type": "execute_result"
    }
   ],
   "source": [
    "from random import choice\n",
    "\n",
    "choice(deck)"
   ]
  },
  {
   "cell_type": "code",
   "execution_count": 14,
   "metadata": {
    "autoscroll": false,
    "ein.hycell": false,
    "ein.tags": "worksheet-0",
    "slideshow": {
     "slide_type": "-"
    }
   },
   "outputs": [
    {
     "name": "stdout",
     "output_type": "stream",
     "text": [
      "showing len...\n",
      "getting items...\n"
     ]
    },
    {
     "data": {
      "text/plain": [
       "Card(rank='4', suit='diamonds')"
      ]
     },
     "execution_count": 14,
     "metadata": {},
     "output_type": "execute_result"
    }
   ],
   "source": [
    "choice(deck)"
   ]
  },
  {
   "cell_type": "code",
   "execution_count": 15,
   "metadata": {
    "autoscroll": false,
    "ein.hycell": false,
    "ein.tags": "worksheet-0",
    "slideshow": {
     "slide_type": "-"
    }
   },
   "outputs": [
    {
     "name": "stdout",
     "output_type": "stream",
     "text": [
      "getting items...\n"
     ]
    },
    {
     "data": {
      "text/plain": [
       "[Card(rank='2', suit='spades'),\n",
       " Card(rank='3', suit='spades'),\n",
       " Card(rank='4', suit='spades')]"
      ]
     },
     "execution_count": 15,
     "metadata": {},
     "output_type": "execute_result"
    }
   ],
   "source": [
    "deck[:3]"
   ]
  },
  {
   "cell_type": "code",
   "execution_count": 16,
   "metadata": {
    "autoscroll": false,
    "ein.hycell": false,
    "ein.tags": "worksheet-0",
    "slideshow": {
     "slide_type": "-"
    }
   },
   "outputs": [
    {
     "name": "stdout",
     "output_type": "stream",
     "text": [
      "getting items...\n",
      "Card(rank='2', suit='spades')\n",
      "Card(rank='3', suit='spades')\n",
      "Card(rank='4', suit='spades')\n",
      "Card(rank='5', suit='spades')\n",
      "Card(rank='6', suit='spades')\n",
      "Card(rank='7', suit='spades')\n"
     ]
    }
   ],
   "source": [
    "for card in deck[0:6]:\n",
    "    print(card)"
   ]
  },
  {
   "cell_type": "code",
   "execution_count": 17,
   "metadata": {
    "autoscroll": false,
    "ein.hycell": false,
    "ein.tags": "worksheet-0",
    "slideshow": {
     "slide_type": "-"
    }
   },
   "outputs": [
    {
     "name": "stdout",
     "output_type": "stream",
     "text": [
      "getting items...\n"
     ]
    },
    {
     "data": {
      "text/plain": [
       "True"
      ]
     },
     "execution_count": 17,
     "metadata": {},
     "output_type": "execute_result"
    }
   ],
   "source": [
    "a_card = Card(rank='2', suit='spades')\n",
    "a_card in deck"
   ]
  },
  {
   "cell_type": "code",
   "execution_count": 18,
   "metadata": {
    "autoscroll": false,
    "ein.hycell": false,
    "ein.tags": "worksheet-0",
    "slideshow": {
     "slide_type": "-"
    }
   },
   "outputs": [
    {
     "name": "stdout",
     "output_type": "stream",
     "text": [
      "getting items...\n",
      "Card(rank='2', suit='spades')\n",
      "Card(rank='3', suit='spades')\n",
      "Card(rank='4', suit='spades')\n",
      "Card(rank='5', suit='spades')\n",
      "Card(rank='6', suit='spades')\n",
      "Card(rank='7', suit='spades')\n",
      "Card(rank='8', suit='spades')\n",
      "Card(rank='9', suit='spades')\n",
      "Card(rank='10', suit='spades')\n",
      "Card(rank='J', suit='spades')\n",
      "Card(rank='Q', suit='spades')\n"
     ]
    }
   ],
   "source": [
    "suit_values = dict(spades=3, hearts=2, diamonds=1, clubs=0)\n",
    "\n",
    "def spades_high(card):\n",
    "    rank_value = FrenchDeck.ranks.index(card.rank)\n",
    "    return rank_value * len(suit_values) + suit_values[card.suit]\n",
    "\n",
    "for card in sorted(deck[0:11], key=spades_high):\n",
    "    print(card)"
   ]
  },
  {
   "cell_type": "markdown",
   "metadata": {
    "ein.tags": "worksheet-0",
    "slideshow": {
     "slide_type": "-"
    }
   },
   "source": [
    "## Vector"
   ]
  },
  {
   "cell_type": "code",
   "execution_count": 20,
   "metadata": {
    "autoscroll": false,
    "ein.hycell": false,
    "ein.tags": "worksheet-0",
    "slideshow": {
     "slide_type": "-"
    }
   },
   "outputs": [],
   "source": [
    "from math import hypot\n",
    "\n",
    "class Vector(object):\n",
    "\n",
    "    def __init__(self, x=0, y=0):\n",
    "        self.x = x\n",
    "        self.y = y\n",
    "\n",
    "    def __repr__(self):\n",
    "        return f'==Vector({self.x}, {self.y})=='\n",
    "\n",
    "    def __abs__(self):\n",
    "        return hypot(self.x, self.y)\n",
    "\n",
    "    def __bool__(self):\n",
    "        return bool(abs(self))\n",
    "\n",
    "    def __add__(self, other):\n",
    "        x = self.x + other.x\n",
    "        y = self.y + other.y\n",
    "        return Vector(x,y)\n",
    "\n",
    "    def __mul__(self, scalar):\n",
    "        return Vector(self.x * scalar, self.y * scalar)"
   ]
  },
  {
   "cell_type": "code",
   "execution_count": 21,
   "metadata": {
    "autoscroll": false,
    "ein.hycell": false,
    "ein.tags": "worksheet-0",
    "slideshow": {
     "slide_type": "-"
    }
   },
   "outputs": [
    {
     "data": {
      "text/plain": [
       "==Vector(4, 7)=="
      ]
     },
     "execution_count": 21,
     "metadata": {},
     "output_type": "execute_result"
    }
   ],
   "source": [
    "v1 = Vector(2,4)\n",
    "v2 = Vector(2,3)\n",
    "v1 + v2"
   ]
  },
  {
   "cell_type": "code",
   "execution_count": 22,
   "metadata": {
    "autoscroll": false,
    "ein.hycell": false,
    "ein.tags": "worksheet-0",
    "slideshow": {
     "slide_type": "-"
    }
   },
   "outputs": [
    {
     "data": {
      "text/plain": [
       "4.47213595499958"
      ]
     },
     "execution_count": 22,
     "metadata": {},
     "output_type": "execute_result"
    }
   ],
   "source": [
    "abs(v1)"
   ]
  },
  {
   "cell_type": "code",
   "execution_count": 23,
   "metadata": {
    "autoscroll": false,
    "ein.hycell": false,
    "ein.tags": "worksheet-0",
    "slideshow": {
     "slide_type": "-"
    }
   },
   "outputs": [
    {
     "data": {
      "text/plain": [
       "==Vector(6, 12)=="
      ]
     },
     "execution_count": 23,
     "metadata": {},
     "output_type": "execute_result"
    }
   ],
   "source": [
    "v1 * 3 "
   ]
  },
  {
   "cell_type": "markdown",
   "metadata": {
    "ein.tags": "worksheet-0",
    "slideshow": {
     "slide_type": "-"
    }
   },
   "source": [
    "# Chap2"
   ]
  },
  {
   "cell_type": "markdown",
   "metadata": {
    "ein.tags": "worksheet-0",
    "slideshow": {
     "slide_type": "-"
    }
   },
   "source": [
    "## Tuple unpacking"
   ]
  },
  {
   "cell_type": "code",
   "execution_count": 15,
   "metadata": {
    "autoscroll": false,
    "ein.hycell": false,
    "ein.tags": "worksheet-0",
    "slideshow": {
     "slide_type": "-"
    }
   },
   "outputs": [
    {
     "data": {
      "text/plain": [
       "City(name='Tokyo', country='JP', population=36.933, coodinates=LatLong(lat=35.689, long=139.691))"
      ]
     },
     "execution_count": 15,
     "metadata": {},
     "output_type": "execute_result"
    }
   ],
   "source": [
    "from collections import namedtuple\n",
    "\n",
    "City = namedtuple('City', 'name country population coodinates')\n",
    "LatLong = namedtuple('LatLong', 'lat long') \n",
    "tokyo = City('Tokyo', 'JP', 36.933, LatLong(35.689, 139.691))\n",
    "tokyo"
   ]
  },
  {
   "cell_type": "code",
   "execution_count": 16,
   "metadata": {
    "autoscroll": false,
    "ein.hycell": false,
    "ein.tags": "worksheet-0",
    "slideshow": {
     "slide_type": "-"
    }
   },
   "outputs": [
    {
     "data": {
      "text/plain": [
       "36.933"
      ]
     },
     "execution_count": 16,
     "metadata": {},
     "output_type": "execute_result"
    }
   ],
   "source": [
    "tokyo.population"
   ]
  },
  {
   "cell_type": "code",
   "execution_count": 17,
   "metadata": {
    "autoscroll": false,
    "ein.hycell": false,
    "ein.tags": "worksheet-0",
    "slideshow": {
     "slide_type": "-"
    }
   },
   "outputs": [
    {
     "data": {
      "text/plain": [
       "LatLong(lat=35.689, long=139.691)"
      ]
     },
     "execution_count": 17,
     "metadata": {},
     "output_type": "execute_result"
    }
   ],
   "source": [
    "tokyo.coodinates"
   ]
  },
  {
   "cell_type": "code",
   "execution_count": 18,
   "metadata": {
    "autoscroll": false,
    "ein.hycell": false,
    "ein.tags": "worksheet-0",
    "slideshow": {
     "slide_type": "-"
    }
   },
   "outputs": [
    {
     "data": {
      "text/plain": [
       "('name', 'country', 'population', 'coodinates')"
      ]
     },
     "execution_count": 18,
     "metadata": {},
     "output_type": "execute_result"
    }
   ],
   "source": [
    "tokyo._fields"
   ]
  },
  {
   "cell_type": "code",
   "execution_count": 19,
   "metadata": {
    "autoscroll": false,
    "ein.hycell": false,
    "ein.tags": "worksheet-0",
    "slideshow": {
     "slide_type": "-"
    }
   },
   "outputs": [
    {
     "data": {
      "text/plain": [
       "OrderedDict([('name', 'Tokyo'),\n",
       "             ('country', 'JP'),\n",
       "             ('population', 36.933),\n",
       "             ('coodinates', LatLong(lat=35.689, long=139.691))])"
      ]
     },
     "execution_count": 19,
     "metadata": {},
     "output_type": "execute_result"
    }
   ],
   "source": [
    "tokyo._asdict()"
   ]
  },
  {
   "cell_type": "code",
   "execution_count": 20,
   "metadata": {
    "autoscroll": false,
    "ein.hycell": false,
    "ein.tags": "worksheet-0",
    "slideshow": {
     "slide_type": "-"
    }
   },
   "outputs": [
    {
     "name": "stdout",
     "output_type": "stream",
     "text": [
      "name : Tokyo\n",
      "country : JP\n",
      "population : 36.933\n",
      "coodinates : LatLong(lat=35.689, long=139.691)\n"
     ]
    }
   ],
   "source": [
    "for key, value in tokyo._asdict().items():\n",
    "    print(f\"{key} : {value}\")"
   ]
  },
  {
   "cell_type": "markdown",
   "metadata": {
    "ein.tags": "worksheet-0",
    "slideshow": {
     "slide_type": "-"
    }
   },
   "source": [
    "## Chap3"
   ]
  },
  {
   "cell_type": "markdown",
   "metadata": {
    "autoscroll": false,
    "ein.hycell": false,
    "ein.tags": "worksheet-0",
    "slideshow": {
     "slide_type": "-"
    }
   },
   "source": [
    "### 更新するときは set_default のほうが get よりいい"
   ]
  },
  {
   "cell_type": "markdown",
   "metadata": {},
   "source": [
    "#### get"
   ]
  },
  {
   "cell_type": "code",
   "execution_count": 24,
   "metadata": {},
   "outputs": [
    {
     "data": {
      "text/plain": [
       "{'a': ['✓', '✓', '✓', '✓'],\n",
       " 's': ['✓', '✓', '✓', '✓', '✓'],\n",
       " 'd': ['✓', '✓', '✓', '✓', '✓', '✓']}"
      ]
     },
     "execution_count": 24,
     "metadata": {},
     "output_type": "execute_result"
    }
   ],
   "source": [
    "sentence = 'aaaasssssdddddd'\n",
    "new_dict = {}\n",
    "\n",
    "for letter in sentence:\n",
    "    count = new_dict.get(letter, [])\n",
    "    count.append('✓')\n",
    "    new_dict[letter] = count\n",
    "\n",
    "new_dict"
   ]
  },
  {
   "cell_type": "markdown",
   "metadata": {},
   "source": [
    "#### set_default"
   ]
  },
  {
   "cell_type": "code",
   "execution_count": 44,
   "metadata": {},
   "outputs": [
    {
     "data": {
      "text/plain": [
       "{'a': ['✓', '✓', '✓', '✓', '✓'],\n",
       " 's': ['✓', '✓', '✓', '✓', '✓', '✓'],\n",
       " 'd': ['✓', '✓', '✓', '✓', '✓', '✓', '✓'],\n",
       " 'f': ['✓', '✓', '✓', '✓', '✓', '✓']}"
      ]
     },
     "execution_count": 44,
     "metadata": {},
     "output_type": "execute_result"
    }
   ],
   "source": [
    "sentence = 'asdfdfadsdfsasdfasdfasdf'\n",
    "new_dict = {}\n",
    "\n",
    "for letter in sentence:\n",
    "    new_dict.setdefault(letter, []).append('✓')\n",
    "\n",
    "new_dict"
   ]
  },
  {
   "cell_type": "markdown",
   "metadata": {},
   "source": [
    "#### defatuldictを使う"
   ]
  },
  {
   "cell_type": "code",
   "execution_count": 30,
   "metadata": {},
   "outputs": [
    {
     "name": "stdout",
     "output_type": "stream",
     "text": [
      "defaultdict(<class 'list'>, {})\n"
     ]
    },
    {
     "data": {
      "text/plain": [
       "defaultdict(list,\n",
       "            {'a': ['✓', '✓', '✓', '✓', '✓'],\n",
       "             's': ['✓', '✓', '✓', '✓', '✓', '✓'],\n",
       "             'd': ['✓', '✓', '✓', '✓', '✓', '✓', '✓'],\n",
       "             'f': ['✓', '✓', '✓', '✓', '✓', '✓']})"
      ]
     },
     "execution_count": 30,
     "metadata": {},
     "output_type": "execute_result"
    }
   ],
   "source": [
    "import collections\n",
    "sentence = 'asdfdfadsdfsasdfasdfasdf'\n",
    "\n",
    "# defaultfactory を list にする\n",
    "new_dict = collections.defaultdict(list)\n",
    "\n",
    "print(new_dict)\n",
    "\n",
    "for letter in sentence:\n",
    "    new_dict[letter].append('✓')\n",
    "\n",
    "new_dict"
   ]
  },
  {
   "cell_type": "markdown",
   "metadata": {},
   "source": [
    "### \\_\\_missing\\_\\_ を使う"
   ]
  },
  {
   "cell_type": "code",
   "execution_count": 123,
   "metadata": {},
   "outputs": [],
   "source": [
    "# Dictを継承してる\n",
    "class MySpecialDict(dict):\n",
    "    def __missing__(self, key):\n",
    "        print(f\"Can't find {key}!! We raise Error!!\")\n",
    "        if isinstance(key, str):\n",
    "            raise KeyError(key)\n",
    "        return self[str(key)]\n",
    "    \n",
    "    # this delegates __get_item__\n",
    "    def get(self, key, default=None):\n",
    "        print(f'getting key: {key}')\n",
    "        try: \n",
    "            return self[key]\n",
    "        except KeyError:\n",
    "            print(f\"We had KeyError!! we don't have key: {key}\")\n",
    "            return default\n",
    "\n",
    "    # delegate \"in\"\n",
    "    def __contains__(self, key):\n",
    "        print(f'checking {key} is in self...')\n",
    "        return key in self.keys() or str(key) in self.keys()\n",
    "    \n",
    "my_dict = MySpecialDict({'a': 1, 'b': 2, 'c': 3})"
   ]
  },
  {
   "cell_type": "markdown",
   "metadata": {},
   "source": [
    "#### get method を変更する"
   ]
  },
  {
   "cell_type": "code",
   "execution_count": 124,
   "metadata": {},
   "outputs": [
    {
     "name": "stdout",
     "output_type": "stream",
     "text": [
      "getting key: a\n"
     ]
    },
    {
     "data": {
      "text/plain": [
       "1"
      ]
     },
     "execution_count": 124,
     "metadata": {},
     "output_type": "execute_result"
    }
   ],
   "source": [
    "my_dict.get('a')"
   ]
  },
  {
   "cell_type": "code",
   "execution_count": 125,
   "metadata": {},
   "outputs": [
    {
     "name": "stdout",
     "output_type": "stream",
     "text": [
      "getting key: 7\n",
      "Can't find 7!! We raise Error!!\n",
      "We had KeyError!! we don't have key: 7\n"
     ]
    }
   ],
   "source": [
    "my_dict.get('7')"
   ]
  },
  {
   "cell_type": "markdown",
   "metadata": {},
   "source": [
    "#### 「in」の挙動を変更する"
   ]
  },
  {
   "cell_type": "code",
   "execution_count": 126,
   "metadata": {},
   "outputs": [
    {
     "name": "stdout",
     "output_type": "stream",
     "text": [
      "checking nothing is in self...\n"
     ]
    },
    {
     "data": {
      "text/plain": [
       "False"
      ]
     },
     "execution_count": 126,
     "metadata": {},
     "output_type": "execute_result"
    }
   ],
   "source": [
    "'nothing' in my_dict "
   ]
  },
  {
   "cell_type": "code",
   "execution_count": 127,
   "metadata": {},
   "outputs": [
    {
     "name": "stdout",
     "output_type": "stream",
     "text": [
      "checking a is in self...\n"
     ]
    },
    {
     "data": {
      "text/plain": [
       "True"
      ]
     },
     "execution_count": 127,
     "metadata": {},
     "output_type": "execute_result"
    }
   ],
   "source": [
    "'a' in my_dict"
   ]
  },
  {
   "cell_type": "markdown",
   "metadata": {},
   "source": [
    "### Dictのラッパーとかいろいろ"
   ]
  },
  {
   "cell_type": "markdown",
   "metadata": {},
   "source": [
    "#### Counter"
   ]
  },
  {
   "cell_type": "code",
   "execution_count": 128,
   "metadata": {},
   "outputs": [
    {
     "data": {
      "text/plain": [
       "Counter({'a': 3, 'b': 3})"
      ]
     },
     "execution_count": 128,
     "metadata": {},
     "output_type": "execute_result"
    }
   ],
   "source": [
    "import collections\n",
    "ct = collections.Counter('aaabbb')\n",
    "ct"
   ]
  },
  {
   "cell_type": "markdown",
   "metadata": {},
   "source": [
    "#### Dict 継承するぐらいなら、User Dictを継承したほうが使いやすい。"
   ]
  },
  {
   "cell_type": "code",
   "execution_count": 20,
   "metadata": {},
   "outputs": [
    {
     "name": "stdout",
     "output_type": "stream",
     "text": [
      "key: a, item: 1 was set\n",
      "key: b, item: 2 was set\n",
      "key: c, item: 3 was set\n"
     ]
    }
   ],
   "source": [
    "import collections\n",
    "\n",
    "\n",
    "class MySpecialDict2(collections.UserDict):\n",
    "    def __missing__(self, key):\n",
    "        print(f\"Can't find {key}!! We raise Error!!\")\n",
    "        if isinstance(key, str):\n",
    "            raise KeyError(key)\n",
    "        return self[str(key)]\n",
    "\n",
    "    def __setitem__(self, key, item):\n",
    "        print(f'key: {key}, item: {item} was set')\n",
    "        self.data[str(key)] = item\n",
    "\n",
    "    # MySpecitalDict よりちょっとシンプル\n",
    "    def __contains__(self, key):\n",
    "        print(f'checking {key} is in self...')\n",
    "        return str(key) in self.data\n",
    "\n",
    "\n",
    "my_dict = MySpecialDict2({'a': 1, 'b': 2, 'c': 3})"
   ]
  },
  {
   "cell_type": "code",
   "execution_count": 21,
   "metadata": {},
   "outputs": [
    {
     "data": {
      "text/plain": [
       "1"
      ]
     },
     "execution_count": 21,
     "metadata": {},
     "output_type": "execute_result"
    }
   ],
   "source": [
    "my_dict.get('a')"
   ]
  },
  {
   "cell_type": "code",
   "execution_count": 22,
   "metadata": {},
   "outputs": [
    {
     "name": "stdout",
     "output_type": "stream",
     "text": [
      "Can't find x!! We raise Error!!\n"
     ]
    }
   ],
   "source": [
    "my_dict.get('x')"
   ]
  },
  {
   "cell_type": "code",
   "execution_count": 23,
   "metadata": {},
   "outputs": [
    {
     "name": "stdout",
     "output_type": "stream",
     "text": [
      "checking x is in self...\n"
     ]
    },
    {
     "data": {
      "text/plain": [
       "False"
      ]
     },
     "execution_count": 23,
     "metadata": {},
     "output_type": "execute_result"
    }
   ],
   "source": [
    "'x' in my_dict"
   ]
  },
  {
   "cell_type": "code",
   "execution_count": 24,
   "metadata": {},
   "outputs": [
    {
     "name": "stdout",
     "output_type": "stream",
     "text": [
      "checking a is in self...\n"
     ]
    },
    {
     "data": {
      "text/plain": [
       "True"
      ]
     },
     "execution_count": 24,
     "metadata": {},
     "output_type": "execute_result"
    }
   ],
   "source": [
    "'a' in my_dict"
   ]
  },
  {
   "cell_type": "markdown",
   "metadata": {},
   "source": [
    "##### set item -> str にしなくても受け付ける"
   ]
  },
  {
   "cell_type": "code",
   "execution_count": 25,
   "metadata": {},
   "outputs": [
    {
     "name": "stdout",
     "output_type": "stream",
     "text": [
      "key: 1, item: b was set\n"
     ]
    },
    {
     "data": {
      "text/plain": [
       "{'a': 1, 'b': 2, 'c': 3, '1': 'b'}"
      ]
     },
     "execution_count": 25,
     "metadata": {},
     "output_type": "execute_result"
    }
   ],
   "source": [
    "my_dict[1] = 'b'\n",
    "my_dict"
   ]
  },
  {
   "cell_type": "markdown",
   "metadata": {},
   "source": [
    "#### Immutable Dict"
   ]
  },
  {
   "cell_type": "code",
   "execution_count": 1,
   "metadata": {},
   "outputs": [
    {
     "data": {
      "text/plain": [
       "mappingproxy({1: 'A'})"
      ]
     },
     "execution_count": 1,
     "metadata": {},
     "output_type": "execute_result"
    }
   ],
   "source": [
    "from types import MappingProxyType\n",
    "d = {1: 'A'}\n",
    "d_proxy = MappingProxyType(d)\n",
    "d_proxy"
   ]
  },
  {
   "cell_type": "code",
   "execution_count": 2,
   "metadata": {},
   "outputs": [
    {
     "ename": "TypeError",
     "evalue": "'mappingproxy' object does not support item assignment",
     "output_type": "error",
     "traceback": [
      "\u001b[1;31m---------------------------------------------------------------------------\u001b[0m",
      "\u001b[1;31mTypeError\u001b[0m                                 Traceback (most recent call last)",
      "\u001b[1;32m<ipython-input-2-bc17a9a62754>\u001b[0m in \u001b[0;36m<module>\u001b[1;34m()\u001b[0m\n\u001b[1;32m----> 1\u001b[1;33m \u001b[0md_proxy\u001b[0m\u001b[1;33m[\u001b[0m\u001b[1;36m2\u001b[0m\u001b[1;33m]\u001b[0m \u001b[1;33m=\u001b[0m \u001b[1;34m'x'\u001b[0m\u001b[1;33m\u001b[0m\u001b[0m\n\u001b[0m",
      "\u001b[1;31mTypeError\u001b[0m: 'mappingproxy' object does not support item assignment"
     ]
    }
   ],
   "source": [
    "d_proxy[2] = 'x'"
   ]
  },
  {
   "cell_type": "markdown",
   "metadata": {},
   "source": [
    "### Set"
   ]
  },
  {
   "cell_type": "code",
   "execution_count": 4,
   "metadata": {},
   "outputs": [
    {
     "data": {
      "text/plain": [
       "{'eggs', 'spam'}"
      ]
     },
     "execution_count": 4,
     "metadata": {},
     "output_type": "execute_result"
    }
   ],
   "source": [
    "l = ['spam', 'spam', 'eggs', 'spam']\n",
    "set(l)"
   ]
  },
  {
   "cell_type": "markdown",
   "metadata": {},
   "source": [
    "#### set には&とか使える\n",
    "\n",
    "&, |, -=, &=, ^ とかその他色々ある"
   ]
  },
  {
   "cell_type": "code",
   "execution_count": 8,
   "metadata": {},
   "outputs": [
    {
     "data": {
      "text/plain": [
       "{2, 3}"
      ]
     },
     "execution_count": 8,
     "metadata": {},
     "output_type": "execute_result"
    }
   ],
   "source": [
    "hey_stack = {1,2,2,3,4,5,6}\n",
    "needles ={2,3, 10}\n",
    "\n",
    "needles & hey_stack"
   ]
  },
  {
   "cell_type": "markdown",
   "metadata": {},
   "source": [
    "#### 上より重い処理だが、これでもよい"
   ]
  },
  {
   "cell_type": "code",
   "execution_count": 11,
   "metadata": {},
   "outputs": [
    {
     "data": {
      "text/plain": [
       "{2, 3}"
      ]
     },
     "execution_count": 11,
     "metadata": {},
     "output_type": "execute_result"
    }
   ],
   "source": [
    "hey_stack = [1,2,2,3,4,5,6]\n",
    "needles =[2,3, 10]\n",
    "\n",
    "set(needles).intersection(hey_stack)"
   ]
  },
  {
   "cell_type": "markdown",
   "metadata": {},
   "source": [
    "# Chap5 - Function and Objects"
   ]
  },
  {
   "cell_type": "markdown",
   "metadata": {},
   "source": [
    "## Higher-Order Function - Function which takes function as ARG-"
   ]
  },
  {
   "cell_type": "code",
   "execution_count": 5,
   "metadata": {},
   "outputs": [
    {
     "data": {
      "text/plain": [
       "'4321'"
      ]
     },
     "execution_count": 5,
     "metadata": {},
     "output_type": "execute_result"
    }
   ],
   "source": [
    "def reverse(word):\n",
    "    return word[::-1]\n",
    "\n",
    "fruits = ['strawberry', 'fig', 'apple', 'cherry', 'raspberry', 'banana']\n",
    "\n",
    "reverse('1234')"
   ]
  },
  {
   "cell_type": "code",
   "execution_count": 6,
   "metadata": {},
   "outputs": [
    {
     "data": {
      "text/plain": [
       "['banana', 'apple', 'fig', 'raspberry', 'strawberry', 'cherry']"
      ]
     },
     "execution_count": 6,
     "metadata": {},
     "output_type": "execute_result"
    }
   ],
   "source": [
    "sorted(fruits, key=reverse)"
   ]
  },
  {
   "cell_type": "markdown",
   "metadata": {},
   "source": [
    "## mapとfilterがあるけど別に使わなくてもいい"
   ]
  },
  {
   "cell_type": "code",
   "execution_count": 12,
   "metadata": {},
   "outputs": [],
   "source": [
    "def factorial(n):\n",
    "    '''returns n!'''\n",
    "    return 1 if n < 2 else n * factorial(n-1)"
   ]
  },
  {
   "cell_type": "code",
   "execution_count": 13,
   "metadata": {},
   "outputs": [
    {
     "name": "stdout",
     "output_type": "stream",
     "text": [
      "[1, 1, 2, 6, 24, 120]\n",
      "[1, 1, 2, 6, 24, 120]\n"
     ]
    }
   ],
   "source": [
    "print(\n",
    "    list(map(factorial, range(6)))\n",
    ")\n",
    "print(\n",
    "    [factorial(n) for n in range(6)]\n",
    "     )"
   ]
  },
  {
   "cell_type": "code",
   "execution_count": 14,
   "metadata": {},
   "outputs": [
    {
     "data": {
      "text/plain": [
       "[1, 6, 120]"
      ]
     },
     "execution_count": 14,
     "metadata": {},
     "output_type": "execute_result"
    }
   ],
   "source": [
    "list(map(factorial, filter(lambda n: n % 2, range(6))))"
   ]
  },
  {
   "cell_type": "code",
   "execution_count": 15,
   "metadata": {},
   "outputs": [
    {
     "data": {
      "text/plain": [
       "[1, 6, 120]"
      ]
     },
     "execution_count": 15,
     "metadata": {},
     "output_type": "execute_result"
    }
   ],
   "source": [
    "[factorial(n) for n in range(6) if n % 2]"
   ]
  },
  {
   "cell_type": "markdown",
   "metadata": {},
   "source": [
    "## reduceはRollingCalcに使える"
   ]
  },
  {
   "cell_type": "code",
   "execution_count": 31,
   "metadata": {},
   "outputs": [
    {
     "name": "stdout",
     "output_type": "stream",
     "text": [
      "1 2\n",
      "3 3\n",
      "6 4\n",
      "10 5\n"
     ]
    },
    {
     "data": {
      "text/plain": [
       "15"
      ]
     },
     "execution_count": 31,
     "metadata": {},
     "output_type": "execute_result"
    }
   ],
   "source": [
    "from functools import reduce\n",
    "\n",
    "def tashizan(n, m):\n",
    "    print(n, m)\n",
    "    n += m\n",
    "    return n\n",
    "\n",
    "reduce(tashizan, [1,2,3,4,5])"
   ]
  },
  {
   "cell_type": "markdown",
   "metadata": {},
   "source": [
    "## \\_\\_call\\_\\_ を使うと関数をそのまま呼んだときの動作を規定できる"
   ]
  },
  {
   "cell_type": "code",
   "execution_count": 36,
   "metadata": {},
   "outputs": [
    {
     "name": "stdout",
     "output_type": "stream",
     "text": [
      "picking your num..\n"
     ]
    },
    {
     "data": {
      "text/plain": [
       "1"
      ]
     },
     "execution_count": 36,
     "metadata": {},
     "output_type": "execute_result"
    }
   ],
   "source": [
    "import random\n",
    "\n",
    "\n",
    "class BingoCage:\n",
    "    def __init__(self, items):\n",
    "        self._items = list(items)\n",
    "        random.shuffle(self._items)\n",
    "\n",
    "    def pick(self):\n",
    "        print('picking your num..')\n",
    "        try:\n",
    "            return self._items.pop()\n",
    "        except IndexError:\n",
    "            raise LookupError('Pick from empty bingocage')\n",
    "\n",
    "    def __call__(self):\n",
    "        return self.pick()\n",
    "\n",
    "\n",
    "bingo = BingoCage(range(3))\n",
    "bingo.pick()"
   ]
  },
  {
   "cell_type": "code",
   "execution_count": 37,
   "metadata": {},
   "outputs": [
    {
     "name": "stdout",
     "output_type": "stream",
     "text": [
      "picking your num..\n"
     ]
    },
    {
     "data": {
      "text/plain": [
       "0"
      ]
     },
     "execution_count": 37,
     "metadata": {},
     "output_type": "execute_result"
    }
   ],
   "source": [
    "bingo()"
   ]
  },
  {
   "cell_type": "markdown",
   "metadata": {},
   "source": [
    "## kwarg の使い方"
   ]
  },
  {
   "cell_type": "code",
   "execution_count": 84,
   "metadata": {},
   "outputs": [
    {
     "name": "stdout",
     "output_type": "stream",
     "text": [
      "<br />\n",
      "<p>hello<p>\n",
      "<p>hello<p><p>world<p>\n",
      "<p id=33>hello<p>\n",
      "<p class=sidebar>hello<p><p class=sidebar>world<p>\n",
      "<img content=testing />\n",
      "<img class=framed src=sunset.jpg title=Sunset Boulevard />\n"
     ]
    }
   ],
   "source": [
    "def tag(name, *content, cls=None, **attrs):\n",
    "    \"\"\"Generate one or more HTML tags\"\"\"\n",
    "    if cls is not None:\n",
    "        attrs['class'] = cls\n",
    "\n",
    "    if attrs:\n",
    "        _sorted = sorted(attrs.items())\n",
    "        _list = [f' {attr}={value}' for attr, value in _sorted]\n",
    "        attr_str = ''.join(_list)\n",
    "    else:\n",
    "        attr_str = ''\n",
    "\n",
    "    if content:\n",
    "        _str = [f'<{name}{attr_str}>{c}<{name}>' for c in content]\n",
    "        return ''.join(_str)\n",
    "    else:\n",
    "        return f'<{name}{attr_str} />'\n",
    "\n",
    "\n",
    "print(tag('br'))\n",
    "print(tag('p', 'hello'))\n",
    "print(tag('p', 'hello', 'world'))\n",
    "print(tag('p', 'hello', id=33))\n",
    "print(tag('p', 'hello', 'world', cls='sidebar'))\n",
    "print(tag(content='testing', name=\"img\"))\n",
    "\n",
    "my_tag = {'name': 'img', 'title': 'Sunset Boulevard',\n",
    "                  'src': 'sunset.jpg', 'cls': 'framed'}\n",
    "\n",
    "print(tag(**my_tag))"
   ]
  },
  {
   "cell_type": "markdown",
   "metadata": {},
   "source": [
    "## Argumentを取ってくる方法"
   ]
  },
  {
   "cell_type": "markdown",
   "metadata": {},
   "source": [
    "### dunder を使う(ややめんどい)"
   ]
  },
  {
   "cell_type": "code",
   "execution_count": 17,
   "metadata": {},
   "outputs": [
    {
     "name": "stdout",
     "output_type": "stream",
     "text": [
      "('arg1 defaults', 'arg2 defaults')\n",
      "('arg1', 'arg2', 'kwarg1', 'arg3', 'kwarg4')\n",
      "2\n"
     ]
    }
   ],
   "source": [
    "def test_func(arg1='arg1 defaults', arg2='arg2 defaults', *arg3, kwarg1='kwarg1!!', **kwarg4):\n",
    "    print('heeeeey')\n",
    "\n",
    "print(test_func.__defaults__)\n",
    "print(test_func.__code__.co_varnames)\n",
    "print(test_func.__code__.co_argcount)"
   ]
  },
  {
   "cell_type": "markdown",
   "metadata": {},
   "source": [
    "### signature 使う"
   ]
  },
  {
   "cell_type": "code",
   "execution_count": 32,
   "metadata": {},
   "outputs": [
    {
     "data": {
      "text/plain": [
       "<Signature (arg1='arg1!!', arg2='arg2!!', *arg3, kwarg1='kwarg1!!', **kwarg4)>"
      ]
     },
     "execution_count": 32,
     "metadata": {},
     "output_type": "execute_result"
    }
   ],
   "source": [
    "from inspect import signature\n",
    "\n",
    "def test_func(arg1='arg1!!', arg2='arg2!!', *arg3, kwarg1='kwarg1!!', **kwarg4):\n",
    "    print('heeeeey')\n",
    "\n",
    "sig = signature(test_func)\n",
    "sig"
   ]
  },
  {
   "cell_type": "code",
   "execution_count": 34,
   "metadata": {},
   "outputs": [
    {
     "data": {
      "text/plain": [
       "\"(arg1='arg1!!', arg2='arg2!!', *arg3, kwarg1='kwarg1!!', **kwarg4)\""
      ]
     },
     "execution_count": 34,
     "metadata": {},
     "output_type": "execute_result"
    }
   ],
   "source": [
    "str(sig)"
   ]
  },
  {
   "cell_type": "code",
   "execution_count": 36,
   "metadata": {},
   "outputs": [
    {
     "name": "stdout",
     "output_type": "stream",
     "text": [
      "1: arg1 = arg1!!\n",
      "1: arg2 = arg2!!\n",
      "2: arg3 = <class 'inspect._empty'>\n",
      "3: kwarg1 = kwarg1!!\n",
      "4: kwarg4 = <class 'inspect._empty'>\n"
     ]
    }
   ],
   "source": [
    "for name, param in sig.parameters.items():\n",
    "    print(f'{param.kind}: {name} = {param.default}')"
   ]
  },
  {
   "cell_type": "markdown",
   "metadata": {},
   "source": [
    "### bindで kwarg と **kwargs を取る"
   ]
  },
  {
   "cell_type": "code",
   "execution_count": 88,
   "metadata": {},
   "outputs": [
    {
     "data": {
      "text/plain": [
       "<BoundArguments (this='is', my='keyword', arguments='!!!', kwargs={'and': 'the', 'rests': 'are kwargs'})>"
      ]
     },
     "execution_count": 88,
     "metadata": {},
     "output_type": "execute_result"
    }
   ],
   "source": [
    "from inspect import signature\n",
    "\n",
    "def test_func(this, my, arguments, **kwargs):\n",
    "    print('heeeeey')\n",
    "    print(this)\n",
    "\n",
    "\n",
    "my_kwargs = {'this': 'is', 'my': 'keyword', 'arguments': '!!!', 'and': 'the', 'rests': 'are kwargs'}\n",
    "\n",
    "sig = signature(test_func)\n",
    "bound_args = sig.bind(**my_kwargs)\n",
    "bound_args"
   ]
  },
  {
   "cell_type": "code",
   "execution_count": 89,
   "metadata": {},
   "outputs": [
    {
     "data": {
      "text/plain": [
       "odict_items([('this', 'is'), ('my', 'keyword'), ('arguments', '!!!'), ('kwargs', {'and': 'the', 'rests': 'are kwargs'})])"
      ]
     },
     "execution_count": 89,
     "metadata": {},
     "output_type": "execute_result"
    }
   ],
   "source": [
    "bound_args.arguments.items()"
   ]
  },
  {
   "cell_type": "code",
   "execution_count": 90,
   "metadata": {},
   "outputs": [
    {
     "name": "stdout",
     "output_type": "stream",
     "text": [
      "this = is\n",
      "my = keyword\n",
      "arguments = !!!\n",
      "kwargs = {'and': 'the', 'rests': 'are kwargs'}\n"
     ]
    }
   ],
   "source": [
    "for key, value in bound_args.arguments.items():\n",
    "    print(f'{key} = {value}')"
   ]
  },
  {
   "cell_type": "markdown",
   "metadata": {},
   "source": [
    "#### bind を使うと実行しないでも Args が正しいか判定できる\n",
    "\n",
    "print('heeey') は実行されていないが、kwargs に存在しない this が呼ばれてるのでエラーになってる。"
   ]
  },
  {
   "cell_type": "code",
   "execution_count": 94,
   "metadata": {},
   "outputs": [
    {
     "ename": "TypeError",
     "evalue": "missing a required argument: 'this'",
     "output_type": "error",
     "traceback": [
      "\u001b[1;31m---------------------------------------------------------------------------\u001b[0m",
      "\u001b[1;31mTypeError\u001b[0m                                 Traceback (most recent call last)",
      "\u001b[1;32m<ipython-input-94-f62415ccf731>\u001b[0m in \u001b[0;36m<module>\u001b[1;34m()\u001b[0m\n\u001b[0;32m      7\u001b[0m \u001b[0mmy_kwargs2\u001b[0m \u001b[1;33m=\u001b[0m \u001b[1;33m{\u001b[0m\u001b[1;34m'my'\u001b[0m\u001b[1;33m:\u001b[0m \u001b[1;34m'keyword'\u001b[0m\u001b[1;33m,\u001b[0m \u001b[1;34m'arguments'\u001b[0m\u001b[1;33m:\u001b[0m \u001b[1;34m'!!!'\u001b[0m\u001b[1;33m,\u001b[0m \u001b[1;34m'and'\u001b[0m\u001b[1;33m:\u001b[0m \u001b[1;34m'the'\u001b[0m\u001b[1;33m,\u001b[0m \u001b[1;34m'rests'\u001b[0m\u001b[1;33m:\u001b[0m \u001b[1;34m'are kwargs'\u001b[0m\u001b[1;33m}\u001b[0m\u001b[1;33m\u001b[0m\u001b[0m\n\u001b[0;32m      8\u001b[0m \u001b[1;33m\u001b[0m\u001b[0m\n\u001b[1;32m----> 9\u001b[1;33m \u001b[0mbound_args\u001b[0m \u001b[1;33m=\u001b[0m \u001b[0msig\u001b[0m\u001b[1;33m.\u001b[0m\u001b[0mbind\u001b[0m\u001b[1;33m(\u001b[0m\u001b[1;33m**\u001b[0m\u001b[0mmy_kwargs2\u001b[0m\u001b[1;33m)\u001b[0m\u001b[1;33m\u001b[0m\u001b[0m\n\u001b[0m\u001b[0;32m     10\u001b[0m \u001b[0mbound_args\u001b[0m\u001b[1;33m\u001b[0m\u001b[0m\n",
      "\u001b[1;32m~/anaconda3/lib/python3.6/inspect.py\u001b[0m in \u001b[0;36mbind\u001b[1;34m(*args, **kwargs)\u001b[0m\n\u001b[0;32m   2967\u001b[0m         \u001b[1;32mif\u001b[0m \u001b[0mthe\u001b[0m \u001b[0mpassed\u001b[0m \u001b[0marguments\u001b[0m \u001b[0mcan\u001b[0m \u001b[1;32mnot\u001b[0m \u001b[0mbe\u001b[0m \u001b[0mbound\u001b[0m\u001b[1;33m.\u001b[0m\u001b[1;33m\u001b[0m\u001b[0m\n\u001b[0;32m   2968\u001b[0m         \"\"\"\n\u001b[1;32m-> 2969\u001b[1;33m         \u001b[1;32mreturn\u001b[0m \u001b[0margs\u001b[0m\u001b[1;33m[\u001b[0m\u001b[1;36m0\u001b[0m\u001b[1;33m]\u001b[0m\u001b[1;33m.\u001b[0m\u001b[0m_bind\u001b[0m\u001b[1;33m(\u001b[0m\u001b[0margs\u001b[0m\u001b[1;33m[\u001b[0m\u001b[1;36m1\u001b[0m\u001b[1;33m:\u001b[0m\u001b[1;33m]\u001b[0m\u001b[1;33m,\u001b[0m \u001b[0mkwargs\u001b[0m\u001b[1;33m)\u001b[0m\u001b[1;33m\u001b[0m\u001b[0m\n\u001b[0m\u001b[0;32m   2970\u001b[0m \u001b[1;33m\u001b[0m\u001b[0m\n\u001b[0;32m   2971\u001b[0m     \u001b[1;32mdef\u001b[0m \u001b[0mbind_partial\u001b[0m\u001b[1;33m(\u001b[0m\u001b[1;33m*\u001b[0m\u001b[0margs\u001b[0m\u001b[1;33m,\u001b[0m \u001b[1;33m**\u001b[0m\u001b[0mkwargs\u001b[0m\u001b[1;33m)\u001b[0m\u001b[1;33m:\u001b[0m\u001b[1;33m\u001b[0m\u001b[0m\n",
      "\u001b[1;32m~/anaconda3/lib/python3.6/inspect.py\u001b[0m in \u001b[0;36m_bind\u001b[1;34m(self, args, kwargs, partial)\u001b[0m\n\u001b[0;32m   2882\u001b[0m                             \u001b[0mmsg\u001b[0m \u001b[1;33m=\u001b[0m \u001b[1;34m'missing a required argument: {arg!r}'\u001b[0m\u001b[1;33m\u001b[0m\u001b[0m\n\u001b[0;32m   2883\u001b[0m                             \u001b[0mmsg\u001b[0m \u001b[1;33m=\u001b[0m \u001b[0mmsg\u001b[0m\u001b[1;33m.\u001b[0m\u001b[0mformat\u001b[0m\u001b[1;33m(\u001b[0m\u001b[0marg\u001b[0m\u001b[1;33m=\u001b[0m\u001b[0mparam\u001b[0m\u001b[1;33m.\u001b[0m\u001b[0mname\u001b[0m\u001b[1;33m)\u001b[0m\u001b[1;33m\u001b[0m\u001b[0m\n\u001b[1;32m-> 2884\u001b[1;33m                             \u001b[1;32mraise\u001b[0m \u001b[0mTypeError\u001b[0m\u001b[1;33m(\u001b[0m\u001b[0mmsg\u001b[0m\u001b[1;33m)\u001b[0m \u001b[1;32mfrom\u001b[0m \u001b[1;32mNone\u001b[0m\u001b[1;33m\u001b[0m\u001b[0m\n\u001b[0m\u001b[0;32m   2885\u001b[0m             \u001b[1;32melse\u001b[0m\u001b[1;33m:\u001b[0m\u001b[1;33m\u001b[0m\u001b[0m\n\u001b[0;32m   2886\u001b[0m                 \u001b[1;31m# We have a positional argument to process\u001b[0m\u001b[1;33m\u001b[0m\u001b[1;33m\u001b[0m\u001b[0m\n",
      "\u001b[1;31mTypeError\u001b[0m: missing a required argument: 'this'"
     ]
    }
   ],
   "source": [
    "from inspect import signature\n",
    "\n",
    "def test_func(this, my, arguments, **kwargs):\n",
    "    print('heeeeey')\n",
    "    print(this)\n",
    "\n",
    "my_kwargs2 = {'my': 'keyword', 'arguments': '!!!', 'and': 'the', 'rests': 'are kwargs'}\n",
    "\n",
    "bound_args = sig.bind(**my_kwargs2)\n",
    "bound_args"
   ]
  },
  {
   "cell_type": "markdown",
   "metadata": {},
   "source": [
    "## Fucntion Annotations"
   ]
  },
  {
   "cell_type": "code",
   "execution_count": 33,
   "metadata": {},
   "outputs": [
    {
     "name": "stdout",
     "output_type": "stream",
     "text": [
      "abc\n",
      "abcde\n"
     ]
    }
   ],
   "source": [
    "def my_anno_func(text:str, max_len:'int > 0'=4) -> str:\n",
    "    print(text)\n",
    "    \n",
    "# 型が定義されているからと言って何かするわけではない\n",
    "# バリデーションとかしない\n",
    "my_anno_func('abc')\n",
    "my_anno_func('abcde')\n"
   ]
  },
  {
   "cell_type": "code",
   "execution_count": 36,
   "metadata": {},
   "outputs": [
    {
     "data": {
      "text/plain": [
       "str"
      ]
     },
     "execution_count": 36,
     "metadata": {},
     "output_type": "execute_result"
    }
   ],
   "source": [
    "from inspect import signature\n",
    "\n",
    "sig = signature(my_anno_func)\n",
    "sig.return_annotation"
   ]
  },
  {
   "cell_type": "code",
   "execution_count": 37,
   "metadata": {},
   "outputs": [
    {
     "data": {
      "text/plain": [
       "mappingproxy({'text': <Parameter \"text:str\">,\n",
       "              'max_len': <Parameter \"max_len:'int > 0'=4\">})"
      ]
     },
     "execution_count": 37,
     "metadata": {},
     "output_type": "execute_result"
    }
   ],
   "source": [
    "sig.parameters"
   ]
  },
  {
   "cell_type": "code",
   "execution_count": 38,
   "metadata": {},
   "outputs": [
    {
     "data": {
      "text/plain": [
       "odict_values([<Parameter \"text:str\">, <Parameter \"max_len:'int > 0'=4\">])"
      ]
     },
     "execution_count": 38,
     "metadata": {},
     "output_type": "execute_result"
    }
   ],
   "source": [
    "sig.parameters.values()"
   ]
  },
  {
   "cell_type": "markdown",
   "metadata": {},
   "source": [
    "### Functional Programming"
   ]
  },
  {
   "cell_type": "markdown",
   "metadata": {},
   "source": [
    "#### Operator"
   ]
  },
  {
   "cell_type": "code",
   "execution_count": 54,
   "metadata": {},
   "outputs": [
    {
     "name": "stdout",
     "output_type": "stream",
     "text": [
      "24\n",
      "24\n"
     ]
    }
   ],
   "source": [
    "from functools import reduce\n",
    "from operator import mul\n",
    "\n",
    "# lambda で↓こうやってるのは\n",
    "def fact1(n):\n",
    "    return reduce(lambda a, b: a*b, range(1, n+1))\n",
    "\n",
    "# mulを使えば同じようにできる。mulは関数なので引数を食える\n",
    "def fact2(n):\n",
    "    return reduce(mul, range(1, n+1))\n",
    "\n",
    "print(fact1(4))\n",
    "print(fact2(4))"
   ]
  },
  {
   "cell_type": "markdown",
   "metadata": {},
   "source": [
    "##### itemgetter"
   ]
  },
  {
   "cell_type": "markdown",
   "metadata": {},
   "source": [
    "itemgetter はtupleやdictの値を持ってこれる"
   ]
  },
  {
   "cell_type": "code",
   "execution_count": 76,
   "metadata": {},
   "outputs": [
    {
     "name": "stdout",
     "output_type": "stream",
     "text": [
      "('Tokyo', 'JP', 5)\n",
      "('Sao Paulo', 'BR', 6)\n",
      "('New York-Newark', 'US', 7)\n",
      "('Mexico City', 'MX', 8)\n",
      "('Delhi NCR', 'IN', 9)\n"
     ]
    }
   ],
   "source": [
    "metro_data = [\n",
    "    ('Tokyo', 'JP', 5),\n",
    "    ('Delhi NCR', 'IN', 9),\n",
    "    ('Mexico City', 'MX', 8),\n",
    "    ('New York-Newark', 'US', 7),\n",
    "    ('Sao Paulo', 'BR', 6),\n",
    "]\n",
    "\n",
    "from operator import itemgetter\n",
    "\n",
    "for city in sorted(metro_data, key=itemgetter(2)):\n",
    "    print(city)"
   ]
  },
  {
   "cell_type": "markdown",
   "metadata": {},
   "source": [
    "###### item_getter の構造"
   ]
  },
  {
   "cell_type": "markdown",
   "metadata": {},
   "source": [
    "ふつーに値を取ってるだけ"
   ]
  },
  {
   "cell_type": "code",
   "execution_count": 84,
   "metadata": {},
   "outputs": [
    {
     "name": "stdout",
     "output_type": "stream",
     "text": [
      "{'id': 9, 'name': 'Sam'}\n",
      "{'id': 10, 'name': 'John'}\n",
      "{'id': 110, 'name': 'Sarry'}\n"
     ]
    }
   ],
   "source": [
    "user_data =[\n",
    "    {'id': 10, 'name': 'John'},\n",
    "    {'id': 9, 'name': 'Sam'},\n",
    "    {'id': 110, 'name': 'Sarry'}\n",
    "]\n",
    "\n",
    "def itemgetter2(*items):\n",
    "    if len(items) == 1:\n",
    "        item = items[0]\n",
    "        def g(obj):\n",
    "            return obj[item]\n",
    "    else:\n",
    "        def g(obj):\n",
    "            return tuple(obj[item] for item in items)\n",
    "    return g\n",
    "\n",
    "for user_d in sorted(user_data, key=itemgetter2('id')):\n",
    "    print(user_d)"
   ]
  },
  {
   "cell_type": "markdown",
   "metadata": {},
   "source": [
    "##### attrgetter"
   ]
  },
  {
   "cell_type": "markdown",
   "metadata": {},
   "source": [
    "attrgetter を使うと、namedtupleなどの値にアクセスがかんたん。  \n",
    "他のオブジェクトが中にはいってても、値が取り出しやすい。"
   ]
  },
  {
   "cell_type": "code",
   "execution_count": 20,
   "metadata": {},
   "outputs": [
    {
     "data": {
      "text/plain": [
       "[Metropolis(name='Tokyo', cc='JP', pop=36.933, coord=LatLong(lat=35.689722, long=139.691667)),\n",
       " Metropolis(name='Delhi NCR', cc='IN', pop=21.935, coord=LatLong(lat=28.613889, long=77.208889)),\n",
       " Metropolis(name='Mexico City', cc='MX', pop=20.142, coord=LatLong(lat=19.433333, long=-99.133333)),\n",
       " Metropolis(name='New York-Newark', cc='US', pop=20.104, coord=LatLong(lat=40.808611, long=-74.020386)),\n",
       " Metropolis(name='Sao Paulo', cc='BR', pop=19.649, coord=LatLong(lat=-23.547778, long=-46.635833))]"
      ]
     },
     "execution_count": 20,
     "metadata": {},
     "output_type": "execute_result"
    }
   ],
   "source": [
    "from collections import namedtuple\n",
    "from operator import attrgetter\n",
    "\n",
    "metro_data = [\n",
    "    ('Tokyo', 'JP', 36.933, (35.689722, 139.691667)),\n",
    "    ('Delhi NCR', 'IN', 21.935, (28.613889, 77.208889)),\n",
    "    ('Mexico City', 'MX', 20.142, (19.433333, -99.133333)),\n",
    "    ('New York-Newark', 'US', 20.104, (40.808611, -74.020386)),\n",
    "    ('Sao Paulo', 'BR', 19.649, (-23.547778, -46.635833)),\n",
    "]\n",
    "\n",
    "LatLong = namedtuple('LatLong', 'lat long')\n",
    "Metropolis = namedtuple('Metropolis', 'name cc pop coord')\n",
    "\n",
    "metro_areas = [Metropolis(name, cc, pop, LatLong(lat, long))\n",
    "               for name, cc, pop, (lat, long) in metro_data]\n",
    "\n",
    "metro_areas"
   ]
  },
  {
   "cell_type": "code",
   "execution_count": 24,
   "metadata": {},
   "outputs": [
    {
     "name": "stdout",
     "output_type": "stream",
     "text": [
      "Metropolis(name='Sao Paulo', cc='BR', pop=19.649, coord=LatLong(lat=-23.547778, long=-46.635833))\n",
      "Metropolis(name='Mexico City', cc='MX', pop=20.142, coord=LatLong(lat=19.433333, long=-99.133333))\n",
      "Metropolis(name='Delhi NCR', cc='IN', pop=21.935, coord=LatLong(lat=28.613889, long=77.208889))\n",
      "Metropolis(name='Tokyo', cc='JP', pop=36.933, coord=LatLong(lat=35.689722, long=139.691667))\n",
      "Metropolis(name='New York-Newark', cc='US', pop=20.104, coord=LatLong(lat=40.808611, long=-74.020386))\n"
     ]
    }
   ],
   "source": [
    "for metro_area in sorted(metro_areas, key=attrgetter('coord.lat')):\n",
    "    print(metro_area)"
   ]
  },
  {
   "cell_type": "markdown",
   "metadata": {},
   "source": [
    "##### Operater のドキュメント"
   ]
  },
  {
   "cell_type": "markdown",
   "metadata": {},
   "source": [
    "\n",
    "↓\n",
    "\n",
    "https://docs.python.org/3/library/operator.html"
   ]
  },
  {
   "cell_type": "markdown",
   "metadata": {},
   "source": [
    "#### method caller"
   ]
  },
  {
   "cell_type": "markdown",
   "metadata": {},
   "source": [
    "メソッドを呼び出せる"
   ]
  },
  {
   "cell_type": "code",
   "execution_count": 26,
   "metadata": {},
   "outputs": [
    {
     "data": {
      "text/plain": [
       "'A B C D'"
      ]
     },
     "execution_count": 26,
     "metadata": {},
     "output_type": "execute_result"
    }
   ],
   "source": [
    "from operator import methodcaller\n",
    "\n",
    "s = 'a b c d'\n",
    "\n",
    "upcase = methodcaller('upper')\n",
    "upcase(s)"
   ]
  },
  {
   "cell_type": "markdown",
   "metadata": {},
   "source": [
    "##### method caller source\n",
    "\n",
    "getattrしてるだけ"
   ]
  },
  {
   "cell_type": "code",
   "execution_count": 36,
   "metadata": {},
   "outputs": [
    {
     "name": "stdout",
     "output_type": "stream",
     "text": [
      "A B C D\n",
      "A B C D\n"
     ]
    }
   ],
   "source": [
    "def methodcaller2(name, *args, **kwargs):\n",
    "    def caller(obj):\n",
    "        return getattr(obj, name)(*args, **kwargs)\n",
    "    return caller\n",
    "\n",
    "s = 'a b c d'\n",
    "\n",
    "upcase = methodcaller2('upper')\n",
    "\n",
    "print(upcase(s))\n",
    "\n",
    "print(getattr(s, 'upper')()) # s.upper と同じ\n"
   ]
  },
  {
   "cell_type": "markdown",
   "metadata": {},
   "source": [
    "#### 関数の呼び出し時に、特定の引数とかを「Freeze」する方法"
   ]
  },
  {
   "cell_type": "markdown",
   "metadata": {},
   "source": [
    "引数固定して↓ みたいにする"
   ]
  },
  {
   "cell_type": "code",
   "execution_count": 50,
   "metadata": {},
   "outputs": [
    {
     "name": "stdout",
     "output_type": "stream",
     "text": [
      "turned ON YELLOW lights\n",
      "turned OFF YELLOW lights\n",
      "turned OFF BLUE lights\n",
      "Turn on and off Yellow lights\n",
      "Turn on and off Blues lights\n"
     ]
    }
   ],
   "source": [
    "import unicodedata, functools\n",
    "\n",
    "def room_lights(state, color='Blue'):\n",
    "    if state == 'ON':\n",
    "        print(f'turned ON {color} lights')\n",
    "    if state == 'OFF':\n",
    "        print(f'turned OFF {color} lights')\n",
    "        \n",
    "\n",
    "yellow_room_light = functools.partial(room_lights, color='YELLOW')\n",
    "yellow_room_light.__doc__ = 'Turn on and off Yellow lights'\n",
    "\n",
    "blue_room_light = functools.partial(room_lights, color='BLUE')\n",
    "blue_room_light.__doc__ = 'Turn on and off Blues lights'\n",
    "\n",
    "yellow_room_light('ON')\n",
    "yellow_room_light('OFF')\n",
    "blue_room_light('OFF')"
   ]
  },
  {
   "cell_type": "code",
   "execution_count": 51,
   "metadata": {},
   "outputs": [
    {
     "name": "stdout",
     "output_type": "stream",
     "text": [
      "Turn on and off Yellow lights\n",
      "Turn on and off Blues lights\n"
     ]
    }
   ],
   "source": [
    "print(yellow_room_light.__doc__)\n",
    "print(blue_room_light.__doc__)"
   ]
  },
  {
   "cell_type": "markdown",
   "metadata": {},
   "source": [
    "# Chap6 Design patterns with First-Class Functions"
   ]
  },
  {
   "cell_type": "markdown",
   "metadata": {},
   "source": [
    "## まずはABC使ってやってみる\n",
    "\n",
    "・ラーメンはつけ麺、油そば、汁そばの三種類  \n",
    "・トッピングをつける、トッピングは一個だけ\n",
    "・大盛りとかは無し  \n",
    "・ラーメンの値段　+　トッピングの値段　=　orderの値段とする"
   ]
  },
  {
   "cell_type": "code",
   "execution_count": 55,
   "metadata": {},
   "outputs": [],
   "source": [
    "from abc import ABC, abstractmethod\n",
    "from collections import namedtuple\n",
    "\n",
    "Customer = namedtuple('Customer', 'name noodle_type')\n",
    "\n",
    "\n",
    "class Topping:\n",
    "    def __init__(self,  topping, price):\n",
    "        self.topping = topping\n",
    "        self.price = price\n",
    "\n",
    "    def total(self):\n",
    "        return self.price\n",
    "\n",
    "\n",
    "class Order:\n",
    "    def __init__(self, customer, cart, noodle=None):\n",
    "        self.customer = customer\n",
    "        self.cart = list(cart)\n",
    "        self.noodle = noodle\n",
    "\n",
    "    def total(self):\n",
    "        if not hasattr(self, '__total'):\n",
    "            self.__total = sum(item.total() for item in self.cart)\n",
    "            self.__total += self.noodle.price()\n",
    "        return self.__total\n",
    "\n",
    "    def __repr__(self):\n",
    "        return f'{self.noodle.name()}一丁!!{self.total()}円です'\n",
    "\n",
    "\n",
    "class BaseNoodle(ABC):\n",
    "    @abstractmethod\n",
    "    def price(self):\n",
    "        pass\n",
    "\n",
    "    @abstractmethod\n",
    "    def name(self):\n",
    "        pass\n",
    "\n",
    "\n",
    "class SoupNoodle(BaseNoodle):\n",
    "    def price(self):\n",
    "        return 500\n",
    "\n",
    "    def name(self):\n",
    "        return '汁そば'\n",
    "\n",
    "\n",
    "class TukeNoodle(BaseNoodle):\n",
    "    def price(self):\n",
    "        return 600\n",
    "\n",
    "    def name(self):\n",
    "        return 'つけ麺'\n",
    "\n",
    "\n",
    "class AburaNoodle(BaseNoodle):\n",
    "    def price(self):\n",
    "        return 700\n",
    "\n",
    "    def name(self):\n",
    "        return 'あぶらそば'"
   ]
  },
  {
   "cell_type": "code",
   "execution_count": 56,
   "metadata": {},
   "outputs": [
    {
     "data": {
      "text/plain": [
       "汁そば一丁!!620円です"
      ]
     },
     "execution_count": 56,
     "metadata": {},
     "output_type": "execute_result"
    }
   ],
   "source": [
    "joe = Customer('John Doe', 0)\n",
    "cart = [\n",
    "    Topping('Buta',  40),\n",
    "    Topping('Yasai', 50),\n",
    "    Topping('Abura', 30)\n",
    "]\n",
    "\n",
    "Order(joe, cart, SoupNoodle())"
   ]
  },
  {
   "cell_type": "code",
   "execution_count": 57,
   "metadata": {},
   "outputs": [
    {
     "data": {
      "text/plain": [
       "あぶらそば一丁!!700円です"
      ]
     },
     "execution_count": 57,
     "metadata": {},
     "output_type": "execute_result"
    }
   ],
   "source": [
    "joe = Customer('John Doe', 0)\n",
    "cart = []\n",
    "\n",
    "Order(joe, cart, AburaNoodle())"
   ]
  },
  {
   "cell_type": "markdown",
   "metadata": {},
   "source": [
    "### ABCってなんだったか"
   ]
  },
  {
   "cell_type": "code",
   "execution_count": 49,
   "metadata": {},
   "outputs": [
    {
     "ename": "TypeError",
     "evalue": "Can't instantiate abstract class NullNoodle with abstract methods name, price",
     "output_type": "error",
     "traceback": [
      "\u001b[0;31m---------------------------------------------------------------------------\u001b[0m",
      "\u001b[0;31mTypeError\u001b[0m                                 Traceback (most recent call last)",
      "\u001b[0;32m<ipython-input-49-06edbb4b59a8>\u001b[0m in \u001b[0;36m<module>\u001b[0;34m()\u001b[0m\n\u001b[1;32m      4\u001b[0m     \u001b[0;32mpass\u001b[0m\u001b[0;34m\u001b[0m\u001b[0m\n\u001b[1;32m      5\u001b[0m \u001b[0;34m\u001b[0m\u001b[0m\n\u001b[0;32m----> 6\u001b[0;31m \u001b[0mNullNoodle\u001b[0m\u001b[0;34m(\u001b[0m\u001b[0;34m)\u001b[0m\u001b[0;34m\u001b[0m\u001b[0m\n\u001b[0m",
      "\u001b[0;31mTypeError\u001b[0m: Can't instantiate abstract class NullNoodle with abstract methods name, price"
     ]
    }
   ],
   "source": [
    "# ABCなのでこのパターンはだめ\n",
    "# メソッドのInstanciate忘れを防いで、ベース作って明確にする\n",
    "class NullNoodle(BaseNoodle):\n",
    "    pass\n",
    "\n",
    "NullNoodle()"
   ]
  },
  {
   "cell_type": "markdown",
   "metadata": {},
   "source": [
    "# Chap5 Decratoer, Closuer"
   ]
  },
  {
   "cell_type": "markdown",
   "metadata": {},
   "source": [
    "## Decoratorの基本"
   ]
  },
  {
   "cell_type": "code",
   "execution_count": null,
   "metadata": {},
   "outputs": [],
   "source": [
    "- Decorator functionは読み込み時に走る\n",
    " - 二回使ってるので二回走る\n",
    " - 読み込み時に走るときはDecorateされてるfuncを内包してる"
   ]
  },
  {
   "cell_type": "code",
   "execution_count": 14,
   "metadata": {},
   "outputs": [
    {
     "name": "stdout",
     "output_type": "stream",
     "text": [
      "running register<function f1 at 0x7f8c64468d90>\n",
      "running register<function f2 at 0x7f8c64468950>\n",
      "running main()\n",
      "registry -> [<function f1 at 0x7f8c64468d90>, <function f2 at 0x7f8c64468950>]\n",
      "i am f1 !!\n",
      "i am f2 !!\n",
      "i am f3 !!\n"
     ]
    }
   ],
   "source": [
    "registry = []\n",
    "\n",
    "def register(func):\n",
    "    print(f'running register{func}')\n",
    "    registry.append(func)\n",
    "    return func\n",
    "\n",
    "@register\n",
    "def f1():\n",
    "    print('i am f1 !!')\n",
    "\n",
    "@register\n",
    "def f2():\n",
    "    print('i am f2 !!')\n",
    "\n",
    "def f3():\n",
    "    print('i am f3 !!')\n",
    "\n",
    "def main():\n",
    "    print('running main()')\n",
    "    print('registry ->', registry)\n",
    "    f1()\n",
    "    f2()\n",
    "    f3()\n",
    "\n",
    "main()"
   ]
  },
  {
   "cell_type": "markdown",
   "metadata": {},
   "source": [
    "### 用法"
   ]
  },
  {
   "cell_type": "markdown",
   "metadata": {},
   "source": [
    "promo を list にぶちこんでそれから評価してたけど、  \n",
    "Decoのおかげで実行するたびに勝手にリストに入っていくので、 \n",
    "楽"
   ]
  },
  {
   "cell_type": "code",
   "execution_count": null,
   "metadata": {},
   "outputs": [],
   "source": [
    "promos = []\n",
    "\n",
    "\n",
    "def promotion(promo_func):\n",
    "    promos.append(promo_func)\n",
    "    return promo_func\n",
    "\n",
    "\n",
    "@promotion\n",
    "def fidelity(order):\n",
    "    return order.total() * .05 if order.customer.fidelity >= 1000 else 0\n",
    "\n",
    "\n",
    "@promotion\n",
    "def bulk_item(order):\n",
    "    discount = 0\n",
    "    for item in order.cart:\n",
    "        if item.quantity >= 20:\n",
    "            discount += item.total() * .1\n",
    "            return discount\n",
    "\n",
    "@promotion\n",
    "def large_order(order):\n",
    "    distinct_items = {item.product for item in order.cart}\n",
    "    if len(distinct_items) >= 10:\n",
    "        return order.total() * .07\n",
    "    return 0\n",
    "\n",
    "\n",
    "def best_promo(order):\n",
    "    return max(promo(order) for promo in promos)"
   ]
  },
  {
   "cell_type": "markdown",
   "metadata": {},
   "source": [
    "\n",
    "## 変数のスコープ"
   ]
  },
  {
   "cell_type": "markdown",
   "metadata": {},
   "source": [
    "### アサインされてないのでエラーが出る(当然)"
   ]
  },
  {
   "cell_type": "code",
   "execution_count": 18,
   "metadata": {},
   "outputs": [
    {
     "name": "stdout",
     "output_type": "stream",
     "text": [
      "3\n"
     ]
    },
    {
     "ename": "NameError",
     "evalue": "name 'b' is not defined",
     "output_type": "error",
     "traceback": [
      "\u001b[0;31m---------------------------------------------------------------------------\u001b[0m",
      "\u001b[0;31mNameError\u001b[0m                                 Traceback (most recent call last)",
      "\u001b[0;32m<ipython-input-18-0702f57afd95>\u001b[0m in \u001b[0;36m<module>\u001b[0;34m()\u001b[0m\n\u001b[1;32m      3\u001b[0m     \u001b[0mprint\u001b[0m\u001b[0;34m(\u001b[0m\u001b[0mb\u001b[0m\u001b[0;34m)\u001b[0m\u001b[0;34m\u001b[0m\u001b[0m\n\u001b[1;32m      4\u001b[0m \u001b[0;34m\u001b[0m\u001b[0m\n\u001b[0;32m----> 5\u001b[0;31m \u001b[0mf1\u001b[0m\u001b[0;34m(\u001b[0m\u001b[0;36m3\u001b[0m\u001b[0;34m)\u001b[0m\u001b[0;34m\u001b[0m\u001b[0m\n\u001b[0m",
      "\u001b[0;32m<ipython-input-18-0702f57afd95>\u001b[0m in \u001b[0;36mf1\u001b[0;34m(a)\u001b[0m\n\u001b[1;32m      1\u001b[0m \u001b[0;32mdef\u001b[0m \u001b[0mf1\u001b[0m\u001b[0;34m(\u001b[0m\u001b[0ma\u001b[0m\u001b[0;34m)\u001b[0m\u001b[0;34m:\u001b[0m\u001b[0;34m\u001b[0m\u001b[0m\n\u001b[1;32m      2\u001b[0m     \u001b[0mprint\u001b[0m\u001b[0;34m(\u001b[0m\u001b[0ma\u001b[0m\u001b[0;34m)\u001b[0m\u001b[0;34m\u001b[0m\u001b[0m\n\u001b[0;32m----> 3\u001b[0;31m     \u001b[0mprint\u001b[0m\u001b[0;34m(\u001b[0m\u001b[0mb\u001b[0m\u001b[0;34m)\u001b[0m\u001b[0;34m\u001b[0m\u001b[0m\n\u001b[0m\u001b[1;32m      4\u001b[0m \u001b[0;34m\u001b[0m\u001b[0m\n\u001b[1;32m      5\u001b[0m \u001b[0mf1\u001b[0m\u001b[0;34m(\u001b[0m\u001b[0;36m3\u001b[0m\u001b[0;34m)\u001b[0m\u001b[0;34m\u001b[0m\u001b[0m\n",
      "\u001b[0;31mNameError\u001b[0m: name 'b' is not defined"
     ]
    }
   ],
   "source": [
    "def f1(a):\n",
    "    print(a)\n",
    "    print(b)\n",
    "    \n",
    "f1(3)"
   ]
  },
  {
   "cell_type": "markdown",
   "metadata": {},
   "source": [
    "### グローバル変数を定義するとそれを読みに行く"
   ]
  },
  {
   "cell_type": "code",
   "execution_count": 19,
   "metadata": {},
   "outputs": [
    {
     "name": "stdout",
     "output_type": "stream",
     "text": [
      "3\n",
      "6\n"
     ]
    }
   ],
   "source": [
    "def f2(a):\n",
    "    print(a)\n",
    "    print(b)\n",
    "\n",
    "b=6\n",
    "f2(3)"
   ]
  },
  {
   "cell_type": "markdown",
   "metadata": {},
   "source": [
    "### 関数内で定義下変数は関数内のローカルのものだと思ってくれる"
   ]
  },
  {
   "cell_type": "markdown",
   "metadata": {},
   "source": [
    "グローバルにbを定義してるにもかかわらず。  \n",
    "\n",
    "local variable 'b' referenced before assignment  \n",
    "\n",
    "\n",
    "と出る。\n"
   ]
  },
  {
   "cell_type": "code",
   "execution_count": 20,
   "metadata": {},
   "outputs": [
    {
     "name": "stdout",
     "output_type": "stream",
     "text": [
      "3\n"
     ]
    },
    {
     "ename": "UnboundLocalError",
     "evalue": "local variable 'b' referenced before assignment",
     "output_type": "error",
     "traceback": [
      "\u001b[0;31m---------------------------------------------------------------------------\u001b[0m",
      "\u001b[0;31mUnboundLocalError\u001b[0m                         Traceback (most recent call last)",
      "\u001b[0;32m<ipython-input-20-5c3196a42917>\u001b[0m in \u001b[0;36m<module>\u001b[0;34m()\u001b[0m\n\u001b[1;32m      5\u001b[0m     \u001b[0mb\u001b[0m\u001b[0;34m=\u001b[0m \u001b[0;36m9\u001b[0m\u001b[0;34m\u001b[0m\u001b[0m\n\u001b[1;32m      6\u001b[0m \u001b[0;34m\u001b[0m\u001b[0m\n\u001b[0;32m----> 7\u001b[0;31m \u001b[0mf2\u001b[0m\u001b[0;34m(\u001b[0m\u001b[0;36m3\u001b[0m\u001b[0;34m)\u001b[0m\u001b[0;34m\u001b[0m\u001b[0m\n\u001b[0m",
      "\u001b[0;32m<ipython-input-20-5c3196a42917>\u001b[0m in \u001b[0;36mf2\u001b[0;34m(a)\u001b[0m\n\u001b[1;32m      2\u001b[0m \u001b[0;32mdef\u001b[0m \u001b[0mf2\u001b[0m\u001b[0;34m(\u001b[0m\u001b[0ma\u001b[0m\u001b[0;34m)\u001b[0m\u001b[0;34m:\u001b[0m\u001b[0;34m\u001b[0m\u001b[0m\n\u001b[1;32m      3\u001b[0m     \u001b[0mprint\u001b[0m\u001b[0;34m(\u001b[0m\u001b[0ma\u001b[0m\u001b[0;34m)\u001b[0m\u001b[0;34m\u001b[0m\u001b[0m\n\u001b[0;32m----> 4\u001b[0;31m     \u001b[0mprint\u001b[0m\u001b[0;34m(\u001b[0m\u001b[0mb\u001b[0m\u001b[0;34m)\u001b[0m\u001b[0;34m\u001b[0m\u001b[0m\n\u001b[0m\u001b[1;32m      5\u001b[0m     \u001b[0mb\u001b[0m\u001b[0;34m=\u001b[0m \u001b[0;36m9\u001b[0m\u001b[0;34m\u001b[0m\u001b[0m\n\u001b[1;32m      6\u001b[0m \u001b[0;34m\u001b[0m\u001b[0m\n",
      "\u001b[0;31mUnboundLocalError\u001b[0m: local variable 'b' referenced before assignment"
     ]
    }
   ],
   "source": [
    "b = 6\n",
    "def f2(a):\n",
    "    print(a)\n",
    "    print(b)\n",
    "    b= 9\n",
    "\n",
    "f2(3)"
   ]
  },
  {
   "cell_type": "markdown",
   "metadata": {},
   "source": [
    "#### グローバル変数だと明確に言いたいときはglobal"
   ]
  },
  {
   "cell_type": "code",
   "execution_count": 21,
   "metadata": {},
   "outputs": [
    {
     "name": "stdout",
     "output_type": "stream",
     "text": [
      "3\n",
      "6\n"
     ]
    }
   ],
   "source": [
    "b = 6\n",
    "def f3(a):\n",
    "    global b\n",
    "    print(a)\n",
    "    print(b)\n",
    "    b=9\n",
    "\n",
    "f3(3)"
   ]
  },
  {
   "cell_type": "markdown",
   "metadata": {},
   "source": [
    "## Closure"
   ]
  },
  {
   "cell_type": "markdown",
   "metadata": {},
   "source": [
    "- Closure と Anonymouse  Functionは別\n",
    "- Closure can access nonglobal vars that are defined outside  of its body.\n",
    "\n",
    "A closure is a function that retains the bindings of the free variables that  \n",
    "exist when the function is defined, so that they can be used later when the  \n",
    "function is invoked and the defining scope is no longer available.  \n",
    "\n",
    "Note that the only situation in which a function may need to deal  \n",
    "with external variables that are nonglobal is when it is nested in another function.  "
   ]
  },
  {
   "cell_type": "markdown",
   "metadata": {},
   "source": [
    "### クラス内のインスタンスメソッドにアクセスしてる"
   ]
  },
  {
   "cell_type": "code",
   "execution_count": 23,
   "metadata": {},
   "outputs": [
    {
     "name": "stdout",
     "output_type": "stream",
     "text": [
      "10.0\n",
      "10.5\n"
     ]
    }
   ],
   "source": [
    "class Averager():\n",
    "    \n",
    "    def __init__(self):\n",
    "        self.series = []\n",
    "        \n",
    "    def __call__(self, new_value):\n",
    "        self.series.append(new_value)\n",
    "        total = sum(self.series)\n",
    "        return total/len(self.series)\n",
    "    \n",
    "avg = Averager()\n",
    "print(avg(10))\n",
    "print(avg(11))"
   ]
  },
  {
   "cell_type": "markdown",
   "metadata": {},
   "source": [
    "### 関数内でGlobalな値を使って、その値にアクセスさせる"
   ]
  },
  {
   "cell_type": "markdown",
   "metadata": {},
   "source": [
    "- 読み込まれた時点では\n",
    " - series -> local var of make_averager  \n",
    "\n",
    "- avt(10)として実行された時点では\n",
    " - 親のmake_averagerは呼び出されたあとなので、seriesはどっかに行ってる\n",
    " - series in averager is free var(var not bount in the local scope) now"
   ]
  },
  {
   "cell_type": "code",
   "execution_count": 30,
   "metadata": {},
   "outputs": [
    {
     "name": "stdout",
     "output_type": "stream",
     "text": [
      "10.0\n",
      "10.5\n"
     ]
    }
   ],
   "source": [
    "def make_averager():\n",
    "    series = []\n",
    "    \n",
    "    def averager(new_value):\n",
    "        series.append(new_value)\n",
    "        total = sum(series)\n",
    "        return total/len(series)\n",
    "    return averager\n",
    "\n",
    "avg = make_averager()\n",
    "print(avg(10))\n",
    "print(avg(11))"
   ]
  },
  {
   "cell_type": "markdown",
   "metadata": {},
   "source": [
    "### local, nonlocal"
   ]
  },
  {
   "cell_type": "markdown",
   "metadata": {},
   "source": [
    "#### スコープの問題。globalをlocalにしてしまってエラー"
   ]
  },
  {
   "cell_type": "markdown",
   "metadata": {},
   "source": [
    "関数内でcount をアサインしてるので落ちる。"
   ]
  },
  {
   "cell_type": "code",
   "execution_count": 7,
   "metadata": {},
   "outputs": [
    {
     "ename": "UnboundLocalError",
     "evalue": "local variable 'count' referenced before assignment",
     "output_type": "error",
     "traceback": [
      "\u001b[0;31m---------------------------------------------------------------------------\u001b[0m",
      "\u001b[0;31mUnboundLocalError\u001b[0m                         Traceback (most recent call last)",
      "\u001b[0;32m<ipython-input-7-482c3efd1199>\u001b[0m in \u001b[0;36m<module>\u001b[0;34m()\u001b[0m\n\u001b[1;32m     12\u001b[0m \u001b[0;34m\u001b[0m\u001b[0m\n\u001b[1;32m     13\u001b[0m \u001b[0mavg\u001b[0m \u001b[0;34m=\u001b[0m \u001b[0mmake_averager\u001b[0m\u001b[0;34m(\u001b[0m\u001b[0;34m)\u001b[0m\u001b[0;34m\u001b[0m\u001b[0m\n\u001b[0;32m---> 14\u001b[0;31m \u001b[0mavg\u001b[0m\u001b[0;34m(\u001b[0m\u001b[0;36m10\u001b[0m\u001b[0;34m)\u001b[0m \u001b[0;31m# <= 呼び出されるけどcountがアサインされる前に操作されてるので落ちる。\u001b[0m\u001b[0;34m\u001b[0m\u001b[0m\n\u001b[0m",
      "\u001b[0;32m<ipython-input-7-482c3efd1199>\u001b[0m in \u001b[0;36maverager\u001b[0;34m(new_value)\u001b[0m\n\u001b[1;32m      4\u001b[0m \u001b[0;34m\u001b[0m\u001b[0m\n\u001b[1;32m      5\u001b[0m     \u001b[0;32mdef\u001b[0m \u001b[0maverager\u001b[0m\u001b[0;34m(\u001b[0m\u001b[0mnew_value\u001b[0m\u001b[0;34m)\u001b[0m\u001b[0;34m:\u001b[0m\u001b[0;34m\u001b[0m\u001b[0m\n\u001b[0;32m----> 6\u001b[0;31m         \u001b[0mcount\u001b[0m \u001b[0;34m+=\u001b[0m \u001b[0;36m1\u001b[0m \u001b[0;31m# <= ここでアサインするとcount は local varになる\u001b[0m\u001b[0;34m\u001b[0m\u001b[0m\n\u001b[0m\u001b[1;32m      7\u001b[0m         \u001b[0mtotal\u001b[0m \u001b[0;34m+=\u001b[0m \u001b[0mnew_value\u001b[0m\u001b[0;34m\u001b[0m\u001b[0m\n\u001b[1;32m      8\u001b[0m         \u001b[0;32mreturn\u001b[0m \u001b[0mtotal\u001b[0m \u001b[0;34m/\u001b[0m \u001b[0mcount\u001b[0m\u001b[0;34m\u001b[0m\u001b[0m\n",
      "\u001b[0;31mUnboundLocalError\u001b[0m: local variable 'count' referenced before assignment"
     ]
    }
   ],
   "source": [
    "def make_averager():\n",
    "    count = 0\n",
    "    total = 0\n",
    "\n",
    "    def averager(new_value):\n",
    "        count += 1 # <= ここでアサインするとcount は local varになる\n",
    "        total += new_value\n",
    "        return total / count\n",
    "\n",
    "    return averager\n",
    "\n",
    "\n",
    "avg = make_averager()\n",
    "avg(10) # <= 呼び出されるけどcountがアサインされる前に操作されてるので落ちる。"
   ]
  },
  {
   "cell_type": "markdown",
   "metadata": {},
   "source": [
    "#### nonlocal を使ってFree VarがどれかPythonに教えてやる"
   ]
  },
  {
   "cell_type": "code",
   "execution_count": 8,
   "metadata": {},
   "outputs": [
    {
     "data": {
      "text/plain": [
       "10.0"
      ]
     },
     "execution_count": 8,
     "metadata": {},
     "output_type": "execute_result"
    }
   ],
   "source": [
    "def make_averager2():\n",
    "    count = 0\n",
    "    total = 0\n",
    "\n",
    "    def averager(new_value):\n",
    "        nonlocal count, total\n",
    "        count += 1\n",
    "        total += new_value\n",
    "        return total / count\n",
    "\n",
    "    return averager\n",
    "\n",
    "\n",
    "avg = make_averager2()\n",
    "avg(10)"
   ]
  },
  {
   "cell_type": "markdown",
   "metadata": {},
   "source": [
    "## Simple Decorator"
   ]
  },
  {
   "cell_type": "code",
   "execution_count": 74,
   "metadata": {},
   "outputs": [],
   "source": [
    "import time\n",
    "\n",
    "def clock(func):\n",
    "    def clocked(*args):\n",
    "        print(func)\n",
    "        print(*args)\n",
    "        t0 = time.perf_counter()\n",
    "        result = func(*args)\n",
    "        elapsed = time.perf_counter() - t0\n",
    "        name = func.__name__\n",
    "        arg_str = ', '.join(repr(arg) for arg in args)\n",
    "        print(f'{elapsed}  {name}  {arg_str} {result}')\n",
    "        return result\n",
    "    return clocked\n",
    "\n",
    "@clock\n",
    "def snooze(seconds):\n",
    "    time.sleep(seconds)\n",
    "@clock\n",
    "def factorial(n):\n",
    "    return 1 if n < 2 else n*factorial(n-1)\n",
    "\n"
   ]
  },
  {
   "cell_type": "code",
   "execution_count": 75,
   "metadata": {},
   "outputs": [
    {
     "name": "stdout",
     "output_type": "stream",
     "text": [
      "<function snooze at 0x7fa8c3ede488>\n",
      "0.123\n",
      "0.12320381500103395  snooze  0.123 None\n"
     ]
    }
   ],
   "source": [
    "snooze(.123)"
   ]
  },
  {
   "cell_type": "code",
   "execution_count": 76,
   "metadata": {},
   "outputs": [
    {
     "name": "stdout",
     "output_type": "stream",
     "text": [
      "<function factorial at 0x7fa8c3ede8c8>\n",
      "6\n",
      "<function factorial at 0x7fa8c3ede8c8>\n",
      "5\n",
      "<function factorial at 0x7fa8c3ede8c8>\n",
      "4\n",
      "<function factorial at 0x7fa8c3ede8c8>\n",
      "3\n",
      "<function factorial at 0x7fa8c3ede8c8>\n",
      "2\n",
      "<function factorial at 0x7fa8c3ede8c8>\n",
      "1\n",
      "3.6659985198639333e-06  factorial  1 1\n",
      "0.0002740399977483321  factorial  2 2\n",
      "0.0005195609992370009  factorial  3 6\n",
      "0.0007526830013375729  factorial  4 24\n",
      "0.0009551339971949346  factorial  5 120\n",
      "0.0011603919992921874  factorial  6 720\n"
     ]
    },
    {
     "data": {
      "text/plain": [
       "720"
      ]
     },
     "execution_count": 76,
     "metadata": {},
     "output_type": "execute_result"
    }
   ],
   "source": [
    "factorial(6)"
   ]
  },
  {
   "cell_type": "markdown",
   "metadata": {},
   "source": [
    "## functools\n",
    "### functools.lru_cache を使うと結果をキャッシュできる"
   ]
  },
  {
   "cell_type": "markdown",
   "metadata": {},
   "source": [
    "#### キャッシュしてないので結構時間かかる方法\n",
    "\n",
    "きっちり五秒かかる非常に重い処理"
   ]
  },
  {
   "cell_type": "code",
   "execution_count": 99,
   "metadata": {},
   "outputs": [
    {
     "name": "stdout",
     "output_type": "stream",
     "text": [
      "current_sec: 10\n",
      "current_sec: 11\n",
      "current_sec: 12\n",
      "current_sec: 13\n",
      "current_sec: 14\n",
      "5\n"
     ]
    }
   ],
   "source": [
    "from time import sleep\n",
    "from time import gmtime, strftime\n",
    "\n",
    "def heavy_calc():\n",
    "    sleep(1)\n",
    "    return 1\n",
    "\n",
    "result = 0\n",
    "\n",
    "for i in range(0, 5):\n",
    "    print(f'current_sec: {strftime(\"%S\", gmtime())}')\n",
    "    result +=  heavy_calc()\n",
    "\n",
    "print(result)"
   ]
  },
  {
   "cell_type": "markdown",
   "metadata": {},
   "source": [
    "#### キャッシュするとはじめの一秒だけ待てば良い"
   ]
  },
  {
   "cell_type": "code",
   "execution_count": 98,
   "metadata": {},
   "outputs": [
    {
     "name": "stdout",
     "output_type": "stream",
     "text": [
      "current_sec: 00\n",
      "current_sec: 01\n",
      "current_sec: 01\n",
      "current_sec: 01\n",
      "current_sec: 01\n",
      "5\n"
     ]
    }
   ],
   "source": [
    "from time import sleep\n",
    "import functools \n",
    "\n",
    "@functools.lru_cache()\n",
    "def heavy_calc():\n",
    "    sleep(1)\n",
    "    return 1\n",
    "\n",
    "result = 0\n",
    "\n",
    "for i in range(0, 5):\n",
    "    print(f'current_sec: {strftime(\"%S\", gmtime())}')\n",
    "    result +=  heavy_calc()\n",
    "\n",
    "print(result)"
   ]
  },
  {
   "cell_type": "markdown",
   "metadata": {},
   "source": [
    "## Generic Functions with Single Dispatch"
   ]
  }
 ],
 "metadata": {
  "anaconda-cloud": {},
  "kernelspec": {
   "display_name": "Python 3",
   "language": "python",
   "name": "python3"
  },
  "language_info": {
   "codemirror_mode": {
    "name": "ipython",
    "version": 3
   },
   "file_extension": ".py",
   "mimetype": "text/x-python",
   "name": "python",
   "nbconvert_exporter": "python",
   "pygments_lexer": "ipython3",
   "version": "3.6.5"
  },
  "name": "note1.ipynb",
  "toc": {
   "base_numbering": 1,
   "nav_menu": {},
   "number_sections": true,
   "sideBar": true,
   "skip_h1_title": false,
   "title_cell": "Table of Contents",
   "title_sidebar": "Contents",
   "toc_cell": true,
   "toc_position": {},
   "toc_section_display": "block",
   "toc_window_display": false
  }
 },
 "nbformat": 4,
 "nbformat_minor": 2
}
