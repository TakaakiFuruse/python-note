{
 "cells": [
  {
   "cell_type": "markdown",
   "metadata": {
    "toc": true
   },
   "source": [
    "<h1><span class=\"tocSkip\"></span></h1>\n",
    "<div class=\"toc\"><ul class=\"toc-item\"><li><span><a href=\"#Chap10-Sequece,-Hasing,-Slicing\" data-toc-modified-id=\"Chap10-Sequece,-Hasing,-Slicing-1\"><span class=\"toc-item-num\">1&nbsp;&nbsp;</span>Chap10 Sequece, Hasing, Slicing</a></span><ul class=\"toc-item\"><li><span><a href=\"#Vector-take-1\" data-toc-modified-id=\"Vector-take-1-1.1\"><span class=\"toc-item-num\">1.1&nbsp;&nbsp;</span>Vector take 1</a></span><ul class=\"toc-item\"><li><span><a href=\"#Make-Vector-iterable-by-__iter__\" data-toc-modified-id=\"Make-Vector-iterable-by-__iter__-1.1.1\"><span class=\"toc-item-num\">1.1.1&nbsp;&nbsp;</span>Make Vector iterable by __iter__</a></span></li><li><span><a href=\"#reprlib.repr-で長いListを短くして表示してくれる\" data-toc-modified-id=\"reprlib.repr-で長いListを短くして表示してくれる-1.1.2\"><span class=\"toc-item-num\">1.1.2&nbsp;&nbsp;</span>reprlib.repr で長いListを短くして表示してくれる</a></span></li></ul></li><li><span><a href=\"#Vector-take-2-:-Sliceable-Sequence\" data-toc-modified-id=\"Vector-take-2-:-Sliceable-Sequence-1.2\"><span class=\"toc-item-num\">1.2&nbsp;&nbsp;</span>Vector take 2 : Sliceable Sequence</a></span><ul class=\"toc-item\"><li><span><a href=\"#len-と-getitem-を作る\" data-toc-modified-id=\"len-と-getitem-を作る-1.2.1\"><span class=\"toc-item-num\">1.2.1&nbsp;&nbsp;</span>len と getitem を作る</a></span><ul class=\"toc-item\"><li><span><a href=\"#getitem-はsliceできる。ただ、list-ではなくVectorを返したい\" data-toc-modified-id=\"getitem-はsliceできる。ただ、list-ではなくVectorを返したい-1.2.1.1\"><span class=\"toc-item-num\">1.2.1.1&nbsp;&nbsp;</span>getitem はsliceできる。ただ、list ではなくVectorを返したい</a></span></li></ul></li><li><span><a href=\"#Sliceの仕組み\" data-toc-modified-id=\"Sliceの仕組み-1.2.2\"><span class=\"toc-item-num\">1.2.2&nbsp;&nbsp;</span>Sliceの仕組み</a></span><ul class=\"toc-item\"><li><span><a href=\"#内容について適当な解釈をしてくれる\" data-toc-modified-id=\"内容について適当な解釈をしてくれる-1.2.2.1\"><span class=\"toc-item-num\">1.2.2.1&nbsp;&nbsp;</span>内容について適当な解釈をしてくれる</a></span></li><li><span><a href=\"#Sliceとはなにか\" data-toc-modified-id=\"Sliceとはなにか-1.2.2.2\"><span class=\"toc-item-num\">1.2.2.2&nbsp;&nbsp;</span>Sliceとはなにか</a></span><ul class=\"toc-item\"><li><span><a href=\"#インデックスについて色々よしなに解釈してくれる\" data-toc-modified-id=\"インデックスについて色々よしなに解釈してくれる-1.2.2.2.1\"><span class=\"toc-item-num\">1.2.2.2.1&nbsp;&nbsp;</span>インデックスについて色々よしなに解釈してくれる</a></span></li></ul></li></ul></li><li><span><a href=\"#Make-getitem-slice-aware\" data-toc-modified-id=\"Make-getitem-slice-aware-1.2.3\"><span class=\"toc-item-num\">1.2.3&nbsp;&nbsp;</span>Make getitem slice-aware</a></span></li></ul></li><li><span><a href=\"#Vector-take-2---Dynamic-Attribute-Access\" data-toc-modified-id=\"Vector-take-2---Dynamic-Attribute-Access-1.3\"><span class=\"toc-item-num\">1.3&nbsp;&nbsp;</span>Vector take 2 - Dynamic Attribute Access</a></span><ul class=\"toc-item\"><li><span><a href=\"#__getattri__-で-v.x,-v.x,-v.t-とかで色々座標の値を呼べるようにする\" data-toc-modified-id=\"__getattri__-で-v.x,-v.x,-v.t-とかで色々座標の値を呼べるようにする-1.3.1\"><span class=\"toc-item-num\">1.3.1&nbsp;&nbsp;</span>__getattri__ で v.x, v.x, v.t とかで色々座標の値を呼べるようにする</a></span><ul class=\"toc-item\"><li><span><a href=\"#値が呼べることと、エラーが出ることの確認\" data-toc-modified-id=\"値が呼べることと、エラーが出ることの確認-1.3.1.1\"><span class=\"toc-item-num\">1.3.1.1&nbsp;&nbsp;</span>値が呼べることと、エラーが出ることの確認</a></span></li><li><span><a href=\"#値のAssignmentsは受け付けないようにしたい\" data-toc-modified-id=\"値のAssignmentsは受け付けないようにしたい-1.3.1.2\"><span class=\"toc-item-num\">1.3.1.2&nbsp;&nbsp;</span>値のAssignmentsは受け付けないようにしたい</a></span><ul class=\"toc-item\"><li><span><a href=\"#instanceに値を入れるとInstanceができるので、__getattr__は呼ばれなくなる\" data-toc-modified-id=\"instanceに値を入れるとInstanceができるので、__getattr__は呼ばれなくなる-1.3.1.2.1\"><span class=\"toc-item-num\">1.3.1.2.1&nbsp;&nbsp;</span>instanceに値を入れるとInstanceができるので、__getattr__は呼ばれなくなる</a></span></li><li><span><a href=\"#元のObjectは同じ\" data-toc-modified-id=\"元のObjectは同じ-1.3.1.2.2\"><span class=\"toc-item-num\">1.3.1.2.2&nbsp;&nbsp;</span>元のObjectは同じ</a></span></li></ul></li><li><span><a href=\"#__setattr__-でいくつかの座標をReadOnlyにする\" data-toc-modified-id=\"__setattr__-でいくつかの座標をReadOnlyにする-1.3.1.3\"><span class=\"toc-item-num\">1.3.1.3&nbsp;&nbsp;</span>__setattr__ でいくつかの座標をReadOnlyにする</a></span><ul class=\"toc-item\"><li><span><a href=\"#x,y,z,t-はダメ\" data-toc-modified-id=\"x,y,z,t-はダメ-1.3.1.3.1\"><span class=\"toc-item-num\">1.3.1.3.1&nbsp;&nbsp;</span>x,y,z,t はダメ</a></span></li><li><span><a href=\"#a-to-z-もだめ\" data-toc-modified-id=\"a-to-z-もだめ-1.3.1.3.2\"><span class=\"toc-item-num\">1.3.1.3.2&nbsp;&nbsp;</span>a to z もだめ</a></span></li><li><span><a href=\"#AとかならOK\" data-toc-modified-id=\"AとかならOK-1.3.1.3.3\"><span class=\"toc-item-num\">1.3.1.3.3&nbsp;&nbsp;</span>AとかならOK</a></span></li></ul></li><li><span><a href=\"#Faster-__eq__\" data-toc-modified-id=\"Faster-__eq__-1.3.1.4\"><span class=\"toc-item-num\">1.3.1.4&nbsp;&nbsp;</span>Faster __eq__</a></span><ul class=\"toc-item\"><li><span><a href=\"#現在は比較のためだけにTupleを作ってるので効率悪い\" data-toc-modified-id=\"現在は比較のためだけにTupleを作ってるので効率悪い-1.3.1.4.1\"><span class=\"toc-item-num\">1.3.1.4.1&nbsp;&nbsp;</span>現在は比較のためだけにTupleを作ってるので効率悪い</a></span></li><li><span><a href=\"#ZIPを使う\" data-toc-modified-id=\"ZIPを使う-1.3.1.4.2\"><span class=\"toc-item-num\">1.3.1.4.2&nbsp;&nbsp;</span>ZIPを使う</a></span><ul class=\"toc-item\"><li><span><a href=\"#もっとかんたんに\" data-toc-modified-id=\"もっとかんたんに-1.3.1.4.2.1\"><span class=\"toc-item-num\">1.3.1.4.2.1&nbsp;&nbsp;</span>もっとかんたんに</a></span></li><li><span><a href=\"#all()\" data-toc-modified-id=\"all()-1.3.1.4.2.2\"><span class=\"toc-item-num\">1.3.1.4.2.2&nbsp;&nbsp;</span>all()</a></span></li><li><span><a href=\"#any()\" data-toc-modified-id=\"any()-1.3.1.4.2.3\"><span class=\"toc-item-num\">1.3.1.4.2.3&nbsp;&nbsp;</span>any()</a></span></li></ul></li></ul></li><li><span><a href=\"#ZIP\" data-toc-modified-id=\"ZIP-1.3.1.5\"><span class=\"toc-item-num\">1.3.1.5&nbsp;&nbsp;</span>ZIP</a></span><ul class=\"toc-item\"><li><span><a href=\"#RubyのZipと似てる\" data-toc-modified-id=\"RubyのZipと似てる-1.3.1.5.1\"><span class=\"toc-item-num\">1.3.1.5.1&nbsp;&nbsp;</span>RubyのZipと似てる</a></span><ul class=\"toc-item\"><li><span><a href=\"#Generatorを返す\" data-toc-modified-id=\"Generatorを返す-1.3.1.5.1.1\"><span class=\"toc-item-num\">1.3.1.5.1.1&nbsp;&nbsp;</span>Generatorを返す</a></span></li><li><span><a href=\"#Listにしてやると交互に出す\" data-toc-modified-id=\"Listにしてやると交互に出す-1.3.1.5.1.2\"><span class=\"toc-item-num\">1.3.1.5.1.2&nbsp;&nbsp;</span>Listにしてやると交互に出す</a></span></li></ul></li><li><span><a href=\"#値が足りないとそこで終わり、エラーはなし\" data-toc-modified-id=\"値が足りないとそこで終わり、エラーはなし-1.3.1.5.2\"><span class=\"toc-item-num\">1.3.1.5.2&nbsp;&nbsp;</span>値が足りないとそこで終わり、エラーはなし</a></span><ul class=\"toc-item\"><li><span><a href=\"#itertools.zip_longest-は足りない値をFillできる\" data-toc-modified-id=\"itertools.zip_longest-は足りない値をFillできる-1.3.1.5.2.1\"><span class=\"toc-item-num\">1.3.1.5.2.1&nbsp;&nbsp;</span>itertools.zip_longest は足りない値をFillできる</a></span></li></ul></li></ul></li></ul></li></ul></li></ul></li><li><span><a href=\"#Chpat-11-:-Intefaces-:-Protocolst-to-ABC\" data-toc-modified-id=\"Chpat-11-:-Intefaces-:-Protocolst-to-ABC-2\"><span class=\"toc-item-num\">2&nbsp;&nbsp;</span>Chpat 11 : Intefaces : Protocolst to ABC</a></span></li></ul></div>"
   ]
  },
  {
   "cell_type": "markdown",
   "metadata": {},
   "source": [
    "# Chap10 Sequece, Hasing, Slicing"
   ]
  },
  {
   "cell_type": "markdown",
   "metadata": {},
   "source": [
    "## Vector take 1"
   ]
  },
  {
   "cell_type": "code",
   "execution_count": 37,
   "metadata": {},
   "outputs": [],
   "source": [
    "from array import array\n",
    "import reprlib\n",
    "import math\n",
    "import numbers\n",
    "\n",
    "\n",
    "class Vector:\n",
    "    typecode = 'd'\n",
    "\n",
    "    def __init__(self, components):\n",
    "        self._components = array(self.typecode, components)\n",
    "\n",
    "    def __iter__(self):\n",
    "        print('__iter__')\n",
    "        print(iter(self._components))\n",
    "        return iter(self._components)\n",
    "\n",
    "    def __repr__(self):\n",
    "        components = reprlib.repr(self._components)\n",
    "        components = components[components.find('['):-1]\n",
    "        return 'Vector repr({})'.format(components)\n",
    "\n",
    "    def __str__(self):\n",
    "        return str(tuple(self))\n",
    "\n",
    "    def __bytes__(self):\n",
    "        return (bytes[ord(self.typecode)]) + bytes(self._components)\n",
    "\n",
    "    #  はじめの__eq__これだと遅い\n",
    "    #     def __eq__(self, other):\n",
    "    #         return tuple(self) == tuple(other)\n",
    "\n",
    "    #     早くした\n",
    "    #     def __eq__(self, other):\n",
    "    #         if len(self) != len(other):\n",
    "    #             return False\n",
    "    #         for a, b in zip(self, other):\n",
    "    #             if a != b:\n",
    "    #                 return false\n",
    "    #         return True\n",
    "    \n",
    "    # 簡素に書いたもの\n",
    "    def __eq__(self, other):\n",
    "        return len(self) == len(other) and all(a==b for a, b in zip(self, other))\n",
    "\n",
    "    def __abs__(self):\n",
    "        return math.sqrt(sum(x * x for x in self))\n",
    "\n",
    "    def __bool__(self):\n",
    "        return bool(abs(self))\n",
    "\n",
    "    @classmethod\n",
    "    def frombytes(cls, octets):\n",
    "        typecode = chr(octets[0])\n",
    "        memv = memoryview(octets[1:]).cast(typecode)\n",
    "        return cls(memv)\n",
    "\n",
    "    def __len__(self):\n",
    "        print('__len__')\n",
    "        return len(self._components)\n",
    "\n",
    "#     初めの getitem\n",
    "#     def __getitem__(self, index):\n",
    "#         print('__getitem__')\n",
    "#         return self._components[index]\n",
    "\n",
    "# 二個目のslice-aware getitem\n",
    "    def __getitem__(self, index):\n",
    "        cls = type(self)\n",
    "        if isinstance(index, slice):\n",
    "            print('index argument is a slice')\n",
    "            print('Initializing vector ...')\n",
    "            return cls(self._components[index])\n",
    "        elif isinstance(index, numbers.Integral):\n",
    "            print('index arg is kind like an Int')\n",
    "            return self._components[index]\n",
    "        else:\n",
    "            msg = '{cls.__name__} indices must be integers'\n",
    "            raise TypeError(msg.format(cls=cls))\n",
    "\n",
    "    # __get_attr__ で座標を呼べるようにする\n",
    "    shortcut_names = 'xyzt'\n",
    "\n",
    "    def __getattr__(self, name):\n",
    "        print('__getattr__')\n",
    "        cls = type(self)\n",
    "        if len(name) == 1:\n",
    "            pos = cls.shortcut_names.find(name)\n",
    "            if 0 <= pos < len(self._components):\n",
    "                return self._components[pos]\n",
    "        msg = '{.__name__!r} object has no attribute {!r}'\n",
    "        raise AttributeError(msg.format(cls, name))\n",
    "\n",
    "    # 座標をセットできるようにする\n",
    "    def __setattr__(self, name, value):\n",
    "        print('__setattr__')\n",
    "        cls = type(self)\n",
    "\n",
    "        if len(name) == 1:  # if char is single\n",
    "            if name in cls.shortcut_names:  # if name is xyzt\n",
    "                error = 'readonly attributes {attr_name!r}'\n",
    "            elif name.islower():  # if other than xyzt\n",
    "                error = \"can't set attributes 'a' to 'z' in {cls_name!r}\"\n",
    "            else:  # otherwise set it blank\n",
    "                error = ''\n",
    "\n",
    "            if error:  # dealing with error\n",
    "                msg = error.format(cls_name=cls.__name__, attr_name=name)\n",
    "                raise AttributeError(msg)\n",
    "        # 何もおこらなかったときは上のクラスの挙動をSuper\n",
    "        super().__setattr__(name, value)"
   ]
  },
  {
   "cell_type": "code",
   "execution_count": 66,
   "metadata": {},
   "outputs": [
    {
     "data": {
      "text/plain": [
       "Vector repr([3.0, 4.0])"
      ]
     },
     "execution_count": 66,
     "metadata": {},
     "output_type": "execute_result"
    }
   ],
   "source": [
    "Vector([3, 4])"
   ]
  },
  {
   "cell_type": "markdown",
   "metadata": {},
   "source": [
    "### Make Vector iterable by \\__iter__\n",
    "\n",
    "- Object is not iterable"
   ]
  },
  {
   "cell_type": "code",
   "execution_count": 67,
   "metadata": {},
   "outputs": [
    {
     "name": "stdout",
     "output_type": "stream",
     "text": [
      "__iter__\n",
      "<arrayiterator object at 0x7f3a28647408>\n",
      "__len__\n",
      "(3.0, 4.0)\n"
     ]
    }
   ],
   "source": [
    "print(Vector([3,4]))"
   ]
  },
  {
   "cell_type": "markdown",
   "metadata": {},
   "source": [
    "### reprlib.repr で長いListを短くして表示してくれる"
   ]
  },
  {
   "cell_type": "code",
   "execution_count": 68,
   "metadata": {},
   "outputs": [
    {
     "data": {
      "text/plain": [
       "Vector repr([0.0, 1.0, 2.0, 3.0, 4.0, ...])"
      ]
     },
     "execution_count": 68,
     "metadata": {},
     "output_type": "execute_result"
    }
   ],
   "source": [
    "Vector(range(10))"
   ]
  },
  {
   "cell_type": "markdown",
   "metadata": {},
   "source": [
    "## Vector take 2 : Sliceable Sequence"
   ]
  },
  {
   "cell_type": "markdown",
   "metadata": {},
   "source": [
    "### len と getitem を作る"
   ]
  },
  {
   "cell_type": "code",
   "execution_count": 69,
   "metadata": {},
   "outputs": [
    {
     "name": "stdout",
     "output_type": "stream",
     "text": [
      "__len__\n"
     ]
    },
    {
     "data": {
      "text/plain": [
       "3"
      ]
     },
     "execution_count": 69,
     "metadata": {},
     "output_type": "execute_result"
    }
   ],
   "source": [
    "v1 = Vector([2,3,4])\n",
    "len(v1)"
   ]
  },
  {
   "cell_type": "code",
   "execution_count": 70,
   "metadata": {},
   "outputs": [
    {
     "name": "stdout",
     "output_type": "stream",
     "text": [
      "__getitem__\n",
      "__getitem__\n"
     ]
    },
    {
     "data": {
      "text/plain": [
       "(2.0, 4.0)"
      ]
     },
     "execution_count": 70,
     "metadata": {},
     "output_type": "execute_result"
    }
   ],
   "source": [
    "v1[0], v1[-1]"
   ]
  },
  {
   "cell_type": "markdown",
   "metadata": {},
   "source": [
    "#### getitem はsliceできる。ただ、list ではなくVectorを返したい"
   ]
  },
  {
   "cell_type": "code",
   "execution_count": 64,
   "metadata": {},
   "outputs": [],
   "source": [
    "# 現状こんな感じ\n",
    "def __getitem__(self, index):\n",
    "    print('__getitem__')\n",
    "    return self._components[index]"
   ]
  },
  {
   "cell_type": "code",
   "execution_count": 71,
   "metadata": {},
   "outputs": [
    {
     "name": "stdout",
     "output_type": "stream",
     "text": [
      "__getitem__\n"
     ]
    },
    {
     "data": {
      "text/plain": [
       "array('d', [1.0, 2.0, 3.0])"
      ]
     },
     "execution_count": 71,
     "metadata": {},
     "output_type": "execute_result"
    }
   ],
   "source": [
    "v7 = Vector(range(7))\n",
    "v7[1:4]"
   ]
  },
  {
   "cell_type": "markdown",
   "metadata": {},
   "source": [
    "### Sliceの仕組み"
   ]
  },
  {
   "cell_type": "code",
   "execution_count": 72,
   "metadata": {},
   "outputs": [],
   "source": [
    "class MySeq:\n",
    "    def __getitem__(self, index):\n",
    "        return index\n",
    "    \n",
    "s = MySeq()"
   ]
  },
  {
   "cell_type": "markdown",
   "metadata": {},
   "source": [
    "#### 内容について適当な解釈をしてくれる"
   ]
  },
  {
   "cell_type": "code",
   "execution_count": 73,
   "metadata": {},
   "outputs": [
    {
     "data": {
      "text/plain": [
       "1"
      ]
     },
     "execution_count": 73,
     "metadata": {},
     "output_type": "execute_result"
    }
   ],
   "source": [
    "s[1]"
   ]
  },
  {
   "cell_type": "code",
   "execution_count": 74,
   "metadata": {},
   "outputs": [
    {
     "data": {
      "text/plain": [
       "slice(1, 4, None)"
      ]
     },
     "execution_count": 74,
     "metadata": {},
     "output_type": "execute_result"
    }
   ],
   "source": [
    "s[1:4]"
   ]
  },
  {
   "cell_type": "code",
   "execution_count": 75,
   "metadata": {},
   "outputs": [
    {
     "data": {
      "text/plain": [
       "(slice(1, 4, 2), slice(7, 9, None))"
      ]
     },
     "execution_count": 75,
     "metadata": {},
     "output_type": "execute_result"
    }
   ],
   "source": [
    "s[1:4:2, 7:9]"
   ]
  },
  {
   "cell_type": "markdown",
   "metadata": {},
   "source": [
    "#### Sliceとはなにか"
   ]
  },
  {
   "cell_type": "code",
   "execution_count": 78,
   "metadata": {},
   "outputs": [
    {
     "name": "stdout",
     "output_type": "stream",
     "text": [
      "<class 'slice'>\n",
      "['__class__', '__delattr__', '__dir__', '__doc__', '__eq__', '__format__', '__ge__', '__getattribute__', '__gt__', '__hash__', '__init__', '__init_subclass__', '__le__', '__lt__', '__ne__', '__new__', '__reduce__', '__reduce_ex__', '__repr__', '__setattr__', '__sizeof__', '__str__', '__subclasshook__', 'indices', 'start', 'step', 'stop']\n"
     ]
    }
   ],
   "source": [
    "print(slice)\n",
    "print(dir(slice))"
   ]
  },
  {
   "cell_type": "markdown",
   "metadata": {},
   "source": [
    "```\n",
    "help(slice)\n",
    "\n",
    "↓\n",
    "```\n",
    "\n",
    "```\n",
    "|  indices(...)\n",
    " |      S.indices(len) -> (start, stop, stride)\n",
    " |      \n",
    " |      Assuming a sequence of length len, calculate the start and stop\n",
    " |      indices, and the stride length of the extended slice described by\n",
    " |      S. Out of bounds indices are clipped in a manner consistent with the\n",
    " |      handling of normal slices.\n",
    "```"
   ]
  },
  {
   "cell_type": "markdown",
   "metadata": {},
   "source": [
    "##### インデックスについて色々よしなに解釈してくれる"
   ]
  },
  {
   "cell_type": "code",
   "execution_count": 84,
   "metadata": {},
   "outputs": [
    {
     "name": "stdout",
     "output_type": "stream",
     "text": [
      "(0, 5, 2)\n",
      "(0, 5, 2)\n"
     ]
    }
   ],
   "source": [
    "print(slice(None, 10, 2).indices(5))\n",
    "print(slice(0, 5, 2).indices(5))"
   ]
  },
  {
   "cell_type": "markdown",
   "metadata": {},
   "source": [
    "### Make getitem slice-aware"
   ]
  },
  {
   "cell_type": "code",
   "execution_count": null,
   "metadata": {},
   "outputs": [],
   "source": [
    "# 二個目のslice-aware getitem\n",
    "    def __getitem__(self, index):\n",
    "        cls = type(self)\n",
    "        if isinstance(index, slice):\n",
    "            print('index argument is a slice')\n",
    "            print('Initializing vector ...')\n",
    "            return cls(self._components[index])\n",
    "        elif isinstance(index, numbers.Integral):\n",
    "            print('index arg is kind like an Int')\n",
    "            return self._components[index]\n",
    "        else:\n",
    "            msg = '{cls.__name__} indices must be integers'\n",
    "            raise TypeError(msg.format(cls=cls))"
   ]
  },
  {
   "cell_type": "code",
   "execution_count": 96,
   "metadata": {},
   "outputs": [
    {
     "name": "stdout",
     "output_type": "stream",
     "text": [
      "index arg is kind link an Int\n"
     ]
    },
    {
     "data": {
      "text/plain": [
       "6.0"
      ]
     },
     "execution_count": 96,
     "metadata": {},
     "output_type": "execute_result"
    }
   ],
   "source": [
    "v7 = Vector(range(7))\n",
    "v7[-1]"
   ]
  },
  {
   "cell_type": "code",
   "execution_count": 97,
   "metadata": {},
   "outputs": [
    {
     "name": "stdout",
     "output_type": "stream",
     "text": [
      "index argument is a slice\n",
      "Initializing vector ...\n"
     ]
    },
    {
     "data": {
      "text/plain": [
       "Vector repr([1.0, 2.0, 3.0])"
      ]
     },
     "execution_count": 97,
     "metadata": {},
     "output_type": "execute_result"
    }
   ],
   "source": [
    "v7[1:4]"
   ]
  },
  {
   "cell_type": "code",
   "execution_count": 98,
   "metadata": {},
   "outputs": [
    {
     "ename": "TypeError",
     "evalue": "Vector indices must be integers",
     "output_type": "error",
     "traceback": [
      "\u001b[1;31m---------------------------------------------------------------------------\u001b[0m",
      "\u001b[1;31mTypeError\u001b[0m                                 Traceback (most recent call last)",
      "\u001b[1;32m<ipython-input-98-0f616761b0d9>\u001b[0m in \u001b[0;36m<module>\u001b[1;34m()\u001b[0m\n\u001b[1;32m----> 1\u001b[1;33m \u001b[0mv7\u001b[0m\u001b[1;33m[\u001b[0m\u001b[1;36m1\u001b[0m\u001b[1;33m,\u001b[0m\u001b[1;36m2\u001b[0m\u001b[1;33m]\u001b[0m\u001b[1;33m\u001b[0m\u001b[0m\n\u001b[0m",
      "\u001b[1;32m<ipython-input-95-17007e20c206>\u001b[0m in \u001b[0;36m__getitem__\u001b[1;34m(self, index)\u001b[0m\n\u001b[0;32m     62\u001b[0m         \u001b[1;32melse\u001b[0m\u001b[1;33m:\u001b[0m\u001b[1;33m\u001b[0m\u001b[0m\n\u001b[0;32m     63\u001b[0m             \u001b[0mmsg\u001b[0m \u001b[1;33m=\u001b[0m \u001b[1;34m'{cls.__name__} indices must be integers'\u001b[0m\u001b[1;33m\u001b[0m\u001b[0m\n\u001b[1;32m---> 64\u001b[1;33m             \u001b[1;32mraise\u001b[0m \u001b[0mTypeError\u001b[0m\u001b[1;33m(\u001b[0m\u001b[0mmsg\u001b[0m\u001b[1;33m.\u001b[0m\u001b[0mformat\u001b[0m\u001b[1;33m(\u001b[0m\u001b[0mcls\u001b[0m\u001b[1;33m=\u001b[0m\u001b[0mcls\u001b[0m\u001b[1;33m)\u001b[0m\u001b[1;33m)\u001b[0m\u001b[1;33m\u001b[0m\u001b[0m\n\u001b[0m",
      "\u001b[1;31mTypeError\u001b[0m: Vector indices must be integers"
     ]
    }
   ],
   "source": [
    "v7[1,2]"
   ]
  },
  {
   "cell_type": "markdown",
   "metadata": {},
   "source": [
    "## Vector take 2 - Dynamic Attribute Access"
   ]
  },
  {
   "cell_type": "markdown",
   "metadata": {},
   "source": [
    "### \\__getattri__ で v.x, v.x, v.t とかで色々座標の値を呼べるようにする"
   ]
  },
  {
   "cell_type": "code",
   "execution_count": null,
   "metadata": {},
   "outputs": [],
   "source": [
    "    def __getattr__(self, name):\n",
    "        print('__get_attr__')\n",
    "        cls = type(self)\n",
    "        if len(name) == 1: # name is 1 char?\n",
    "            pos = cls.shortcut_names.find(name)\n",
    "            if 0 <= pos < len(self._components):\n",
    "                return self._components[pos]\n",
    "        msg = '{.__name__!r} object has no attribute {!r}'\n",
    "        raise AttributeError(msg.format(cls, name))"
   ]
  },
  {
   "cell_type": "code",
   "execution_count": 3,
   "metadata": {},
   "outputs": [
    {
     "data": {
      "text/plain": [
       "str"
      ]
     },
     "execution_count": 3,
     "metadata": {},
     "output_type": "execute_result"
    }
   ],
   "source": [
    "type('hey')"
   ]
  },
  {
   "cell_type": "code",
   "execution_count": 10,
   "metadata": {},
   "outputs": [
    {
     "name": "stdout",
     "output_type": "stream",
     "text": [
      "__getattr__\n",
      "__getattr__\n",
      "__getattr__\n",
      "__getattr__\n",
      "__getattr__\n",
      "__getattr__\n",
      "__getattr__\n",
      "__getattr__\n",
      "__getattr__\n",
      "__getattr__\n",
      "__getattr__\n",
      "__getattr__\n",
      "__getattr__\n",
      "__getattr__\n",
      "__getattr__\n",
      "__getattr__\n",
      "__getattr__\n",
      "__getattr__\n",
      "__getattr__\n",
      "__getattr__\n",
      "__getattr__\n",
      "__getattr__\n"
     ]
    },
    {
     "data": {
      "text/plain": [
       "Vector repr([0.0, 1.0, 2.0, 3.0, 4.0])"
      ]
     },
     "execution_count": 10,
     "metadata": {},
     "output_type": "execute_result"
    }
   ],
   "source": [
    "v = Vector(range(5))\n",
    "v"
   ]
  },
  {
   "cell_type": "markdown",
   "metadata": {},
   "source": [
    "#### 値が呼べることと、エラーが出ることの確認"
   ]
  },
  {
   "cell_type": "code",
   "execution_count": 14,
   "metadata": {},
   "outputs": [
    {
     "name": "stdout",
     "output_type": "stream",
     "text": [
      "__getattr__\n"
     ]
    },
    {
     "data": {
      "text/plain": [
       "3.0"
      ]
     },
     "execution_count": 14,
     "metadata": {},
     "output_type": "execute_result"
    }
   ],
   "source": [
    "v.x"
   ]
  },
  {
   "cell_type": "code",
   "execution_count": 15,
   "metadata": {},
   "outputs": [
    {
     "name": "stdout",
     "output_type": "stream",
     "text": [
      "__getattr__\n"
     ]
    },
    {
     "ename": "AttributeError",
     "evalue": "'Vector' object has no attribute 'a'",
     "output_type": "error",
     "traceback": [
      "\u001b[1;31m---------------------------------------------------------------------------\u001b[0m",
      "\u001b[1;31mAttributeError\u001b[0m                            Traceback (most recent call last)",
      "\u001b[1;32m<ipython-input-15-bd111c48723f>\u001b[0m in \u001b[0;36m<module>\u001b[1;34m()\u001b[0m\n\u001b[1;32m----> 1\u001b[1;33m \u001b[0mv\u001b[0m\u001b[1;33m.\u001b[0m\u001b[0ma\u001b[0m\u001b[1;33m\u001b[0m\u001b[0m\n\u001b[0m",
      "\u001b[1;32m<ipython-input-7-4508e089fd60>\u001b[0m in \u001b[0;36m__getattr__\u001b[1;34m(self, name)\u001b[0m\n\u001b[0;32m     76\u001b[0m                 \u001b[1;32mreturn\u001b[0m \u001b[0mself\u001b[0m\u001b[1;33m.\u001b[0m\u001b[0m_components\u001b[0m\u001b[1;33m[\u001b[0m\u001b[0mpos\u001b[0m\u001b[1;33m]\u001b[0m\u001b[1;33m\u001b[0m\u001b[0m\n\u001b[0;32m     77\u001b[0m         \u001b[0mmsg\u001b[0m \u001b[1;33m=\u001b[0m \u001b[1;34m'{.__name__!r} object has no attribute {!r}'\u001b[0m\u001b[1;33m\u001b[0m\u001b[0m\n\u001b[1;32m---> 78\u001b[1;33m         \u001b[1;32mraise\u001b[0m \u001b[0mAttributeError\u001b[0m\u001b[1;33m(\u001b[0m\u001b[0mmsg\u001b[0m\u001b[1;33m.\u001b[0m\u001b[0mformat\u001b[0m\u001b[1;33m(\u001b[0m\u001b[0mcls\u001b[0m\u001b[1;33m,\u001b[0m \u001b[0mname\u001b[0m\u001b[1;33m)\u001b[0m\u001b[1;33m)\u001b[0m\u001b[1;33m\u001b[0m\u001b[0m\n\u001b[0m",
      "\u001b[1;31mAttributeError\u001b[0m: 'Vector' object has no attribute 'a'"
     ]
    }
   ],
   "source": [
    "v.a"
   ]
  },
  {
   "cell_type": "markdown",
   "metadata": {},
   "source": [
    "#### 値のAssignmentsは受け付けないようにしたい"
   ]
  },
  {
   "cell_type": "markdown",
   "metadata": {},
   "source": [
    "##### instanceに値を入れるとInstanceができるので、\\__getattr__は呼ばれなくなる\n",
    "\n",
    "Python calls \\__getattr__ as a fallback.  \n",
    "Now v.x is already set, so the v.x call does not go through \\__getattr_"
   ]
  },
  {
   "cell_type": "code",
   "execution_count": 19,
   "metadata": {},
   "outputs": [
    {
     "data": {
      "text/plain": [
       "10"
      ]
     },
     "execution_count": 19,
     "metadata": {},
     "output_type": "execute_result"
    }
   ],
   "source": [
    "v.x = 10\n",
    "v.x # print文が出てきていない"
   ]
  },
  {
   "cell_type": "markdown",
   "metadata": {},
   "source": [
    "##### 元のObjectは同じ"
   ]
  },
  {
   "cell_type": "code",
   "execution_count": 17,
   "metadata": {},
   "outputs": [
    {
     "name": "stdout",
     "output_type": "stream",
     "text": [
      "__getattr__\n",
      "__getattr__\n",
      "__getattr__\n",
      "__getattr__\n",
      "__getattr__\n",
      "__getattr__\n",
      "__getattr__\n",
      "__getattr__\n",
      "__getattr__\n",
      "__getattr__\n",
      "__getattr__\n",
      "__getattr__\n",
      "__getattr__\n",
      "__getattr__\n",
      "__getattr__\n",
      "__getattr__\n",
      "__getattr__\n",
      "__getattr__\n",
      "__getattr__\n",
      "__getattr__\n",
      "__getattr__\n",
      "__getattr__\n"
     ]
    },
    {
     "data": {
      "text/plain": [
       "Vector repr([0.0, 1.0, 2.0, 3.0, 4.0])"
      ]
     },
     "execution_count": 17,
     "metadata": {},
     "output_type": "execute_result"
    }
   ],
   "source": [
    "v"
   ]
  },
  {
   "cell_type": "markdown",
   "metadata": {},
   "source": [
    "#### \\__setattr__ でいくつかの座標をReadOnlyにする"
   ]
  },
  {
   "cell_type": "code",
   "execution_count": null,
   "metadata": {},
   "outputs": [],
   "source": [
    "def __setattr__(self, name, value):\n",
    "    print('__setattr__')\n",
    "    cls = type(self)\n",
    "\n",
    "    if len(name) == 1:  # if char is single\n",
    "        if name in cls.shortcut_names:  # if name is xyzt\n",
    "            error = 'readonly attributes {attr_name!r}'\n",
    "        elif name.islower():  # if other than xyzt\n",
    "            error = \"can't set attributes 'a' to 'z' in {cls_name!r}\"\n",
    "        else:  # otherwise set it blank\n",
    "            error = ''\n",
    "\n",
    "        if error:  # dealing with error\n",
    "            msg = error.format(cls_name=cls.__name__, attr_name=name)\n",
    "            raise AttributeError(msg)\n",
    "    # 何もおこらなかったときは上のクラスの挙動をSuper\n",
    "    super().__setattr__(name, value)"
   ]
  },
  {
   "cell_type": "code",
   "execution_count": 26,
   "metadata": {},
   "outputs": [
    {
     "name": "stdout",
     "output_type": "stream",
     "text": [
      "__setattr__\n"
     ]
    }
   ],
   "source": [
    "v = Vector(range(5))"
   ]
  },
  {
   "cell_type": "markdown",
   "metadata": {},
   "source": [
    "##### x,y,z,t はダメ"
   ]
  },
  {
   "cell_type": "code",
   "execution_count": 27,
   "metadata": {},
   "outputs": [
    {
     "name": "stdout",
     "output_type": "stream",
     "text": [
      "__setattr__\n"
     ]
    },
    {
     "ename": "AttributeError",
     "evalue": "readonly attributes 'x'",
     "output_type": "error",
     "traceback": [
      "\u001b[1;31m---------------------------------------------------------------------------\u001b[0m",
      "\u001b[1;31mAttributeError\u001b[0m                            Traceback (most recent call last)",
      "\u001b[1;32m<ipython-input-27-ab03a2bcc936>\u001b[0m in \u001b[0;36m<module>\u001b[1;34m()\u001b[0m\n\u001b[1;32m----> 1\u001b[1;33m \u001b[0mv\u001b[0m\u001b[1;33m.\u001b[0m\u001b[0mx\u001b[0m \u001b[1;33m=\u001b[0m \u001b[1;36m10\u001b[0m\u001b[1;33m\u001b[0m\u001b[0m\n\u001b[0m",
      "\u001b[1;32m<ipython-input-24-a58bdeb9bc89>\u001b[0m in \u001b[0;36m__setattr__\u001b[1;34m(self, name, value)\u001b[0m\n\u001b[0;32m     93\u001b[0m             \u001b[1;32mif\u001b[0m \u001b[0merror\u001b[0m\u001b[1;33m:\u001b[0m  \u001b[1;31m# dealing with error\u001b[0m\u001b[1;33m\u001b[0m\u001b[0m\n\u001b[0;32m     94\u001b[0m                 \u001b[0mmsg\u001b[0m \u001b[1;33m=\u001b[0m \u001b[0merror\u001b[0m\u001b[1;33m.\u001b[0m\u001b[0mformat\u001b[0m\u001b[1;33m(\u001b[0m\u001b[0mcls_name\u001b[0m\u001b[1;33m=\u001b[0m\u001b[0mcls\u001b[0m\u001b[1;33m.\u001b[0m\u001b[0m__name__\u001b[0m\u001b[1;33m,\u001b[0m \u001b[0mattr_name\u001b[0m\u001b[1;33m=\u001b[0m\u001b[0mname\u001b[0m\u001b[1;33m)\u001b[0m\u001b[1;33m\u001b[0m\u001b[0m\n\u001b[1;32m---> 95\u001b[1;33m                 \u001b[1;32mraise\u001b[0m \u001b[0mAttributeError\u001b[0m\u001b[1;33m(\u001b[0m\u001b[0mmsg\u001b[0m\u001b[1;33m)\u001b[0m\u001b[1;33m\u001b[0m\u001b[0m\n\u001b[0m\u001b[0;32m     96\u001b[0m         \u001b[1;31m# 何もおこらなかったときは上のクラスの挙動をSuper\u001b[0m\u001b[1;33m\u001b[0m\u001b[1;33m\u001b[0m\u001b[0m\n\u001b[0;32m     97\u001b[0m         \u001b[0msuper\u001b[0m\u001b[1;33m(\u001b[0m\u001b[1;33m)\u001b[0m\u001b[1;33m.\u001b[0m\u001b[0m__setattr__\u001b[0m\u001b[1;33m(\u001b[0m\u001b[0mname\u001b[0m\u001b[1;33m,\u001b[0m \u001b[0mvalue\u001b[0m\u001b[1;33m)\u001b[0m\u001b[1;33m\u001b[0m\u001b[0m\n",
      "\u001b[1;31mAttributeError\u001b[0m: readonly attributes 'x'"
     ]
    }
   ],
   "source": [
    "v.x = 10"
   ]
  },
  {
   "cell_type": "markdown",
   "metadata": {},
   "source": [
    "##### a to z もだめ"
   ]
  },
  {
   "cell_type": "code",
   "execution_count": 30,
   "metadata": {},
   "outputs": [
    {
     "name": "stdout",
     "output_type": "stream",
     "text": [
      "__setattr__\n"
     ]
    },
    {
     "ename": "AttributeError",
     "evalue": "can't set attributes 'a' to 'z' in 'Vector'",
     "output_type": "error",
     "traceback": [
      "\u001b[1;31m---------------------------------------------------------------------------\u001b[0m",
      "\u001b[1;31mAttributeError\u001b[0m                            Traceback (most recent call last)",
      "\u001b[1;32m<ipython-input-30-28ef958cb43b>\u001b[0m in \u001b[0;36m<module>\u001b[1;34m()\u001b[0m\n\u001b[1;32m----> 1\u001b[1;33m \u001b[0mv\u001b[0m\u001b[1;33m.\u001b[0m\u001b[0ma\u001b[0m \u001b[1;33m=\u001b[0m \u001b[1;36m10\u001b[0m\u001b[1;33m\u001b[0m\u001b[0m\n\u001b[0m",
      "\u001b[1;32m<ipython-input-24-a58bdeb9bc89>\u001b[0m in \u001b[0;36m__setattr__\u001b[1;34m(self, name, value)\u001b[0m\n\u001b[0;32m     93\u001b[0m             \u001b[1;32mif\u001b[0m \u001b[0merror\u001b[0m\u001b[1;33m:\u001b[0m  \u001b[1;31m# dealing with error\u001b[0m\u001b[1;33m\u001b[0m\u001b[0m\n\u001b[0;32m     94\u001b[0m                 \u001b[0mmsg\u001b[0m \u001b[1;33m=\u001b[0m \u001b[0merror\u001b[0m\u001b[1;33m.\u001b[0m\u001b[0mformat\u001b[0m\u001b[1;33m(\u001b[0m\u001b[0mcls_name\u001b[0m\u001b[1;33m=\u001b[0m\u001b[0mcls\u001b[0m\u001b[1;33m.\u001b[0m\u001b[0m__name__\u001b[0m\u001b[1;33m,\u001b[0m \u001b[0mattr_name\u001b[0m\u001b[1;33m=\u001b[0m\u001b[0mname\u001b[0m\u001b[1;33m)\u001b[0m\u001b[1;33m\u001b[0m\u001b[0m\n\u001b[1;32m---> 95\u001b[1;33m                 \u001b[1;32mraise\u001b[0m \u001b[0mAttributeError\u001b[0m\u001b[1;33m(\u001b[0m\u001b[0mmsg\u001b[0m\u001b[1;33m)\u001b[0m\u001b[1;33m\u001b[0m\u001b[0m\n\u001b[0m\u001b[0;32m     96\u001b[0m         \u001b[1;31m# 何もおこらなかったときは上のクラスの挙動をSuper\u001b[0m\u001b[1;33m\u001b[0m\u001b[1;33m\u001b[0m\u001b[0m\n\u001b[0;32m     97\u001b[0m         \u001b[0msuper\u001b[0m\u001b[1;33m(\u001b[0m\u001b[1;33m)\u001b[0m\u001b[1;33m.\u001b[0m\u001b[0m__setattr__\u001b[0m\u001b[1;33m(\u001b[0m\u001b[0mname\u001b[0m\u001b[1;33m,\u001b[0m \u001b[0mvalue\u001b[0m\u001b[1;33m)\u001b[0m\u001b[1;33m\u001b[0m\u001b[0m\n",
      "\u001b[1;31mAttributeError\u001b[0m: can't set attributes 'a' to 'z' in 'Vector'"
     ]
    }
   ],
   "source": [
    "v.a = 10"
   ]
  },
  {
   "cell_type": "markdown",
   "metadata": {},
   "source": [
    "##### AとかならOK"
   ]
  },
  {
   "cell_type": "code",
   "execution_count": 35,
   "metadata": {},
   "outputs": [
    {
     "name": "stdout",
     "output_type": "stream",
     "text": [
      "__setattr__\n"
     ]
    },
    {
     "data": {
      "text/plain": [
       "10"
      ]
     },
     "execution_count": 35,
     "metadata": {},
     "output_type": "execute_result"
    }
   ],
   "source": [
    "v.A = 10\n",
    "v.A"
   ]
  },
  {
   "cell_type": "markdown",
   "metadata": {},
   "source": [
    "#### Faster \\_\\_eq\\_\\_"
   ]
  },
  {
   "cell_type": "markdown",
   "metadata": {},
   "source": [
    "##### 現在は比較のためだけにTupleを作ってるので効率悪い"
   ]
  },
  {
   "cell_type": "code",
   "execution_count": null,
   "metadata": {},
   "outputs": [],
   "source": [
    "def __eq__(self, other):\n",
    "    return tuple(self) == tuple(other)"
   ]
  },
  {
   "cell_type": "markdown",
   "metadata": {},
   "source": [
    "##### ZIPを使う"
   ]
  },
  {
   "cell_type": "code",
   "execution_count": null,
   "metadata": {},
   "outputs": [],
   "source": [
    "def __eq__(self, other):\n",
    "    if len(self) != len(other):\n",
    "        return False\n",
    "    for a, b in zip(self, other):\n",
    "        if a != b:\n",
    "            return false\n",
    "    return True"
   ]
  },
  {
   "cell_type": "markdown",
   "metadata": {},
   "source": [
    "###### もっとかんたんに"
   ]
  },
  {
   "cell_type": "code",
   "execution_count": null,
   "metadata": {},
   "outputs": [],
   "source": [
    "def __eq__(self, other):\n",
    "    return len(self) == len(other) and all(a==b for a, b in zip(self, other))"
   ]
  },
  {
   "cell_type": "markdown",
   "metadata": {},
   "source": [
    "\n",
    "###### all()"
   ]
  },
  {
   "cell_type": "markdown",
   "metadata": {},
   "source": [
    "- all -> Return True if **all** elements of the iterable are true (or if the iterable is empty). Equivalent to:"
   ]
  },
  {
   "cell_type": "code",
   "execution_count": 42,
   "metadata": {},
   "outputs": [
    {
     "name": "stdout",
     "output_type": "stream",
     "text": [
      "True\n",
      "False\n"
     ]
    }
   ],
   "source": [
    "a_list = [2,4,6,8]\n",
    "b_list = [2,4,6,9]\n",
    "\n",
    "print(all(num % 2 == 0 for num in a_list))\n",
    "print(all(num % 2 == 0 for num in b_list))"
   ]
  },
  {
   "cell_type": "markdown",
   "metadata": {},
   "source": [
    "###### any()\n",
    "\n",
    "- any() => Return True if **any** element of the iterable is true. If the iterable is empty, return False. Equivalent to:\n",
    "\n"
   ]
  },
  {
   "cell_type": "code",
   "execution_count": 43,
   "metadata": {},
   "outputs": [
    {
     "name": "stdout",
     "output_type": "stream",
     "text": [
      "True\n",
      "True\n"
     ]
    }
   ],
   "source": [
    "a_list = [2,4,6,8]\n",
    "b_list = [2,4,6,9]\n",
    "\n",
    "print(any(num % 2 == 0 for num in a_list))\n",
    "print(any(num % 2 == 0 for num in b_list))"
   ]
  },
  {
   "cell_type": "markdown",
   "metadata": {},
   "source": [
    "#### ZIP\n",
    "\n",
    "##### RubyのZipと似てる"
   ]
  },
  {
   "cell_type": "markdown",
   "metadata": {},
   "source": [
    "###### Generatorを返す"
   ]
  },
  {
   "cell_type": "code",
   "execution_count": 45,
   "metadata": {},
   "outputs": [
    {
     "data": {
      "text/plain": [
       "<zip at 0x7fb7601cb4c8>"
      ]
     },
     "execution_count": 45,
     "metadata": {},
     "output_type": "execute_result"
    }
   ],
   "source": [
    "zip(range(3), 'ABC')"
   ]
  },
  {
   "cell_type": "markdown",
   "metadata": {},
   "source": [
    "###### Listにしてやると交互に出す"
   ]
  },
  {
   "cell_type": "code",
   "execution_count": 46,
   "metadata": {},
   "outputs": [
    {
     "data": {
      "text/plain": [
       "[(0, 'A'), (1, 'B'), (2, 'C')]"
      ]
     },
     "execution_count": 46,
     "metadata": {},
     "output_type": "execute_result"
    }
   ],
   "source": [
    "list(zip(range(3), 'ABC'))"
   ]
  },
  {
   "cell_type": "markdown",
   "metadata": {},
   "source": [
    "##### 値が足りないとそこで終わり、エラーはなし"
   ]
  },
  {
   "cell_type": "code",
   "execution_count": 47,
   "metadata": {},
   "outputs": [
    {
     "data": {
      "text/plain": [
       "[(0, 'A', 0), (1, 'B', 1), (2, 'C', 2)]"
      ]
     },
     "execution_count": 47,
     "metadata": {},
     "output_type": "execute_result"
    }
   ],
   "source": [
    "list(zip(range(3), 'ABC', [0, 1, 2, 3]))"
   ]
  },
  {
   "cell_type": "markdown",
   "metadata": {},
   "source": [
    "###### itertools.zip_longest は足りない値をFillできる"
   ]
  },
  {
   "cell_type": "code",
   "execution_count": 51,
   "metadata": {},
   "outputs": [
    {
     "data": {
      "text/plain": [
       "[(0, 'A', 0), (1, 'B', 1), (2, 'C', 2), ('@', '@', 3)]"
      ]
     },
     "execution_count": 51,
     "metadata": {},
     "output_type": "execute_result"
    }
   ],
   "source": [
    "from itertools import zip_longest\n",
    "\n",
    "list(\n",
    "    zip_longest(\n",
    "        range(3), 'ABC', [0, 1, 2, 3], fillvalue='@'\n",
    "    )\n",
    ")"
   ]
  },
  {
   "cell_type": "markdown",
   "metadata": {},
   "source": [
    "# Chpat 11 : Intefaces : Protocolst to ABC"
   ]
  },
  {
   "cell_type": "code",
   "execution_count": null,
   "metadata": {},
   "outputs": [],
   "source": []
  }
 ],
 "metadata": {
  "kernelspec": {
   "display_name": "Python 3",
   "language": "python",
   "name": "python3"
  },
  "language_info": {
   "codemirror_mode": {
    "name": "ipython",
    "version": 3
   },
   "file_extension": ".py",
   "mimetype": "text/x-python",
   "name": "python",
   "nbconvert_exporter": "python",
   "pygments_lexer": "ipython3",
   "version": "3.6.5"
  },
  "toc": {
   "base_numbering": 1,
   "nav_menu": {},
   "number_sections": true,
   "sideBar": true,
   "skip_h1_title": false,
   "title_cell": "",
   "title_sidebar": "",
   "toc_cell": true,
   "toc_position": {},
   "toc_section_display": true,
   "toc_window_display": false
  }
 },
 "nbformat": 4,
 "nbformat_minor": 2
}
