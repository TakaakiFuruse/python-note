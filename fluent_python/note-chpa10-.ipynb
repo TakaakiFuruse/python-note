{
 "cells": [
  {
   "cell_type": "markdown",
   "metadata": {
    "toc": true
   },
   "source": [
    "<h1><span class=\"tocSkip\"></span></h1>\n",
    "<div class=\"toc\"><ul class=\"toc-item\"><li><span><a href=\"#Chap10-Sequece,-Hasing,-Slicing\" data-toc-modified-id=\"Chap10-Sequece,-Hasing,-Slicing-1\"><span class=\"toc-item-num\">1&nbsp;&nbsp;</span>Chap10 Sequece, Hasing, Slicing</a></span><ul class=\"toc-item\"><li><span><a href=\"#Vector-take-1\" data-toc-modified-id=\"Vector-take-1-1.1\"><span class=\"toc-item-num\">1.1&nbsp;&nbsp;</span>Vector take 1</a></span><ul class=\"toc-item\"><li><span><a href=\"#Make-Vector-iterable-by-_iter_\" data-toc-modified-id=\"Make-Vector-iterable-by-_iter_-1.1.1\"><span class=\"toc-item-num\">1.1.1&nbsp;&nbsp;</span>Make Vector iterable by _<em>iter_</em></a></span></li><li><span><a href=\"#reprlib.repr-で長いListを短くして表示してくれる\" data-toc-modified-id=\"reprlib.repr-で長いListを短くして表示してくれる-1.1.2\"><span class=\"toc-item-num\">1.1.2&nbsp;&nbsp;</span>reprlib.repr で長いListを短くして表示してくれる</a></span></li></ul></li><li><span><a href=\"#Vector-take-2-:-Sliceable-Sequence\" data-toc-modified-id=\"Vector-take-2-:-Sliceable-Sequence-1.2\"><span class=\"toc-item-num\">1.2&nbsp;&nbsp;</span>Vector take 2 : Sliceable Sequence</a></span><ul class=\"toc-item\"><li><span><a href=\"#len-と-getitem-を作る\" data-toc-modified-id=\"len-と-getitem-を作る-1.2.1\"><span class=\"toc-item-num\">1.2.1&nbsp;&nbsp;</span>len と getitem を作る</a></span><ul class=\"toc-item\"><li><span><a href=\"#getitem-はsliceできる。ただ、list-ではなくVectorを返したい\" data-toc-modified-id=\"getitem-はsliceできる。ただ、list-ではなくVectorを返したい-1.2.1.1\"><span class=\"toc-item-num\">1.2.1.1&nbsp;&nbsp;</span>getitem はsliceできる。ただ、list ではなくVectorを返したい</a></span></li></ul></li><li><span><a href=\"#Sliceの仕組み\" data-toc-modified-id=\"Sliceの仕組み-1.2.2\"><span class=\"toc-item-num\">1.2.2&nbsp;&nbsp;</span>Sliceの仕組み</a></span><ul class=\"toc-item\"><li><span><a href=\"#内容について適当な解釈をしてくれる\" data-toc-modified-id=\"内容について適当な解釈をしてくれる-1.2.2.1\"><span class=\"toc-item-num\">1.2.2.1&nbsp;&nbsp;</span>内容について適当な解釈をしてくれる</a></span></li><li><span><a href=\"#Sliceとはなにか\" data-toc-modified-id=\"Sliceとはなにか-1.2.2.2\"><span class=\"toc-item-num\">1.2.2.2&nbsp;&nbsp;</span>Sliceとはなにか</a></span></li></ul></li><li><span><a href=\"#Make-getitem-slice-aware\" data-toc-modified-id=\"Make-getitem-slice-aware-1.2.3\"><span class=\"toc-item-num\">1.2.3&nbsp;&nbsp;</span>Make getitem slice-aware</a></span></li></ul></li><li><span><a href=\"#Vector-take-2---Dynamic-Attribute-Access\" data-toc-modified-id=\"Vector-take-2---Dynamic-Attribute-Access-1.3\"><span class=\"toc-item-num\">1.3&nbsp;&nbsp;</span>Vector take 2 - Dynamic Attribute Access</a></span><ul class=\"toc-item\"><li><span><a href=\"#_getattri_-で-v.x,-v.x,-v.t-とかで色々座標の値を呼べるようにする\" data-toc-modified-id=\"_getattri_-で-v.x,-v.x,-v.t-とかで色々座標の値を呼べるようにする-1.3.1\"><span class=\"toc-item-num\">1.3.1&nbsp;&nbsp;</span>_<em>getattri_</em> で v.x, v.x, v.t とかで色々座標の値を呼べるようにする</a></span><ul class=\"toc-item\"><li><span><a href=\"#値が呼べることと、エラーが出ることの確認\" data-toc-modified-id=\"値が呼べることと、エラーが出ることの確認-1.3.1.1\"><span class=\"toc-item-num\">1.3.1.1&nbsp;&nbsp;</span>値が呼べることと、エラーが出ることの確認</a></span></li><li><span><a href=\"#値のAssignmentsは受け付けないようにしたい\" data-toc-modified-id=\"値のAssignmentsは受け付けないようにしたい-1.3.1.2\"><span class=\"toc-item-num\">1.3.1.2&nbsp;&nbsp;</span>値のAssignmentsは受け付けないようにしたい</a></span></li><li><span><a href=\"#_setattr_-でいくつかの座標をReadOnlyにする\" data-toc-modified-id=\"_setattr_-でいくつかの座標をReadOnlyにする-1.3.1.3\"><span class=\"toc-item-num\">1.3.1.3&nbsp;&nbsp;</span>_<em>setattr_</em> でいくつかの座標をReadOnlyにする</a></span></li><li><span><a href=\"#Faster-__eq__\" data-toc-modified-id=\"Faster-__eq__-1.3.1.4\"><span class=\"toc-item-num\">1.3.1.4&nbsp;&nbsp;</span>Faster __eq__</a></span></li><li><span><a href=\"#ZIP\" data-toc-modified-id=\"ZIP-1.3.1.5\"><span class=\"toc-item-num\">1.3.1.5&nbsp;&nbsp;</span>ZIP</a></span></li></ul></li></ul></li></ul></li><li><span><a href=\"#Chpat-11-:-Intefaces-:-Protocolst-to-ABC\" data-toc-modified-id=\"Chpat-11-:-Intefaces-:-Protocolst-to-ABC-2\"><span class=\"toc-item-num\">2&nbsp;&nbsp;</span>Chpat 11 : Intefaces : Protocolst to ABC</a></span><ul class=\"toc-item\"><li><span><a href=\"#Alex-Metelli's-essay\" data-toc-modified-id=\"Alex-Metelli's-essay-2.1\"><span class=\"toc-item-num\">2.1&nbsp;&nbsp;</span>Alex Metelli's essay</a></span></li><li><span><a href=\"#this-is-duck-type\" data-toc-modified-id=\"this-is-duck-type-2.2\"><span class=\"toc-item-num\">2.2&nbsp;&nbsp;</span>this is duck type</a></span></li><li><span><a href=\"#this-is-not\" data-toc-modified-id=\"this-is-not-2.3\"><span class=\"toc-item-num\">2.3&nbsp;&nbsp;</span>this is not</a></span></li><li><span><a href=\"#ABC-example----collections.Mutable---\" data-toc-modified-id=\"ABC-example----collections.Mutable----2.4\"><span class=\"toc-item-num\">2.4&nbsp;&nbsp;</span>ABC example -- collections.Mutable --</a></span><ul class=\"toc-item\"><li><span><a href=\"#上の状態でInstantiateすると・・・\" data-toc-modified-id=\"上の状態でInstantiateすると・・・-2.4.1\"><span class=\"toc-item-num\">2.4.1&nbsp;&nbsp;</span>上の状態でInstantiateすると・・・</a></span></li><li><span><a href=\"#Interface忘れがなくなる\" data-toc-modified-id=\"Interface忘れがなくなる-2.4.2\"><span class=\"toc-item-num\">2.4.2&nbsp;&nbsp;</span>Interface忘れがなくなる</a></span></li><li><span><a href=\"#なんでこんなふうになってんの?\" data-toc-modified-id=\"なんでこんなふうになってんの?-2.4.3\"><span class=\"toc-item-num\">2.4.3&nbsp;&nbsp;</span>なんでこんなふうになってんの?</a></span></li><li><span><a href=\"#どういう継承図なの?\" data-toc-modified-id=\"どういう継承図なの?-2.4.4\"><span class=\"toc-item-num\">2.4.4&nbsp;&nbsp;</span>どういう継承図なの?</a></span></li></ul></li><li><span><a href=\"#ABCs-in-the-Standard-Library\" data-toc-modified-id=\"ABCs-in-the-Standard-Library-2.5\"><span class=\"toc-item-num\">2.5&nbsp;&nbsp;</span>ABCs in the Standard Library</a></span><ul class=\"toc-item\"><li><span><a href=\"#isinstance-も使った具体例\" data-toc-modified-id=\"isinstance-も使った具体例-2.5.1\"><span class=\"toc-item-num\">2.5.1&nbsp;&nbsp;</span>isinstance も使った具体例</a></span><ul class=\"toc-item\"><li><span><a href=\"#sound-がない場合はエラーが出る\" data-toc-modified-id=\"sound-がない場合はエラーが出る-2.5.1.1\"><span class=\"toc-item-num\">2.5.1.1&nbsp;&nbsp;</span>sound がない場合はエラーが出る</a></span></li></ul></li></ul></li></ul></li><li><span><a href=\"#chap-12---Inheritance\" data-toc-modified-id=\"chap-12---Inheritance-3\"><span class=\"toc-item-num\">3&nbsp;&nbsp;</span>chap 12 - Inheritance</a></span><ul class=\"toc-item\"><li><span><a href=\"#DictをSubclassしてもうまく動かない例\" data-toc-modified-id=\"DictをSubclassしてもうまく動かない例-3.1\"><span class=\"toc-item-num\">3.1&nbsp;&nbsp;</span>DictをSubclassしてもうまく動かない例</a></span><ul class=\"toc-item\"><li><span><a href=\"#setitemが動かない\" data-toc-modified-id=\"setitemが動かない-3.1.1\"><span class=\"toc-item-num\">3.1.1&nbsp;&nbsp;</span>setitemが動かない</a></span><ul class=\"toc-item\"><li><span><a href=\"#__init__-はsetitemを無視する\" data-toc-modified-id=\"__init__-はsetitemを無視する-3.1.1.1\"><span class=\"toc-item-num\">3.1.1.1&nbsp;&nbsp;</span>__init__ はsetitemを無視する</a></span></li><li><span><a href=\"#この場合はうまく動く\" data-toc-modified-id=\"この場合はうまく動く-3.1.1.2\"><span class=\"toc-item-num\">3.1.1.2&nbsp;&nbsp;</span>この場合はうまく動く</a></span></li><li><span><a href=\"#update-はsetitemを使ってくれない\" data-toc-modified-id=\"update-はsetitemを使ってくれない-3.1.1.3\"><span class=\"toc-item-num\">3.1.1.3&nbsp;&nbsp;</span>update はsetitemを使ってくれない</a></span></li></ul></li><li><span><a href=\"#getitemが動かない\" data-toc-modified-id=\"getitemが動かない-3.1.2\"><span class=\"toc-item-num\">3.1.2&nbsp;&nbsp;</span>getitemが動かない</a></span><ul class=\"toc-item\"><li><span><a href=\"#うごく\" data-toc-modified-id=\"うごく-3.1.2.1\"><span class=\"toc-item-num\">3.1.2.1&nbsp;&nbsp;</span>うごく</a></span></li><li><span><a href=\"#動かない、getitemを無視する\" data-toc-modified-id=\"動かない、getitemを無視する-3.1.2.2\"><span class=\"toc-item-num\">3.1.2.2&nbsp;&nbsp;</span>動かない、getitemを無視する</a></span></li></ul></li></ul></li><li><span><a href=\"#collection.UserDictをつかう\" data-toc-modified-id=\"collection.UserDictをつかう-3.2\"><span class=\"toc-item-num\">3.2&nbsp;&nbsp;</span>collection.UserDictをつかう</a></span><ul class=\"toc-item\"><li><span><a href=\"#setitemをちゃんと使ってくれる\" data-toc-modified-id=\"setitemをちゃんと使ってくれる-3.2.1\"><span class=\"toc-item-num\">3.2.1&nbsp;&nbsp;</span>setitemをちゃんと使ってくれる</a></span></li><li><span><a href=\"#getitemをちゃんと使ってくれる\" data-toc-modified-id=\"getitemをちゃんと使ってくれる-3.2.2\"><span class=\"toc-item-num\">3.2.2&nbsp;&nbsp;</span>getitemをちゃんと使ってくれる</a></span></li></ul></li><li><span><a href=\"#Diamond-Inheritance\" data-toc-modified-id=\"Diamond-Inheritance-3.3\"><span class=\"toc-item-num\">3.3&nbsp;&nbsp;</span>Diamond Inheritance</a></span><ul class=\"toc-item\"><li><span><a href=\"#D-のPONGを実行するとBからくる\" data-toc-modified-id=\"D-のPONGを実行するとBからくる-3.3.1\"><span class=\"toc-item-num\">3.3.1&nbsp;&nbsp;</span>D のPONGを実行するとBからくる</a></span></li><li><span><a href=\"#Cを実行したいときはこうする\" data-toc-modified-id=\"Cを実行したいときはこうする-3.3.2\"><span class=\"toc-item-num\">3.3.2&nbsp;&nbsp;</span>Cを実行したいときはこうする</a></span></li><li><span><a href=\"#pingはAからくる\" data-toc-modified-id=\"pingはAからくる-3.3.3\"><span class=\"toc-item-num\">3.3.3&nbsp;&nbsp;</span>pingはAからくる</a></span></li><li><span><a href=\"#superとの関係\" data-toc-modified-id=\"superとの関係-3.3.4\"><span class=\"toc-item-num\">3.3.4&nbsp;&nbsp;</span>superとの関係</a></span></li><li><span><a href=\"#探索の順番はどうなってるか\" data-toc-modified-id=\"探索の順番はどうなってるか-3.3.5\"><span class=\"toc-item-num\">3.3.5&nbsp;&nbsp;</span>探索の順番はどうなってるか</a></span></li></ul></li><li><span><a href=\"#“Favor-Object-Composition-Over-Class-Inheritance.”\" data-toc-modified-id=\"“Favor-Object-Composition-Over-Class-Inheritance.”-3.4\"><span class=\"toc-item-num\">3.4&nbsp;&nbsp;</span>“Favor Object Composition Over Class Inheritance.”</a></span><ul class=\"toc-item\"><li><span><a href=\"#composition\" data-toc-modified-id=\"composition-3.4.1\"><span class=\"toc-item-num\">3.4.1&nbsp;&nbsp;</span>composition</a></span></li><li><span><a href=\"#composition-and-inheritance\" data-toc-modified-id=\"composition-and-inheritance-3.4.2\"><span class=\"toc-item-num\">3.4.2&nbsp;&nbsp;</span>composition and inheritance</a></span></li></ul></li></ul></li><li><span><a href=\"#Chap-13---Operator-Overloading\" data-toc-modified-id=\"Chap-13---Operator-Overloading-4\"><span class=\"toc-item-num\">4&nbsp;&nbsp;</span>Chap 13 - Operator Overloading</a></span><ul class=\"toc-item\"><li><span><a href=\"#__neg__\" data-toc-modified-id=\"__neg__-4.1\"><span class=\"toc-item-num\">4.1&nbsp;&nbsp;</span>__neg__</a></span></li><li><span><a href=\"#__add__\" data-toc-modified-id=\"__add__-4.2\"><span class=\"toc-item-num\">4.2&nbsp;&nbsp;</span>__add__</a></span><ul class=\"toc-item\"><li><span><a href=\"#Notimplemented-なケース\" data-toc-modified-id=\"Notimplemented-なケース-4.2.1\"><span class=\"toc-item-num\">4.2.1&nbsp;&nbsp;</span>Notimplemented なケース</a></span><ul class=\"toc-item\"><li><span><a href=\"#両方ないのはそりゃあだめ,-TypeError\" data-toc-modified-id=\"両方ないのはそりゃあだめ,-TypeError-4.2.1.1\"><span class=\"toc-item-num\">4.2.1.1&nbsp;&nbsp;</span>両方ないのはそりゃあだめ, TypeError</a></span></li><li><span><a href=\"#片方あれば良い(左側が-__add__持ち)\" data-toc-modified-id=\"片方あれば良い(左側が-__add__持ち)-4.2.1.2\"><span class=\"toc-item-num\">4.2.1.2&nbsp;&nbsp;</span>片方あれば良い(左側が __add__持ち)</a></span></li><li><span><a href=\"#片方あれば良い(__radd__持ち)\" data-toc-modified-id=\"片方あれば良い(__radd__持ち)-4.2.1.3\"><span class=\"toc-item-num\">4.2.1.3&nbsp;&nbsp;</span>片方あれば良い(__radd__持ち)</a></span></li><li><span><a href=\"#how-fallback-&quot;r&quot;-method-works\" data-toc-modified-id=\"how-fallback-&quot;r&quot;-method-works-4.2.1.4\"><span class=\"toc-item-num\">4.2.1.4&nbsp;&nbsp;</span>how fallback \"r\" method works</a></span></li></ul></li></ul></li><li><span><a href=\"#__iadd__\" data-toc-modified-id=\"__iadd__-4.3\"><span class=\"toc-item-num\">4.3&nbsp;&nbsp;</span>__iadd__</a></span></li></ul></li><li><span><a href=\"#Chap-14-Iterables,-Iterators,-Generators\" data-toc-modified-id=\"Chap-14-Iterables,-Iterators,-Generators-5\"><span class=\"toc-item-num\">5&nbsp;&nbsp;</span>Chap 14 Iterables, Iterators, Generators</a></span><ul class=\"toc-item\"><li><span><a href=\"#iter-function\" data-toc-modified-id=\"iter-function-5.1\"><span class=\"toc-item-num\">5.1&nbsp;&nbsp;</span>iter function</a></span><ul class=\"toc-item\"><li><span><a href=\"#Whenever-the-interpreter-needs-to-iterate-over-an-object-x,-it-automatically-calls-iter(x).\" data-toc-modified-id=\"Whenever-the-interpreter-needs-to-iterate-over-an-object-x,-it-automatically-calls-iter(x).-5.1.1\"><span class=\"toc-item-num\">5.1.1&nbsp;&nbsp;</span>Whenever the interpreter needs to iterate over an object x, it automatically calls iter(x).</a></span></li><li><span><a href=\"#__iter__-があれば、-abc.Iterableの-__subclasshook__-のおかげで-abc.Iterableになる\" data-toc-modified-id=\"__iter__-があれば、-abc.Iterableの-__subclasshook__-のおかげで-abc.Iterableになる-5.1.2\"><span class=\"toc-item-num\">5.1.2&nbsp;&nbsp;</span>__iter__ があれば、 abc.Iterableの __subclasshook__ のおかげで abc.Iterableになる</a></span></li><li><span><a href=\"#forを実装してみる\" data-toc-modified-id=\"forを実装してみる-5.1.3\"><span class=\"toc-item-num\">5.1.3&nbsp;&nbsp;</span>forを実装してみる</a></span><ul class=\"toc-item\"><li><span><a href=\"#next-やりまくって、これ以上無い場合は-StopIteration-がでて、それをTryで取る\" data-toc-modified-id=\"next-やりまくって、これ以上無い場合は-StopIteration-がでて、それをTryで取る-5.1.3.1\"><span class=\"toc-item-num\">5.1.3.1&nbsp;&nbsp;</span>next やりまくって、これ以上無い場合は StopIteration がでて、それをTryで取る</a></span></li></ul></li></ul></li><li><span><a href=\"#Iterator-and-Iterable\" data-toc-modified-id=\"Iterator-and-Iterable-5.2\"><span class=\"toc-item-num\">5.2&nbsp;&nbsp;</span>Iterator and Iterable</a></span><ul class=\"toc-item\"><li><span><a href=\"#python-code\" data-toc-modified-id=\"python-code-5.2.1\"><span class=\"toc-item-num\">5.2.1&nbsp;&nbsp;</span>python code</a></span></li></ul></li><li><span><a href=\"#Generator\" data-toc-modified-id=\"Generator-5.3\"><span class=\"toc-item-num\">5.3&nbsp;&nbsp;</span>Generator</a></span><ul class=\"toc-item\"><li><span><a href=\"#SentenceをGeneratorに\" data-toc-modified-id=\"SentenceをGeneratorに-5.3.1\"><span class=\"toc-item-num\">5.3.1&nbsp;&nbsp;</span>SentenceをGeneratorに</a></span><ul class=\"toc-item\"><li><span><a href=\"#結果は同じ\" data-toc-modified-id=\"結果は同じ-5.3.1.1\"><span class=\"toc-item-num\">5.3.1.1&nbsp;&nbsp;</span>結果は同じ</a></span></li></ul></li><li><span><a href=\"#簡単なGenerator\" data-toc-modified-id=\"簡単なGenerator-5.3.2\"><span class=\"toc-item-num\">5.3.2&nbsp;&nbsp;</span>簡単なGenerator</a></span></li><li><span><a href=\"#iterableである(iterateしないと結果がyieldされない)\" data-toc-modified-id=\"iterableである(iterateしないと結果がyieldされない)-5.3.3\"><span class=\"toc-item-num\">5.3.3&nbsp;&nbsp;</span>iterableである(iterateしないと結果がyieldされない)</a></span></li><li><span><a href=\"#next-しまくると-StopIterationがでる\" data-toc-modified-id=\"next-しまくると-StopIterationがでる-5.3.4\"><span class=\"toc-item-num\">5.3.4&nbsp;&nbsp;</span>next しまくると StopIterationがでる</a></span></li><li><span><a href=\"#Generator-YIELDS-or-PRODUCES-values-as-a-result.-And,-It-RETURNS-fucntions-when-it-was-called\" data-toc-modified-id=\"Generator-YIELDS-or-PRODUCES-values-as-a-result.-And,-It-RETURNS-fucntions-when-it-was-called-5.3.5\"><span class=\"toc-item-num\">5.3.5&nbsp;&nbsp;</span>Generator YIELDS or PRODUCES values as a result. And, It RETURNS fucntions when it was called</a></span></li><li><span><a href=\"#More-Lazy-Sentence-Implementaition\" data-toc-modified-id=\"More-Lazy-Sentence-Implementaition-5.3.6\"><span class=\"toc-item-num\">5.3.6&nbsp;&nbsp;</span>More Lazy Sentence Implementaition</a></span></li><li><span><a href=\"#LIst-Comprehention-and-Generator-Expression\" data-toc-modified-id=\"LIst-Comprehention-and-Generator-Expression-5.3.7\"><span class=\"toc-item-num\">5.3.7&nbsp;&nbsp;</span>LIst Comprehention and Generator Expression</a></span><ul class=\"toc-item\"><li><span><a href=\"#List-Comprehension-だと途中で消費される\" data-toc-modified-id=\"List-Comprehension-だと途中で消費される-5.3.7.1\"><span class=\"toc-item-num\">5.3.7.1&nbsp;&nbsp;</span>List Comprehension だと途中で消費される</a></span></li><li><span><a href=\"#Generator-Expression-だと途中で消費されない\" data-toc-modified-id=\"Generator-Expression-だと途中で消費されない-5.3.7.2\"><span class=\"toc-item-num\">5.3.7.2&nbsp;&nbsp;</span>Generator Expression だと途中で消費されない</a></span></li><li><span><a href=\"#SentenceにGeneretor-Expressionをつかう\" data-toc-modified-id=\"SentenceにGeneretor-Expressionをつかう-5.3.7.3\"><span class=\"toc-item-num\">5.3.7.3&nbsp;&nbsp;</span>SentenceにGeneretor Expressionをつかう</a></span></li></ul></li><li><span><a href=\"#Yield-and-Return\" data-toc-modified-id=\"Yield-and-Return-5.3.8\"><span class=\"toc-item-num\">5.3.8&nbsp;&nbsp;</span>Yield and Return</a></span><ul class=\"toc-item\"><li><span><a href=\"#return-だと処理を一度に書かないといけない\" data-toc-modified-id=\"return-だと処理を一度に書かないといけない-5.3.8.1\"><span class=\"toc-item-num\">5.3.8.1&nbsp;&nbsp;</span>return だと処理を一度に書かないといけない</a></span></li><li><span><a href=\"#Yieldだと途中で止まるのでこういう書き方ができる\" data-toc-modified-id=\"Yieldだと途中で止まるのでこういう書き方ができる-5.3.8.2\"><span class=\"toc-item-num\">5.3.8.2&nbsp;&nbsp;</span>Yieldだと途中で止まるのでこういう書き方ができる</a></span></li></ul></li><li><span><a href=\"#参考文献\" data-toc-modified-id=\"参考文献-5.3.9\"><span class=\"toc-item-num\">5.3.9&nbsp;&nbsp;</span>参考文献</a></span><ul class=\"toc-item\"><li><span><a href=\"#イテレーターとジェネレーター\" data-toc-modified-id=\"イテレーターとジェネレーター-5.3.9.1\"><span class=\"toc-item-num\">5.3.9.1&nbsp;&nbsp;</span>イテレーターとジェネレーター</a></span></li><li><span><a href=\"#PEP-255-Simple-Generators\" data-toc-modified-id=\"PEP-255-Simple-Generators-5.3.9.2\"><span class=\"toc-item-num\">5.3.9.2&nbsp;&nbsp;</span>PEP 255 Simple Generators</a></span></li></ul></li></ul></li></ul></li><li><span><a href=\"#ch15-Context-Managers-and-Else-blocks\" data-toc-modified-id=\"ch15-Context-Managers-and-Else-blocks-6\"><span class=\"toc-item-num\">6&nbsp;&nbsp;</span>ch15 Context Managers and Else blocks</a></span><ul class=\"toc-item\"><li><span><a href=\"#for-/-else\" data-toc-modified-id=\"for-/-else-6.1\"><span class=\"toc-item-num\">6.1&nbsp;&nbsp;</span>for / else</a></span></li><li><span><a href=\"#try-/-except-/-else\" data-toc-modified-id=\"try-/-except-/-else-6.2\"><span class=\"toc-item-num\">6.2&nbsp;&nbsp;</span>try / except / else</a></span></li><li><span><a href=\"#with-/-as\" data-toc-modified-id=\"with-/-as-6.3\"><span class=\"toc-item-num\">6.3&nbsp;&nbsp;</span>with / as</a></span></li><li><span><a href=\"#contextlibでcontext-managerを作る。\" data-toc-modified-id=\"contextlibでcontext-managerを作る。-6.4\"><span class=\"toc-item-num\">6.4&nbsp;&nbsp;</span>contextlibでcontext managerを作る。</a></span></li><li><span><a href=\"#my-context-manager\" data-toc-modified-id=\"my-context-manager-6.5\"><span class=\"toc-item-num\">6.5&nbsp;&nbsp;</span>my context manager</a></span></li><li><span><a href=\"#エラーハンドリングも入れる\" data-toc-modified-id=\"エラーハンドリングも入れる-6.6\"><span class=\"toc-item-num\">6.6&nbsp;&nbsp;</span>エラーハンドリングも入れる</a></span></li></ul></li><li><span><a href=\"#Chap-16---Coroutines\" data-toc-modified-id=\"Chap-16---Coroutines-7\"><span class=\"toc-item-num\">7&nbsp;&nbsp;</span>Chap 16 - Coroutines</a></span><ul class=\"toc-item\"><li><span><a href=\"#basics\" data-toc-modified-id=\"basics-7.1\"><span class=\"toc-item-num\">7.1&nbsp;&nbsp;</span>basics</a></span></li><li><span><a href=\"#next-やるとyieldのすぐあとで止まる\" data-toc-modified-id=\"next-やるとyieldのすぐあとで止まる-7.2\"><span class=\"toc-item-num\">7.2&nbsp;&nbsp;</span>next やるとyieldのすぐあとで止まる</a></span></li><li><span><a href=\"#yield-from\" data-toc-modified-id=\"yield-from-7.3\"><span class=\"toc-item-num\">7.3&nbsp;&nbsp;</span>yield from</a></span><ul class=\"toc-item\"><li><span><a href=\"#syntax-sugar\" data-toc-modified-id=\"syntax-sugar-7.3.1\"><span class=\"toc-item-num\">7.3.1&nbsp;&nbsp;</span>syntax sugar</a></span></li><li><span><a href=\"#Transparent-two-way-channel\" data-toc-modified-id=\"Transparent-two-way-channel-7.3.2\"><span class=\"toc-item-num\">7.3.2&nbsp;&nbsp;</span>Transparent two way channel</a></span><ul class=\"toc-item\"><li><span><a href=\"#yiled-fromの例\" data-toc-modified-id=\"yiled-fromの例-7.3.2.1\"><span class=\"toc-item-num\">7.3.2.1&nbsp;&nbsp;</span>yiled fromの例</a></span></li><li><span><a href=\"#同じことをyield-from-なしで\" data-toc-modified-id=\"同じことをyield-from-なしで-7.3.2.2\"><span class=\"toc-item-num\">7.3.2.2&nbsp;&nbsp;</span>同じことをyield from なしで</a></span></li></ul></li></ul></li><li><span><a href=\"#ワーカーを走らせてみる（タクシーの例）\" data-toc-modified-id=\"ワーカーを走らせてみる（タクシーの例）-7.4\"><span class=\"toc-item-num\">7.4&nbsp;&nbsp;</span>ワーカーを走らせてみる（タクシーの例）</a></span></li><li><span><a href=\"#簡素な例\" data-toc-modified-id=\"簡素な例-7.5\"><span class=\"toc-item-num\">7.5&nbsp;&nbsp;</span>簡素な例</a></span></li></ul></li><li><span><a href=\"#Chap-17---Concurrency-with-Futures\" data-toc-modified-id=\"Chap-17---Concurrency-with-Futures-8\"><span class=\"toc-item-num\">8&nbsp;&nbsp;</span>Chap 17 - Concurrency with Futures</a></span><ul class=\"toc-item\"><li><span><a href=\"#download-script\" data-toc-modified-id=\"download-script-8.1\"><span class=\"toc-item-num\">8.1&nbsp;&nbsp;</span>download script</a></span></li><li><span><a href=\"#Downloading-with-concurrent.futures\" data-toc-modified-id=\"Downloading-with-concurrent.futures-8.2\"><span class=\"toc-item-num\">8.2&nbsp;&nbsp;</span>Downloading with concurrent.futures</a></span><ul class=\"toc-item\"><li><span><a href=\"#submit,-as_completed\" data-toc-modified-id=\"submit,-as_completed-8.2.1\"><span class=\"toc-item-num\">8.2.1&nbsp;&nbsp;</span>submit, as_completed</a></span></li><li><span><a href=\"#ProcessPoolExecutor-&amp;-ThreadPoolExecutor\" data-toc-modified-id=\"ProcessPoolExecutor-&amp;-ThreadPoolExecutor-8.2.2\"><span class=\"toc-item-num\">8.2.2&nbsp;&nbsp;</span>ProcessPoolExecutor &amp; ThreadPoolExecutor</a></span></li><li><span><a href=\"#executor.map()\" data-toc-modified-id=\"executor.map()-8.2.3\"><span class=\"toc-item-num\">8.2.3&nbsp;&nbsp;</span>executor.map()</a></span><ul class=\"toc-item\"><li><span><a href=\"#mapだとまとめてしか送れない、結果の取得も全部終わってから\" data-toc-modified-id=\"mapだとまとめてしか送れない、結果の取得も全部終わってから-8.2.3.1\"><span class=\"toc-item-num\">8.2.3.1&nbsp;&nbsp;</span>mapだとまとめてしか送れない、結果の取得も全部終わってから</a></span></li><li><span><a href=\"#submit-&amp;-as_completed-だと一個ずつできるし、結果はタスクが終わり次第取れる\" data-toc-modified-id=\"submit-&amp;-as_completed-だと一個ずつできるし、結果はタスクが終わり次第取れる-8.2.3.2\"><span class=\"toc-item-num\">8.2.3.2&nbsp;&nbsp;</span>submit &amp; as_completed だと一個ずつできるし、結果はタスクが終わり次第取れる</a></span></li></ul></li></ul></li></ul></li><li><span><a href=\"#chap-18---Cuncurrency-with-asyncio\" data-toc-modified-id=\"chap-18---Cuncurrency-with-asyncio-9\"><span class=\"toc-item-num\">9&nbsp;&nbsp;</span>chap 18 - Cuncurrency with asyncio</a></span></li></ul></div>"
   ]
  },
  {
   "cell_type": "markdown",
   "metadata": {},
   "source": [
    "# Chap10 Sequece, Hasing, Slicing"
   ]
  },
  {
   "cell_type": "markdown",
   "metadata": {},
   "source": [
    "## Vector take 1"
   ]
  },
  {
   "cell_type": "code",
   "execution_count": 3,
   "metadata": {},
   "outputs": [],
   "source": [
    "from array import array\n",
    "import reprlib\n",
    "import math\n",
    "import numbers\n",
    "\n",
    "\n",
    "class Vector:\n",
    "    typecode = 'd'\n",
    "\n",
    "    def __init__(self, components):\n",
    "        self._components = array(self.typecode, components)\n",
    "\n",
    "    def __iter__(self):\n",
    "        print('__iter__')\n",
    "        print(iter(self._components))\n",
    "        return iter(self._components)\n",
    "\n",
    "    def __repr__(self):\n",
    "        components = reprlib.repr(self._components)\n",
    "        components = components[components.find('['):-1]\n",
    "        return 'Vector repr({})'.format(components)\n",
    "\n",
    "    def __str__(self):\n",
    "        return str(tuple(self))\n",
    "\n",
    "    def __bytes__(self):\n",
    "        return (bytes[ord(self.typecode)]) + bytes(self._components)\n",
    "\n",
    "    #  はじめの__eq__これだと遅い\n",
    "    #     def __eq__(self, other):\n",
    "    #         return tuple(self) == tuple(other)\n",
    "\n",
    "    #     早くした\n",
    "    #     def __eq__(self, other):\n",
    "    #         if len(self) != len(other):\n",
    "    #             return False\n",
    "    #         for a, b in zip(self, other):\n",
    "    #             if a != b:\n",
    "    #                 return false\n",
    "    #         return True\n",
    "    \n",
    "    # 簡素に書いたもの\n",
    "    def __eq__(self, other):\n",
    "        return len(self) == len(other) and all(a==b for a, b in zip(self, other))\n",
    "\n",
    "    def __abs__(self):\n",
    "        return math.sqrt(sum(x * x for x in self))\n",
    "\n",
    "    def __bool__(self):\n",
    "        return bool(abs(self))\n",
    "\n",
    "    @classmethod\n",
    "    def frombytes(cls, octets):\n",
    "        typecode = chr(octets[0])\n",
    "        memv = memoryview(octets[1:]).cast(typecode)\n",
    "        return cls(memv)\n",
    "\n",
    "    def __len__(self):\n",
    "        print('__len__')\n",
    "        return len(self._components)\n",
    "\n",
    "#     初めの getitem\n",
    "#     def __getitem__(self, index):\n",
    "#         print('__getitem__')\n",
    "#         return self._components[index]\n",
    "\n",
    "# 二個目のslice-aware getitem\n",
    "    def __getitem__(self, index):\n",
    "        cls = type(self)\n",
    "        if isinstance(index, slice):\n",
    "            print('index argument is a slice')\n",
    "            print('Initializing vector ...')\n",
    "            return cls(self._components[index])\n",
    "        elif isinstance(index, numbers.Integral):\n",
    "            print('index arg is kind like an Int')\n",
    "            return self._components[index]\n",
    "        else:\n",
    "            msg = '{cls.__name__} indices must be integers'\n",
    "            raise TypeError(msg.format(cls=cls))\n",
    "\n",
    "    # __get_attr__ で座標を呼べるようにする\n",
    "    shortcut_names = 'xyzt'\n",
    "\n",
    "    def __getattr__(self, name):\n",
    "        print('__getattr__')\n",
    "        cls = type(self)\n",
    "        if len(name) == 1:\n",
    "            pos = cls.shortcut_names.find(name)\n",
    "            if 0 <= pos < len(self._components):\n",
    "                return self._components[pos]\n",
    "        msg = '{.__name__!r} object has no attribute {!r}'\n",
    "        raise AttributeError(msg.format(cls, name))\n",
    "\n",
    "    # 座標をセットできるようにする\n",
    "    def __setattr__(self, name, value):\n",
    "        print('__setattr__')\n",
    "        cls = type(self)\n",
    "\n",
    "        if len(name) == 1:  # if char is single\n",
    "            if name in cls.shortcut_names:  # if name is xyzt\n",
    "                error = 'readonly attributes {attr_name!r}'\n",
    "            elif name.islower():  # if other than xyzt\n",
    "                error = \"can't set attributes 'a' to 'z' in {cls_name!r}\"\n",
    "            else:  # otherwise set it blank\n",
    "                error = ''\n",
    "\n",
    "            if error:  # dealing with error\n",
    "                msg = error.format(cls_name=cls.__name__, attr_name=name)\n",
    "                raise AttributeError(msg)\n",
    "        # 何もおこらなかったときは上のクラスの挙動をSuper\n",
    "        super().__setattr__(name, value)"
   ]
  },
  {
   "cell_type": "code",
   "execution_count": 4,
   "metadata": {},
   "outputs": [
    {
     "name": "stdout",
     "output_type": "stream",
     "text": [
      "__setattr__\n",
      "__getattr__\n",
      "__getattr__\n",
      "__getattr__\n",
      "__getattr__\n",
      "__getattr__\n",
      "__getattr__\n",
      "__getattr__\n",
      "__getattr__\n",
      "__getattr__\n",
      "__getattr__\n",
      "__getattr__\n",
      "__getattr__\n",
      "__getattr__\n",
      "__getattr__\n",
      "__getattr__\n",
      "__getattr__\n",
      "__getattr__\n",
      "__getattr__\n",
      "__getattr__\n",
      "__getattr__\n",
      "__getattr__\n",
      "__getattr__\n"
     ]
    },
    {
     "data": {
      "text/plain": [
       "Vector repr([3.0, 4.0])"
      ]
     },
     "execution_count": 4,
     "metadata": {},
     "output_type": "execute_result"
    }
   ],
   "source": [
    "Vector([3, 4])"
   ]
  },
  {
   "cell_type": "markdown",
   "metadata": {},
   "source": [
    "### Make Vector iterable by \\__iter__\n",
    "\n",
    "- Object is not iterable"
   ]
  },
  {
   "cell_type": "code",
   "execution_count": 5,
   "metadata": {},
   "outputs": [
    {
     "name": "stdout",
     "output_type": "stream",
     "text": [
      "__setattr__\n",
      "__iter__\n",
      "<arrayiterator object at 0x7f6300085a08>\n",
      "__len__\n",
      "(3.0, 4.0)\n"
     ]
    }
   ],
   "source": [
    "print(Vector([3,4]))"
   ]
  },
  {
   "cell_type": "markdown",
   "metadata": {},
   "source": [
    "### reprlib.repr で長いListを短くして表示してくれる"
   ]
  },
  {
   "cell_type": "code",
   "execution_count": 6,
   "metadata": {},
   "outputs": [
    {
     "name": "stdout",
     "output_type": "stream",
     "text": [
      "__setattr__\n",
      "__getattr__\n",
      "__getattr__\n",
      "__getattr__\n",
      "__getattr__\n",
      "__getattr__\n",
      "__getattr__\n",
      "__getattr__\n",
      "__getattr__\n",
      "__getattr__\n",
      "__getattr__\n",
      "__getattr__\n",
      "__getattr__\n",
      "__getattr__\n",
      "__getattr__\n",
      "__getattr__\n",
      "__getattr__\n",
      "__getattr__\n",
      "__getattr__\n",
      "__getattr__\n",
      "__getattr__\n",
      "__getattr__\n",
      "__getattr__\n"
     ]
    },
    {
     "data": {
      "text/plain": [
       "Vector repr([0.0, 1.0, 2.0, 3.0, 4.0, ...])"
      ]
     },
     "execution_count": 6,
     "metadata": {},
     "output_type": "execute_result"
    }
   ],
   "source": [
    "Vector(range(10))"
   ]
  },
  {
   "cell_type": "markdown",
   "metadata": {},
   "source": [
    "## Vector take 2 : Sliceable Sequence"
   ]
  },
  {
   "cell_type": "markdown",
   "metadata": {},
   "source": [
    "### len と getitem を作る"
   ]
  },
  {
   "cell_type": "code",
   "execution_count": 7,
   "metadata": {},
   "outputs": [
    {
     "name": "stdout",
     "output_type": "stream",
     "text": [
      "__setattr__\n",
      "__len__\n"
     ]
    },
    {
     "data": {
      "text/plain": [
       "3"
      ]
     },
     "execution_count": 7,
     "metadata": {},
     "output_type": "execute_result"
    }
   ],
   "source": [
    "v1 = Vector([2,3,4])\n",
    "len(v1)"
   ]
  },
  {
   "cell_type": "code",
   "execution_count": 8,
   "metadata": {},
   "outputs": [
    {
     "name": "stdout",
     "output_type": "stream",
     "text": [
      "index arg is kind like an Int\n",
      "index arg is kind like an Int\n"
     ]
    },
    {
     "data": {
      "text/plain": [
       "(2.0, 4.0)"
      ]
     },
     "execution_count": 8,
     "metadata": {},
     "output_type": "execute_result"
    }
   ],
   "source": [
    "v1[0], v1[-1]"
   ]
  },
  {
   "cell_type": "markdown",
   "metadata": {},
   "source": [
    "#### getitem はsliceできる。ただ、list ではなくVectorを返したい"
   ]
  },
  {
   "cell_type": "code",
   "execution_count": 9,
   "metadata": {},
   "outputs": [],
   "source": [
    "# 現状こんな感じ\n",
    "def __getitem__(self, index):\n",
    "    print('__getitem__')\n",
    "    return self._components[index]"
   ]
  },
  {
   "cell_type": "code",
   "execution_count": 10,
   "metadata": {},
   "outputs": [
    {
     "name": "stdout",
     "output_type": "stream",
     "text": [
      "__setattr__\n",
      "index argument is a slice\n",
      "Initializing vector ...\n",
      "__setattr__\n",
      "__getattr__\n",
      "__getattr__\n",
      "__getattr__\n",
      "__getattr__\n",
      "__getattr__\n",
      "__getattr__\n",
      "__getattr__\n",
      "__getattr__\n",
      "__getattr__\n",
      "__getattr__\n",
      "__getattr__\n",
      "__getattr__\n",
      "__getattr__\n",
      "__getattr__\n",
      "__getattr__\n",
      "__getattr__\n",
      "__getattr__\n",
      "__getattr__\n",
      "__getattr__\n",
      "__getattr__\n",
      "__getattr__\n",
      "__getattr__\n"
     ]
    },
    {
     "data": {
      "text/plain": [
       "Vector repr([1.0, 2.0, 3.0])"
      ]
     },
     "execution_count": 10,
     "metadata": {},
     "output_type": "execute_result"
    }
   ],
   "source": [
    "v7 = Vector(range(7))\n",
    "v7[1:4]"
   ]
  },
  {
   "cell_type": "markdown",
   "metadata": {},
   "source": [
    "### Sliceの仕組み"
   ]
  },
  {
   "cell_type": "code",
   "execution_count": 11,
   "metadata": {},
   "outputs": [],
   "source": [
    "class MySeq:\n",
    "    def __getitem__(self, index):\n",
    "        return index\n",
    "    \n",
    "s = MySeq()"
   ]
  },
  {
   "cell_type": "markdown",
   "metadata": {},
   "source": [
    "#### 内容について適当な解釈をしてくれる"
   ]
  },
  {
   "cell_type": "code",
   "execution_count": 12,
   "metadata": {},
   "outputs": [
    {
     "data": {
      "text/plain": [
       "1"
      ]
     },
     "execution_count": 12,
     "metadata": {},
     "output_type": "execute_result"
    }
   ],
   "source": [
    "s[1]"
   ]
  },
  {
   "cell_type": "code",
   "execution_count": 13,
   "metadata": {},
   "outputs": [
    {
     "data": {
      "text/plain": [
       "slice(1, 4, None)"
      ]
     },
     "execution_count": 13,
     "metadata": {},
     "output_type": "execute_result"
    }
   ],
   "source": [
    "s[1:4]"
   ]
  },
  {
   "cell_type": "code",
   "execution_count": 14,
   "metadata": {},
   "outputs": [
    {
     "data": {
      "text/plain": [
       "(slice(1, 4, 2), slice(7, 9, None))"
      ]
     },
     "execution_count": 14,
     "metadata": {},
     "output_type": "execute_result"
    }
   ],
   "source": [
    "s[1:4:2, 7:9]"
   ]
  },
  {
   "cell_type": "markdown",
   "metadata": {},
   "source": [
    "#### Sliceとはなにか"
   ]
  },
  {
   "cell_type": "code",
   "execution_count": 15,
   "metadata": {},
   "outputs": [
    {
     "name": "stdout",
     "output_type": "stream",
     "text": [
      "<class 'slice'>\n",
      "['__class__', '__delattr__', '__dir__', '__doc__', '__eq__', '__format__', '__ge__', '__getattribute__', '__gt__', '__hash__', '__init__', '__init_subclass__', '__le__', '__lt__', '__ne__', '__new__', '__reduce__', '__reduce_ex__', '__repr__', '__setattr__', '__sizeof__', '__str__', '__subclasshook__', 'indices', 'start', 'step', 'stop']\n"
     ]
    }
   ],
   "source": [
    "print(slice)\n",
    "print(dir(slice))"
   ]
  },
  {
   "cell_type": "markdown",
   "metadata": {},
   "source": [
    "```\n",
    "help(slice)\n",
    "\n",
    "↓\n",
    "```\n",
    "\n",
    "```\n",
    "|  indices(...)\n",
    " |      S.indices(len) -> (start, stop, stride)\n",
    " |      \n",
    " |      Assuming a sequence of length len, calculate the start and stop\n",
    " |      indices, and the stride length of the extended slice described by\n",
    " |      S. Out of bounds indices are clipped in a manner consistent with the\n",
    " |      handling of normal slices.\n",
    "```"
   ]
  },
  {
   "cell_type": "markdown",
   "metadata": {},
   "source": [
    "##### インデックスについて色々よしなに解釈してくれる"
   ]
  },
  {
   "cell_type": "code",
   "execution_count": 16,
   "metadata": {},
   "outputs": [
    {
     "name": "stdout",
     "output_type": "stream",
     "text": [
      "(0, 5, 2)\n",
      "(0, 5, 2)\n"
     ]
    }
   ],
   "source": [
    "print(slice(None, 10, 2).indices(5))\n",
    "print(slice(0, 5, 2).indices(5))"
   ]
  },
  {
   "cell_type": "markdown",
   "metadata": {},
   "source": [
    "### Make getitem slice-aware"
   ]
  },
  {
   "cell_type": "code",
   "execution_count": 17,
   "metadata": {},
   "outputs": [],
   "source": [
    "# 二個目のslice-aware getitem\n",
    "def __getitem__(self, index):\n",
    "    cls = type(self)\n",
    "    if isinstance(index, slice):\n",
    "        print('index argument is a slice')\n",
    "        print('Initializing vector ...')\n",
    "        return cls(self._components[index])\n",
    "    elif isinstance(index, numbers.Integral):\n",
    "        print('index arg is kind like an Int')\n",
    "        return self._components[index]\n",
    "    else:\n",
    "        msg = '{cls.__name__} indices must be integers'\n",
    "        raise TypeError(msg.format(cls=cls))"
   ]
  },
  {
   "cell_type": "code",
   "execution_count": 18,
   "metadata": {},
   "outputs": [
    {
     "name": "stdout",
     "output_type": "stream",
     "text": [
      "__setattr__\n",
      "index arg is kind like an Int\n"
     ]
    },
    {
     "data": {
      "text/plain": [
       "6.0"
      ]
     },
     "execution_count": 18,
     "metadata": {},
     "output_type": "execute_result"
    }
   ],
   "source": [
    "v7 = Vector(range(7))\n",
    "v7[-1]"
   ]
  },
  {
   "cell_type": "code",
   "execution_count": 19,
   "metadata": {},
   "outputs": [
    {
     "name": "stdout",
     "output_type": "stream",
     "text": [
      "index argument is a slice\n",
      "Initializing vector ...\n",
      "__setattr__\n",
      "__getattr__\n",
      "__getattr__\n",
      "__getattr__\n",
      "__getattr__\n",
      "__getattr__\n",
      "__getattr__\n",
      "__getattr__\n",
      "__getattr__\n",
      "__getattr__\n",
      "__getattr__\n",
      "__getattr__\n",
      "__getattr__\n",
      "__getattr__\n",
      "__getattr__\n",
      "__getattr__\n",
      "__getattr__\n",
      "__getattr__\n",
      "__getattr__\n",
      "__getattr__\n",
      "__getattr__\n",
      "__getattr__\n",
      "__getattr__\n"
     ]
    },
    {
     "data": {
      "text/plain": [
       "Vector repr([1.0, 2.0, 3.0])"
      ]
     },
     "execution_count": 19,
     "metadata": {},
     "output_type": "execute_result"
    }
   ],
   "source": [
    "v7[1:4]"
   ]
  },
  {
   "cell_type": "code",
   "execution_count": 20,
   "metadata": {},
   "outputs": [
    {
     "ename": "TypeError",
     "evalue": "Vector indices must be integers",
     "output_type": "error",
     "traceback": [
      "\u001b[0;31m---------------------------------------------------------------------------\u001b[0m",
      "\u001b[0;31mTypeError\u001b[0m                                 Traceback (most recent call last)",
      "\u001b[0;32m<ipython-input-20-0f616761b0d9>\u001b[0m in \u001b[0;36m<module>\u001b[0;34m\u001b[0m\n\u001b[0;32m----> 1\u001b[0;31m \u001b[0mv7\u001b[0m\u001b[0;34m[\u001b[0m\u001b[0;36m1\u001b[0m\u001b[0;34m,\u001b[0m\u001b[0;36m2\u001b[0m\u001b[0;34m]\u001b[0m\u001b[0;34m\u001b[0m\u001b[0;34m\u001b[0m\u001b[0m\n\u001b[0m",
      "\u001b[0;32m<ipython-input-3-f9e2711e91c4>\u001b[0m in \u001b[0;36m__getitem__\u001b[0;34m(self, index)\u001b[0m\n\u001b[1;32m     77\u001b[0m         \u001b[0;32melse\u001b[0m\u001b[0;34m:\u001b[0m\u001b[0;34m\u001b[0m\u001b[0;34m\u001b[0m\u001b[0m\n\u001b[1;32m     78\u001b[0m             \u001b[0mmsg\u001b[0m \u001b[0;34m=\u001b[0m \u001b[0;34m'{cls.__name__} indices must be integers'\u001b[0m\u001b[0;34m\u001b[0m\u001b[0;34m\u001b[0m\u001b[0m\n\u001b[0;32m---> 79\u001b[0;31m             \u001b[0;32mraise\u001b[0m \u001b[0mTypeError\u001b[0m\u001b[0;34m(\u001b[0m\u001b[0mmsg\u001b[0m\u001b[0;34m.\u001b[0m\u001b[0mformat\u001b[0m\u001b[0;34m(\u001b[0m\u001b[0mcls\u001b[0m\u001b[0;34m=\u001b[0m\u001b[0mcls\u001b[0m\u001b[0;34m)\u001b[0m\u001b[0;34m)\u001b[0m\u001b[0;34m\u001b[0m\u001b[0;34m\u001b[0m\u001b[0m\n\u001b[0m\u001b[1;32m     80\u001b[0m \u001b[0;34m\u001b[0m\u001b[0m\n\u001b[1;32m     81\u001b[0m     \u001b[0;31m# __get_attr__ で座標を呼べるようにする\u001b[0m\u001b[0;34m\u001b[0m\u001b[0;34m\u001b[0m\u001b[0;34m\u001b[0m\u001b[0m\n",
      "\u001b[0;31mTypeError\u001b[0m: Vector indices must be integers"
     ]
    }
   ],
   "source": [
    "v7[1,2]"
   ]
  },
  {
   "cell_type": "markdown",
   "metadata": {},
   "source": [
    "## Vector take 2 - Dynamic Attribute Access"
   ]
  },
  {
   "cell_type": "markdown",
   "metadata": {},
   "source": [
    "### \\__getattri__ で v.x, v.x, v.t とかで色々座標の値を呼べるようにする"
   ]
  },
  {
   "cell_type": "code",
   "execution_count": 21,
   "metadata": {},
   "outputs": [],
   "source": [
    "    def __getattr__(self, name):\n",
    "        print('__get_attr__')\n",
    "        cls = type(self)\n",
    "        if len(name) == 1: # name is 1 char?\n",
    "            pos = cls.shortcut_names.find(name)\n",
    "            if 0 <= pos < len(self._components):\n",
    "                return self._components[pos]\n",
    "        msg = '{.__name__!r} object has no attribute {!r}'\n",
    "        raise AttributeError(msg.format(cls, name))"
   ]
  },
  {
   "cell_type": "code",
   "execution_count": 22,
   "metadata": {},
   "outputs": [
    {
     "data": {
      "text/plain": [
       "str"
      ]
     },
     "execution_count": 22,
     "metadata": {},
     "output_type": "execute_result"
    }
   ],
   "source": [
    "type('hey')"
   ]
  },
  {
   "cell_type": "code",
   "execution_count": 23,
   "metadata": {},
   "outputs": [
    {
     "name": "stdout",
     "output_type": "stream",
     "text": [
      "__setattr__\n",
      "__getattr__\n",
      "__getattr__\n",
      "__getattr__\n",
      "__getattr__\n",
      "__getattr__\n",
      "__getattr__\n",
      "__getattr__\n",
      "__getattr__\n",
      "__getattr__\n",
      "__getattr__\n",
      "__getattr__\n",
      "__getattr__\n",
      "__getattr__\n",
      "__getattr__\n",
      "__getattr__\n",
      "__getattr__\n",
      "__getattr__\n",
      "__getattr__\n",
      "__getattr__\n",
      "__getattr__\n",
      "__getattr__\n",
      "__getattr__\n"
     ]
    },
    {
     "data": {
      "text/plain": [
       "Vector repr([0.0, 1.0, 2.0, 3.0, 4.0])"
      ]
     },
     "execution_count": 23,
     "metadata": {},
     "output_type": "execute_result"
    }
   ],
   "source": [
    "v = Vector(range(5))\n",
    "v"
   ]
  },
  {
   "cell_type": "markdown",
   "metadata": {},
   "source": [
    "#### 値が呼べることと、エラーが出ることの確認"
   ]
  },
  {
   "cell_type": "code",
   "execution_count": 26,
   "metadata": {},
   "outputs": [
    {
     "name": "stdout",
     "output_type": "stream",
     "text": [
      "__getattr__\n"
     ]
    },
    {
     "data": {
      "text/plain": [
       "0.0"
      ]
     },
     "execution_count": 26,
     "metadata": {},
     "output_type": "execute_result"
    }
   ],
   "source": [
    "v.x"
   ]
  },
  {
   "cell_type": "code",
   "execution_count": 27,
   "metadata": {},
   "outputs": [
    {
     "name": "stderr",
     "output_type": "stream",
     "text": [
      "ERROR:root:Internal Python error in the inspect module.\n",
      "Below is the traceback from this internal error.\n",
      "\n"
     ]
    },
    {
     "name": "stdout",
     "output_type": "stream",
     "text": [
      "__getattr__\n",
      "Traceback (most recent call last):\n",
      "  File \"/home/orz/.pyenv/versions/3.7.1/lib/python3.7/site-packages/IPython/core/interactiveshell.py\", line 3267, in run_code\n",
      "    exec(code_obj, self.user_global_ns, self.user_ns)\n",
      "  File \"<ipython-input-27-bd111c48723f>\", line 1, in <module>\n",
      "    v.a\n",
      "  File \"<ipython-input-3-f9e2711e91c4>\", line 92, in __getattr__\n",
      "    raise AttributeError(msg.format(cls, name))\n",
      "AttributeError: 'Vector' object has no attribute 'a'\n",
      "\n",
      "During handling of the above exception, another exception occurred:\n",
      "\n",
      "Traceback (most recent call last):\n",
      "  File \"/home/orz/.pyenv/versions/3.7.1/lib/python3.7/site-packages/IPython/core/interactiveshell.py\", line 2018, in showtraceback\n",
      "    stb = value._render_traceback_()\n",
      "AttributeError: 'AttributeError' object has no attribute '_render_traceback_'\n",
      "\n",
      "During handling of the above exception, another exception occurred:\n",
      "\n",
      "Traceback (most recent call last):\n",
      "  File \"/home/orz/.pyenv/versions/3.7.1/lib/python3.7/site-packages/IPython/core/ultratb.py\", line 1095, in get_records\n",
      "    return _fixed_getinnerframes(etb, number_of_lines_of_context, tb_offset)\n",
      "  File \"/home/orz/.pyenv/versions/3.7.1/lib/python3.7/site-packages/IPython/core/ultratb.py\", line 313, in wrapped\n",
      "    return f(*args, **kwargs)\n",
      "  File \"/home/orz/.pyenv/versions/3.7.1/lib/python3.7/site-packages/IPython/core/ultratb.py\", line 347, in _fixed_getinnerframes\n",
      "    records = fix_frame_records_filenames(inspect.getinnerframes(etb, context))\n",
      "  File \"/home/orz/.pyenv/versions/3.7.1/lib/python3.7/inspect.py\", line 1500, in getinnerframes\n",
      "    frameinfo = (tb.tb_frame,) + getframeinfo(tb, context)\n",
      "  File \"/home/orz/.pyenv/versions/3.7.1/lib/python3.7/inspect.py\", line 1458, in getframeinfo\n",
      "    filename = getsourcefile(frame) or getfile(frame)\n",
      "  File \"/home/orz/.pyenv/versions/3.7.1/lib/python3.7/inspect.py\", line 696, in getsourcefile\n",
      "    if getattr(getmodule(object, filename), '__loader__', None) is not None:\n",
      "  File \"/home/orz/.pyenv/versions/3.7.1/lib/python3.7/inspect.py\", line 733, in getmodule\n",
      "    if ismodule(module) and hasattr(module, '__file__'):\n",
      "TypeError: __getattr__() missing 1 required positional argument: 'name'\n"
     ]
    },
    {
     "ename": "AttributeError",
     "evalue": "'Vector' object has no attribute 'a'",
     "output_type": "error",
     "traceback": [
      "\u001b[0;31m---------------------------------------------------------------------------\u001b[0m"
     ]
    }
   ],
   "source": [
    "v.a"
   ]
  },
  {
   "cell_type": "markdown",
   "metadata": {},
   "source": [
    "#### 値のAssignmentsは受け付けないようにしたい"
   ]
  },
  {
   "cell_type": "markdown",
   "metadata": {},
   "source": [
    "##### instanceに値を入れるとInstanceができるので、\\__getattr__は呼ばれなくなる\n",
    "\n",
    "Python calls \\__getattr__ as a fallback.  \n",
    "Now v.x is already set, so the v.x call does not go through \\__getattr_"
   ]
  },
  {
   "cell_type": "code",
   "execution_count": 28,
   "metadata": {},
   "outputs": [
    {
     "name": "stderr",
     "output_type": "stream",
     "text": [
      "ERROR:root:Internal Python error in the inspect module.\n",
      "Below is the traceback from this internal error.\n",
      "\n"
     ]
    },
    {
     "name": "stdout",
     "output_type": "stream",
     "text": [
      "__setattr__\n",
      "Traceback (most recent call last):\n",
      "  File \"/home/orz/.pyenv/versions/3.7.1/lib/python3.7/site-packages/IPython/core/interactiveshell.py\", line 3267, in run_code\n",
      "    exec(code_obj, self.user_global_ns, self.user_ns)\n",
      "  File \"<ipython-input-28-c80d227249ee>\", line 1, in <module>\n",
      "    v.x = 10\n",
      "  File \"<ipython-input-3-f9e2711e91c4>\", line 109, in __setattr__\n",
      "    raise AttributeError(msg)\n",
      "AttributeError: readonly attributes 'x'\n",
      "\n",
      "During handling of the above exception, another exception occurred:\n",
      "\n",
      "Traceback (most recent call last):\n",
      "  File \"/home/orz/.pyenv/versions/3.7.1/lib/python3.7/site-packages/IPython/core/interactiveshell.py\", line 2018, in showtraceback\n",
      "    stb = value._render_traceback_()\n",
      "AttributeError: 'AttributeError' object has no attribute '_render_traceback_'\n",
      "\n",
      "During handling of the above exception, another exception occurred:\n",
      "\n",
      "Traceback (most recent call last):\n",
      "  File \"/home/orz/.pyenv/versions/3.7.1/lib/python3.7/site-packages/IPython/core/ultratb.py\", line 1095, in get_records\n",
      "    return _fixed_getinnerframes(etb, number_of_lines_of_context, tb_offset)\n",
      "  File \"/home/orz/.pyenv/versions/3.7.1/lib/python3.7/site-packages/IPython/core/ultratb.py\", line 313, in wrapped\n",
      "    return f(*args, **kwargs)\n",
      "  File \"/home/orz/.pyenv/versions/3.7.1/lib/python3.7/site-packages/IPython/core/ultratb.py\", line 347, in _fixed_getinnerframes\n",
      "    records = fix_frame_records_filenames(inspect.getinnerframes(etb, context))\n",
      "  File \"/home/orz/.pyenv/versions/3.7.1/lib/python3.7/inspect.py\", line 1500, in getinnerframes\n",
      "    frameinfo = (tb.tb_frame,) + getframeinfo(tb, context)\n",
      "  File \"/home/orz/.pyenv/versions/3.7.1/lib/python3.7/inspect.py\", line 1458, in getframeinfo\n",
      "    filename = getsourcefile(frame) or getfile(frame)\n",
      "  File \"/home/orz/.pyenv/versions/3.7.1/lib/python3.7/inspect.py\", line 696, in getsourcefile\n",
      "    if getattr(getmodule(object, filename), '__loader__', None) is not None:\n",
      "  File \"/home/orz/.pyenv/versions/3.7.1/lib/python3.7/inspect.py\", line 733, in getmodule\n",
      "    if ismodule(module) and hasattr(module, '__file__'):\n",
      "TypeError: __getattr__() missing 1 required positional argument: 'name'\n"
     ]
    },
    {
     "ename": "AttributeError",
     "evalue": "readonly attributes 'x'",
     "output_type": "error",
     "traceback": [
      "\u001b[0;31m---------------------------------------------------------------------------\u001b[0m"
     ]
    }
   ],
   "source": [
    "v.x = 10\n",
    "v.x # print文が出てきていない"
   ]
  },
  {
   "cell_type": "markdown",
   "metadata": {},
   "source": [
    "##### 元のObjectは同じ"
   ]
  },
  {
   "cell_type": "code",
   "execution_count": 29,
   "metadata": {},
   "outputs": [
    {
     "name": "stdout",
     "output_type": "stream",
     "text": [
      "__getattr__\n",
      "__getattr__\n",
      "__getattr__\n",
      "__getattr__\n",
      "__getattr__\n",
      "__getattr__\n",
      "__getattr__\n",
      "__getattr__\n",
      "__getattr__\n",
      "__getattr__\n",
      "__getattr__\n",
      "__getattr__\n",
      "__getattr__\n",
      "__getattr__\n",
      "__getattr__\n",
      "__getattr__\n",
      "__getattr__\n",
      "__getattr__\n",
      "__getattr__\n",
      "__getattr__\n",
      "__getattr__\n",
      "__getattr__\n"
     ]
    },
    {
     "data": {
      "text/plain": [
       "Vector repr([0.0, 1.0, 2.0, 3.0, 4.0])"
      ]
     },
     "execution_count": 29,
     "metadata": {},
     "output_type": "execute_result"
    }
   ],
   "source": [
    "v"
   ]
  },
  {
   "cell_type": "markdown",
   "metadata": {},
   "source": [
    "#### \\__setattr__ でいくつかの座標をReadOnlyにする"
   ]
  },
  {
   "cell_type": "code",
   "execution_count": 30,
   "metadata": {},
   "outputs": [],
   "source": [
    "def __setattr__(self, name, value):\n",
    "    print('__setattr__')\n",
    "    cls = type(self)\n",
    "\n",
    "    if len(name) == 1:  # if char is single\n",
    "        if name in cls.shortcut_names:  # if name is xyzt\n",
    "            error = 'readonly attributes {attr_name!r}'\n",
    "        elif name.islower():  # if other than xyzt\n",
    "            error = \"can't set attributes 'a' to 'z' in {cls_name!r}\"\n",
    "        else:  # otherwise set it blank\n",
    "            error = ''\n",
    "\n",
    "        if error:  # dealing with error\n",
    "            msg = error.format(cls_name=cls.__name__, attr_name=name)\n",
    "            raise AttributeError(msg)\n",
    "    # 何もおこらなかったときは上のクラスの挙動をSuper\n",
    "    super().__setattr__(name, value)"
   ]
  },
  {
   "cell_type": "code",
   "execution_count": 31,
   "metadata": {},
   "outputs": [
    {
     "name": "stdout",
     "output_type": "stream",
     "text": [
      "__setattr__\n"
     ]
    }
   ],
   "source": [
    "v = Vector(range(5))"
   ]
  },
  {
   "cell_type": "markdown",
   "metadata": {},
   "source": [
    "##### x,y,z,t はダメ"
   ]
  },
  {
   "cell_type": "code",
   "execution_count": 32,
   "metadata": {},
   "outputs": [
    {
     "name": "stderr",
     "output_type": "stream",
     "text": [
      "ERROR:root:Internal Python error in the inspect module.\n",
      "Below is the traceback from this internal error.\n",
      "\n"
     ]
    },
    {
     "name": "stdout",
     "output_type": "stream",
     "text": [
      "__setattr__\n",
      "Traceback (most recent call last):\n",
      "  File \"/home/orz/.pyenv/versions/3.7.1/lib/python3.7/site-packages/IPython/core/interactiveshell.py\", line 3267, in run_code\n",
      "    exec(code_obj, self.user_global_ns, self.user_ns)\n",
      "  File \"<ipython-input-32-ab03a2bcc936>\", line 1, in <module>\n",
      "    v.x = 10\n",
      "  File \"<ipython-input-3-f9e2711e91c4>\", line 109, in __setattr__\n",
      "    raise AttributeError(msg)\n",
      "AttributeError: readonly attributes 'x'\n",
      "\n",
      "During handling of the above exception, another exception occurred:\n",
      "\n",
      "Traceback (most recent call last):\n",
      "  File \"/home/orz/.pyenv/versions/3.7.1/lib/python3.7/site-packages/IPython/core/interactiveshell.py\", line 2018, in showtraceback\n",
      "    stb = value._render_traceback_()\n",
      "AttributeError: 'AttributeError' object has no attribute '_render_traceback_'\n",
      "\n",
      "During handling of the above exception, another exception occurred:\n",
      "\n",
      "Traceback (most recent call last):\n",
      "  File \"/home/orz/.pyenv/versions/3.7.1/lib/python3.7/site-packages/IPython/core/ultratb.py\", line 1095, in get_records\n",
      "    return _fixed_getinnerframes(etb, number_of_lines_of_context, tb_offset)\n",
      "  File \"/home/orz/.pyenv/versions/3.7.1/lib/python3.7/site-packages/IPython/core/ultratb.py\", line 313, in wrapped\n",
      "    return f(*args, **kwargs)\n",
      "  File \"/home/orz/.pyenv/versions/3.7.1/lib/python3.7/site-packages/IPython/core/ultratb.py\", line 347, in _fixed_getinnerframes\n",
      "    records = fix_frame_records_filenames(inspect.getinnerframes(etb, context))\n",
      "  File \"/home/orz/.pyenv/versions/3.7.1/lib/python3.7/inspect.py\", line 1500, in getinnerframes\n",
      "    frameinfo = (tb.tb_frame,) + getframeinfo(tb, context)\n",
      "  File \"/home/orz/.pyenv/versions/3.7.1/lib/python3.7/inspect.py\", line 1458, in getframeinfo\n",
      "    filename = getsourcefile(frame) or getfile(frame)\n",
      "  File \"/home/orz/.pyenv/versions/3.7.1/lib/python3.7/inspect.py\", line 696, in getsourcefile\n",
      "    if getattr(getmodule(object, filename), '__loader__', None) is not None:\n",
      "  File \"/home/orz/.pyenv/versions/3.7.1/lib/python3.7/inspect.py\", line 733, in getmodule\n",
      "    if ismodule(module) and hasattr(module, '__file__'):\n",
      "TypeError: __getattr__() missing 1 required positional argument: 'name'\n"
     ]
    },
    {
     "ename": "AttributeError",
     "evalue": "readonly attributes 'x'",
     "output_type": "error",
     "traceback": [
      "\u001b[0;31m---------------------------------------------------------------------------\u001b[0m"
     ]
    }
   ],
   "source": [
    "v.x = 10"
   ]
  },
  {
   "cell_type": "markdown",
   "metadata": {},
   "source": [
    "##### a to z もだめ"
   ]
  },
  {
   "cell_type": "code",
   "execution_count": 33,
   "metadata": {},
   "outputs": [
    {
     "name": "stderr",
     "output_type": "stream",
     "text": [
      "ERROR:root:Internal Python error in the inspect module.\n",
      "Below is the traceback from this internal error.\n",
      "\n"
     ]
    },
    {
     "name": "stdout",
     "output_type": "stream",
     "text": [
      "__setattr__\n",
      "Traceback (most recent call last):\n",
      "  File \"/home/orz/.pyenv/versions/3.7.1/lib/python3.7/site-packages/IPython/core/interactiveshell.py\", line 3267, in run_code\n",
      "    exec(code_obj, self.user_global_ns, self.user_ns)\n",
      "  File \"<ipython-input-33-28ef958cb43b>\", line 1, in <module>\n",
      "    v.a = 10\n",
      "  File \"<ipython-input-3-f9e2711e91c4>\", line 109, in __setattr__\n",
      "    raise AttributeError(msg)\n",
      "AttributeError: can't set attributes 'a' to 'z' in 'Vector'\n",
      "\n",
      "During handling of the above exception, another exception occurred:\n",
      "\n",
      "Traceback (most recent call last):\n",
      "  File \"/home/orz/.pyenv/versions/3.7.1/lib/python3.7/site-packages/IPython/core/interactiveshell.py\", line 2018, in showtraceback\n",
      "    stb = value._render_traceback_()\n",
      "AttributeError: 'AttributeError' object has no attribute '_render_traceback_'\n",
      "\n",
      "During handling of the above exception, another exception occurred:\n",
      "\n",
      "Traceback (most recent call last):\n",
      "  File \"/home/orz/.pyenv/versions/3.7.1/lib/python3.7/site-packages/IPython/core/ultratb.py\", line 1095, in get_records\n",
      "    return _fixed_getinnerframes(etb, number_of_lines_of_context, tb_offset)\n",
      "  File \"/home/orz/.pyenv/versions/3.7.1/lib/python3.7/site-packages/IPython/core/ultratb.py\", line 313, in wrapped\n",
      "    return f(*args, **kwargs)\n",
      "  File \"/home/orz/.pyenv/versions/3.7.1/lib/python3.7/site-packages/IPython/core/ultratb.py\", line 347, in _fixed_getinnerframes\n",
      "    records = fix_frame_records_filenames(inspect.getinnerframes(etb, context))\n",
      "  File \"/home/orz/.pyenv/versions/3.7.1/lib/python3.7/inspect.py\", line 1500, in getinnerframes\n",
      "    frameinfo = (tb.tb_frame,) + getframeinfo(tb, context)\n",
      "  File \"/home/orz/.pyenv/versions/3.7.1/lib/python3.7/inspect.py\", line 1458, in getframeinfo\n",
      "    filename = getsourcefile(frame) or getfile(frame)\n",
      "  File \"/home/orz/.pyenv/versions/3.7.1/lib/python3.7/inspect.py\", line 696, in getsourcefile\n",
      "    if getattr(getmodule(object, filename), '__loader__', None) is not None:\n",
      "  File \"/home/orz/.pyenv/versions/3.7.1/lib/python3.7/inspect.py\", line 733, in getmodule\n",
      "    if ismodule(module) and hasattr(module, '__file__'):\n",
      "TypeError: __getattr__() missing 1 required positional argument: 'name'\n"
     ]
    },
    {
     "ename": "AttributeError",
     "evalue": "can't set attributes 'a' to 'z' in 'Vector'",
     "output_type": "error",
     "traceback": [
      "\u001b[0;31m---------------------------------------------------------------------------\u001b[0m"
     ]
    }
   ],
   "source": [
    "v.a = 10"
   ]
  },
  {
   "cell_type": "markdown",
   "metadata": {},
   "source": [
    "##### AとかならOK"
   ]
  },
  {
   "cell_type": "code",
   "execution_count": 34,
   "metadata": {},
   "outputs": [
    {
     "name": "stdout",
     "output_type": "stream",
     "text": [
      "__setattr__\n"
     ]
    },
    {
     "data": {
      "text/plain": [
       "10"
      ]
     },
     "execution_count": 34,
     "metadata": {},
     "output_type": "execute_result"
    }
   ],
   "source": [
    "v.A = 10\n",
    "v.A"
   ]
  },
  {
   "cell_type": "markdown",
   "metadata": {},
   "source": [
    "#### Faster \\_\\_eq\\_\\_"
   ]
  },
  {
   "cell_type": "markdown",
   "metadata": {},
   "source": [
    "##### 現在は比較のためだけにTupleを作ってるので効率悪い"
   ]
  },
  {
   "cell_type": "code",
   "execution_count": 35,
   "metadata": {},
   "outputs": [],
   "source": [
    "def __eq__(self, other):\n",
    "    return tuple(self) == tuple(other)"
   ]
  },
  {
   "cell_type": "markdown",
   "metadata": {},
   "source": [
    "##### ZIPを使う"
   ]
  },
  {
   "cell_type": "code",
   "execution_count": 36,
   "metadata": {},
   "outputs": [],
   "source": [
    "def __eq__(self, other):\n",
    "    if len(self) != len(other):\n",
    "        return False\n",
    "    for a, b in zip(self, other):\n",
    "        if a != b:\n",
    "            return false\n",
    "    return True"
   ]
  },
  {
   "cell_type": "markdown",
   "metadata": {},
   "source": [
    "###### もっとかんたんに"
   ]
  },
  {
   "cell_type": "code",
   "execution_count": 37,
   "metadata": {},
   "outputs": [],
   "source": [
    "def __eq__(self, other):\n",
    "    return len(self) == len(other) and all(a==b for a, b in zip(self, other))"
   ]
  },
  {
   "cell_type": "markdown",
   "metadata": {},
   "source": [
    "\n",
    "###### all()"
   ]
  },
  {
   "cell_type": "markdown",
   "metadata": {},
   "source": [
    "- all -> Return True if **all** elements of the iterable are true (or if the iterable is empty). Equivalent to:"
   ]
  },
  {
   "cell_type": "code",
   "execution_count": 38,
   "metadata": {},
   "outputs": [
    {
     "name": "stdout",
     "output_type": "stream",
     "text": [
      "True\n",
      "False\n"
     ]
    }
   ],
   "source": [
    "a_list = [2,4,6,8]\n",
    "b_list = [2,4,6,9]\n",
    "\n",
    "print(all(num % 2 == 0 for num in a_list))\n",
    "print(all(num % 2 == 0 for num in b_list))"
   ]
  },
  {
   "cell_type": "markdown",
   "metadata": {},
   "source": [
    "###### any()\n",
    "\n",
    "- any() => Return True if **any** element of the iterable is true. If the iterable is empty, return False. Equivalent to:\n",
    "\n"
   ]
  },
  {
   "cell_type": "code",
   "execution_count": 39,
   "metadata": {},
   "outputs": [
    {
     "name": "stdout",
     "output_type": "stream",
     "text": [
      "True\n",
      "True\n"
     ]
    }
   ],
   "source": [
    "a_list = [2,4,6,8]\n",
    "b_list = [2,4,6,9]\n",
    "\n",
    "print(any(num % 2 == 0 for num in a_list))\n",
    "print(any(num % 2 == 0 for num in b_list))"
   ]
  },
  {
   "cell_type": "markdown",
   "metadata": {},
   "source": [
    "#### ZIP\n",
    "\n",
    "##### RubyのZipと似てる"
   ]
  },
  {
   "cell_type": "markdown",
   "metadata": {},
   "source": [
    "###### Generatorを返す"
   ]
  },
  {
   "cell_type": "code",
   "execution_count": 40,
   "metadata": {},
   "outputs": [
    {
     "data": {
      "text/plain": [
       "<zip at 0x7f630004dd08>"
      ]
     },
     "execution_count": 40,
     "metadata": {},
     "output_type": "execute_result"
    }
   ],
   "source": [
    "zip(range(3), 'ABC')"
   ]
  },
  {
   "cell_type": "markdown",
   "metadata": {},
   "source": [
    "###### Listにしてやると交互に出す"
   ]
  },
  {
   "cell_type": "code",
   "execution_count": 41,
   "metadata": {},
   "outputs": [
    {
     "data": {
      "text/plain": [
       "[(0, 'A'), (1, 'B'), (2, 'C')]"
      ]
     },
     "execution_count": 41,
     "metadata": {},
     "output_type": "execute_result"
    }
   ],
   "source": [
    "list(zip(range(3), 'ABC'))"
   ]
  },
  {
   "cell_type": "markdown",
   "metadata": {},
   "source": [
    "##### 値が足りないとそこで終わり、エラーはなし"
   ]
  },
  {
   "cell_type": "code",
   "execution_count": 42,
   "metadata": {},
   "outputs": [
    {
     "data": {
      "text/plain": [
       "[(0, 'A', 0), (1, 'B', 1), (2, 'C', 2)]"
      ]
     },
     "execution_count": 42,
     "metadata": {},
     "output_type": "execute_result"
    }
   ],
   "source": [
    "list(zip(range(3), 'ABC', [0, 1, 2, 3]))"
   ]
  },
  {
   "cell_type": "markdown",
   "metadata": {},
   "source": [
    "###### itertools.zip_longest は足りない値をFillできる"
   ]
  },
  {
   "cell_type": "code",
   "execution_count": 43,
   "metadata": {},
   "outputs": [
    {
     "data": {
      "text/plain": [
       "[(0, 'A', 0), (1, 'B', 1), (2, 'C', 2), ('@', '@', 3)]"
      ]
     },
     "execution_count": 43,
     "metadata": {},
     "output_type": "execute_result"
    }
   ],
   "source": [
    "from itertools import zip_longest\n",
    "\n",
    "list(\n",
    "    zip_longest(\n",
    "        range(3), 'ABC', [0, 1, 2, 3], fillvalue='@'\n",
    "    )\n",
    ")"
   ]
  },
  {
   "cell_type": "markdown",
   "metadata": {},
   "source": [
    "# Chpat 11 : Intefaces : Protocolst to ABC\n",
    "\n",
    "- ABCは何をするか? \n",
    "    - クラスのインスタンスメソッドを統一することで、アクセスしやすいクラスが作れる\n",
    "- 使い方\n",
    "    - 何らかのクラスを作るときに、すでにあるABCを継承するとわかりやすやすい\n",
    "    - Interfaceも決まってるので、使いやすい\n",
    "        - @abstractmedhod Decorator\n",
    "            - 定義されてるので継承したクラスのメソッドの定義忘れなどがわかる。\n",
    "        - \\_\\_subclasshook\\_\\_\n",
    "            - 継承したクラスのサブクラスも定義忘れを見てくれる\n",
    "    - IterとかAsyc用のIterとか予め定義してあるABCを継承してやると処理も効率的?\n",
    "    - 自分でABCを作るのはおすすめできない\n",
    "   "
   ]
  },
  {
   "cell_type": "markdown",
   "metadata": {},
   "source": [
    "## Alex Metelli's essay\n",
    "- duck typing\n",
    "  - ignoreing an object's actual type\n",
    "  - ensuring the object has certain method names, signatures, ....\n",
    "\n",
    "- for python avoid  **USING isinstance**. **USING type(xyz) is abc**\n",
    "\n",
    "- Just like classifying species, **FOCUSE ON OBSERVABLE TRAITS** \n",
    "\n",
    "- Drawbacks **accidental similarities** \n",
    "  - An artist DRAWs paints.\n",
    "  - A gunman DRAWs guns.\n",
    "  - You DRAW a lottery.\n",
    "  \n",
    "- goose typing -> it's ok to use isinstance(obj, cls) if cls is ABC\n",
    "\n",
    "- “goose typing,” \n",
    "  - inheriting from an ABC is more than implementing the required methods: it’s also a clear declaration of intent by the developer.  \n",
    "  \n",
    "- the use of isinstance and issubclass \n",
    "  - more acceptable to test against ABCs. \n",
    "  - (In the past, these functions worked against duck typing,) \n",
    "  - if a component does not implement an ABC by subclassing, it can always be registered\n",
    "\n",
    "- you should beware that excessive use of isinstance checks may be a code smel\n",
    "    - not OK to have a chain of if/elif/elif with insinstance checks\n",
    "    - you should be using polymorphism for that\n",
    "\n",
    "-  it’s usually OK to perform an insinstance check against an ABC\n",
    "\n",
    "\n"
   ]
  },
  {
   "cell_type": "markdown",
   "metadata": {},
   "source": [
    "## this is duck type\n",
    "\n",
    "something1.compute()  \n",
    "something1.output()\n",
    "\n",
    "## this is not\n",
    "\n",
    "```\n",
    "obj = something1\n",
    "\n",
    "if obj is something\n",
    "    obj.compute1()\n",
    "if obj is anything\n",
    "    obj.compute2()\n",
    "if obj is nothing\n",
    "    pass\n",
    ".....\n",
    "```"
   ]
  },
  {
   "cell_type": "markdown",
   "metadata": {},
   "source": [
    "- duck-typing\n",
    "    - A programming style which does not look at an object’s type to determine if it has the right interface\n",
    "    - instead, the method or attribute is simply called or used\n",
    "    - emphasizing interfaces rather than specific types,\n",
    "    - avoids tests using type() or isinstance(). "
   ]
  },
  {
   "cell_type": "markdown",
   "metadata": {},
   "source": [
    "## ABC example -- collections.Mutable --"
   ]
  },
  {
   "cell_type": "markdown",
   "metadata": {},
   "source": [
    "参考\n",
    "https://github.com/python/cpython/blob/master/Lib/_collections_abc.py"
   ]
  },
  {
   "cell_type": "code",
   "execution_count": 4,
   "metadata": {},
   "outputs": [],
   "source": [
    "import collections\n",
    "\n",
    "Card = collections.namedtuple('Card', ['rank', 'suit'])\n",
    "\n",
    "\n",
    "class FrenchDeck2(collections.MutableSequence):\n",
    "    ranks = [str(n) for n in range(2, 11)] + list('JQKA')\n",
    "    suits = '♠ ◆ ♣ ♥'.split()\n",
    "\n",
    "    def __init__(self):\n",
    "        self._cards = [Card(rank, suit)\n",
    "                       for suit in self.suits\n",
    "                       for rank in self.ranks]\n",
    "\n",
    "    def __len__(self):\n",
    "        return len(self._cards)\n",
    "\n",
    "    def __getitem__(self, position):\n",
    "        return self._cards[position]"
   ]
  },
  {
   "cell_type": "markdown",
   "metadata": {},
   "source": [
    "### 上の状態でInstantiateすると・・・\n",
    "\n",
    "interfaceの作り忘れを教えてくれる"
   ]
  },
  {
   "cell_type": "code",
   "execution_count": 5,
   "metadata": {},
   "outputs": [
    {
     "ename": "TypeError",
     "evalue": "Can't instantiate abstract class FrenchDeck2 with abstract methods __delitem__, __setitem__, insert",
     "output_type": "error",
     "traceback": [
      "\u001b[0;31m---------------------------------------------------------------------------\u001b[0m",
      "\u001b[0;31mTypeError\u001b[0m                                 Traceback (most recent call last)",
      "\u001b[0;32m<ipython-input-5-bc3fb4f188a0>\u001b[0m in \u001b[0;36m<module>\u001b[0;34m\u001b[0m\n\u001b[0;32m----> 1\u001b[0;31m \u001b[0mdeck\u001b[0m \u001b[0;34m=\u001b[0m \u001b[0mFrenchDeck2\u001b[0m\u001b[0;34m(\u001b[0m\u001b[0;34m)\u001b[0m\u001b[0;34m\u001b[0m\u001b[0;34m\u001b[0m\u001b[0m\n\u001b[0m",
      "\u001b[0;31mTypeError\u001b[0m: Can't instantiate abstract class FrenchDeck2 with abstract methods __delitem__, __setitem__, insert"
     ]
    }
   ],
   "source": [
    "deck = FrenchDeck2()"
   ]
  },
  {
   "cell_type": "markdown",
   "metadata": {},
   "source": [
    "### Interface忘れがなくなる"
   ]
  },
  {
   "cell_type": "code",
   "execution_count": 2,
   "metadata": {},
   "outputs": [
    {
     "name": "stderr",
     "output_type": "stream",
     "text": [
      "/home/orz/.pyenv/versions/3.7.1/lib/python3.7/site-packages/ipykernel_launcher.py:6: DeprecationWarning: Using or importing the ABCs from 'collections' instead of from 'collections.abc' is deprecated, and in 3.8 it will stop working\n",
      "  \n"
     ]
    }
   ],
   "source": [
    "import collections\n",
    "\n",
    "Card = collections.namedtuple('Card', ['rank', 'suit'])\n",
    "\n",
    "\n",
    "class FrenchDeck2(collections.MutableSequence):\n",
    "    ranks = [str(n) for n in range(2, 11)] + list('JQKA')\n",
    "    suits = '♠ ◆ ♣ ♥'.split()\n",
    "\n",
    "    def __init__(self):\n",
    "        self._cards = [Card(rank, suit)\n",
    "                       for suit in self.suits\n",
    "                       for rank in self.ranks]\n",
    "\n",
    "    def __len__(self):\n",
    "        print('__len__')\n",
    "        return len(self._cards)\n",
    "\n",
    "    def __getitem__(self, position):\n",
    "        print(f'getting item {self._cards[position]}!!')\n",
    "        return self._cards[position]\n",
    "    \n",
    "    def __setitem__(self, position, value):\n",
    "        print(f'setting item {self._cards[position]}!!')\n",
    "        self._cards[position] = value\n",
    "        \n",
    "    def __delitem__(self, position):\n",
    "        print(f'deleting item {self._cards[position]}!!')\n",
    "        del self._cards[position]\n",
    "        \n",
    "    def insert(self, position, value):\n",
    "        print(f'inserting item {value}!!')\n",
    "        self._cards.insert(position, value)"
   ]
  },
  {
   "cell_type": "code",
   "execution_count": 7,
   "metadata": {},
   "outputs": [
    {
     "data": {
      "text/plain": [
       "<__main__.FrenchDeck2 at 0x7fbf5fdfbac8>"
      ]
     },
     "execution_count": 7,
     "metadata": {},
     "output_type": "execute_result"
    }
   ],
   "source": [
    "deck = FrenchDeck2()\n",
    "deck"
   ]
  },
  {
   "cell_type": "code",
   "execution_count": 8,
   "metadata": {},
   "outputs": [
    {
     "name": "stdout",
     "output_type": "stream",
     "text": [
      "getting item Card(rank='3', suit='♠')!!\n"
     ]
    },
    {
     "data": {
      "text/plain": [
       "Card(rank='3', suit='♠')"
      ]
     },
     "execution_count": 8,
     "metadata": {},
     "output_type": "execute_result"
    }
   ],
   "source": [
    "deck[1]"
   ]
  },
  {
   "cell_type": "code",
   "execution_count": 9,
   "metadata": {},
   "outputs": [
    {
     "name": "stdout",
     "output_type": "stream",
     "text": [
      "setting item Card(rank='3', suit='♠')!!\n"
     ]
    }
   ],
   "source": [
    "deck[1] = Card(rank='4', suit='♠')"
   ]
  },
  {
   "cell_type": "code",
   "execution_count": 10,
   "metadata": {},
   "outputs": [
    {
     "name": "stdout",
     "output_type": "stream",
     "text": [
      "getting item Card(rank='4', suit='♠')!!\n"
     ]
    },
    {
     "data": {
      "text/plain": [
       "Card(rank='4', suit='♠')"
      ]
     },
     "execution_count": 10,
     "metadata": {},
     "output_type": "execute_result"
    }
   ],
   "source": [
    "deck[1]"
   ]
  },
  {
   "cell_type": "code",
   "execution_count": 11,
   "metadata": {},
   "outputs": [
    {
     "name": "stdout",
     "output_type": "stream",
     "text": [
      "deleting item Card(rank='4', suit='♠')!!\n"
     ]
    }
   ],
   "source": [
    "del deck[1]"
   ]
  },
  {
   "cell_type": "code",
   "execution_count": 12,
   "metadata": {},
   "outputs": [
    {
     "name": "stdout",
     "output_type": "stream",
     "text": [
      "getting item Card(rank='4', suit='♠')!!\n"
     ]
    },
    {
     "data": {
      "text/plain": [
       "Card(rank='4', suit='♠')"
      ]
     },
     "execution_count": 12,
     "metadata": {},
     "output_type": "execute_result"
    }
   ],
   "source": [
    "deck[1]"
   ]
  },
  {
   "cell_type": "code",
   "execution_count": 13,
   "metadata": {},
   "outputs": [
    {
     "name": "stdout",
     "output_type": "stream",
     "text": [
      "inserting item Card(rank='Joker', suit='Joker')!!\n"
     ]
    }
   ],
   "source": [
    "deck.insert(1, Card(rank='Joker', suit='Joker'))"
   ]
  },
  {
   "cell_type": "code",
   "execution_count": 14,
   "metadata": {},
   "outputs": [
    {
     "name": "stdout",
     "output_type": "stream",
     "text": [
      "getting item Card(rank='Joker', suit='Joker')!!\n"
     ]
    },
    {
     "data": {
      "text/plain": [
       "Card(rank='Joker', suit='Joker')"
      ]
     },
     "execution_count": 14,
     "metadata": {},
     "output_type": "execute_result"
    }
   ],
   "source": [
    "deck[1]"
   ]
  },
  {
   "cell_type": "markdown",
   "metadata": {},
   "source": [
    "### なんでこんなふうになってんの?"
   ]
  },
  {
   "cell_type": "markdown",
   "metadata": {},
   "source": [
    "@abstractmethod と継承"
   ]
  },
  {
   "cell_type": "code",
   "execution_count": 3,
   "metadata": {},
   "outputs": [
    {
     "ename": "NameError",
     "evalue": "name 'Sequence' is not defined",
     "output_type": "error",
     "traceback": [
      "\u001b[0;31m---------------------------------------------------------------------------\u001b[0m",
      "\u001b[0;31mNameError\u001b[0m                                 Traceback (most recent call last)",
      "\u001b[0;32m<ipython-input-3-e4a8ee3902a9>\u001b[0m in \u001b[0;36m<module>\u001b[0;34m\u001b[0m\n\u001b[0;32m----> 1\u001b[0;31m \u001b[0;32mclass\u001b[0m \u001b[0mMutableSequence\u001b[0m\u001b[0;34m(\u001b[0m\u001b[0mSequence\u001b[0m\u001b[0;34m)\u001b[0m\u001b[0;34m:\u001b[0m\u001b[0;34m\u001b[0m\u001b[0;34m\u001b[0m\u001b[0m\n\u001b[0m\u001b[1;32m      2\u001b[0m \u001b[0;34m\u001b[0m\u001b[0m\n\u001b[1;32m      3\u001b[0m     \u001b[0m__slots__\u001b[0m \u001b[0;34m=\u001b[0m \u001b[0;34m(\u001b[0m\u001b[0;34m)\u001b[0m\u001b[0;34m\u001b[0m\u001b[0;34m\u001b[0m\u001b[0m\n\u001b[1;32m      4\u001b[0m \u001b[0;34m\u001b[0m\u001b[0m\n\u001b[1;32m      5\u001b[0m     \"\"\"All the operations on a read-write sequence.\n",
      "\u001b[0;31mNameError\u001b[0m: name 'Sequence' is not defined"
     ]
    }
   ],
   "source": [
    "class MutableSequence(Sequence):\n",
    "\n",
    "    __slots__ = ()\n",
    "\n",
    "    \"\"\"All the operations on a read-write sequence.\n",
    "    Concrete subclasses must provide __new__ or __init__,\n",
    "    __getitem__, __setitem__, __delitem__, __len__, and insert().\n",
    "    \"\"\"\n",
    "\n",
    "    @abstractmethod\n",
    "    def __setitem__(self, index, value):\n",
    "        raise IndexError\n",
    "\n",
    "    @abstractmethod\n",
    "    def __delitem__(self, index):\n",
    "        raise IndexError\n",
    "\n",
    "    @abstractmethod\n",
    "    def insert(self, index, value):\n",
    "        'S.insert(index, value) -- insert value before index'\n",
    "        raise IndexError\n",
    "\n",
    "    def append(self, value):\n",
    "        'S.append(value) -- append value to the end of the sequence'\n",
    "        self.insert(len(self), value)\n",
    "\n",
    "    def clear(self):\n",
    "        'S.clear() -> None -- remove all items from S'\n",
    "        try:\n",
    "            while True:\n",
    "                self.pop()\n",
    "        except IndexError:\n",
    "            pass\n",
    "\n",
    "    def reverse(self):\n",
    "        'S.reverse() -- reverse *IN PLACE*'\n",
    "        n = len(self)\n",
    "        for i in range(n//2):\n",
    "            self[i], self[n-i-1] = self[n-i-1], self[i]\n",
    "\n",
    "    def extend(self, values):\n",
    "        'S.extend(iterable) -- extend sequence by appending elements from the iterable'\n",
    "        for v in values:\n",
    "            self.append(v)\n",
    "\n",
    "    def pop(self, index=-1):\n",
    "        '''S.pop([index]) -> item -- remove and return item at index (default last).\n",
    "           Raise IndexError if list is empty or index is out of range.\n",
    "        '''\n",
    "        v = self[index]\n",
    "        del self[index]\n",
    "        return v\n",
    "\n",
    "    def remove(self, value):\n",
    "        '''S.remove(value) -- remove first occurrence of value.\n",
    "           Raise ValueError if the value is not present.\n",
    "        '''\n",
    "        del self[self.index(value)]\n",
    "\n",
    "    def __iadd__(self, values):\n",
    "        self.extend(values)\n",
    "        return self"
   ]
  },
  {
   "cell_type": "markdown",
   "metadata": {},
   "source": [
    "### どういう継承図なの?"
   ]
  },
  {
   "cell_type": "code",
   "execution_count": 4,
   "metadata": {},
   "outputs": [
    {
     "data": {
      "text/plain": [
       "(__main__.FrenchDeck2,\n",
       " collections.abc.MutableSequence,\n",
       " collections.abc.Sequence,\n",
       " collections.abc.Reversible,\n",
       " collections.abc.Collection,\n",
       " collections.abc.Sized,\n",
       " collections.abc.Iterable,\n",
       " collections.abc.Container,\n",
       " object)"
      ]
     },
     "execution_count": 4,
     "metadata": {},
     "output_type": "execute_result"
    }
   ],
   "source": [
    "import inspect\n",
    "inspect.getmro(FrenchDeck2)"
   ]
  },
  {
   "cell_type": "markdown",
   "metadata": {},
   "source": [
    "## ABCs in the Standard Library"
   ]
  },
  {
   "cell_type": "markdown",
   "metadata": {},
   "source": [
    "collections.abc -> abc in the standard lib (_collections_abc.py)  \n",
    "abc.ABC -> Every ABC depends on it but not needed normally (lib/abc.py)\n",
    "\n",
    "あとはnumber とか  https://docs.python.org/3/library/numbers.html"
   ]
  },
  {
   "cell_type": "markdown",
   "metadata": {},
   "source": [
    "### isinstance も使った具体例"
   ]
  },
  {
   "cell_type": "code",
   "execution_count": 5,
   "metadata": {},
   "outputs": [],
   "source": [
    "from abc import ABCMeta, abstractmethod\n",
    "\n",
    "class Animal(metaclass=ABCMeta):\n",
    "    @abstractmethod\n",
    "    def sound(self):\n",
    "        pass\n",
    "\n",
    "class Cat(Animal):\n",
    "    def sound(self):\n",
    "        print('にゃー')\n",
    "\n",
    "class Dog():\n",
    "    def sound(self):\n",
    "        print('わん')\n",
    "\n",
    "# 継承してなくても、これでVirtual subclassに登録できる\n",
    "Animal.register(Dog)\n",
    "\n",
    "class Book():\n",
    "    pass\n",
    "\n",
    "def bark(obj):\n",
    "    obj.sound()"
   ]
  },
  {
   "cell_type": "markdown",
   "metadata": {},
   "source": [
    "#### sound がない場合はエラーが出る"
   ]
  },
  {
   "cell_type": "markdown",
   "metadata": {},
   "source": [
    "- 全部にABCを継承させるか\n",
    "- isinstance でちぇっくするか"
   ]
  },
  {
   "cell_type": "code",
   "execution_count": 6,
   "metadata": {},
   "outputs": [],
   "source": [
    "c = Cat()\n",
    "d = Dog()\n",
    "b = Book()"
   ]
  },
  {
   "cell_type": "code",
   "execution_count": 7,
   "metadata": {},
   "outputs": [
    {
     "name": "stdout",
     "output_type": "stream",
     "text": [
      "にゃー\n",
      "わん\n"
     ]
    },
    {
     "ename": "AttributeError",
     "evalue": "'Book' object has no attribute 'sound'",
     "output_type": "error",
     "traceback": [
      "\u001b[0;31m---------------------------------------------------------------------------\u001b[0m",
      "\u001b[0;31mAttributeError\u001b[0m                            Traceback (most recent call last)",
      "\u001b[0;32m<ipython-input-7-6f1f2956a1a7>\u001b[0m in \u001b[0;36m<module>\u001b[0;34m\u001b[0m\n\u001b[1;32m      1\u001b[0m \u001b[0mbark\u001b[0m\u001b[0;34m(\u001b[0m\u001b[0mc\u001b[0m\u001b[0;34m)\u001b[0m\u001b[0;34m\u001b[0m\u001b[0;34m\u001b[0m\u001b[0m\n\u001b[1;32m      2\u001b[0m \u001b[0mbark\u001b[0m\u001b[0;34m(\u001b[0m\u001b[0md\u001b[0m\u001b[0;34m)\u001b[0m\u001b[0;34m\u001b[0m\u001b[0;34m\u001b[0m\u001b[0m\n\u001b[0;32m----> 3\u001b[0;31m \u001b[0mbark\u001b[0m\u001b[0;34m(\u001b[0m\u001b[0mb\u001b[0m\u001b[0;34m)\u001b[0m\u001b[0;34m\u001b[0m\u001b[0;34m\u001b[0m\u001b[0m\n\u001b[0m",
      "\u001b[0;32m<ipython-input-5-0d477de12d72>\u001b[0m in \u001b[0;36mbark\u001b[0;34m(obj)\u001b[0m\n\u001b[1;32m     21\u001b[0m \u001b[0;34m\u001b[0m\u001b[0m\n\u001b[1;32m     22\u001b[0m \u001b[0;32mdef\u001b[0m \u001b[0mbark\u001b[0m\u001b[0;34m(\u001b[0m\u001b[0mobj\u001b[0m\u001b[0;34m)\u001b[0m\u001b[0;34m:\u001b[0m\u001b[0;34m\u001b[0m\u001b[0;34m\u001b[0m\u001b[0m\n\u001b[0;32m---> 23\u001b[0;31m     \u001b[0mobj\u001b[0m\u001b[0;34m.\u001b[0m\u001b[0msound\u001b[0m\u001b[0;34m(\u001b[0m\u001b[0;34m)\u001b[0m\u001b[0;34m\u001b[0m\u001b[0;34m\u001b[0m\u001b[0m\n\u001b[0m",
      "\u001b[0;31mAttributeError\u001b[0m: 'Book' object has no attribute 'sound'"
     ]
    }
   ],
   "source": [
    "bark(c)\n",
    "bark(d)\n",
    "bark(b)"
   ]
  },
  {
   "cell_type": "markdown",
   "metadata": {},
   "source": [
    "##### isinstanceを使ってみる"
   ]
  },
  {
   "cell_type": "code",
   "execution_count": 8,
   "metadata": {},
   "outputs": [],
   "source": [
    "def bark2(obj):\n",
    "    if not isinstance(obj, Animal):\n",
    "        print('ーー鳴き声はありませんーー')\n",
    "    else:\n",
    "        obj.sound()"
   ]
  },
  {
   "cell_type": "code",
   "execution_count": 9,
   "metadata": {},
   "outputs": [
    {
     "name": "stdout",
     "output_type": "stream",
     "text": [
      "にゃー\n",
      "わん\n",
      "ーー鳴き声はありませんーー\n"
     ]
    }
   ],
   "source": [
    "bark2(c)\n",
    "bark2(d)\n",
    "bark2(b)"
   ]
  },
  {
   "cell_type": "markdown",
   "metadata": {},
   "source": [
    "##### hasattrでもいい"
   ]
  },
  {
   "cell_type": "code",
   "execution_count": 10,
   "metadata": {},
   "outputs": [],
   "source": [
    "def bark3(obj):\n",
    "    if not hasattr(obj, 'sound'):\n",
    "        print('ーー鳴き声はありませんーー')\n",
    "    else:\n",
    "        obj.sound()"
   ]
  },
  {
   "cell_type": "code",
   "execution_count": 11,
   "metadata": {},
   "outputs": [
    {
     "name": "stdout",
     "output_type": "stream",
     "text": [
      "にゃー\n",
      "わん\n",
      "ーー鳴き声はありませんーー\n"
     ]
    }
   ],
   "source": [
    "bark3(c)\n",
    "bark3(d)\n",
    "bark3(b)"
   ]
  },
  {
   "cell_type": "markdown",
   "metadata": {},
   "source": [
    "参考: https://pymotw.com/3/abc/index.html  \n",
    "参考:  https://qiita.com/kaneshin/items/269bc5f156d86f8a91c4  \n",
    "公式Doc: https://docs.python.org/3/library/abc.html  \n",
    "Iterator, Generator : https://qiita.com/knknkn1162/items/17f7f370a2cc27f812ee   "
   ]
  },
  {
   "cell_type": "markdown",
   "metadata": {},
   "source": [
    "# chap 12 - Inheritance"
   ]
  },
  {
   "cell_type": "markdown",
   "metadata": {},
   "source": [
    "## DictをSubclassしてもうまく動かない例\n",
    "\n",
    "built-in type はsubclassしてもうまく動かない。  \n",
    "built-in method は勝手に定義した関数を無視するように作られているから"
   ]
  },
  {
   "cell_type": "code",
   "execution_count": 1,
   "metadata": {},
   "outputs": [],
   "source": [
    "class DoppleDict(dict):\n",
    "    def __setitem__(self, key, value):\n",
    "        super().__setitem__(key, 'VALUE OVERRIDDEN!!')"
   ]
  },
  {
   "cell_type": "markdown",
   "metadata": {},
   "source": [
    "### setitemが動かない"
   ]
  },
  {
   "cell_type": "markdown",
   "metadata": {},
   "source": [
    "####  \\_\\_init\\_\\_ はsetitemを無視する"
   ]
  },
  {
   "cell_type": "code",
   "execution_count": 2,
   "metadata": {},
   "outputs": [
    {
     "data": {
      "text/plain": [
       "{'one': 1}"
      ]
     },
     "execution_count": 2,
     "metadata": {},
     "output_type": "execute_result"
    }
   ],
   "source": [
    "dd = DoppleDict(one=1)\n",
    "dd"
   ]
  },
  {
   "cell_type": "markdown",
   "metadata": {},
   "source": [
    "#### この場合はうまく動く"
   ]
  },
  {
   "cell_type": "code",
   "execution_count": 3,
   "metadata": {},
   "outputs": [
    {
     "data": {
      "text/plain": [
       "{'one': 1, 'two': 'VALUE OVERRIDDEN!!'}"
      ]
     },
     "execution_count": 3,
     "metadata": {},
     "output_type": "execute_result"
    }
   ],
   "source": [
    "dd['two'] = 2\n",
    "dd"
   ]
  },
  {
   "cell_type": "markdown",
   "metadata": {},
   "source": [
    "#### update はsetitemを使ってくれない"
   ]
  },
  {
   "cell_type": "code",
   "execution_count": 4,
   "metadata": {},
   "outputs": [
    {
     "data": {
      "text/plain": [
       "{'one': 1, 'two': 'VALUE OVERRIDDEN!!', 'three': 3}"
      ]
     },
     "execution_count": 4,
     "metadata": {},
     "output_type": "execute_result"
    }
   ],
   "source": [
    "dd.update(three=3)\n",
    "dd"
   ]
  },
  {
   "cell_type": "markdown",
   "metadata": {},
   "source": [
    "### getitemが動かない"
   ]
  },
  {
   "cell_type": "code",
   "execution_count": 5,
   "metadata": {},
   "outputs": [],
   "source": [
    "class AnserDict(dict):\n",
    "    def __getitem__(self, key):\n",
    "        return 42"
   ]
  },
  {
   "cell_type": "markdown",
   "metadata": {},
   "source": [
    "#### うごく"
   ]
  },
  {
   "cell_type": "code",
   "execution_count": 6,
   "metadata": {},
   "outputs": [
    {
     "data": {
      "text/plain": [
       "42"
      ]
     },
     "execution_count": 6,
     "metadata": {},
     "output_type": "execute_result"
    }
   ],
   "source": [
    "ad = AnserDict(a='foo')\n",
    "ad['a']"
   ]
  },
  {
   "cell_type": "markdown",
   "metadata": {},
   "source": [
    "#### 動かない、getitemを無視する"
   ]
  },
  {
   "cell_type": "code",
   "execution_count": 7,
   "metadata": {},
   "outputs": [
    {
     "data": {
      "text/plain": [
       "'foo'"
      ]
     },
     "execution_count": 7,
     "metadata": {},
     "output_type": "execute_result"
    }
   ],
   "source": [
    "d = {}\n",
    "d.update(ad)\n",
    "d['a']"
   ]
  },
  {
   "cell_type": "markdown",
   "metadata": {},
   "source": [
    "## collection.UserDictをつかう"
   ]
  },
  {
   "cell_type": "markdown",
   "metadata": {},
   "source": [
    "### setitemをちゃんと使ってくれる"
   ]
  },
  {
   "cell_type": "code",
   "execution_count": 8,
   "metadata": {},
   "outputs": [],
   "source": [
    "import collections\n",
    "\n",
    "class DoppelDict2(collections.UserDict):\n",
    "    def __setitem__(self, key, value):\n",
    "        super().__setitem__(key, \"VALUE OVERRIDDEN!!\")"
   ]
  },
  {
   "cell_type": "code",
   "execution_count": 9,
   "metadata": {},
   "outputs": [
    {
     "data": {
      "text/plain": [
       "{'one': 'VALUE OVERRIDDEN!!'}"
      ]
     },
     "execution_count": 9,
     "metadata": {},
     "output_type": "execute_result"
    }
   ],
   "source": [
    "dd = DoppelDict2(one=1)\n",
    "dd"
   ]
  },
  {
   "cell_type": "code",
   "execution_count": 10,
   "metadata": {},
   "outputs": [
    {
     "data": {
      "text/plain": [
       "{'one': 'VALUE OVERRIDDEN!!', 'two': 'VALUE OVERRIDDEN!!'}"
      ]
     },
     "execution_count": 10,
     "metadata": {},
     "output_type": "execute_result"
    }
   ],
   "source": [
    "dd['two'] = 2\n",
    "dd"
   ]
  },
  {
   "cell_type": "code",
   "execution_count": 11,
   "metadata": {},
   "outputs": [
    {
     "data": {
      "text/plain": [
       "{'one': 'VALUE OVERRIDDEN!!', 'two': 'VALUE OVERRIDDEN!!', 'three': 'VALUE OVERRIDDEN!!'}"
      ]
     },
     "execution_count": 11,
     "metadata": {},
     "output_type": "execute_result"
    }
   ],
   "source": [
    "dd.update(three=3)\n",
    "dd"
   ]
  },
  {
   "cell_type": "markdown",
   "metadata": {},
   "source": [
    "### getitemをちゃんと使ってくれる"
   ]
  },
  {
   "cell_type": "code",
   "execution_count": 12,
   "metadata": {},
   "outputs": [],
   "source": [
    "import collections\n",
    "\n",
    "class AnserDict(collections.UserDict):\n",
    "    def __getitem__(self, key):\n",
    "        return 42"
   ]
  },
  {
   "cell_type": "code",
   "execution_count": 13,
   "metadata": {},
   "outputs": [
    {
     "data": {
      "text/plain": [
       "42"
      ]
     },
     "execution_count": 13,
     "metadata": {},
     "output_type": "execute_result"
    }
   ],
   "source": [
    "ad = AnserDict(a='foo')\n",
    "ad['a']"
   ]
  },
  {
   "cell_type": "code",
   "execution_count": 14,
   "metadata": {},
   "outputs": [
    {
     "data": {
      "text/plain": [
       "42"
      ]
     },
     "execution_count": 14,
     "metadata": {},
     "output_type": "execute_result"
    }
   ],
   "source": [
    "d = {}\n",
    "d.update(ad)\n",
    "d['a']"
   ]
  },
  {
   "cell_type": "code",
   "execution_count": 15,
   "metadata": {},
   "outputs": [
    {
     "data": {
      "text/plain": [
       "{'a': 42}"
      ]
     },
     "execution_count": 15,
     "metadata": {},
     "output_type": "execute_result"
    }
   ],
   "source": [
    "d"
   ]
  },
  {
   "cell_type": "markdown",
   "metadata": {},
   "source": [
    "## Diamond Inheritance"
   ]
  },
  {
   "cell_type": "code",
   "execution_count": 16,
   "metadata": {},
   "outputs": [],
   "source": [
    "class A:\n",
    "    def ping(self):\n",
    "        print('ping of A', self)\n",
    "        print('----')\n",
    "\n",
    "class B(A):\n",
    "    def pong(self):\n",
    "        print('pong of B', self)\n",
    "        print('====')\n",
    "        \n",
    "class C(A):\n",
    "    def pong(self):\n",
    "        print('pong of C', self)\n",
    "        print('****')\n",
    "\n",
    "class D(B,C):\n",
    "    def ping(self):\n",
    "        super().ping()\n",
    "        print('post-ping', self)\n",
    "        print('@@@@')\n",
    "  \n",
    "\n",
    "    def super_ping(self):\n",
    "        self.ping()\n",
    "        super().ping()\n",
    "    \n",
    "    def super_pong(self):\n",
    "        self.pong()\n",
    "        super().pong()\n",
    "    \n",
    "    def c_pong(self):\n",
    "        C.pong(self)"
   ]
  },
  {
   "cell_type": "markdown",
   "metadata": {},
   "source": [
    "### D のPONGを実行するとBからくる"
   ]
  },
  {
   "cell_type": "code",
   "execution_count": 17,
   "metadata": {},
   "outputs": [
    {
     "name": "stdout",
     "output_type": "stream",
     "text": [
      "pong of B <__main__.D object at 0x7fc1f869b390>\n",
      "====\n"
     ]
    }
   ],
   "source": [
    "d = D()\n",
    "d.pong()"
   ]
  },
  {
   "cell_type": "markdown",
   "metadata": {},
   "source": [
    "### Cを実行したいときはこうする"
   ]
  },
  {
   "cell_type": "code",
   "execution_count": 18,
   "metadata": {},
   "outputs": [
    {
     "name": "stdout",
     "output_type": "stream",
     "text": [
      "pong of C <__main__.D object at 0x7fc1f869b390>\n",
      "****\n"
     ]
    }
   ],
   "source": [
    "C.pong(d)"
   ]
  },
  {
   "cell_type": "markdown",
   "metadata": {},
   "source": [
    "### pingはAからくる"
   ]
  },
  {
   "cell_type": "code",
   "execution_count": 19,
   "metadata": {},
   "outputs": [
    {
     "name": "stdout",
     "output_type": "stream",
     "text": [
      "ping of A <__main__.D object at 0x7fc1f869b390>\n",
      "----\n",
      "post-ping <__main__.D object at 0x7fc1f869b390>\n",
      "@@@@\n"
     ]
    }
   ],
   "source": [
    "d.ping()"
   ]
  },
  {
   "cell_type": "markdown",
   "metadata": {},
   "source": [
    "### superとの関係"
   ]
  },
  {
   "cell_type": "code",
   "execution_count": 20,
   "metadata": {},
   "outputs": [
    {
     "name": "stdout",
     "output_type": "stream",
     "text": [
      "ping of A <__main__.D object at 0x7fc1f869b390>\n",
      "----\n",
      "post-ping <__main__.D object at 0x7fc1f869b390>\n",
      "@@@@\n",
      "ping of A <__main__.D object at 0x7fc1f869b390>\n",
      "----\n"
     ]
    }
   ],
   "source": [
    "d.super_ping()"
   ]
  },
  {
   "cell_type": "code",
   "execution_count": 21,
   "metadata": {},
   "outputs": [
    {
     "name": "stdout",
     "output_type": "stream",
     "text": [
      "pong of B <__main__.D object at 0x7fc1f869b390>\n",
      "====\n",
      "pong of B <__main__.D object at 0x7fc1f869b390>\n",
      "====\n"
     ]
    }
   ],
   "source": [
    "d.super_pong()"
   ]
  },
  {
   "cell_type": "code",
   "execution_count": 22,
   "metadata": {},
   "outputs": [
    {
     "name": "stdout",
     "output_type": "stream",
     "text": [
      "pong of C <__main__.D object at 0x7fc1f869b390>\n",
      "****\n"
     ]
    }
   ],
   "source": [
    "d.c_pong()"
   ]
  },
  {
   "cell_type": "markdown",
   "metadata": {},
   "source": [
    "### 探索の順番はどうなってるか"
   ]
  },
  {
   "cell_type": "code",
   "execution_count": 23,
   "metadata": {},
   "outputs": [
    {
     "data": {
      "text/plain": [
       "(__main__.D, __main__.B, __main__.C, __main__.A, object)"
      ]
     },
     "execution_count": 23,
     "metadata": {},
     "output_type": "execute_result"
    }
   ],
   "source": [
    "D.__mro__"
   ]
  },
  {
   "cell_type": "markdown",
   "metadata": {},
   "source": [
    "P355"
   ]
  },
  {
   "cell_type": "markdown",
   "metadata": {},
   "source": [
    "\n",
    "\n",
    "\n",
    "## “Favor Object Composition Over Class Inheritance.”"
   ]
  },
  {
   "cell_type": "markdown",
   "metadata": {},
   "source": [
    "### composition"
   ]
  },
  {
   "cell_type": "code",
   "execution_count": 24,
   "metadata": {},
   "outputs": [
    {
     "name": "stdout",
     "output_type": "stream",
     "text": [
      "Total: 1210\n"
     ]
    }
   ],
   "source": [
    "class Salary:\n",
    "    def __init__(self,pay):\n",
    "        self.pay=pay\n",
    "\n",
    "    def get_total(self):\n",
    "       return (self.pay*12)\n",
    "\n",
    "    def increase(self):\n",
    "        self.pay *= 1.1\n",
    "\n",
    "\n",
    "class Employee():\n",
    "    def __init__(self,pay,bonus):\n",
    "        self.pay=pay\n",
    "        self.bonus=bonus\n",
    "        self.obj_salary=Salary(self.pay)\n",
    "\n",
    "    def annual_salary(self):\n",
    "        return \"Total: \"  +  str(self.obj_salary.get_total()+self.bonus)\n",
    "\n",
    "\n",
    "obj_emp=Employee(100,10)\n",
    "print (obj_emp.annual_salary())"
   ]
  },
  {
   "cell_type": "markdown",
   "metadata": {},
   "source": [
    "### composition and inheritance"
   ]
  },
  {
   "cell_type": "code",
   "execution_count": 25,
   "metadata": {},
   "outputs": [],
   "source": [
    "from abc import ABCMeta, abstractmethod\n",
    "\n",
    "class Salary:\n",
    "    def __init__(self,pay):\n",
    "        self.pay=pay\n",
    "\n",
    "    def get_total(self):\n",
    "       return (self.pay*12)\n",
    "\n",
    "    def increase(self):\n",
    "        self.pay *= 1.1\n",
    "\n",
    "\n",
    "class Employee(metaclass=ABCMeta):\n",
    "    def __init__(self,pay,bonus, name):\n",
    "        self.pay=pay\n",
    "        self.bonus=bonus\n",
    "        self.obj_salary=Salary(self.pay)        \n",
    "        self.name=name\n",
    "        \n",
    "    @abstractmethod\n",
    "    def annual_salary(self):\n",
    "        return \"Total: \"  +  str(self.obj_salary.get_total()+self.bonus)\n",
    "    \n",
    "    @abstractmethod\n",
    "    def katagaki(self):\n",
    "        print(f'{self.name}社員')\n",
    "    \n",
    "\n",
    "class Bucho(Employee):\n",
    "    def __init__(self,pay,bonus, name):\n",
    "        super().__init__(pay, bonus, name)\n",
    "    def annual_salary(self):\n",
    "        print(f\"年棒は{(self.obj_salary.get_total()+self.bonus)}円とどんぐり三個です\")\n",
    "        \n",
    "    def katagaki(self):\n",
    "        print(f'{self.name}部長')\n",
    "        \n",
    "class Shacho(Employee):\n",
    "    def __init__(self, pay, bonus, name):\n",
    "        super().__init__(pay, bonus, name)\n",
    "\n",
    "    def annual_salary(self):\n",
    "        print(f\"年棒は蛇の抜け殻一枚です\")\n",
    "        \n",
    "    def katagaki(self):\n",
    "        print(f'{self.name}代表戸締役')\n",
    "            "
   ]
  },
  {
   "cell_type": "code",
   "execution_count": 26,
   "metadata": {},
   "outputs": [],
   "source": [
    "bc = Bucho(pay=100, bonus=1000, name='あああ')"
   ]
  },
  {
   "cell_type": "code",
   "execution_count": 27,
   "metadata": {},
   "outputs": [
    {
     "name": "stdout",
     "output_type": "stream",
     "text": [
      "あああ部長\n"
     ]
    }
   ],
   "source": [
    "bc.katagaki()"
   ]
  },
  {
   "cell_type": "code",
   "execution_count": 28,
   "metadata": {},
   "outputs": [
    {
     "name": "stdout",
     "output_type": "stream",
     "text": [
      "年棒は2200円とどんぐり三個です\n"
     ]
    }
   ],
   "source": [
    "bc.annual_salary()"
   ]
  },
  {
   "cell_type": "code",
   "execution_count": 29,
   "metadata": {},
   "outputs": [],
   "source": [
    "sc = Shacho(pay=0, bonus=0, name='いいい')"
   ]
  },
  {
   "cell_type": "code",
   "execution_count": 30,
   "metadata": {},
   "outputs": [
    {
     "name": "stdout",
     "output_type": "stream",
     "text": [
      "年棒は蛇の抜け殻一枚です\n"
     ]
    }
   ],
   "source": [
    "sc.annual_salary()"
   ]
  },
  {
   "cell_type": "markdown",
   "metadata": {},
   "source": [
    "# Chap 13 - Operator Overloading"
   ]
  },
  {
   "cell_type": "markdown",
   "metadata": {},
   "source": [
    "- We cannot overload operators for the built-in types.\n",
    "- We cannot create new operators, only overload existing ones.\n",
    "- A few operators can’t be overloaded: is, and, or, not (but the bitwise &, |, ~, can)."
   ]
  },
  {
   "cell_type": "markdown",
   "metadata": {},
   "source": [
    "- Unary operators  \n",
    "「-」 → __neg__  \n",
    "「+」 → __pos__  \n",
    "「~」 → __invert__  "
   ]
  },
  {
   "cell_type": "code",
   "execution_count": 1,
   "metadata": {},
   "outputs": [],
   "source": [
    "import itertools\n",
    "\n",
    "\n",
    "class Numbers:\n",
    "\n",
    "    def __init__(self, numbers):\n",
    "        self.numbers = numbers\n",
    "\n",
    "    def __neg__(self):\n",
    "        return [i * -1 for i in self.numbers]\n",
    "\n",
    "    def __add__(self, other):\n",
    "        zipped = itertools.zip_longest(\n",
    "            self.numbers, other.numbers, fillvalue=0.0)\n",
    "        return [n + m for n, m in zipped]\n",
    "\n",
    "\n",
    "class NumbersNoAdds:\n",
    "\n",
    "    def __init__(self, numbers):\n",
    "        self.numbers = numbers\n",
    "\n",
    "\n",
    "class NumbersRAdd:\n",
    "\n",
    "    def __init__(self, numbers):\n",
    "        self.numbers = numbers\n",
    "\n",
    "    def __radd__(self, other):\n",
    "        zipped = itertools.zip_longest(\n",
    "            self.numbers, other.numbers, fillvalue=0.0)\n",
    "        return [n + m for n, m in zipped]"
   ]
  },
  {
   "cell_type": "markdown",
   "metadata": {},
   "source": [
    "## \\_\\_neg\\_\\_"
   ]
  },
  {
   "cell_type": "code",
   "execution_count": 2,
   "metadata": {},
   "outputs": [
    {
     "data": {
      "text/plain": [
       "[-1, -2, -3, -4]"
      ]
     },
     "execution_count": 2,
     "metadata": {},
     "output_type": "execute_result"
    }
   ],
   "source": [
    "n = Numbers([1, 2, 3, 4])\n",
    "-n"
   ]
  },
  {
   "cell_type": "markdown",
   "metadata": {},
   "source": [
    "## \\_\\_add\\_\\_"
   ]
  },
  {
   "cell_type": "code",
   "execution_count": 3,
   "metadata": {},
   "outputs": [
    {
     "data": {
      "text/plain": [
       "[3, 4, 5, 6]"
      ]
     },
     "execution_count": 3,
     "metadata": {},
     "output_type": "execute_result"
    }
   ],
   "source": [
    "n = Numbers([1, 2, 3, 4])\n",
    "m = Numbers([2,2,2,2])\n",
    "\n",
    "n + m"
   ]
  },
  {
   "cell_type": "markdown",
   "metadata": {},
   "source": [
    "###  Notimplemented なケース"
   ]
  },
  {
   "cell_type": "markdown",
   "metadata": {},
   "source": [
    "#### 両方ないのはそりゃあだめ, TypeError"
   ]
  },
  {
   "cell_type": "code",
   "execution_count": 4,
   "metadata": {},
   "outputs": [
    {
     "ename": "TypeError",
     "evalue": "unsupported operand type(s) for +: 'NumbersNoAdds' and 'NumbersNoAdds'",
     "output_type": "error",
     "traceback": [
      "\u001b[0;31m---------------------------------------------------------------------------\u001b[0m",
      "\u001b[0;31mTypeError\u001b[0m                                 Traceback (most recent call last)",
      "\u001b[0;32m<ipython-input-4-952a03b73b7d>\u001b[0m in \u001b[0;36m<module>\u001b[0;34m\u001b[0m\n\u001b[1;32m      2\u001b[0m \u001b[0mm\u001b[0m \u001b[0;34m=\u001b[0m \u001b[0mNumbersNoAdds\u001b[0m\u001b[0;34m(\u001b[0m\u001b[0;34m[\u001b[0m\u001b[0;36m2\u001b[0m\u001b[0;34m,\u001b[0m\u001b[0;36m2\u001b[0m\u001b[0;34m,\u001b[0m\u001b[0;36m2\u001b[0m\u001b[0;34m,\u001b[0m\u001b[0;36m2\u001b[0m\u001b[0;34m]\u001b[0m\u001b[0;34m)\u001b[0m\u001b[0;34m\u001b[0m\u001b[0;34m\u001b[0m\u001b[0m\n\u001b[1;32m      3\u001b[0m \u001b[0;34m\u001b[0m\u001b[0m\n\u001b[0;32m----> 4\u001b[0;31m \u001b[0mn\u001b[0m \u001b[0;34m+\u001b[0m \u001b[0mm\u001b[0m\u001b[0;34m\u001b[0m\u001b[0;34m\u001b[0m\u001b[0m\n\u001b[0m",
      "\u001b[0;31mTypeError\u001b[0m: unsupported operand type(s) for +: 'NumbersNoAdds' and 'NumbersNoAdds'"
     ]
    }
   ],
   "source": [
    "n = NumbersNoAdds([1, 2, 3, 4])\n",
    "m = NumbersNoAdds([2,2,2,2])\n",
    "\n",
    "n + m"
   ]
  },
  {
   "cell_type": "markdown",
   "metadata": {},
   "source": [
    "#### 片方あれば良い(左側が \\_\\_add\\_\\_持ち)"
   ]
  },
  {
   "cell_type": "code",
   "execution_count": 5,
   "metadata": {},
   "outputs": [
    {
     "data": {
      "text/plain": [
       "[3, 4, 5, 6]"
      ]
     },
     "execution_count": 5,
     "metadata": {},
     "output_type": "execute_result"
    }
   ],
   "source": [
    "n = Numbers([1, 2, 3, 4])\n",
    "m = NumbersNoAdds([2,2,2,2])\n",
    "\n",
    "n + m"
   ]
  },
  {
   "cell_type": "markdown",
   "metadata": {},
   "source": [
    "#### 片方あれば良い(\\_\\_radd\\_\\_持ち) \n",
    "\n",
    "**r つきのやつは fallback method**\n",
    "\n",
    "Therefore, to make the mixed-type additions in Example 13-6 work, we need to imple‐\n",
    "ment the Vector.\\_\\_radd\\_\\_ method, which Python will invoke as a fall back if the left\n",
    "operand does not implement \\_\\_add\\_\\_ or if it does but returns NotImplemented to signal\n",
    "that it doesn’t know how to handle the right operand."
   ]
  },
  {
   "cell_type": "code",
   "execution_count": 6,
   "metadata": {},
   "outputs": [
    {
     "data": {
      "text/plain": [
       "[3, 4, 5, 6]"
      ]
     },
     "execution_count": 6,
     "metadata": {},
     "output_type": "execute_result"
    }
   ],
   "source": [
    "n = NumbersNoAdds([1, 2, 3, 4])\n",
    "m = NumbersRAdd([2,2,2,2])\n",
    "\n",
    "n + m"
   ]
  },
  {
   "cell_type": "markdown",
   "metadata": {},
   "source": [
    "#### how fallback \"r\" method works"
   ]
  },
  {
   "cell_type": "code",
   "execution_count": 7,
   "metadata": {},
   "outputs": [],
   "source": [
    "import itertools\n",
    "\n",
    "\n",
    "class NumbersBothAdds:\n",
    "\n",
    "    def __init__(self, numbers):\n",
    "        self.numbers = numbers\n",
    "\n",
    "    def __add__(self, other):\n",
    "        try:\n",
    "            zipped = itertools.zip_longest(\n",
    "                self.numbers, other.numbers, fillvalue=0.0)\n",
    "            return [n + m for n, m in zipped]\n",
    "        except TypeError:\n",
    "            return self.numbers + other.numbers"
   ]
  },
  {
   "cell_type": "code",
   "execution_count": 8,
   "metadata": {},
   "outputs": [
    {
     "data": {
      "text/plain": [
       "[4, 5, 6, 7]"
      ]
     },
     "execution_count": 8,
     "metadata": {},
     "output_type": "execute_result"
    }
   ],
   "source": [
    "n = NumbersBothAdds([1,2,3,4])\n",
    "m = NumbersBothAdds([3,3,3,3])\n",
    "n + m"
   ]
  },
  {
   "cell_type": "code",
   "execution_count": 9,
   "metadata": {},
   "outputs": [
    {
     "data": {
      "text/plain": [
       "15"
      ]
     },
     "execution_count": 9,
     "metadata": {},
     "output_type": "execute_result"
    }
   ],
   "source": [
    "n1 = NumbersBothAdds(5)\n",
    "m1 = NumbersBothAdds(10)\n",
    "n1+m1"
   ]
  },
  {
   "cell_type": "markdown",
   "metadata": {},
   "source": [
    "他にも \\_\\_mul\\_\\_,  \\_\\_eq\\_\\_ などで同じようなことができる"
   ]
  },
  {
   "cell_type": "markdown",
   "metadata": {},
   "source": [
    "## \\_\\_iadd\\_\\_"
   ]
  },
  {
   "cell_type": "code",
   "execution_count": 10,
   "metadata": {},
   "outputs": [],
   "source": [
    "class Array(object):\n",
    "    def __init__(self, values):\n",
    "        \"\"\"インスタンス生成時に呼び出されるメソッド\n",
    "           values には数字を格納したリストを渡す\n",
    "        \"\"\"\n",
    "        self.values = values\n",
    "\n",
    "    def __add__(self, other):\n",
    "        \"\"\"+ 演算子を定義するメソッド\n",
    "           values 内の要素同士を足し合わせた新しい Array インスタンスを返す \"\"\"\n",
    "        return Array(list(map(lambda x, y: x + y,\n",
    "                          self.values,\n",
    "                          other.values)))\n",
    "    \n",
    "    def __iadd__(self, element):\n",
    "        \"\"\"+= 演算子を定義するメソッド\n",
    "           values の各要素に渡された値を加算する \"\"\"\n",
    "        self.values = list(map(lambda x: x + element, self.values))\n",
    "        return self"
   ]
  },
  {
   "cell_type": "code",
   "execution_count": 11,
   "metadata": {},
   "outputs": [
    {
     "data": {
      "text/plain": [
       "[3, 3]"
      ]
     },
     "execution_count": 11,
     "metadata": {},
     "output_type": "execute_result"
    }
   ],
   "source": [
    "m1 = Array([1, 1])\n",
    "m2 = Array([2, 2])\n",
    "ar = m1 + m2\n",
    "ar.values"
   ]
  },
  {
   "cell_type": "code",
   "execution_count": 12,
   "metadata": {},
   "outputs": [
    {
     "data": {
      "text/plain": [
       "[4, 6]"
      ]
     },
     "execution_count": 12,
     "metadata": {},
     "output_type": "execute_result"
    }
   ],
   "source": [
    "m1 = Array([3, 5])\n",
    "m1 += 1\n",
    "m1.values"
   ]
  },
  {
   "cell_type": "markdown",
   "metadata": {},
   "source": [
    "#  Chap 14 Iterables, Iterators, Generators"
   ]
  },
  {
   "cell_type": "code",
   "execution_count": 1,
   "metadata": {},
   "outputs": [],
   "source": [
    "import re\n",
    "import reprlib\n",
    "\n",
    "RE_WORD = re.compile('\\w+')\n",
    "\n",
    "class Sentence:\n",
    "    def __init__(self, text):\n",
    "        self.text = text\n",
    "        self.words = RE_WORD.findall(text)\n",
    "        \n",
    "    def __getitem__(self, index):\n",
    "        return self.words[index]\n",
    "    \n",
    "    def __len__(self):\n",
    "        return len(self.words)\n",
    "    \n",
    "    def __repr__(self):\n",
    "        return f\"Sentence : {reprlib.repr(self.text)}\"\n",
    "    "
   ]
  },
  {
   "cell_type": "code",
   "execution_count": 2,
   "metadata": {},
   "outputs": [],
   "source": [
    "s = Sentence('AAA BBB CCC DDD EEE')"
   ]
  },
  {
   "cell_type": "code",
   "execution_count": 3,
   "metadata": {},
   "outputs": [
    {
     "data": {
      "text/plain": [
       "Sentence : 'AAA BBB CCC DDD EEE'"
      ]
     },
     "execution_count": 3,
     "metadata": {},
     "output_type": "execute_result"
    }
   ],
   "source": [
    "s"
   ]
  },
  {
   "cell_type": "code",
   "execution_count": 4,
   "metadata": {},
   "outputs": [
    {
     "name": "stdout",
     "output_type": "stream",
     "text": [
      "AAA\n",
      "BBB\n",
      "CCC\n",
      "DDD\n",
      "EEE\n"
     ]
    }
   ],
   "source": [
    "for word in s:\n",
    "    print(word)"
   ]
  },
  {
   "cell_type": "code",
   "execution_count": 5,
   "metadata": {},
   "outputs": [
    {
     "data": {
      "text/plain": [
       "['AAA', 'BBB', 'CCC', 'DDD', 'EEE']"
      ]
     },
     "execution_count": 5,
     "metadata": {},
     "output_type": "execute_result"
    }
   ],
   "source": [
    "s.words"
   ]
  },
  {
   "cell_type": "markdown",
   "metadata": {},
   "source": [
    "## iter function"
   ]
  },
  {
   "cell_type": "markdown",
   "metadata": {},
   "source": [
    "### Whenever the interpreter needs to iterate over an object x, it automatically calls iter(x).  \n",
    "\n",
    "The iter built-in function:  \n",
    "\n",
    "    1. Checks whether the object implements __iter__, and calls that to obtain an iterator.  \n",
    "\n",
    "    2. If __iter__ is not implemented, but __getitem__ is implemented, Python creates an iterator that attempts to fetch items in order, starting from index 0 (zero).  \n",
    "\n",
    "    3. If that fails, Python raises TypeError, usually saying “C object is not iterable,” where C is the class of the target object.  "
   ]
  },
  {
   "cell_type": "markdown",
   "metadata": {},
   "source": [
    "- Python sequens is ieterable because all has \\_\\_getitem\\_\\_\n",
    "- But Use \\_\\_iter\\_\\_\n",
    "- getitem is for backward compatibility"
   ]
  },
  {
   "cell_type": "markdown",
   "metadata": {},
   "source": [
    "### \\_\\_iter\\_\\_ があれば、 abc.Iterableの \\_\\_subclasshook\\_\\_ のおかげで abc.Iterableになる"
   ]
  },
  {
   "cell_type": "code",
   "execution_count": 6,
   "metadata": {},
   "outputs": [],
   "source": [
    "class Foo:\n",
    "    def __iter__(self):\n",
    "        pass"
   ]
  },
  {
   "cell_type": "code",
   "execution_count": 7,
   "metadata": {},
   "outputs": [
    {
     "data": {
      "text/plain": [
       "True"
      ]
     },
     "execution_count": 7,
     "metadata": {},
     "output_type": "execute_result"
    }
   ],
   "source": [
    "from collections import abc\n",
    "issubclass(Foo, abc.Iterable)"
   ]
  },
  {
   "cell_type": "code",
   "execution_count": 8,
   "metadata": {},
   "outputs": [
    {
     "data": {
      "text/plain": [
       "True"
      ]
     },
     "execution_count": 8,
     "metadata": {},
     "output_type": "execute_result"
    }
   ],
   "source": [
    "f = Foo()\n",
    "isinstance(f, abc.Iterable)"
   ]
  },
  {
   "cell_type": "markdown",
   "metadata": {},
   "source": [
    "### forを実装してみる"
   ]
  },
  {
   "cell_type": "code",
   "execution_count": 9,
   "metadata": {},
   "outputs": [
    {
     "name": "stdout",
     "output_type": "stream",
     "text": [
      "A\n",
      "B\n",
      "C\n"
     ]
    }
   ],
   "source": [
    "s = 'ABC'\n",
    "for char in s:\n",
    "    print(char)"
   ]
  },
  {
   "cell_type": "markdown",
   "metadata": {},
   "source": [
    "#### next やりまくって、これ以上無い場合は StopIteration がでて、それをTryで取る"
   ]
  },
  {
   "cell_type": "code",
   "execution_count": 10,
   "metadata": {},
   "outputs": [
    {
     "data": {
      "text/plain": [
       "<str_iterator at 0x7f02cc151898>"
      ]
     },
     "execution_count": 10,
     "metadata": {},
     "output_type": "execute_result"
    }
   ],
   "source": [
    "s = 'ABC'\n",
    "it = iter(s)\n",
    "it"
   ]
  },
  {
   "cell_type": "code",
   "execution_count": 11,
   "metadata": {},
   "outputs": [
    {
     "name": "stdout",
     "output_type": "stream",
     "text": [
      "A\n",
      "B\n",
      "C\n"
     ]
    }
   ],
   "source": [
    "while True:\n",
    "    try:\n",
    "        print(next(it))\n",
    "    except StopIteration:\n",
    "        del it # release refference\n",
    "        break"
   ]
  },
  {
   "cell_type": "markdown",
   "metadata": {},
   "source": [
    "##### iterは一回でなくなる"
   ]
  },
  {
   "cell_type": "code",
   "execution_count": 12,
   "metadata": {},
   "outputs": [
    {
     "name": "stdout",
     "output_type": "stream",
     "text": [
      "A\n",
      "B\n",
      "C\n",
      "[]\n",
      "['A', 'B', 'C']\n"
     ]
    }
   ],
   "source": [
    "s = 'ABC'\n",
    "it = iter(s)\n",
    "it\n",
    "print(next(it))\n",
    "print(next(it))\n",
    "print(next(it))\n",
    "# print(next(it))  # <- StoprIteration が起きる\n",
    "print(list(it))  # 一回使われるとなくなる\n",
    "\n",
    "print(list(iter(s))) # もう一回作る必要がある"
   ]
  },
  {
   "cell_type": "markdown",
   "metadata": {},
   "source": [
    "## Iterator and Iterable"
   ]
  },
  {
   "cell_type": "markdown",
   "metadata": {},
   "source": [
    "- iterable -> has \\_\\_iter\\_\\_  which instantiates new iterator\n",
    "- iterator -> has \\_\\_next\\_\\_ that returns item\n",
    "- Don't implement \\_\\_next\\_\\_ and \\_\\_iter\\_\\_ witihn a same class"
   ]
  },
  {
   "cell_type": "markdown",
   "metadata": {},
   "source": [
    "- Iteration is a general term for taking each item of something, one after another. Any time you use a loop, explicit or implicit, to go over a group of items, that is iteration.\n",
    "\n",
    "- An iterable is an object that has an __iter__ method which returns an iterator, or which defines a __getitem__ method that can take sequential indexes starting from zero (and raises an IndexError when the indexes are no longer valid). So an iterable is an object that you can get an iterator from.\n"
   ]
  },
  {
   "cell_type": "markdown",
   "metadata": {},
   "source": [
    "- To “support multiple traversals” it must be possible to obtain multiple independent\n",
    "iterators from the same iterable instance, and each iterator must keep its own internal\n",
    "state, so a proper implementation of the pattern requires each call to iter(my_itera\n",
    "ble) to create a new, independent, iterator. That is why we need the SentenceItera\n",
    "tor class in this example."
   ]
  },
  {
   "cell_type": "markdown",
   "metadata": {},
   "source": [
    "- An iterable should never act as an iterator over itself. In other\n",
    "words, iterables must implement \\_\\_iter__, but not \\_\\_next__.\n",
    "On the other hand, for convenience, iterators should be iterable.\n",
    "An iterator’s \\_\\_iter__ should just return self."
   ]
  },
  {
   "cell_type": "markdown",
   "metadata": {},
   "source": [
    "### python code"
   ]
  },
  {
   "cell_type": "code",
   "execution_count": 13,
   "metadata": {},
   "outputs": [
    {
     "ename": "NameError",
     "evalue": "name 'ABCMeta' is not defined",
     "output_type": "error",
     "traceback": [
      "\u001b[0;31m---------------------------------------------------------------------------\u001b[0m",
      "\u001b[0;31mNameError\u001b[0m                                 Traceback (most recent call last)",
      "\u001b[0;32m<ipython-input-13-04fc1a7719d9>\u001b[0m in \u001b[0;36m<module>\u001b[0;34m\u001b[0m\n\u001b[0;32m----> 1\u001b[0;31m \u001b[0;32mclass\u001b[0m \u001b[0mIterable\u001b[0m\u001b[0;34m(\u001b[0m\u001b[0mmetaclass\u001b[0m\u001b[0;34m=\u001b[0m\u001b[0mABCMeta\u001b[0m\u001b[0;34m)\u001b[0m\u001b[0;34m:\u001b[0m\u001b[0;34m\u001b[0m\u001b[0;34m\u001b[0m\u001b[0m\n\u001b[0m\u001b[1;32m      2\u001b[0m \u001b[0;34m\u001b[0m\u001b[0m\n\u001b[1;32m      3\u001b[0m     \u001b[0m__slots__\u001b[0m \u001b[0;34m=\u001b[0m \u001b[0;34m(\u001b[0m\u001b[0;34m)\u001b[0m\u001b[0;34m\u001b[0m\u001b[0;34m\u001b[0m\u001b[0m\n\u001b[1;32m      4\u001b[0m \u001b[0;34m\u001b[0m\u001b[0m\n\u001b[1;32m      5\u001b[0m     \u001b[0;34m@\u001b[0m\u001b[0mabstractmethod\u001b[0m\u001b[0;34m\u001b[0m\u001b[0;34m\u001b[0m\u001b[0m\n",
      "\u001b[0;31mNameError\u001b[0m: name 'ABCMeta' is not defined"
     ]
    }
   ],
   "source": [
    "class Iterable(metaclass=ABCMeta):\n",
    "\n",
    "    __slots__ = ()\n",
    "\n",
    "    @abstractmethod\n",
    "    def __iter__(self):\n",
    "        while False:\n",
    "            yield None\n",
    "\n",
    "    @classmethod\n",
    "    def __subclasshook__(cls, C):\n",
    "        if cls is Iterable:\n",
    "            return _check_methods(C, \"__iter__\")\n",
    "        return NotImplemented\n",
    "\n",
    "\n",
    "class Iterator(Iterable):\n",
    "\n",
    "    __slots__ = ()\n",
    "\n",
    "    @abstractmethod\n",
    "    def __next__(self):\n",
    "        \"Return the next item from the iterator. When exhausted, raise StopIteration\"\n",
    "        raise StopIteration\n",
    "\n",
    "    def __iter__(self):\n",
    "        return self\n",
    "\n",
    "    @classmethod\n",
    "    def __subclasshook__(cls, C):\n",
    "        if cls is Iterator:\n",
    "            return _check_methods(C, \"__iter__\", \"__next__\")\n",
    "        return NotImplemented"
   ]
  },
  {
   "cell_type": "markdown",
   "metadata": {},
   "source": [
    "## Generator"
   ]
  },
  {
   "cell_type": "markdown",
   "metadata": {},
   "source": [
    "### SentenceをGeneratorに"
   ]
  },
  {
   "cell_type": "code",
   "execution_count": 14,
   "metadata": {},
   "outputs": [],
   "source": [
    "import re\n",
    "import reprlib\n",
    "\n",
    "RE_WORD= re.compile('\\w+')\n",
    "\n",
    "class Sentence:\n",
    "    def __init__(self, text):\n",
    "        self.text = text\n",
    "        self.words = RE_WORD.findall(text)\n",
    "        \n",
    "    def __repr__(self):\n",
    "        return f\"Sentence : {reprlib.repr(self.text)}\"\n",
    "    \n",
    "    def __iter__(self):\n",
    "        for word in self.words:\n",
    "            yield word"
   ]
  },
  {
   "cell_type": "code",
   "execution_count": 15,
   "metadata": {},
   "outputs": [],
   "source": [
    "s = Sentence('AAA BBB CCC DDD EEE')"
   ]
  },
  {
   "cell_type": "markdown",
   "metadata": {},
   "source": [
    "#### 結果は同じ"
   ]
  },
  {
   "cell_type": "code",
   "execution_count": 16,
   "metadata": {},
   "outputs": [
    {
     "name": "stdout",
     "output_type": "stream",
     "text": [
      "AAA\n",
      "BBB\n",
      "CCC\n",
      "DDD\n",
      "EEE\n"
     ]
    }
   ],
   "source": [
    "for word in s:\n",
    "    print(word)"
   ]
  },
  {
   "cell_type": "markdown",
   "metadata": {},
   "source": [
    "### 簡単なGenerator"
   ]
  },
  {
   "cell_type": "code",
   "execution_count": 17,
   "metadata": {},
   "outputs": [
    {
     "data": {
      "text/plain": [
       "<function __main__.gen_123()>"
      ]
     },
     "execution_count": 17,
     "metadata": {},
     "output_type": "execute_result"
    }
   ],
   "source": [
    "def gen_123():\n",
    "    yield 1\n",
    "    yield 2\n",
    "    yield 3\n",
    "\n",
    "gen_123    "
   ]
  },
  {
   "cell_type": "code",
   "execution_count": 18,
   "metadata": {},
   "outputs": [
    {
     "data": {
      "text/plain": [
       "<generator object gen_123 at 0x7f02cc08fc00>"
      ]
     },
     "execution_count": 18,
     "metadata": {},
     "output_type": "execute_result"
    }
   ],
   "source": [
    "gen_123()"
   ]
  },
  {
   "cell_type": "markdown",
   "metadata": {},
   "source": [
    "### iterableである(iterateしないと結果がyieldされない)"
   ]
  },
  {
   "cell_type": "code",
   "execution_count": 19,
   "metadata": {},
   "outputs": [
    {
     "data": {
      "text/plain": [
       "[1, 2, 3]"
      ]
     },
     "execution_count": 19,
     "metadata": {},
     "output_type": "execute_result"
    }
   ],
   "source": [
    "[i for i in gen_123()]"
   ]
  },
  {
   "cell_type": "markdown",
   "metadata": {},
   "source": [
    "### next しまくると StopIterationがでる"
   ]
  },
  {
   "cell_type": "code",
   "execution_count": 20,
   "metadata": {},
   "outputs": [
    {
     "name": "stdout",
     "output_type": "stream",
     "text": [
      "1\n",
      "2\n",
      "3\n"
     ]
    },
    {
     "ename": "StopIteration",
     "evalue": "",
     "output_type": "error",
     "traceback": [
      "\u001b[0;31m---------------------------------------------------------------------------\u001b[0m",
      "\u001b[0;31mStopIteration\u001b[0m                             Traceback (most recent call last)",
      "\u001b[0;32m<ipython-input-20-8d5bd5e1355b>\u001b[0m in \u001b[0;36m<module>\u001b[0;34m\u001b[0m\n\u001b[1;32m      3\u001b[0m \u001b[0mprint\u001b[0m\u001b[0;34m(\u001b[0m\u001b[0mnext\u001b[0m\u001b[0;34m(\u001b[0m\u001b[0mg\u001b[0m\u001b[0;34m)\u001b[0m\u001b[0;34m)\u001b[0m\u001b[0;34m\u001b[0m\u001b[0;34m\u001b[0m\u001b[0m\n\u001b[1;32m      4\u001b[0m \u001b[0mprint\u001b[0m\u001b[0;34m(\u001b[0m\u001b[0mnext\u001b[0m\u001b[0;34m(\u001b[0m\u001b[0mg\u001b[0m\u001b[0;34m)\u001b[0m\u001b[0;34m)\u001b[0m\u001b[0;34m\u001b[0m\u001b[0;34m\u001b[0m\u001b[0m\n\u001b[0;32m----> 5\u001b[0;31m \u001b[0mprint\u001b[0m\u001b[0;34m(\u001b[0m\u001b[0mnext\u001b[0m\u001b[0;34m(\u001b[0m\u001b[0mg\u001b[0m\u001b[0;34m)\u001b[0m\u001b[0;34m)\u001b[0m\u001b[0;34m\u001b[0m\u001b[0;34m\u001b[0m\u001b[0m\n\u001b[0m",
      "\u001b[0;31mStopIteration\u001b[0m: "
     ]
    }
   ],
   "source": [
    "g = gen_123()\n",
    "print(next(g))\n",
    "print(next(g))\n",
    "print(next(g))\n",
    "print(next(g))"
   ]
  },
  {
   "cell_type": "markdown",
   "metadata": {},
   "source": [
    "### Generator YIELDS or PRODUCES values as a result. And, It RETURNS fucntions when it was called"
   ]
  },
  {
   "cell_type": "markdown",
   "metadata": {},
   "source": [
    "- Functions return values. Calling a generator function returns a generator. \n",
    "- A generator yields or produces values. \n",
    "- A generator doesn’t “return” values in the usual way: the return statement in the body of a generator function causes StopIteration to be raised by the generator object."
   ]
  },
  {
   "cell_type": "markdown",
   "metadata": {},
   "source": [
    "### More Lazy Sentence Implementaition"
   ]
  },
  {
   "cell_type": "markdown",
   "metadata": {},
   "source": [
    "The re.finditer function is a lazy version of re.findall which, instead of a list, re‐\n",
    "turns a generator producing re.MatchObject instances on demand"
   ]
  },
  {
   "cell_type": "code",
   "execution_count": 21,
   "metadata": {},
   "outputs": [],
   "source": [
    "import re\n",
    "import reprlib\n",
    "RE_WORD = re.compile('\\w+')\n",
    "\n",
    "\n",
    "class Sentence:\n",
    "    def __init__(self, text):\n",
    "        self.text = text\n",
    "\n",
    "    def __repr__(self):\n",
    "        return 'Sentence(%s)' % reprlib.repr(self.text)\n",
    "\n",
    "    def __iter__(self):\n",
    "        for match in RE_WORD.finditer(self.text):\n",
    "            yield match.group()"
   ]
  },
  {
   "cell_type": "markdown",
   "metadata": {},
   "source": [
    "### LIst Comprehention and Generator Expression"
   ]
  },
  {
   "cell_type": "code",
   "execution_count": 22,
   "metadata": {},
   "outputs": [],
   "source": [
    "def gen_AB():\n",
    "    print('start')\n",
    "    yield 'A'\n",
    "    print('continue')\n",
    "    yield 'B'\n",
    "    print('end.')"
   ]
  },
  {
   "cell_type": "markdown",
   "metadata": {},
   "source": [
    "#### List Comprehension だと途中で消費される"
   ]
  },
  {
   "cell_type": "code",
   "execution_count": 23,
   "metadata": {},
   "outputs": [
    {
     "name": "stdout",
     "output_type": "stream",
     "text": [
      "start\n",
      "continue\n",
      "end.\n"
     ]
    }
   ],
   "source": [
    "res1 = [x*3 for x in gen_AB()]  # <- Printが実行される"
   ]
  },
  {
   "cell_type": "code",
   "execution_count": 24,
   "metadata": {},
   "outputs": [
    {
     "name": "stdout",
     "output_type": "stream",
     "text": [
      "---> AAA\n",
      "---> BBB\n"
     ]
    }
   ],
   "source": [
    "for i in res1:\n",
    "    print('--->', i)"
   ]
  },
  {
   "cell_type": "markdown",
   "metadata": {},
   "source": [
    "#### Generator Expression だと途中で消費されない"
   ]
  },
  {
   "cell_type": "code",
   "execution_count": 25,
   "metadata": {},
   "outputs": [],
   "source": [
    "res2 = (x*3 for x in gen_AB()) # <- Printが実行されない"
   ]
  },
  {
   "cell_type": "code",
   "execution_count": 26,
   "metadata": {},
   "outputs": [
    {
     "name": "stdout",
     "output_type": "stream",
     "text": [
      "start\n",
      "----> AAA\n",
      "continue\n",
      "----> BBB\n",
      "end.\n"
     ]
    }
   ],
   "source": [
    "for i in res2:\n",
    "    print('---->', i)"
   ]
  },
  {
   "cell_type": "markdown",
   "metadata": {},
   "source": [
    "#### SentenceにGeneretor Expressionをつかう"
   ]
  },
  {
   "cell_type": "code",
   "execution_count": 27,
   "metadata": {},
   "outputs": [],
   "source": [
    "import re\n",
    "import reprlib\n",
    "RE_WORD = re.compile('\\w+')\n",
    "\n",
    "\n",
    "class Sentence:\n",
    "    def __init__(self, text):\n",
    "        self.text = text\n",
    "\n",
    "    def __repr__(self):\n",
    "        return 'Sentence(%s)' % reprlib.repr(self.text)\n",
    "\n",
    "    def __iter__(self):\n",
    "        return (match.group() for match in RE_WORD.finditer(self.text))"
   ]
  },
  {
   "cell_type": "code",
   "execution_count": 28,
   "metadata": {},
   "outputs": [],
   "source": [
    "s = Sentence('AAA BBB CCC DDD EEE')"
   ]
  },
  {
   "cell_type": "code",
   "execution_count": 29,
   "metadata": {},
   "outputs": [
    {
     "data": {
      "text/plain": [
       "['AAA', 'BBB', 'CCC', 'DDD', 'EEE']"
      ]
     },
     "execution_count": 29,
     "metadata": {},
     "output_type": "execute_result"
    }
   ],
   "source": [
    "[word for word in s]"
   ]
  },
  {
   "cell_type": "markdown",
   "metadata": {},
   "source": [
    "### Yield and Return"
   ]
  },
  {
   "cell_type": "markdown",
   "metadata": {},
   "source": [
    "#### return だと処理を一度に書かないといけない"
   ]
  },
  {
   "cell_type": "code",
   "execution_count": 30,
   "metadata": {},
   "outputs": [
    {
     "name": "stdout",
     "output_type": "stream",
     "text": [
      "None\n",
      "The Number: 6\n",
      "None\n",
      "The Number: 12\n",
      "None\n",
      "The Number: 18\n",
      "None\n",
      "The Number: 24\n",
      "None\n",
      "The Number: 30\n"
     ]
    }
   ],
   "source": [
    "def process(num):\n",
    "    # filter out non-evens\n",
    "    if num % 2 != 0:\n",
    "        return\n",
    "    num = num * 3\n",
    "    num = 'The Number: %s' % num\n",
    "    return num\n",
    "nums = [1, 2, 3, 4, 5, 6, 7, 8, 9, 10]\n",
    "for num in nums:\n",
    "    print(process(num))"
   ]
  },
  {
   "cell_type": "markdown",
   "metadata": {},
   "source": [
    "#### Yieldだと途中で止まるのでこういう書き方ができる"
   ]
  },
  {
   "cell_type": "code",
   "execution_count": 31,
   "metadata": {},
   "outputs": [
    {
     "name": "stdout",
     "output_type": "stream",
     "text": [
      "The Number: 6\n",
      "The Number: 12\n",
      "The Number: 18\n",
      "The Number: 24\n",
      "The Number: 30\n"
     ]
    }
   ],
   "source": [
    "def even_filter(nums):\n",
    "    for num in nums:\n",
    "        if num % 2 == 0:\n",
    "            yield num\n",
    "def multiply_by_three(nums):\n",
    "    for num in nums:\n",
    "        yield num * 3\n",
    "def convert_to_string(nums):\n",
    "    for num in nums:\n",
    "        yield 'The Number: %s' % num\n",
    "\n",
    "nums = [1, 2, 3, 4, 5, 6, 7, 8, 9, 10]\n",
    "pipeline = convert_to_string(multiply_by_three(even_filter(nums)))\n",
    "\n",
    "for num in pipeline:\n",
    "    print(num)"
   ]
  },
  {
   "cell_type": "markdown",
   "metadata": {},
   "source": [
    "### 参考文献"
   ]
  },
  {
   "cell_type": "markdown",
   "metadata": {},
   "source": [
    "#### イテレーターとジェネレーター\n",
    "https://qiita.com/keitakurita/items/5a31b902db6adfa45a70"
   ]
  },
  {
   "cell_type": "markdown",
   "metadata": {},
   "source": [
    "#### PEP 255 Simple Generators\n",
    "\n",
    "https://www.python.org/dev/peps/pep-0255/"
   ]
  },
  {
   "cell_type": "markdown",
   "metadata": {},
   "source": [
    "# ch15 Context Managers and Else blocks"
   ]
  },
  {
   "cell_type": "markdown",
   "metadata": {},
   "source": [
    "## for / else\n",
    "\n",
    "for を走らせて、終わったらElseを実行する"
   ]
  },
  {
   "cell_type": "code",
   "execution_count": 1,
   "metadata": {},
   "outputs": [
    {
     "ename": "ValueError",
     "evalue": "Error",
     "output_type": "error",
     "traceback": [
      "\u001b[0;31m---------------------------------------------------------------------------\u001b[0m",
      "\u001b[0;31mValueError\u001b[0m                                Traceback (most recent call last)",
      "\u001b[0;32m<ipython-input-1-1c2cbd01f677>\u001b[0m in \u001b[0;36m<module>\u001b[0;34m\u001b[0m\n\u001b[1;32m      6\u001b[0m          \u001b[0;32mbreak\u001b[0m\u001b[0;34m\u001b[0m\u001b[0;34m\u001b[0m\u001b[0m\n\u001b[1;32m      7\u001b[0m \u001b[0;32melse\u001b[0m\u001b[0;34m:\u001b[0m\u001b[0;34m\u001b[0m\u001b[0;34m\u001b[0m\u001b[0m\n\u001b[0;32m----> 8\u001b[0;31m     \u001b[0;32mraise\u001b[0m \u001b[0mValueError\u001b[0m\u001b[0;34m(\u001b[0m\u001b[0;34m'Error'\u001b[0m\u001b[0;34m)\u001b[0m\u001b[0;34m\u001b[0m\u001b[0;34m\u001b[0m\u001b[0m\n\u001b[0m",
      "\u001b[0;31mValueError\u001b[0m: Error"
     ]
    }
   ],
   "source": [
    "my_list = ['apple', 'apple', 'apple']\n",
    "\n",
    "# run for loop then, raise error. \n",
    "for item in my_list:\n",
    "    if item == 'banana':\n",
    "         break\n",
    "else:\n",
    "    raise ValueError('Error')"
   ]
  },
  {
   "cell_type": "markdown",
   "metadata": {},
   "source": [
    "## try / except / else\n",
    "\n",
    "elseは何もなかったときに最後に実行される  \n",
    "tryの中にはErrorを返すと思われるものだけ入れておいたほうが良い。  \n",
    "\"try, except\" is for controllflow, not error handling."
   ]
  },
  {
   "cell_type": "code",
   "execution_count": 2,
   "metadata": {},
   "outputs": [
    {
     "name": "stdout",
     "output_type": "stream",
     "text": [
      "error!!\n"
     ]
    }
   ],
   "source": [
    "try:\n",
    "    print([1,2,3,4][100])\n",
    "except IndexError:\n",
    "    print(\"error!!\")\n",
    "else: \n",
    "    print(\"YO\")"
   ]
  },
  {
   "cell_type": "code",
   "execution_count": 3,
   "metadata": {},
   "outputs": [
    {
     "name": "stdout",
     "output_type": "stream",
     "text": [
      "[1, 2, 3, 4]\n",
      "YO\n"
     ]
    }
   ],
   "source": [
    "try:\n",
    "    print([1,2,3,4])\n",
    "except IndexError:\n",
    "    print(\"error!!\")\n",
    "else: \n",
    "    print(\"YO\")"
   ]
  },
  {
   "cell_type": "markdown",
   "metadata": {},
   "source": [
    "## with / as "
   ]
  },
  {
   "cell_type": "markdown",
   "metadata": {},
   "source": [
    "withブロック内に入るときにenter が実行される。  \n",
    "出るとexitが実行される。  \n",
    "下の例だと、enterでモンキーパッチが走っていて、exitでモンキーパッチの解除が走る。  \n",
    "exitを入れないと、当然のことながら、外のブロックでもモンキーパッチが動いたまま。\n",
    "\n",
    "（別にenterとexitをマニュアルで実行しても良い。）\n"
   ]
  },
  {
   "cell_type": "code",
   "execution_count": 4,
   "metadata": {},
   "outputs": [
    {
     "name": "stdout",
     "output_type": "stream",
     "text": [
      "==entering==\n",
      "pordwonS dna yttiK ,ecilA\n",
      "YKCOWREBBAJ\n",
      "==exitting==\n",
      "Alice, Kitty and Snowdrop\n",
      "JABBERWOCKY\n"
     ]
    }
   ],
   "source": [
    "class LookingGlass:\n",
    "    def __enter__(self):\n",
    "        import sys\n",
    "        print('==entering==')\n",
    "        self.original_write = sys.stdout.write\n",
    "        sys.stdout.write = self.reverse_write\n",
    "        return \"JABBERWOCKY\"\n",
    "\n",
    "    def reverse_write(self, text):\n",
    "        self.original_write(text[::-1])\n",
    "\n",
    "    def __exit__(self, exc_type, exc_value, traceback):\n",
    "        import sys\n",
    "\n",
    "        sys.stdout.write = self.original_write\n",
    "        print('==exitting==')\n",
    "        return True\n",
    "    \n",
    "with LookingGlass() as what:\n",
    "    print(\"Alice, Kitty and Snowdrop\")\n",
    "    print(what)\n",
    "    \n",
    "print(\"Alice, Kitty and Snowdrop\")\n",
    "print(what)"
   ]
  },
  {
   "cell_type": "markdown",
   "metadata": {},
   "source": [
    "## contextlibでcontext managerを作る。"
   ]
  },
  {
   "cell_type": "markdown",
   "metadata": {},
   "source": [
    "enter, exitを自動で作ってくれる。  "
   ]
  },
  {
   "cell_type": "code",
   "execution_count": 5,
   "metadata": {},
   "outputs": [
    {
     "name": "stdout",
     "output_type": "stream",
     "text": [
      "654321\n",
      "YKCOWREBVAJ\n"
     ]
    }
   ],
   "source": [
    "import contextlib\n",
    "\n",
    "\n",
    "@contextlib.contextmanager\n",
    "def looking_glass():\n",
    "    import sys\n",
    "\n",
    "    original_write = sys.stdout.write\n",
    "\n",
    "    def reverse_write(text):\n",
    "        original_write(text[::-1])\n",
    "\n",
    "    sys.stdout.write = reverse_write\n",
    "    yield \"JAVBERWOCKY\" # < = ここまでがEnter\n",
    "    sys.stdout.write = original_write #< = ここからExit\n",
    "    \n",
    "with looking_glass() as what:\n",
    "    print('123456')\n",
    "    print(what)\n",
    "    "
   ]
  },
  {
   "cell_type": "markdown",
   "metadata": {},
   "source": [
    "## my context manager\n",
    "\n",
    "ContextManagerの仕組み。"
   ]
  },
  {
   "cell_type": "code",
   "execution_count": 6,
   "metadata": {},
   "outputs": [
    {
     "name": "stdout",
     "output_type": "stream",
     "text": [
      "654321\n",
      "YKCOWREBVAJ\n"
     ]
    }
   ],
   "source": [
    "from functools import wraps\n",
    "\n",
    "\n",
    "class MyContextMangerHelper:\n",
    "    def __init__(self, func, args, kwargs):\n",
    "        self.gen = func(*args, **kwargs)\n",
    "\n",
    "    def __enter__(self):\n",
    "        try:\n",
    "            return next(self.gen)\n",
    "        except StopIteration:\n",
    "            raise RuntimeError(\"ERROR!\")\n",
    "\n",
    "    def __exit__(self, _, __,  ___):\n",
    "        try:\n",
    "            next(self.gen)\n",
    "        except StopIteration:\n",
    "            return False\n",
    "        else:\n",
    "            raise RuntimeError(\"ERROR!!!\")\n",
    "\n",
    "\n",
    "def my_context_manager(func):\n",
    "    @wraps(func)\n",
    "    def helper(*args, **kwargs):\n",
    "        return MyContextMangerHelper(func, args, kwargs)\n",
    "\n",
    "    return helper\n",
    "\n",
    "\n",
    "@my_context_manager\n",
    "def looking_glass():\n",
    "    import sys\n",
    "\n",
    "    original_write = sys.stdout.write\n",
    "\n",
    "    def reverse_write(text):\n",
    "        original_write(text[::-1])\n",
    "\n",
    "    sys.stdout.write = reverse_write\n",
    "    yield \"JAVBERWOCKY\"  # < = ここまでがEnter\n",
    "    sys.stdout.write = original_write  # < = ここからExit\n",
    "\n",
    "\n",
    "with looking_glass() as what:\n",
    "    print(\"123456\")\n",
    "    print(what)"
   ]
  },
  {
   "cell_type": "markdown",
   "metadata": {},
   "source": [
    "## エラーハンドリングも入れる\n",
    "\n",
    "yieldでエラーが出ると、Exitでやる処理をしないでそのまま終わってしまうのでだめ。  \n",
    "tryをつける"
   ]
  },
  {
   "cell_type": "code",
   "execution_count": 7,
   "metadata": {},
   "outputs": [
    {
     "name": "stdout",
     "output_type": "stream",
     "text": [
      "654321\n",
      "YKCOWREBVAJ\n"
     ]
    }
   ],
   "source": [
    "import contextlib\n",
    "\n",
    "\n",
    "@contextlib.contextmanager\n",
    "def looking_glass():\n",
    "    import sys\n",
    "\n",
    "    original_write = sys.stdout.write\n",
    "\n",
    "    def reverse_write(text):\n",
    "        original_write(text[::-1])\n",
    "\n",
    "    sys.stdout.write = reverse_write\n",
    "    msg = ''\n",
    "    try:\n",
    "        yield \"JAVBERWOCKY\"\n",
    "    except ZeroDivsionError:\n",
    "        msg = 'Dont Divide by Zero!'\n",
    "    finally:\n",
    "        sys.stdout.write = original_write\n",
    "        if msg:\n",
    "            print(msg)\n",
    "    \n",
    "with looking_glass() as what:\n",
    "    print('123456')\n",
    "    print(what)"
   ]
  },
  {
   "cell_type": "markdown",
   "metadata": {},
   "source": [
    "# Chap 16 - Coroutines"
   ]
  },
  {
   "cell_type": "markdown",
   "metadata": {},
   "source": [
    "A coroutine is syntactically like a generator: just a function with the \n",
    "yield\n",
    " keyword in\n",
    "its body. However, in a coroutine, \n",
    "yield\n",
    " usually appears on the right side of an expres‐\n",
    "sion  (e.g.,  \n",
    "datum = yield\n",
    "),  and  it  may  or  may  not  produce  a  value—if  there  is  no\n",
    "expression after the \n",
    "yield\n",
    " keyword, the generator yields \n",
    "None\n",
    ". "
   ]
  },
  {
   "cell_type": "markdown",
   "metadata": {},
   "source": [
    "## basics"
   ]
  },
  {
   "cell_type": "code",
   "execution_count": 1,
   "metadata": {},
   "outputs": [
    {
     "name": "stdout",
     "output_type": "stream",
     "text": [
      "GEN_CREATED\n"
     ]
    },
    {
     "data": {
      "text/plain": [
       "<generator object simple_coroutine at 0x7f9ef42ae4f8>"
      ]
     },
     "execution_count": 1,
     "metadata": {},
     "output_type": "execute_result"
    }
   ],
   "source": [
    "from inspect import getgeneratorstate as ggs\n",
    "\n",
    "def simple_coroutine():\n",
    "    print('start')\n",
    "    x = yield\n",
    "    print(f\"{x} recieved\")\n",
    "    \n",
    "my_co = simple_coroutine()\n",
    "print(ggs(my_co))\n",
    "my_co"
   ]
  },
  {
   "cell_type": "code",
   "execution_count": 2,
   "metadata": {},
   "outputs": [
    {
     "name": "stdout",
     "output_type": "stream",
     "text": [
      "GEN_CREATED\n",
      "start\n",
      "GEN_SUSPENDED\n"
     ]
    }
   ],
   "source": [
    "print(ggs(my_co))\n",
    "next(my_co)\n",
    "print(ggs(my_co))\n"
   ]
  },
  {
   "cell_type": "code",
   "execution_count": 3,
   "metadata": {},
   "outputs": [
    {
     "name": "stdout",
     "output_type": "stream",
     "text": [
      "GEN_SUSPENDED\n",
      "42 recieved\n"
     ]
    },
    {
     "ename": "StopIteration",
     "evalue": "",
     "output_type": "error",
     "traceback": [
      "\u001b[0;31m---------------------------------------------------------------------------\u001b[0m",
      "\u001b[0;31mStopIteration\u001b[0m                             Traceback (most recent call last)",
      "\u001b[0;32m<ipython-input-3-a8811288b7c2>\u001b[0m in \u001b[0;36m<module>\u001b[0;34m\u001b[0m\n\u001b[1;32m      1\u001b[0m \u001b[0mprint\u001b[0m\u001b[0;34m(\u001b[0m\u001b[0mggs\u001b[0m\u001b[0;34m(\u001b[0m\u001b[0mmy_co\u001b[0m\u001b[0;34m)\u001b[0m\u001b[0;34m)\u001b[0m\u001b[0;34m\u001b[0m\u001b[0;34m\u001b[0m\u001b[0m\n\u001b[0;32m----> 2\u001b[0;31m \u001b[0mmy_co\u001b[0m\u001b[0;34m.\u001b[0m\u001b[0msend\u001b[0m\u001b[0;34m(\u001b[0m\u001b[0;36m42\u001b[0m\u001b[0;34m)\u001b[0m\u001b[0;34m\u001b[0m\u001b[0;34m\u001b[0m\u001b[0m\n\u001b[0m",
      "\u001b[0;31mStopIteration\u001b[0m: "
     ]
    }
   ],
   "source": [
    "print(ggs(my_co))\n",
    "my_co.send(42)"
   ]
  },
  {
   "cell_type": "markdown",
   "metadata": {},
   "source": [
    "## next やるとyieldのすぐあとで止まる"
   ]
  },
  {
   "cell_type": "code",
   "execution_count": 4,
   "metadata": {},
   "outputs": [],
   "source": [
    "def coro2(a):\n",
    "    b = \"b\"\n",
    "    c = \"c\"\n",
    "    print(a, b, c)\n",
    "    b = yield a\n",
    "    print(a, b, c)\n",
    "    c = yield a\n",
    "    print(a, b, c)"
   ]
  },
  {
   "cell_type": "code",
   "execution_count": 5,
   "metadata": {
    "scrolled": true
   },
   "outputs": [
    {
     "name": "stdout",
     "output_type": "stream",
     "text": [
      "====\n",
      "1 b c\n",
      "====\n",
      "1 None c\n",
      "====\n",
      "1 None None\n"
     ]
    },
    {
     "ename": "StopIteration",
     "evalue": "",
     "output_type": "error",
     "traceback": [
      "\u001b[0;31m---------------------------------------------------------------------------\u001b[0m",
      "\u001b[0;31mStopIteration\u001b[0m                             Traceback (most recent call last)",
      "\u001b[0;32m<ipython-input-5-ce3167fdbcf3>\u001b[0m in \u001b[0;36m<module>\u001b[0;34m\u001b[0m\n\u001b[1;32m      6\u001b[0m \u001b[0mnext\u001b[0m\u001b[0;34m(\u001b[0m\u001b[0mcc\u001b[0m\u001b[0;34m)\u001b[0m \u001b[0;31m# <= 帰って再開されたときはa にNoneが入る\u001b[0m\u001b[0;34m\u001b[0m\u001b[0;34m\u001b[0m\u001b[0m\n\u001b[1;32m      7\u001b[0m \u001b[0mprint\u001b[0m\u001b[0;34m(\u001b[0m\u001b[0;34m'===='\u001b[0m\u001b[0;34m)\u001b[0m\u001b[0;34m\u001b[0m\u001b[0;34m\u001b[0m\u001b[0m\n\u001b[0;32m----> 8\u001b[0;31m \u001b[0mnext\u001b[0m\u001b[0;34m(\u001b[0m\u001b[0mcc\u001b[0m\u001b[0;34m)\u001b[0m \u001b[0;31m# < = 上と同じ\u001b[0m\u001b[0;34m\u001b[0m\u001b[0;34m\u001b[0m\u001b[0m\n\u001b[0m",
      "\u001b[0;31mStopIteration\u001b[0m: "
     ]
    }
   ],
   "source": [
    "cc = coro2(1)\n",
    "cc\n",
    "print('====')\n",
    "next(cc) # <= yield aで止まる\n",
    "print('====')\n",
    "next(cc) # <= 帰って再開されたときはa にNoneが入る\n",
    "print('====')\n",
    "next(cc) # < = 上と同じ"
   ]
  },
  {
   "cell_type": "code",
   "execution_count": 6,
   "metadata": {
    "scrolled": true
   },
   "outputs": [
    {
     "name": "stdout",
     "output_type": "stream",
     "text": [
      "1 b c\n",
      "1 1 c\n",
      "1 1 1\n"
     ]
    },
    {
     "ename": "StopIteration",
     "evalue": "",
     "output_type": "error",
     "traceback": [
      "\u001b[0;31m---------------------------------------------------------------------------\u001b[0m",
      "\u001b[0;31mStopIteration\u001b[0m                             Traceback (most recent call last)",
      "\u001b[0;32m<ipython-input-6-f99d9d633b71>\u001b[0m in \u001b[0;36m<module>\u001b[0;34m\u001b[0m\n\u001b[1;32m      3\u001b[0m \u001b[0mnext\u001b[0m\u001b[0;34m(\u001b[0m\u001b[0mcc\u001b[0m\u001b[0;34m)\u001b[0m\u001b[0;34m\u001b[0m\u001b[0;34m\u001b[0m\u001b[0m\n\u001b[1;32m      4\u001b[0m \u001b[0mcc\u001b[0m\u001b[0;34m.\u001b[0m\u001b[0msend\u001b[0m\u001b[0;34m(\u001b[0m\u001b[0;36m1\u001b[0m\u001b[0;34m)\u001b[0m\u001b[0;34m\u001b[0m\u001b[0;34m\u001b[0m\u001b[0m\n\u001b[0;32m----> 5\u001b[0;31m \u001b[0mcc\u001b[0m\u001b[0;34m.\u001b[0m\u001b[0msend\u001b[0m\u001b[0;34m(\u001b[0m\u001b[0;36m1\u001b[0m\u001b[0;34m)\u001b[0m\u001b[0;34m\u001b[0m\u001b[0;34m\u001b[0m\u001b[0m\n\u001b[0m",
      "\u001b[0;31mStopIteration\u001b[0m: "
     ]
    }
   ],
   "source": [
    "cc = coro2(1)\n",
    "cc\n",
    "next(cc)\n",
    "cc.send(1)\n",
    "cc.send(1)"
   ]
  },
  {
   "cell_type": "code",
   "execution_count": 7,
   "metadata": {},
   "outputs": [
    {
     "name": "stdout",
     "output_type": "stream",
     "text": [
      "10.0\n",
      "15.0\n",
      "20.0\n"
     ]
    },
    {
     "data": {
      "text/plain": [
       "20.0"
      ]
     },
     "execution_count": 7,
     "metadata": {},
     "output_type": "execute_result"
    }
   ],
   "source": [
    "def average():\n",
    "    total = 0.0\n",
    "    count = 0\n",
    "    average = None\n",
    "    while True:\n",
    "        term = yield average\n",
    "        total += term\n",
    "        count += 1\n",
    "        average = total/count\n",
    "        print(average)\n",
    "        \n",
    "c_avg = average()\n",
    "next(c_avg)\n",
    "c_avg.send(10)\n",
    "c_avg.send(20)\n",
    "c_avg.send(30)"
   ]
  },
  {
   "cell_type": "markdown",
   "metadata": {},
   "source": [
    "## yield from\n",
    "\n",
    "### syntax sugar"
   ]
  },
  {
   "cell_type": "code",
   "execution_count": 8,
   "metadata": {},
   "outputs": [
    {
     "name": "stdout",
     "output_type": "stream",
     "text": [
      "['A', 'B', 1, 2]\n",
      "['A', 'B', 1, 2]\n"
     ]
    }
   ],
   "source": [
    "def gen():\n",
    "    for c in 'AB':\n",
    "        yield c\n",
    "    for i in range(1,3):\n",
    "        yield i\n",
    "\n",
    "def gen2():\n",
    "    yield from \"AB\"\n",
    "    yield from range(1,3)\n",
    "    \n",
    "print(list(gen()))\n",
    "print(list(gen2()))\n",
    "        "
   ]
  },
  {
   "cell_type": "code",
   "execution_count": 9,
   "metadata": {},
   "outputs": [
    {
     "name": "stdout",
     "output_type": "stream",
     "text": [
      "1\n",
      "2\n",
      "3\n",
      "4\n",
      "5\n",
      "6\n",
      "7\n",
      "8\n",
      "1\n",
      "2\n",
      "3\n",
      "4\n",
      "5\n",
      "6\n",
      "7\n",
      "8\n"
     ]
    }
   ],
   "source": [
    "from collections import Iterable\n",
    "\n",
    "def flatten(items, ignore_types=(str, bytes)):\n",
    "    for x in items:\n",
    "        if isinstance(x, Iterable) and not isinstance(x, ignore_types):\n",
    "            yield from flatten(x)\n",
    "        else:\n",
    "            yield x\n",
    "\n",
    "def flatten2(items, ignore_types=(str, bytes)):\n",
    "    for x in items:\n",
    "        if isinstance(x, Iterable) and not isinstance(x, ignore_types):\n",
    "            for i in flatten2(x):\n",
    "                yield i\n",
    "        else:\n",
    "            yield x\n",
    "            \n",
    "\n",
    "items = [1, 2, [3, 4, [5, 6], 7], 8]\n",
    "\n",
    "# Produces 1 2 3 4 5 6 7 8\n",
    "for x in flatten(items):\n",
    "    print(x)\n",
    "\n",
    "for x in flatten2(items):\n",
    "    print(x)"
   ]
  },
  {
   "cell_type": "markdown",
   "metadata": {},
   "source": [
    "### Transparent two way channel"
   ]
  },
  {
   "cell_type": "markdown",
   "metadata": {},
   "source": [
    "Symplify \n",
    "\n",
    "```\n",
    "caller <-> delegating generator <-> subgenerator \n",
    "```\n",
    "\n",
    "relationship"
   ]
  },
  {
   "cell_type": "markdown",
   "metadata": {},
   "source": [
    "#### yiled fromの例"
   ]
  },
  {
   "cell_type": "code",
   "execution_count": 10,
   "metadata": {},
   "outputs": [
    {
     "data": {
      "text/plain": [
       "[6, 10]"
      ]
     },
     "execution_count": 10,
     "metadata": {},
     "output_type": "execute_result"
    }
   ],
   "source": [
    "def accumulate():\n",
    "    tally = 0\n",
    "    while 1:\n",
    "        next = yield\n",
    "        if next is None:\n",
    "            return tally\n",
    "        tally += next\n",
    "\n",
    "\n",
    "def gather_tallies(tallies):\n",
    "    while 1:\n",
    "        tally = yield from accumulate()\n",
    "        tallies.append(tally)\n",
    "\n",
    "\n",
    "tallies = []\n",
    "acc = gather_tallies(tallies)\n",
    "next(acc)  # Ensure the accumulator is ready to accept values\n",
    "for i in range(4):\n",
    "    acc.send(i)\n",
    "acc.send(None)  # Finish the first tally\n",
    "for i in range(5):\n",
    "    acc.send(i)\n",
    "\n",
    "acc.send(None)  # Finish the second tally\n",
    "tallies"
   ]
  },
  {
   "cell_type": "markdown",
   "metadata": {},
   "source": [
    "#### 同じことをyield from なしで"
   ]
  },
  {
   "cell_type": "code",
   "execution_count": 11,
   "metadata": {},
   "outputs": [
    {
     "data": {
      "text/plain": [
       "[6, 10]"
      ]
     },
     "execution_count": 11,
     "metadata": {},
     "output_type": "execute_result"
    }
   ],
   "source": [
    "def accumulate():\n",
    "    tally = 0\n",
    "    while 1:\n",
    "        next = yield\n",
    "        if next is None:\n",
    "            tallies.append(tally)\n",
    "            break\n",
    "        tally += next\n",
    "\n",
    "\n",
    "tallies = []\n",
    "acc = accumulate()\n",
    "next(acc)  # Ensure the accumulator is ready to accept values\n",
    "for i in range(4):\n",
    "    acc.send(i)\n",
    "try:\n",
    "    acc.send(None)  # Finish the first tally\n",
    "except StopIteration:\n",
    "    pass\n",
    "\n",
    "acc = accumulate()\n",
    "next(acc)  # Ensure the accumulator is ready to accept values\n",
    "for i in range(5):\n",
    "    acc.send(i)\n",
    "try:\n",
    "    acc.send(None)  # Finish the first tally\n",
    "except StopIteration:\n",
    "    pass\n",
    "\n",
    "tallies"
   ]
  },
  {
   "cell_type": "code",
   "execution_count": 12,
   "metadata": {},
   "outputs": [
    {
     "name": "stdout",
     "output_type": "stream",
     "text": [
      " 9 boys  averaging 40.42kg\n",
      " 9 boys  averaging 1.39m\n",
      "10 girls averaging 42.04kg\n",
      "10 girls averaging 1.43m\n"
     ]
    }
   ],
   "source": [
    "from collections import namedtuple\n",
    "\n",
    "Result = namedtuple('Result', 'count average')\n",
    "\n",
    "\n",
    "# the subgenerator\n",
    "def averager():  # <1>\n",
    "    total = 0.0\n",
    "    count = 0\n",
    "    average = None\n",
    "    while True:\n",
    "        term = yield  # <2>\n",
    "        if term is None:  # <3>\n",
    "            break\n",
    "        total += term\n",
    "        count += 1\n",
    "        average = total/count\n",
    "    return Result(count, average)  # <4>\n",
    "\n",
    "\n",
    "# the delegating generator\n",
    "def grouper(results, key):  # <5>\n",
    "    while True:  # <6>\n",
    "        results[key] = yield from averager()  # <7>\n",
    "\n",
    "\n",
    "# the client code, a.k.a. the caller\n",
    "def main(data):  # <8>\n",
    "    results = {}\n",
    "    for key, values in data.items():\n",
    "        group = grouper(results, key)  # <9>\n",
    "        next(group)  # <10>\n",
    "        for value in values:\n",
    "            group.send(value)  # <11>\n",
    "        group.send(None)  # important! <12>\n",
    "\n",
    "    # print(results)  # uncomment to debug\n",
    "    report(results)\n",
    "\n",
    "\n",
    "# output report\n",
    "def report(results):\n",
    "    for key, result in sorted(results.items()):\n",
    "        group, unit = key.split(';')\n",
    "        print('{:2} {:5} averaging {:.2f}{}'.format(\n",
    "              result.count, group, result.average, unit))\n",
    "\n",
    "\n",
    "data = {\n",
    "    'girls;kg':\n",
    "        [40.9, 38.5, 44.3, 42.2, 45.2, 41.7, 44.5, 38.0, 40.6, 44.5],\n",
    "    'girls;m':\n",
    "        [1.6, 1.51, 1.4, 1.3, 1.41, 1.39, 1.33, 1.46, 1.45, 1.43],\n",
    "    'boys;kg':\n",
    "        [39.0, 40.8, 43.2, 40.8, 43.1, 38.6, 41.4, 40.6, 36.3],\n",
    "    'boys;m':\n",
    "        [1.38, 1.5, 1.32, 1.25, 1.37, 1.48, 1.25, 1.49, 1.46],\n",
    "}\n",
    "\n",
    "\n",
    "main(data)\n"
   ]
  },
  {
   "cell_type": "markdown",
   "metadata": {},
   "source": [
    "## ワーカーを走らせてみる（タクシーの例）"
   ]
  },
  {
   "cell_type": "code",
   "execution_count": 13,
   "metadata": {
    "scrolled": false
   },
   "outputs": [
    {
     "name": "stdout",
     "output_type": "stream",
     "text": [
      "taxi: 0  Event(time=0, proc=0, action='leave garage')\n",
      "taxi: 0  Event(time=3, proc=0, action='pick up passenger')\n",
      "taxi: 0  Event(time=4, proc=0, action='drop off passenger')\n",
      "taxi: 1     Event(time=5, proc=1, action='leave garage')\n",
      "taxi: 0  Event(time=8, proc=0, action='pick up passenger')\n",
      "taxi: 2        Event(time=10, proc=2, action='leave garage')\n",
      "taxi: 1     Event(time=14, proc=1, action='pick up passenger')\n",
      "taxi: 0  Event(time=18, proc=0, action='drop off passenger')\n",
      "taxi: 2        Event(time=18, proc=2, action='pick up passenger')\n",
      "taxi: 2        Event(time=20, proc=2, action='drop off passenger')\n",
      "taxi: 0  Event(time=21, proc=0, action='going home')\n",
      "taxi: 1     Event(time=26, proc=1, action='drop off passenger')\n",
      "taxi: 2        Event(time=28, proc=2, action='pick up passenger')\n",
      "taxi: 2        Event(time=33, proc=2, action='drop off passenger')\n",
      "taxi: 2        Event(time=34, proc=2, action='pick up passenger')\n",
      "taxi: 2        Event(time=38, proc=2, action='drop off passenger')\n",
      "taxi: 1     Event(time=39, proc=1, action='pick up passenger')\n",
      "taxi: 2        Event(time=44, proc=2, action='pick up passenger')\n",
      "taxi: 2        Event(time=55, proc=2, action='drop off passenger')\n",
      "taxi: 2        Event(time=56, proc=2, action='pick up passenger')\n",
      "taxi: 1     Event(time=64, proc=1, action='drop off passenger')\n",
      "taxi: 1     Event(time=67, proc=1, action='pick up passenger')\n",
      "taxi: 1     Event(time=108, proc=1, action='drop off passenger')\n",
      "*** end of simulation time: 2 events pending ***\n"
     ]
    }
   ],
   "source": [
    "import random\n",
    "import collections\n",
    "import queue\n",
    "import argparse\n",
    "\n",
    "DEFAULT_NUMBER_OF_TAXIS = 3\n",
    "DEFAULT_END_TIME = 90\n",
    "SEARCH_DURATION = 5\n",
    "TRIP_DURATION = 20\n",
    "DEPARTURE_INTERVAL = 5\n",
    "\n",
    "Event = collections.namedtuple(\"Event\", \"time proc action\")\n",
    "\n",
    "\n",
    "# BEGIN TAXI_PROCESS\n",
    "def taxi_process(ident, trips, start_time=0):  # <1>\n",
    "    \"\"\"Yield to simulator issuing event at each state change\"\"\"\n",
    "    time = yield Event(start_time, ident, \"leave garage\")  # <2>\n",
    "    for i in range(trips):  # <3>\n",
    "        time = yield Event(time, ident, \"pick up passenger\")  # <4>\n",
    "        time = yield Event(time, ident, \"drop off passenger\")  # <5>\n",
    "\n",
    "    yield Event(time, ident, \"going home\")  # <6>\n",
    "    # end of taxi process # <7>\n",
    "\n",
    "\n",
    "# END TAXI_PROCESS\n",
    "\n",
    "\n",
    "# BEGIN TAXI_SIMULATOR\n",
    "class Simulator:\n",
    "    def __init__(self, procs_map):\n",
    "        self.events = queue.PriorityQueue()\n",
    "        self.procs = dict(procs_map)\n",
    "\n",
    "    def run(self, end_time):  # <1>\n",
    "        \"\"\"Schedule and display events until time is up\"\"\"\n",
    "        # schedule the first event for each cab\n",
    "        for _, proc in sorted(self.procs.items()):  # <2>\n",
    "            first_event = next(proc)  # <3>\n",
    "            self.events.put(first_event)  # <4>\n",
    "\n",
    "        # main loop of the simulation\n",
    "        sim_time = 0  # <5>\n",
    "        while sim_time < end_time:  # <6>\n",
    "            if self.events.empty():  # <7>\n",
    "                print(\"*** end of events ***\")\n",
    "                break\n",
    "\n",
    "            current_event = self.events.get()  # <8>\n",
    "            sim_time, proc_id, previous_action = current_event  # <9>\n",
    "            print(\"taxi:\", proc_id, proc_id * \"   \", current_event)  # <10>\n",
    "            active_proc = self.procs[proc_id]  # <11>\n",
    "            next_time = sim_time + compute_duration(previous_action)  # <12>\n",
    "            try:\n",
    "                next_event = active_proc.send(next_time)  # <13>\n",
    "            except StopIteration:\n",
    "                del self.procs[proc_id]  # <14>\n",
    "            else:\n",
    "                self.events.put(next_event)  # <15>\n",
    "        else:  # <16>\n",
    "            msg = \"*** end of simulation time: {} events pending ***\"\n",
    "            print(msg.format(self.events.qsize()))\n",
    "\n",
    "\n",
    "# END TAXI_SIMULATOR\n",
    "\n",
    "\n",
    "def compute_duration(previous_action):\n",
    "    \"\"\"Compute action duration using exponential distribution\"\"\"\n",
    "    if previous_action in [\"leave garage\", \"drop off passenger\"]:\n",
    "        # new state is prowling\n",
    "        interval = SEARCH_DURATION\n",
    "    elif previous_action == \"pick up passenger\":\n",
    "        # new state is trip\n",
    "        interval = TRIP_DURATION\n",
    "    elif previous_action == \"going home\":\n",
    "        interval = 1\n",
    "    else:\n",
    "        raise ValueError(\"Unknown previous_action: %s\" % previous_action)\n",
    "    return int(random.expovariate(1 / interval)) + 1\n",
    "\n",
    "\n",
    "def main(end_time=DEFAULT_END_TIME, num_taxis=DEFAULT_NUMBER_OF_TAXIS, seed=None):\n",
    "    taxis = {\n",
    "        i: taxi_process(i, (i + 1) * 2, i * DEPARTURE_INTERVAL)\n",
    "        for i in range(num_taxis)\n",
    "    }\n",
    "    sim = Simulator(taxis)\n",
    "    sim.run(end_time)\n",
    "\n",
    "\n",
    "main()"
   ]
  },
  {
   "cell_type": "markdown",
   "metadata": {},
   "source": [
    "## 簡素な例"
   ]
  },
  {
   "cell_type": "code",
   "execution_count": 14,
   "metadata": {},
   "outputs": [
    {
     "name": "stdout",
     "output_type": "stream",
     "text": [
      "1 せんだ\n",
      "1 みつお\n",
      "1 なはなは\n",
      "2 せんだ\n",
      "2 みつお\n",
      "2 なはなは\n"
     ]
    }
   ],
   "source": [
    "import queue\n",
    "import collections\n",
    "\n",
    "Event = collections.namedtuple(\"Event\", \"id call\")\n",
    "\n",
    "\n",
    "def calls(id):\n",
    "    yield Event(id, \"せんだ\")\n",
    "    yield Event(id, \"みつお\")\n",
    "    yield Event(id, \"なはなは\")\n",
    "\n",
    "    \n",
    "def procfunc1(procs):\n",
    "    queue_list = queue.PriorityQueue()\n",
    "    proc_dict = {}\n",
    "    for id in procs:\n",
    "        p = calls(id)\n",
    "        proc_dict[id] = p\n",
    "        queue_list.put(next(p))\n",
    "    while True:\n",
    "        if queue_list.empty():\n",
    "            return False\n",
    "        _id, _call = queue_list.get()\n",
    "        print(_id, _call)\n",
    "        try:\n",
    "            next_event = next(proc_dict[_id])\n",
    "        except StopIteration:\n",
    "            del proc_dict[_id]\n",
    "        else:\n",
    "            queue_list.put(next_event)\n",
    "def main():\n",
    "    procs = [1, 2]\n",
    "    procfunc1(procs)\n",
    "\n",
    "\n",
    "main()"
   ]
  },
  {
   "cell_type": "markdown",
   "metadata": {},
   "source": [
    "# Chap 17 - Concurrency with Futures"
   ]
  },
  {
   "cell_type": "markdown",
   "metadata": {},
   "source": [
    "## download script"
   ]
  },
  {
   "cell_type": "code",
   "execution_count": 33,
   "metadata": {
    "code_folding": []
   },
   "outputs": [
    {
     "name": "stdout",
     "output_type": "stream",
     "text": [
      "downloading BD |\n",
      "BD was saved as BD.gif |\n",
      "downloading BR |\n",
      "BR was saved as BR.gif |\n",
      "downloading CN |\n",
      "CN was saved as CN.gif |\n",
      "downloading IN |\n",
      "IN was saved as IN.gif |\n",
      "downloading JP |\n",
      "JP was saved as JP.gif |\n",
      "downloading MX |\n",
      "MX was saved as MX.gif |\n",
      "downloading NG |\n",
      "NG was saved as NG.gif |\n",
      "downloading PK |\n",
      "PK was saved as PK.gif |\n",
      "downloading RU |\n",
      "RU was saved as RU.gif |\n",
      "downloading US |\n",
      "US was saved as US.gif |\n",
      "10 flags downloaded in 10.020017623901367s\n"
     ]
    }
   ],
   "source": [
    "import time\n",
    "import sys\n",
    "\n",
    "POP20_CC = (\"CN IN US BR PK NG BD RU JP MX\").split()\n",
    "\n",
    "def save_flag(img, filename):\n",
    "    print(f\"{img} was saved as {filename} |\")\n",
    "    \n",
    "def get_flag(cc):\n",
    "    print(f\"downloading {cc} |\")\n",
    "    time.sleep(1)\n",
    "    return f\"{cc}\"\n",
    "\n",
    "def download_many(cc_list):\n",
    "    for cc in sorted(cc_list):\n",
    "        image = get_flag(cc)\n",
    "        save_flag(image, image + \".gif\")\n",
    "    return len(cc_list)\n",
    "        \n",
    "def main(download_many):\n",
    "    t0 = time.time()\n",
    "    count = download_many(POP20_CC)\n",
    "    elapsed = time.time() - t0\n",
    "    print(f\"{count} flags downloaded in {elapsed}s\")\n",
    "    \n",
    "main(download_many)"
   ]
  },
  {
   "cell_type": "markdown",
   "metadata": {},
   "source": [
    "## Downloading with concurrent.futures"
   ]
  },
  {
   "cell_type": "code",
   "execution_count": 34,
   "metadata": {},
   "outputs": [
    {
     "name": "stdout",
     "output_type": "stream",
     "text": [
      "downloading BD |\n",
      "downloading BR |\n",
      "downloading CN |\n",
      "downloading IN |\n",
      "downloading JP |\n",
      "downloading MX |\n",
      "downloading NG |\n",
      "downloading PK |\n",
      "downloading RU |\n",
      "downloading US |\n",
      "BD was saved as BD.gif |\n",
      "BR was saved as BR.gif |\n",
      "CN was saved as CN.gif |\n",
      "IN was saved as IN.gif |\n",
      "JP was saved as JP.gif |\n",
      "MX was saved as MX.gif |\n",
      "NG was saved as NG.gif |\n",
      "PK was saved as PK.gif |\n",
      "RU was saved as RU.gif |\n",
      "US was saved as US.gif |\n",
      "10 flags downloaded in 1.0070345401763916s\n"
     ]
    }
   ],
   "source": [
    "import time\n",
    "from concurrent import futures\n",
    "\n",
    "MAX_WORKERS = 20\n",
    "POP20_CC = (\"CN IN US BR PK NG BD RU JP MX\").split()\n",
    "\n",
    "def download_one(cc):\n",
    "    image = get_flag(cc)\n",
    "    save_flag(image, image + '.gif')\n",
    "    return image\n",
    "\n",
    "def download_many(cc_list):\n",
    "    workers = min(MAX_WORKERS, len(cc_list))\n",
    "    with futures.ThreadPoolExecutor(workers) as executor:\n",
    "        res = executor.map(download_one, sorted(cc_list))\n",
    "        \n",
    "    return len(list(res))\n",
    "\n",
    "main(download_many)"
   ]
  },
  {
   "cell_type": "markdown",
   "metadata": {},
   "source": [
    "### submit, as_completed"
   ]
  },
  {
   "cell_type": "markdown",
   "metadata": {},
   "source": [
    "- workerの数を指定するとその文だけタスクがRunされる。そうでないのはPending。"
   ]
  },
  {
   "cell_type": "code",
   "execution_count": 35,
   "metadata": {},
   "outputs": [
    {
     "name": "stdout",
     "output_type": "stream",
     "text": [
      "downloading BD |\n",
      "Scheduled for BD: <Future at 0x7f11f3d2f320 state=running>\n",
      "downloading BR |\n",
      "Scheduled for BR: <Future at 0x7f11f3d2f278 state=running>\n",
      "downloading CN |\n",
      "Scheduled for CN: <Future at 0x7f11f3d2f588 state=running>\n",
      "Scheduled for IN: <Future at 0x7f11f3d2f128 state=pending>\n",
      "Scheduled for JP: <Future at 0x7f11f3d2a9e8 state=pending>\n",
      "Scheduled for MX: <Future at 0x7f11f3d2ac88 state=pending>\n",
      "Scheduled for NG: <Future at 0x7f11f3d2aa90 state=pending>\n",
      "Scheduled for PK: <Future at 0x7f11f3d2af98 state=pending>\n",
      "Scheduled for RU: <Future at 0x7f11f3d2a978 state=pending>\n",
      "Scheduled for US: <Future at 0x7f11f3d2a710 state=pending>\n",
      "BR was saved as BR.gif |\n",
      "downloading IN |\n",
      "<Future at 0x7f11f3d2f278 state=finished returned str> result : BR\n",
      "CN was saved as CN.gif |\n",
      "downloading JP |\n",
      "BD was saved as BD.gif |\n",
      "downloading MX |\n",
      "<Future at 0x7f11f3d2f588 state=finished returned str> result : CN\n",
      "<Future at 0x7f11f3d2f320 state=finished returned str> result : BD\n",
      "IN was saved as IN.gif |\n",
      "downloading NG |\n",
      "MX was saved as MX.gif |\n",
      "downloading PK |\n",
      "<Future at 0x7f11f3d2f128 state=finished returned str> result : IN\n",
      "<Future at 0x7f11f3d2ac88 state=finished returned str> result : MX\n",
      "JP was saved as JP.gif |\n",
      "downloading RU |\n",
      "<Future at 0x7f11f3d2a9e8 state=finished returned str> result : JP\n",
      "PK was saved as PK.gif |\n",
      "downloading US |\n",
      "<Future at 0x7f11f3d2af98 state=finished returned str> result : PK\n",
      "RU was saved as RU.gif |NG was saved as NG.gif |\n",
      "\n",
      "<Future at 0x7f11f3d2aa90 state=finished returned str> result : NG\n",
      "<Future at 0x7f11f3d2a978 state=finished returned str> result : RU\n",
      "US was saved as US.gif |\n",
      "<Future at 0x7f11f3d2a710 state=finished returned str> result : US\n",
      "10 flags downloaded in 4.010187864303589s\n"
     ]
    }
   ],
   "source": [
    "def download_many(cc_list):\n",
    "    with futures.ThreadPoolExecutor(max_workers=3) as executer:\n",
    "        to_do = []\n",
    "        for cc in sorted(cc_list):\n",
    "            future = executer.submit(download_one, cc)\n",
    "            to_do.append(future)\n",
    "            print(f\"Scheduled for {cc}: {future}\")\n",
    "        results = []\n",
    "\n",
    "        for future in futures.as_completed(to_do):\n",
    "            res = future.result()\n",
    "            print(f\"{future} result : {res}\")\n",
    "            results.append(res)\n",
    "    return len(results)\n",
    "\n",
    "\n",
    "main(download_many)"
   ]
  },
  {
   "cell_type": "markdown",
   "metadata": {},
   "source": [
    "### ProcessPoolExecutor & ThreadPoolExecutor"
   ]
  },
  {
   "cell_type": "markdown",
   "metadata": {},
   "source": [
    "- GIL (Global Interpreter Lock)\n",
    " - Cpython allows only 1 thread to run. Threfore single Python process cannot use multiple CPUS\n",
    "    \n",
    "- ProcessPoolExecutor \n",
    "  - Bypssses GIL\n",
    "  - Number of workeres are os.cpu_count()\n",
    "  \n",
    "- ↓のコードは↑のコードで、Worker=4としたときと同じぐらいの処理速度"
   ]
  },
  {
   "cell_type": "code",
   "execution_count": 36,
   "metadata": {},
   "outputs": [
    {
     "name": "stdout",
     "output_type": "stream",
     "text": [
      "downloading BD |\n",
      "downloading BR |\n",
      "downloading CN |\n",
      "downloading IN |\n",
      "Scheduled for BD: <Future at 0x7f11f3d2f048 state=running>\n",
      "Scheduled for BR: <Future at 0x7f11f3cc3550 state=pending>\n",
      "Scheduled for CN: <Future at 0x7f11f3cc3a20 state=pending>\n",
      "Scheduled for IN: <Future at 0x7f11f3cc3f98 state=pending>\n",
      "Scheduled for JP: <Future at 0x7f11f3cc33c8 state=pending>\n",
      "Scheduled for MX: <Future at 0x7f11f3cc3ac8 state=pending>\n",
      "Scheduled for NG: <Future at 0x7f11f3cc32b0 state=pending>\n",
      "Scheduled for PK: <Future at 0x7f11f3cc3048 state=pending>\n",
      "Scheduled for RU: <Future at 0x7f11f3d1efd0 state=pending>\n",
      "Scheduled for US: <Future at 0x7f11f3d1ef60 state=pending>\n",
      "BD was saved as BD.gif |\n",
      "CN was saved as CN.gif |\n",
      "downloading JP |\n",
      "IN was saved as IN.gif |\n",
      "downloading NG |\n",
      "downloading MX |\n",
      "BR was saved as BR.gif |\n",
      "downloading PK |\n",
      "<Future at 0x7f11f3cc3a20 state=finished returned str> result : CN\n",
      "<Future at 0x7f11f3d2f048 state=finished returned str> result : BD\n",
      "<Future at 0x7f11f3cc3f98 state=finished returned str> result : IN\n",
      "<Future at 0x7f11f3cc3550 state=finished returned str> result : BR\n",
      "NG was saved as NG.gif |\n",
      "MX was saved as MX.gif |\n",
      "JP was saved as JP.gif |\n",
      "PK was saved as PK.gif |\n",
      "downloading US |\n",
      "downloading RU |\n",
      "<Future at 0x7f11f3cc32b0 state=finished returned str> result : NG\n",
      "<Future at 0x7f11f3cc3ac8 state=finished returned str> result : MX\n",
      "<Future at 0x7f11f3cc33c8 state=finished returned str> result : JP\n",
      "<Future at 0x7f11f3cc3048 state=finished returned str> result : PK\n",
      "US was saved as US.gif |\n",
      "RU was saved as RU.gif |\n",
      "<Future at 0x7f11f3d1ef60 state=finished returned str> result : US\n",
      "<Future at 0x7f11f3d1efd0 state=finished returned str> result : RU\n",
      "10 flags downloaded in 3.0507912635803223s\n"
     ]
    }
   ],
   "source": [
    "def download_many(cc_list):\n",
    "    with futures.ProcessPoolExecutor() as executer:\n",
    "        to_do = []\n",
    "        for cc in sorted(cc_list):\n",
    "            future = executer.submit(download_one, cc)\n",
    "            to_do.append(future)\n",
    "            print(f\"Scheduled for {cc}: {future}\")\n",
    "        results = []\n",
    "\n",
    "        for future in futures.as_completed(to_do):\n",
    "            res = future.result()\n",
    "            print(f\"{future} result : {res}\")\n",
    "            results.append(res)\n",
    "    return len(results)\n",
    "\n",
    "\n",
    "main(download_many)"
   ]
  },
  {
   "cell_type": "markdown",
   "metadata": {},
   "source": [
    "### executor.map()"
   ]
  },
  {
   "cell_type": "markdown",
   "metadata": {},
   "source": [
    "- executor.submit & future.as_completed\n",
    "  - more flecible than executor.map\n",
    "  - map is designed to run the same callable on different arguments."
   ]
  },
  {
   "cell_type": "markdown",
   "metadata": {},
   "source": [
    "#### mapだとまとめてしか送れない、結果の取得も全部終わってから\n",
    "\n",
    "- printing が全部終わってから、resultが出ている。\n",
    "- 一つ時間のかかるタスクがあるとそれが終わるのを待たないといけない"
   ]
  },
  {
   "cell_type": "code",
   "execution_count": 78,
   "metadata": {},
   "outputs": [
    {
     "name": "stdout",
     "output_type": "stream",
     "text": [
      "<generator object Executor.map.<locals>.result_iterator at 0x7f11f23c6660>\n",
      "1, 1.001, <- printing|\n",
      "2, 1.002, <- printing|\n",
      "3, 2.002, <- printing|\n",
      "4, 2.003, <- printing|\n",
      "5, 3.004, <- printing|\n",
      "0, 5.005, <- printing|\n",
      "0, 0 result, 5.006 <- done\n",
      "1, 1 result, 5.007 <- done\n",
      "2, 2 result, 5.007 <- done\n",
      "3, 3 result, 5.008 <- done\n",
      "4, 4 result, 5.008 <- done\n",
      "5, 5 result, 5.008 <- done\n",
      "5.007923126220703  sec\n"
     ]
    }
   ],
   "source": [
    "from concurrent import futures\n",
    "import time\n",
    "\n",
    "t0 = time.time()\n",
    "\n",
    "def wait_print(arg):\n",
    "    if arg == 0:\n",
    "        time.sleep(5)\n",
    "    else:\n",
    "        time.sleep(1)\n",
    "    print(f\"{arg}, {round(time.time() - t0, 3)}, <- printing|\")\n",
    "    return f\"{arg} result\"\n",
    "\n",
    "executor = futures.ThreadPoolExecutor(max_workers=3)\n",
    "results = executor.map(wait_print, range(6))\n",
    "\n",
    "print(results)\n",
    "\n",
    "for i, result in enumerate(results):\n",
    "    print(f\"{i}, {result}, {round(time.time() - t0, 3)} <- done\")\n",
    "    \n",
    "print(time.time() - t0, \" sec\")"
   ]
  },
  {
   "cell_type": "markdown",
   "metadata": {},
   "source": [
    "#### submit & as_completed だと一個ずつできるし、結果はタスクが終わり次第取れる\n",
    "\n",
    "- printing と results が同じところで出ている。"
   ]
  },
  {
   "cell_type": "code",
   "execution_count": 79,
   "metadata": {},
   "outputs": [
    {
     "name": "stdout",
     "output_type": "stream",
     "text": [
      "Scheduled for 0: <Future at 0x7f11f3d243c8 state=running>\n",
      "Scheduled for 1: <Future at 0x7f11f3cbca90 state=running>\n",
      "Scheduled for 2: <Future at 0x7f11f3d16470 state=running>\n",
      "Scheduled for 3: <Future at 0x7f11f3d24b38 state=pending>\n",
      "Scheduled for 4: <Future at 0x7f11f3d1ee10 state=pending>\n",
      "Scheduled for 5: <Future at 0x7f11f3d0fd30 state=pending>\n",
      "1, 1.003, <- printing|2, 1.004, <- printing|\n",
      "result : 2 result, time: 1.005\n",
      "\n",
      "result : 1 result, time: 1.005\n",
      "3, 2.006, <- printing|\n",
      "result : 3 result, time: 2.006\n",
      "4, 2.007, <- printing|\n",
      "result : 4 result, time: 2.008\n",
      "5, 3.007, <- printing|\n",
      "result : 5 result, time: 3.007\n",
      "0, 5.005, <- printing|\n",
      "result : 0 result, time: 5.006\n",
      "5.008700847625732  sec\n"
     ]
    }
   ],
   "source": [
    "from concurrent import futures\n",
    "import time\n",
    "\n",
    "t0 = time.time()\n",
    "def wait_print(arg):\n",
    "    if arg == 0:\n",
    "        time.sleep(5)\n",
    "    else:\n",
    "        time.sleep(1)\n",
    "    print(f\"{arg}, {round(time.time() - t0, 3)}, <- printing|\")\n",
    "    return f\"{arg} result\"\n",
    "\n",
    "with futures.ThreadPoolExecutor(max_workers=3) as executer:\n",
    "    to_do = []\n",
    "    for i in range(6):\n",
    "        future = executer.submit(wait_print, i)\n",
    "        to_do.append(future)\n",
    "        print(f\"Scheduled for {i}: {future}\")\n",
    "    results = []\n",
    "\n",
    "    for future in futures.as_completed(to_do):\n",
    "        res = future.result()\n",
    "        print(f\"result : {res}, time: {round(time.time() - t0, 3)}\")\n",
    "        results.append(res)\n",
    "print(time.time() - t0, \" sec\")"
   ]
  },
  {
   "cell_type": "markdown",
   "metadata": {},
   "source": [
    "# chap 18 - Cuncurrency with asyncio"
   ]
  },
  {
   "cell_type": "code",
   "execution_count": null,
   "metadata": {},
   "outputs": [],
   "source": []
  }
 ],
 "metadata": {
  "kernelspec": {
   "display_name": "Python 3",
   "language": "python",
   "name": "python3"
  },
  "language_info": {
   "codemirror_mode": {
    "name": "ipython",
    "version": 3
   },
   "file_extension": ".py",
   "mimetype": "text/x-python",
   "name": "python",
   "nbconvert_exporter": "python",
   "pygments_lexer": "ipython3",
   "version": "3.7.0"
  },
  "toc": {
   "base_numbering": 1,
   "nav_menu": {},
   "number_sections": true,
   "sideBar": true,
   "skip_h1_title": false,
   "title_cell": "",
   "title_sidebar": "",
   "toc_cell": true,
   "toc_position": {},
   "toc_section_display": true,
   "toc_window_display": false
  }
 },
 "nbformat": 4,
 "nbformat_minor": 2
}
