{
 "cells": [
  {
   "cell_type": "markdown",
   "metadata": {},
   "source": [
    "# assertion"
   ]
  },
  {
   "cell_type": "code",
   "execution_count": 8,
   "metadata": {},
   "outputs": [
    {
     "data": {
      "text/plain": [
       "140000"
      ]
     },
     "execution_count": 8,
     "metadata": {},
     "output_type": "execute_result"
    }
   ],
   "source": [
    "def waribiki(product, discount):\n",
    "    price = int(product['price'] * (1.0 - discount))\n",
    "    assert 0 <= price <= product['price']\n",
    "    \n",
    "    return price\n",
    "\n",
    "# 動く\n",
    "product1 = {'name': 'ruby gem stone', 'price': 200000}\n",
    "waribiki(product1, 0.3)"
   ]
  },
  {
   "cell_type": "code",
   "execution_count": 9,
   "metadata": {},
   "outputs": [
    {
     "data": {
      "text/plain": [
       "140000"
      ]
     },
     "execution_count": 9,
     "metadata": {},
     "output_type": "execute_result"
    }
   ],
   "source": [
    "# 壊れる\n",
    "product1 = {'name': 'ruby gem stone', 'price': 200000}\n",
    "apply_discount(product1, 0.3)\n"
   ]
  },
  {
   "cell_type": "markdown",
   "metadata": {},
   "source": [
    "assert は無効にできるのであんまり意味がない。デバック用として使うべし。"
   ]
  },
  {
   "cell_type": "code",
   "execution_count": 17,
   "metadata": {},
   "outputs": [
    {
     "ename": "ValueError",
     "evalue": "Discount should be less than 1.",
     "output_type": "error",
     "traceback": [
      "\u001b[1;31m---------------------------------------------------------------------------\u001b[0m",
      "\u001b[1;31mValueError\u001b[0m                                Traceback (most recent call last)",
      "\u001b[1;32m<ipython-input-17-2f606bb92fec>\u001b[0m in \u001b[0;36m<module>\u001b[1;34m()\u001b[0m\n\u001b[0;32m      9\u001b[0m \u001b[1;33m\u001b[0m\u001b[0m\n\u001b[0;32m     10\u001b[0m \u001b[0mproduct1\u001b[0m \u001b[1;33m=\u001b[0m \u001b[1;33m{\u001b[0m\u001b[1;34m'name'\u001b[0m\u001b[1;33m:\u001b[0m \u001b[1;34m'ruby gem stone'\u001b[0m\u001b[1;33m,\u001b[0m \u001b[1;34m'price'\u001b[0m\u001b[1;33m:\u001b[0m \u001b[1;36m200000\u001b[0m\u001b[1;33m}\u001b[0m\u001b[1;33m\u001b[0m\u001b[0m\n\u001b[1;32m---> 11\u001b[1;33m \u001b[0mwaribiki\u001b[0m\u001b[1;33m(\u001b[0m\u001b[0mproduct1\u001b[0m\u001b[1;33m,\u001b[0m \u001b[1;36m2.0\u001b[0m\u001b[1;33m)\u001b[0m\u001b[1;33m\u001b[0m\u001b[0m\n\u001b[0m",
      "\u001b[1;32m<ipython-input-17-2f606bb92fec>\u001b[0m in \u001b[0;36mwaribiki\u001b[1;34m(product, discount)\u001b[0m\n\u001b[0;32m      2\u001b[0m     \u001b[0mprice\u001b[0m \u001b[1;33m=\u001b[0m \u001b[0mint\u001b[0m\u001b[1;33m(\u001b[0m\u001b[0mproduct\u001b[0m\u001b[1;33m[\u001b[0m\u001b[1;34m'price'\u001b[0m\u001b[1;33m]\u001b[0m \u001b[1;33m*\u001b[0m \u001b[1;33m(\u001b[0m\u001b[1;36m1.0\u001b[0m \u001b[1;33m-\u001b[0m \u001b[0mdiscount\u001b[0m\u001b[1;33m)\u001b[0m\u001b[1;33m)\u001b[0m\u001b[1;33m\u001b[0m\u001b[0m\n\u001b[0;32m      3\u001b[0m     \u001b[1;32mif\u001b[0m \u001b[0mdiscount\u001b[0m \u001b[1;33m>\u001b[0m \u001b[1;36m1\u001b[0m\u001b[1;33m:\u001b[0m\u001b[1;33m\u001b[0m\u001b[0m\n\u001b[1;32m----> 4\u001b[1;33m         \u001b[1;32mraise\u001b[0m \u001b[0mValueError\u001b[0m\u001b[1;33m(\u001b[0m\u001b[1;34m'Discount should be less than 1.'\u001b[0m\u001b[1;33m)\u001b[0m\u001b[1;33m\u001b[0m\u001b[0m\n\u001b[0m\u001b[0;32m      5\u001b[0m     \u001b[1;32mif\u001b[0m \u001b[1;36m0\u001b[0m \u001b[1;33m<=\u001b[0m \u001b[0mprice\u001b[0m \u001b[1;33m<=\u001b[0m \u001b[0mproduct\u001b[0m\u001b[1;33m[\u001b[0m\u001b[1;34m'price'\u001b[0m\u001b[1;33m]\u001b[0m\u001b[1;33m:\u001b[0m\u001b[1;33m\u001b[0m\u001b[0m\n\u001b[0;32m      6\u001b[0m         \u001b[1;32mraise\u001b[0m \u001b[0mValueError\u001b[0m\u001b[1;33m(\u001b[0m\u001b[1;34m'After-discount price should be less than before-discount price.'\u001b[0m\u001b[1;33m)\u001b[0m\u001b[1;33m\u001b[0m\u001b[0m\n",
      "\u001b[1;31mValueError\u001b[0m: Discount should be less than 1."
     ]
    }
   ],
   "source": [
    "def waribiki(product, discount):\n",
    "    price = int(product['price'] * (1.0 - discount))\n",
    "    if discount > 1:\n",
    "        raise ValueError('Discount should be less than 1.')\n",
    "    if 0 <= price <= product['price']:\n",
    "        raise ValueError('After-discount price should be less than before-discount price.')\n",
    "    \n",
    "    return price\n",
    "\n",
    "# ちゃんとエラーが出る\n",
    "product1 = {'name': 'ruby gem stone', 'price': 200000}\n",
    "waribiki(product1, 2.0)"
   ]
  },
  {
   "cell_type": "markdown",
   "metadata": {},
   "source": [
    "# try... finally & with"
   ]
  },
  {
   "cell_type": "code",
   "execution_count": null,
   "metadata": {},
   "outputs": [],
   "source": [
    "# クローズするのがめんどい\n",
    "file = open('file.txt', 'w')\n",
    "try: \n",
    "    file.write('てすと')\n",
    "finally:\n",
    "    file.close()"
   ]
  },
  {
   "cell_type": "code",
   "execution_count": 25,
   "metadata": {},
   "outputs": [],
   "source": [
    "# この方が楽\n",
    "with open('file.txt', 'w') as file:\n",
    "    file.write('テスト')"
   ]
  },
  {
   "cell_type": "code",
   "execution_count": 26,
   "metadata": {},
   "outputs": [
    {
     "name": "stdout",
     "output_type": "stream",
     "text": [
      "/home/orz/python_note\n",
      "テスト"
     ]
    }
   ],
   "source": [
    "!pwd\n",
    "!cat file.txt"
   ]
  },
  {
   "cell_type": "markdown",
   "metadata": {},
   "source": [
    "## with(content manager)の仕組み"
   ]
  },
  {
   "cell_type": "code",
   "execution_count": 36,
   "metadata": {},
   "outputs": [
    {
     "name": "stdout",
     "output_type": "stream",
     "text": [
      "entered\n",
      "closing...\n",
      "None\n",
      "None\n",
      "None\n"
     ]
    }
   ],
   "source": [
    "# enter - with に入った時に呼ばれる\n",
    "# exit - 最後に呼ばれる\n",
    "\n",
    "class FileManager:\n",
    "    def __init__(self, name):\n",
    "        self.name = name\n",
    "\n",
    "    def __enter__(self):\n",
    "        print('entered')\n",
    "        self.file = open(self.name, 'w')\n",
    "        return self.file\n",
    "\n",
    "    def __exit__(self, exc_type, exc_val, exc_tb):\n",
    "        if self.file:\n",
    "            print('closing...')\n",
    "            self.file.close()\n",
    "\n",
    "with FileManager('file2.txt') as file:\n",
    "    file.write('てすと')\n",
    "    file.write('終了')\n"
   ]
  },
  {
   "cell_type": "markdown",
   "metadata": {},
   "source": [
    "なぜ３つもargがいるのか？\n",
    "\n",
    "> In order for __exit__ to work properly it must have exactly three arguments: exception_type, exception_value, and traceback. The formal argument names in the method definition do not need to correspond directly to these names, but they must appear in this order. If any exceptions occur while attempting to execute the block of code nested after the with statement, Python will pass information about the exception into the __exit__ method. You can then modify the definition of __exit__ to gracefully handle each type of exception."
   ]
  },
  {
   "cell_type": "code",
   "execution_count": 32,
   "metadata": {},
   "outputs": [
    {
     "name": "stdout",
     "output_type": "stream",
     "text": [
      "/home/orz/python_note\n",
      "てすと終了"
     ]
    }
   ],
   "source": [
    "!pwd\n",
    "!cat file2.txt"
   ]
  },
  {
   "cell_type": "markdown",
   "metadata": {},
   "source": [
    "## 用法"
   ]
  },
  {
   "cell_type": "code",
   "execution_count": 44,
   "metadata": {},
   "outputs": [
    {
     "name": "stdout",
     "output_type": "stream",
     "text": [
      "----てすと\n",
      "--------テスト\n",
      "------------試験\n"
     ]
    }
   ],
   "source": [
    "class IndentKun:\n",
    "    def __init__(self):\n",
    "        self.indent = 0\n",
    "\n",
    "    def __enter__(self):\n",
    "        self.indent += 1\n",
    "        return self\n",
    "\n",
    "    def print_context(self, context):\n",
    "        print (('----' * self.indent) + context)\n",
    "\n",
    "    def __exit__(self, exc_type, exc_val, exc_tb):\n",
    "        self.level = 0\n",
    "\n",
    "\n",
    "with IndentKun() as ind:\n",
    "    ind.print_context('てすと')\n",
    "    with ind:\n",
    "        ind.print_context('テスト')\n",
    "        with ind:\n",
    "            ind.print_context('試験')"
   ]
  },
  {
   "cell_type": "markdown",
   "metadata": {},
   "source": [
    "# var with Underscore"
   ]
  },
  {
   "cell_type": "markdown",
   "metadata": {},
   "source": [
    "- _var 　\n",
    " - プライベート変数、プライベートメソッド\n",
    "\n",
    "- var_  \n",
    "    - 名前が予約語と衝突しないように使う\n",
    "- _\n",
    "    - temporaly varible\n",
    "    - 一時的に使ったり、変数握りつぶして「どうでもいい」とつたえるため"
   ]
  },
  {
   "cell_type": "markdown",
   "metadata": {},
   "source": [
    "## __var -> var for name mangling"
   ]
  },
  {
   "cell_type": "code",
   "execution_count": 60,
   "metadata": {},
   "outputs": [
    {
     "data": {
      "text/plain": [
       "['_DoubleLeadingUnderScore__test',\n",
       " '_DoubleLeadingUnderScore__test_method',\n",
       " '__class__',\n",
       " '__delattr__',\n",
       " '__dict__',\n",
       " '__dir__',\n",
       " '__doc__',\n",
       " '__eq__',\n",
       " '__format__',\n",
       " '__ge__',\n",
       " '__getattribute__',\n",
       " '__gt__',\n",
       " '__hash__',\n",
       " '__init__',\n",
       " '__init_subclass__',\n",
       " '__le__',\n",
       " '__lt__',\n",
       " '__module__',\n",
       " '__ne__',\n",
       " '__new__',\n",
       " '__reduce__',\n",
       " '__reduce_ex__',\n",
       " '__repr__',\n",
       " '__setattr__',\n",
       " '__sizeof__',\n",
       " '__str__',\n",
       " '__subclasshook__',\n",
       " '__weakref__',\n",
       " '_test',\n",
       " 'test']"
      ]
     },
     "execution_count": 60,
     "metadata": {},
     "output_type": "execute_result"
    }
   ],
   "source": [
    "class DoubleLeadingUnderScore:\n",
    "    def __init__(self):\n",
    "        self.test = 1\n",
    "        self._test = 2\n",
    "        self.__test = 3\n",
    "\n",
    "    def  __test_method(self):\n",
    "        print('mangled test method called')\n",
    "\n",
    "test = DoubleLeadingUnderScore()\n",
    "dir(test) # <= '_DoubleLeadingUnderScore__test'"
   ]
  },
  {
   "cell_type": "code",
   "execution_count": 56,
   "metadata": {},
   "outputs": [
    {
     "name": "stdout",
     "output_type": "stream",
     "text": [
      "1\n",
      "2\n",
      "3\n"
     ]
    }
   ],
   "source": [
    "print(test.test)\n",
    "print(test._test)\n",
    "print(test._DoubleLeadingUnderScore__test)"
   ]
  },
  {
   "cell_type": "code",
   "execution_count": 58,
   "metadata": {},
   "outputs": [
    {
     "ename": "AttributeError",
     "evalue": "'DoubleLeadingUnderScore' object has no attribute '__test_method'",
     "output_type": "error",
     "traceback": [
      "\u001b[1;31m---------------------------------------------------------------------------\u001b[0m",
      "\u001b[1;31mAttributeError\u001b[0m                            Traceback (most recent call last)",
      "\u001b[1;32m<ipython-input-58-d800373df11a>\u001b[0m in \u001b[0;36m<module>\u001b[1;34m()\u001b[0m\n\u001b[1;32m----> 1\u001b[1;33m \u001b[0mprint\u001b[0m\u001b[1;33m(\u001b[0m\u001b[0mtest\u001b[0m\u001b[1;33m.\u001b[0m\u001b[0m__test_method\u001b[0m\u001b[1;33m(\u001b[0m\u001b[1;33m)\u001b[0m\u001b[1;33m)\u001b[0m\u001b[1;33m\u001b[0m\u001b[0m\n\u001b[0m",
      "\u001b[1;31mAttributeError\u001b[0m: 'DoubleLeadingUnderScore' object has no attribute '__test_method'"
     ]
    }
   ],
   "source": [
    "print(test.__test_method())"
   ]
  },
  {
   "cell_type": "code",
   "execution_count": 62,
   "metadata": {},
   "outputs": [
    {
     "name": "stdout",
     "output_type": "stream",
     "text": [
      "mangled test method called\n"
     ]
    }
   ],
   "source": [
    "test._DoubleLeadingUnderScore__test_method()"
   ]
  },
  {
   "cell_type": "markdown",
   "metadata": {},
   "source": [
    "おおっぴらに使うもんじゃない\n",
    "\n",
    ">If your class is intended to be subclassed, and you have attributes that you do not want subclasses to use, consider naming them with double leading underscores and no trailing underscores. This invokes Python's name mangling algorithm, where the name of the class is mangled into the attribute name. This helps avoid attribute name collisions should subclasses inadvertently contain attributes with the same name.\n",
    "\n",
    ">Note 1: Note that only the simple class name is used in the mangled name, so if a subclass chooses both the same class name and attribute name, you can still get name collisions.\n",
    "\n",
    ">Note 2: Name mangling can make certain uses, such as debugging and __getattr__(), less convenient. However the name mangling algorithm is well documented and easy to perform manually.\n",
    "\n",
    ">Note 3: Not everyone likes name mangling. Try to balance the need to avoid accidental name clashes with potential use by advanced callers."
   ]
  },
  {
   "cell_type": "markdown",
   "metadata": {},
   "source": [
    "# Dunder = magic methods"
   ]
  },
  {
   "cell_type": "markdown",
   "metadata": {},
   "source": [
    "Pythonが予約してるメソッド\n",
    "\n",
    "[ここ](https://dbader.org/blog/python-dunder-methods)\n",
    "\n",
    "Over rideするといろいろできる"
   ]
  },
  {
   "cell_type": "markdown",
   "metadata": {},
   "source": [
    "# Fucntions"
   ]
  },
  {
   "cell_type": "code",
   "execution_count": 73,
   "metadata": {},
   "outputs": [
    {
     "name": "stdout",
     "output_type": "stream",
     "text": [
      "TEST1!\n",
      "TEST2!\n"
     ]
    }
   ],
   "source": [
    "def capitalize(text):\n",
    "    print(text.upper() + '!')\n",
    "\n",
    "capitalize('test1')\n",
    "\n",
    "# プリントされる\n",
    "test = capitalize\n",
    "test('test2')"
   ]
  },
  {
   "cell_type": "code",
   "execution_count": 74,
   "metadata": {},
   "outputs": [
    {
     "ename": "NameError",
     "evalue": "name 'capitalize' is not defined",
     "output_type": "error",
     "traceback": [
      "\u001b[1;31m---------------------------------------------------------------------------\u001b[0m",
      "\u001b[1;31mNameError\u001b[0m                                 Traceback (most recent call last)",
      "\u001b[1;32m<ipython-input-74-7a7a192c5d27>\u001b[0m in \u001b[0;36m<module>\u001b[1;34m()\u001b[0m\n\u001b[0;32m      1\u001b[0m \u001b[1;31m# 消したのでプリントされない\u001b[0m\u001b[1;33m\u001b[0m\u001b[1;33m\u001b[0m\u001b[0m\n\u001b[0;32m      2\u001b[0m \u001b[1;32mdel\u001b[0m \u001b[0mcapitalize\u001b[0m\u001b[1;33m\u001b[0m\u001b[0m\n\u001b[1;32m----> 3\u001b[1;33m \u001b[0mcapitalize\u001b[0m\u001b[1;33m(\u001b[0m\u001b[1;34m'retest1'\u001b[0m\u001b[1;33m)\u001b[0m\u001b[1;33m\u001b[0m\u001b[0m\n\u001b[0m",
      "\u001b[1;31mNameError\u001b[0m: name 'capitalize' is not defined"
     ]
    }
   ],
   "source": [
    "# 消したのでプリントされない\n",
    "del capitalize\n",
    "capitalize('retest1')\n"
   ]
  },
  {
   "cell_type": "code",
   "execution_count": 75,
   "metadata": {},
   "outputs": [
    {
     "name": "stdout",
     "output_type": "stream",
     "text": [
      "RETEST2!\n"
     ]
    }
   ],
   "source": [
    "# おおもとは消えたけど、代入されたのは残ってる\n",
    "test('retest2')"
   ]
  },
  {
   "cell_type": "markdown",
   "metadata": {},
   "source": [
    "# function を function に渡す"
   ]
  },
  {
   "cell_type": "code",
   "execution_count": 79,
   "metadata": {},
   "outputs": [
    {
     "name": "stdout",
     "output_type": "stream",
     "text": [
      "TEST TEST TEST!\n"
     ]
    }
   ],
   "source": [
    "def capitalize2(text):\n",
    "    return text.upper() + '!'\n",
    "\n",
    "def say(func):\n",
    "    words = func('test test test')\n",
    "    print(words)\n",
    "    \n",
    "\n",
    "say(capitalize2)"
   ]
  },
  {
   "cell_type": "markdown",
   "metadata": {},
   "source": [
    "# map の使い方"
   ]
  },
  {
   "cell_type": "code",
   "execution_count": 80,
   "metadata": {},
   "outputs": [
    {
     "data": {
      "text/plain": [
       "['AAA!', 'BBB!', 'CCC!']"
      ]
     },
     "execution_count": 80,
     "metadata": {},
     "output_type": "execute_result"
    }
   ],
   "source": [
    "list(map(capitalize, ['aaa', 'bbb', 'ccc']))"
   ]
  },
  {
   "cell_type": "markdown",
   "metadata": {},
   "source": [
    "# nest function"
   ]
  },
  {
   "cell_type": "code",
   "execution_count": 94,
   "metadata": {},
   "outputs": [
    {
     "ename": "AttributeError",
     "evalue": "'NoneType' object has no attribute 'loud'",
     "output_type": "error",
     "traceback": [
      "\u001b[1;31m---------------------------------------------------------------------------\u001b[0m",
      "\u001b[1;31mAttributeError\u001b[0m                            Traceback (most recent call last)",
      "\u001b[1;32m<ipython-input-94-80e759c287f5>\u001b[0m in \u001b[0;36m<module>\u001b[1;34m()\u001b[0m\n\u001b[0;32m      5\u001b[0m \u001b[1;33m\u001b[0m\u001b[0m\n\u001b[0;32m      6\u001b[0m \u001b[0msay\u001b[0m \u001b[1;33m=\u001b[0m \u001b[0msay_something\u001b[0m\u001b[1;33m(\u001b[0m\u001b[1;34m'yo'\u001b[0m\u001b[1;33m)\u001b[0m\u001b[1;33m\u001b[0m\u001b[0m\n\u001b[1;32m----> 7\u001b[1;33m \u001b[0msay\u001b[0m\u001b[1;33m.\u001b[0m\u001b[0mloud\u001b[0m\u001b[1;33m\u001b[0m\u001b[0m\n\u001b[0m",
      "\u001b[1;31mAttributeError\u001b[0m: 'NoneType' object has no attribute 'loud'"
     ]
    }
   ],
   "source": [
    "# 呼べない\n",
    "def say_something(context):\n",
    "    def loud(context):\n",
    "        return context.upper() + '!!!!!'\n",
    "\n",
    "say = say_something('yo')\n",
    "say.loud"
   ]
  },
  {
   "cell_type": "code",
   "execution_count": 99,
   "metadata": {},
   "outputs": [
    {
     "data": {
      "text/plain": [
       "'YO!!!!!'"
      ]
     },
     "execution_count": 99,
     "metadata": {},
     "output_type": "execute_result"
    }
   ],
   "source": [
    "# 呼べる\n",
    "def say_something(context):\n",
    "    def loud(text):\n",
    "        return text.upper() + '!!!!!'\n",
    "    return loud(context)\n",
    "\n",
    "say_something('yo')"
   ]
  },
  {
   "cell_type": "markdown",
   "metadata": {},
   "source": [
    "## 場合分け"
   ]
  },
  {
   "cell_type": "code",
   "execution_count": 107,
   "metadata": {},
   "outputs": [
    {
     "name": "stdout",
     "output_type": "stream",
     "text": [
      "YO!!!!!\n",
      "yo.......\n"
     ]
    }
   ],
   "source": [
    "def say_something(context, loudness):\n",
    "    def loud(text):\n",
    "        return text.upper() + '!!!!!'\n",
    "    def quietly(text):\n",
    "        return text.lower() + '.......'\n",
    "\n",
    "    if loudness == 'quietly':\n",
    "        return quietly(context)\n",
    "    if loudness == 'loud':\n",
    "        return loud(context)\n",
    "\n",
    "# 普通に呼ぶ\n",
    "print(say_something('yo', 'loud'))\n",
    "print(say_something('yo', 'quietly'))"
   ]
  },
  {
   "cell_type": "markdown",
   "metadata": {},
   "source": [
    "## child funcs have access to parent's local var"
   ]
  },
  {
   "cell_type": "code",
   "execution_count": 120,
   "metadata": {},
   "outputs": [
    {
     "data": {
      "text/plain": [
       "'yo.......'"
      ]
     },
     "execution_count": 120,
     "metadata": {},
     "output_type": "execute_result"
    }
   ],
   "source": [
    "def say_something(text, loudness):\n",
    "    def loud():\n",
    "        return text.upper() + '!!!!!'\n",
    "    def quietly():\n",
    "        return text.lower() + '.......'\n",
    "\n",
    "    if loudness == 'quietly':\n",
    "        return quietly\n",
    "    if loudness == 'loud':\n",
    "        return loud\n",
    "\n",
    "say_something('yo', 'quietly')()\n"
   ]
  },
  {
   "cell_type": "markdown",
   "metadata": {},
   "source": [
    "# closure"
   ]
  },
  {
   "cell_type": "code",
   "execution_count": 134,
   "metadata": {},
   "outputs": [
    {
     "name": "stdout",
     "output_type": "stream",
     "text": [
      "<function tashizan.<locals>.tasu at 0x7f39a8744840>\n",
      "3\n"
     ]
    }
   ],
   "source": [
    "def tashizan(num):\n",
    "    def tasu(x):\n",
    "        return x + num\n",
    "    return tasu\n",
    "\n",
    "keisan = tashizan(1)\n",
    "print(keisan)\n",
    "print(keisan(2))"
   ]
  },
  {
   "cell_type": "code",
   "execution_count": 132,
   "metadata": {},
   "outputs": [
    {
     "name": "stdout",
     "output_type": "stream",
     "text": [
      "<function print_out at 0x7f39a9320f28>\n",
      "hi\n"
     ]
    }
   ],
   "source": [
    "def print_out(text):\n",
    "    return text\n",
    "    \n",
    "print(print_out)\n",
    "print(print_out('hi'))"
   ]
  },
  {
   "cell_type": "markdown",
   "metadata": {},
   "source": [
    "# Classもclosureっぽくできる"
   ]
  },
  {
   "cell_type": "code",
   "execution_count": 137,
   "metadata": {},
   "outputs": [
    {
     "name": "stdout",
     "output_type": "stream",
     "text": [
      "<__main__.TashiZan object at 0x7f39a86fe3c8>\n",
      "4\n"
     ]
    }
   ],
   "source": [
    "class TashiZan:\n",
    "    def __init__(self, num):\n",
    "        self.num = num\n",
    "    \n",
    "    def __call__(self, x):\n",
    "        return self.num + x\n",
    "\n",
    "tashizan = TashiZan(1)\n",
    "print(tashizan)\n",
    "print(tashizan(3))"
   ]
  },
  {
   "cell_type": "markdown",
   "metadata": {},
   "source": [
    "# lambda"
   ]
  },
  {
   "cell_type": "code",
   "execution_count": 140,
   "metadata": {},
   "outputs": [
    {
     "name": "stdout",
     "output_type": "stream",
     "text": [
      "5\n",
      "5\n"
     ]
    }
   ],
   "source": [
    "def my_tashizan(x, y):\n",
    "    return x + y\n",
    "\n",
    "\n",
    "print(my_tashizan(2, 3))\n",
    "\n",
    "print((lambda x, y: x + y)(2, 3))"
   ]
  },
  {
   "cell_type": "markdown",
   "metadata": {},
   "source": [
    "> Because return is a statement. Lambdas can only contain expressions.\n",
    "\n"
   ]
  },
  {
   "cell_type": "code",
   "execution_count": 144,
   "metadata": {},
   "outputs": [
    {
     "data": {
      "text/plain": [
       "[(3, 'あ'), (2, 'い'), (1, 'う')]"
      ]
     },
     "execution_count": 144,
     "metadata": {},
     "output_type": "execute_result"
    }
   ],
   "source": [
    "tup = [(1, 'う'), (2, 'い'), (3, 'あ')]\n",
    "\n",
    "sorted(tup, key=lambda x: x[1])"
   ]
  },
  {
   "cell_type": "markdown",
   "metadata": {},
   "source": [
    "# lambda で足し算"
   ]
  },
  {
   "cell_type": "code",
   "execution_count": 147,
   "metadata": {},
   "outputs": [
    {
     "name": "stdout",
     "output_type": "stream",
     "text": [
      "<function tashizan.<locals>.<lambda> at 0x7f39a8744730>\n",
      "3\n"
     ]
    }
   ],
   "source": [
    "def tashizan(num):\n",
    "    return lambda x: x + num\n",
    "\n",
    "keisan = tashizan(1)\n",
    "print(keisan)\n",
    "print(keisan(2))"
   ]
  },
  {
   "cell_type": "markdown",
   "metadata": {},
   "source": [
    "# decorator"
   ]
  },
  {
   "cell_type": "code",
   "execution_count": 190,
   "metadata": {},
   "outputs": [
    {
     "name": "stdout",
     "output_type": "stream",
     "text": [
      "<function say_hi at 0x7f39a3d88a60> <= func\n",
      "<function uppercase.<locals>.wrapper at 0x7f39a8087ae8> <= wrapper\n",
      "<function uppercase.<locals>.wrapper at 0x7f39a8087ae8>\n"
     ]
    }
   ],
   "source": [
    "def uppercase(func):\n",
    "    print(func, '<= func')\n",
    "\n",
    "    def wrapper():\n",
    "        # funcでfunctionを渡して\n",
    "        # カッコをつけて stringsにする\n",
    "        print(func, '<= func()')\n",
    "        original = func()\n",
    "        return original.upper()\n",
    "\n",
    "    # 最後に wrapper funcを返す\n",
    "    print(wrapper, '<= wrapper')\n",
    "    return wrapper\n",
    "\n",
    "\n",
    "def uppercase2(strings):\n",
    "    # say_hi() で渡すとstringが渡る\n",
    "    return strings.upper()\n",
    "\n",
    "\n",
    "@uppercase\n",
    "def say_hi():\n",
    "    return 'hi'\n",
    "\n",
    "# これでもおなじこと\n",
    "# print(uppercase2(say_hi()))\n",
    "\n",
    "print(say_hi) # <= これだとwrapperが変えるだけ\n",
    "\n",
    "#print(say_hi()) # <= これだとなかまで実行される\n"
   ]
  },
  {
   "cell_type": "markdown",
   "metadata": {},
   "source": [
    "# multiple decorators"
   ]
  },
  {
   "cell_type": "code",
   "execution_count": 210,
   "metadata": {},
   "outputs": [
    {
     "name": "stdout",
     "output_type": "stream",
     "text": [
      "<function say_smt at 0x7f39a3d88840> func in moji_kazari1\n",
      "exec wrapper in mojikazari1\n",
      "<function moji_kazari1.<locals>.wrapper at 0x7f39a3d88bf8> func in moji_kazari2\n",
      "exec wrapper in mojikazari2\n"
     ]
    },
    {
     "data": {
      "text/plain": [
       "'22222111111yo1111122222'"
      ]
     },
     "execution_count": 210,
     "metadata": {},
     "output_type": "execute_result"
    }
   ],
   "source": [
    "def moji_kazari1(func):\n",
    "    print(func, 'func in moji_kazari1')\n",
    "    def wrapper():\n",
    "        return f\"111111{func()}11111\"\n",
    "    print('exec wrapper in mojikazari1')\n",
    "    return wrapper\n",
    "\n",
    "def moji_kazari2(func):\n",
    "    print(func, 'func in moji_kazari2')\n",
    "    def wrapper():\n",
    "        return f\"22222{func()}22222\"\n",
    "    print('exec wrapper in mojikazari2')\n",
    "    return wrapper\n",
    "\n",
    "@moji_kazari2\n",
    "@moji_kazari1\n",
    "def say_smt():\n",
    "    return 'yo'\n",
    "\n",
    "say_smt()"
   ]
  },
  {
   "cell_type": "markdown",
   "metadata": {},
   "source": [
    "# making debug-friendly decorator"
   ]
  },
  {
   "cell_type": "markdown",
   "metadata": {},
   "source": [
    "## without functools wraps"
   ]
  },
  {
   "cell_type": "code",
   "execution_count": 219,
   "metadata": {},
   "outputs": [
    {
     "name": "stdout",
     "output_type": "stream",
     "text": [
      "wrapper\n",
      "None\n"
     ]
    }
   ],
   "source": [
    "def moji_kazari1(func):\n",
    "    def wrapper():\n",
    "        return f\"111111{func()}11111\"\n",
    "    return wrapper\n",
    "\n",
    "def moji_kazari2(func):\n",
    "    def wrapper():\n",
    "        return f\"22222{func()}22222\"\n",
    "    return wrapper\n",
    "\n",
    "@moji_kazari2\n",
    "@moji_kazari1\n",
    "def say_smt():\n",
    "    \"\"\"\" just say yo... \"\"\"\n",
    "    return 'yo'\n",
    "\n",
    "print(say_smt.__name__)\n",
    "print(say_smt.__doc__)"
   ]
  },
  {
   "cell_type": "markdown",
   "metadata": {},
   "source": [
    "## with functools.wraps "
   ]
  },
  {
   "cell_type": "code",
   "execution_count": 218,
   "metadata": {},
   "outputs": [
    {
     "name": "stdout",
     "output_type": "stream",
     "text": [
      "say_smt\n",
      "\" just say yo... \n"
     ]
    }
   ],
   "source": [
    "import functools\n",
    "\n",
    "def moji_kazari1(func):\n",
    "    @functools.wraps(func)\n",
    "    def wrapper():\n",
    "        return f\"111111{func()}11111\"\n",
    "    return wrapper\n",
    "\n",
    "def moji_kazari2(func):\n",
    "    @functools.wraps(func)\n",
    "    def wrapper():\n",
    "        return f\"22222{func()}22222\"\n",
    "    return wrapper\n",
    "\n",
    "@moji_kazari2\n",
    "@moji_kazari1\n",
    "def say_smt():\n",
    "    \"\"\"\" just say yo... \"\"\"\n",
    "    return 'yo'\n",
    "\n",
    "print(say_smt.__name__)\n",
    "print(say_smt.__doc__)"
   ]
  },
  {
   "cell_type": "markdown",
   "metadata": {},
   "source": [
    "# args and kwargs"
   ]
  },
  {
   "cell_type": "code",
   "execution_count": 225,
   "metadata": {},
   "outputs": [
    {
     "name": "stdout",
     "output_type": "stream",
     "text": [
      "required1\n",
      "requried2\n",
      "('this', 'should', 'be', '*args')\n",
      "requried3\n",
      "('this', 'should', 'be', '*args', {'this': 'will', 'be': 'kwargs'})\n",
      "requried4\n",
      "('this', 'should', 'be', '*args')\n",
      "{'key1': 'this is key 1', 'key2': 'this is key2'}\n",
      "requried5\n",
      "('this', 'should', 'be', '*args')\n",
      "{'key1': {'this': 'will', 'be': 'kwargs'}}\n"
     ]
    }
   ],
   "source": [
    "def args_test(required, *args, **kwargs):\n",
    "    print(required)\n",
    "    if args:\n",
    "        print(args)\n",
    "    if kwargs:\n",
    "        print(kwargs)\n",
    "    \n",
    "args_test('required1')\n",
    "args_test('requried2', 'this', 'should', 'be', '*args')\n",
    "args_test('requried3', 'this', 'should', 'be', '*args', {'this': 'will', 'be': 'kwargs'})\n",
    "args_test('requried4', 'this', 'should', 'be', '*args', key1='this is key 1', key2='this is key2')\n",
    "args_test('requried5', 'this', 'should', 'be', '*args', key1={'this': 'will', 'be': 'kwargs'})"
   ]
  },
  {
   "cell_type": "markdown",
   "metadata": {},
   "source": [
    "## args,  kwags and inheritance"
   ]
  },
  {
   "cell_type": "code",
   "execution_count": 250,
   "metadata": {},
   "outputs": [
    {
     "name": "stdout",
     "output_type": "stream",
     "text": [
      "('red', 1234, 'Toyota')\n",
      "{}\n"
     ]
    },
    {
     "data": {
      "text/plain": [
       "'Toyota'"
      ]
     },
     "execution_count": 250,
     "metadata": {},
     "output_type": "execute_result"
    }
   ],
   "source": [
    "class Car:\n",
    "    def __init__(self, color, mileage, maker):\n",
    "        self.color = color\n",
    "        self.mileage = mileage\n",
    "        self.maker = maker\n",
    "\n",
    "class BlueCar(Car):\n",
    "    def __init__(self, *args, **kwargs):\n",
    "        print(args)\n",
    "        print(kwargs)\n",
    "        super().__init__(*args, **kwargs)\n",
    "        self.color = 'blue'\n",
    "\n",
    "BlueCar('red', 1234, 'Toyota').maker"
   ]
  },
  {
   "cell_type": "markdown",
   "metadata": {},
   "source": [
    "decoraterのwrapper, sub class などに args, kwargsとやっておくとarg が変わっても変更しなくていいから楽  \n",
    "ただしどんなargが必要かわかりづらくなる"
   ]
  },
  {
   "cell_type": "markdown",
   "metadata": {},
   "source": [
    "# \\*\\* and \\* can unpack argument"
   ]
  },
  {
   "cell_type": "code",
   "execution_count": 271,
   "metadata": {},
   "outputs": [
    {
     "name": "stdout",
     "output_type": "stream",
     "text": [
      "(1, 2, 3)\n",
      "(1, 2, 3)\n",
      "<generator object <genexpr> at 0x7f39a3d2de60>\n",
      "(0, 1, 4)\n"
     ]
    }
   ],
   "source": [
    "def arg_test(x, y, z):\n",
    "    return x, y, z\n",
    "\n",
    "\n",
    "a_tuple = (1, 2, 3)\n",
    "print(arg_test(*a_tuple))\n",
    "\n",
    "a_dict = {'x': 1, 'y': 2, 'z': 3}\n",
    "print(arg_test(**a_dict))\n",
    "\n",
    "a_generater = (x * x for x in range(3))\n",
    "print(a_generater)\n",
    "print(arg_test(*a_generater))"
   ]
  },
  {
   "cell_type": "markdown",
   "metadata": {},
   "source": [
    "# is and =="
   ]
  },
  {
   "cell_type": "markdown",
   "metadata": {},
   "source": [
    "- \"is\" is for identity check\n",
    " - 「ID」が同じならTrue\n",
    "- \"==\" is for equality check\n",
    " - 中身が「同じ」ならTrue"
   ]
  },
  {
   "cell_type": "code",
   "execution_count": 6,
   "metadata": {},
   "outputs": [
    {
     "name": "stdout",
     "output_type": "stream",
     "text": [
      "140617552321608\n",
      "140617552321608\n",
      "True\n",
      "True\n"
     ]
    }
   ],
   "source": [
    "a = [1, 2, 3]\n",
    "b = a\n",
    "\n",
    "print(id(a))\n",
    "print(id(b))\n",
    "print(a is b)\n",
    "print(a == b)"
   ]
  },
  {
   "cell_type": "code",
   "execution_count": 5,
   "metadata": {},
   "outputs": [
    {
     "name": "stdout",
     "output_type": "stream",
     "text": [
      "140617564477512\n",
      "140617552606280\n",
      "False\n",
      "True\n"
     ]
    }
   ],
   "source": [
    "a = [1, 2, 3]\n",
    "c = list(a)\n",
    "\n",
    "print(id(a))\n",
    "print(id(c))\n",
    "print(a is c)\n",
    "print(a == c)"
   ]
  },
  {
   "cell_type": "markdown",
   "metadata": {},
   "source": [
    "# \\_\\_repr\\_\\_ and \\_\\_str\\_\\_"
   ]
  },
  {
   "cell_type": "code",
   "execution_count": 18,
   "metadata": {},
   "outputs": [
    {
     "name": "stdout",
     "output_type": "stream",
     "text": [
      "str -- color: red, maileage: 1234--\n"
     ]
    },
    {
     "data": {
      "text/plain": [
       "repr -- color: red, maileage: 1234--"
      ]
     },
     "execution_count": 18,
     "metadata": {},
     "output_type": "execute_result"
    }
   ],
   "source": [
    "class Car:\n",
    "    def __init__(self, color, mileage):\n",
    "        self.color = color\n",
    "        self.mileage = mileage\n",
    "\n",
    "    def __str__(self):\n",
    "        return f\"str -- color: {self.color}, maileage: {self.mileage}--\"\n",
    "\n",
    "    def __repr__(self):\n",
    "        return f\"repr -- color: {self.color}, maileage: {self.mileage}--\"\n",
    "\n",
    "\n",
    "car = Car('red', '1234')\n",
    "print(car)\n",
    "car"
   ]
  },
  {
   "cell_type": "code",
   "execution_count": 19,
   "metadata": {},
   "outputs": [
    {
     "name": "stdout",
     "output_type": "stream",
     "text": [
      "str -- color: red, maileage: 1234--\n",
      "repr -- color: red, maileage: 1234--\n"
     ]
    }
   ],
   "source": [
    "print(str(car))\n",
    "print(repr(car))"
   ]
  },
  {
   "cell_type": "markdown",
   "metadata": {},
   "source": [
    "## repr str の使用例"
   ]
  },
  {
   "cell_type": "code",
   "execution_count": 22,
   "metadata": {},
   "outputs": [
    {
     "name": "stdout",
     "output_type": "stream",
     "text": [
      "2018-02-08\n",
      "datetime.date(2018, 2, 8)\n"
     ]
    }
   ],
   "source": [
    "import datetime\n",
    "today = datetime.date.today()\n",
    "print(str(today))\n",
    "print(repr(today))\n",
    "\n",
    "# repr はデバッグ用。str は表示用"
   ]
  },
  {
   "cell_type": "markdown",
   "metadata": {},
   "source": [
    "# exception class"
   ]
  },
  {
   "cell_type": "markdown",
   "metadata": {},
   "source": [
    "## a bit vague"
   ]
  },
  {
   "cell_type": "code",
   "execution_count": 24,
   "metadata": {},
   "outputs": [
    {
     "ename": "ValueError",
     "evalue": "",
     "output_type": "error",
     "traceback": [
      "\u001b[1;31m---------------------------------------------------------------------------\u001b[0m",
      "\u001b[1;31mValueError\u001b[0m                                Traceback (most recent call last)",
      "\u001b[1;32m<ipython-input-24-ef48a6045837>\u001b[0m in \u001b[0;36m<module>\u001b[1;34m()\u001b[0m\n\u001b[0;32m      3\u001b[0m         \u001b[1;32mraise\u001b[0m \u001b[0mValueError\u001b[0m\u001b[1;33m\u001b[0m\u001b[0m\n\u001b[0;32m      4\u001b[0m \u001b[1;33m\u001b[0m\u001b[0m\n\u001b[1;32m----> 5\u001b[1;33m \u001b[0mvalidate_name\u001b[0m\u001b[1;33m(\u001b[0m\u001b[1;34m'aaaaaaaaa'\u001b[0m\u001b[1;33m)\u001b[0m\u001b[1;33m\u001b[0m\u001b[0m\n\u001b[0m",
      "\u001b[1;32m<ipython-input-24-ef48a6045837>\u001b[0m in \u001b[0;36mvalidate_name\u001b[1;34m(name)\u001b[0m\n\u001b[0;32m      1\u001b[0m \u001b[1;32mdef\u001b[0m \u001b[0mvalidate_name\u001b[0m\u001b[1;33m(\u001b[0m\u001b[0mname\u001b[0m\u001b[1;33m)\u001b[0m\u001b[1;33m:\u001b[0m\u001b[1;33m\u001b[0m\u001b[0m\n\u001b[0;32m      2\u001b[0m     \u001b[1;32mif\u001b[0m \u001b[0mlen\u001b[0m\u001b[1;33m(\u001b[0m\u001b[0mname\u001b[0m\u001b[1;33m)\u001b[0m \u001b[1;33m>\u001b[0m \u001b[1;36m6\u001b[0m\u001b[1;33m:\u001b[0m\u001b[1;33m\u001b[0m\u001b[0m\n\u001b[1;32m----> 3\u001b[1;33m         \u001b[1;32mraise\u001b[0m \u001b[0mValueError\u001b[0m\u001b[1;33m\u001b[0m\u001b[0m\n\u001b[0m\u001b[0;32m      4\u001b[0m \u001b[1;33m\u001b[0m\u001b[0m\n\u001b[0;32m      5\u001b[0m \u001b[0mvalidate_name\u001b[0m\u001b[1;33m(\u001b[0m\u001b[1;34m'aaaaaaaaa'\u001b[0m\u001b[1;33m)\u001b[0m\u001b[1;33m\u001b[0m\u001b[0m\n",
      "\u001b[1;31mValueError\u001b[0m: "
     ]
    }
   ],
   "source": [
    "def validate_name(name):\n",
    "    if len(name) > 6:\n",
    "        raise ValueError\n",
    "\n",
    "validate_name('aaaaaaaaa')"
   ]
  },
  {
   "cell_type": "markdown",
   "metadata": {},
   "source": [
    "## more explicit way"
   ]
  },
  {
   "cell_type": "code",
   "execution_count": 32,
   "metadata": {},
   "outputs": [],
   "source": [
    "class BaseValidationError(ValueError):\n",
    "    pass\n",
    "\n",
    "class NameTooLongError(BaseValidationError):\n",
    "    pass\n",
    "\n",
    "class NameTooShortError(BaseValidationError):\n",
    "    pass\n",
    "\n",
    "\n",
    "def validate_name(name):\n",
    "    if len(name) > 6:\n",
    "        raise NameTooLongError(name)\n",
    "    if len(name) < 3:\n",
    "        raise NameTooShortError(name)"
   ]
  },
  {
   "cell_type": "code",
   "execution_count": 33,
   "metadata": {},
   "outputs": [
    {
     "ename": "NameTooLongError",
     "evalue": "aaaaaaaaa",
     "output_type": "error",
     "traceback": [
      "\u001b[1;31m---------------------------------------------------------------------------\u001b[0m",
      "\u001b[1;31mNameTooLongError\u001b[0m                          Traceback (most recent call last)",
      "\u001b[1;32m<ipython-input-33-64bd9d9e9c24>\u001b[0m in \u001b[0;36m<module>\u001b[1;34m()\u001b[0m\n\u001b[1;32m----> 1\u001b[1;33m \u001b[0mvalidate_name\u001b[0m\u001b[1;33m(\u001b[0m\u001b[1;34m'aaaaaaaaa'\u001b[0m\u001b[1;33m)\u001b[0m\u001b[1;33m\u001b[0m\u001b[0m\n\u001b[0m",
      "\u001b[1;32m<ipython-input-32-622afbd505a4>\u001b[0m in \u001b[0;36mvalidate_name\u001b[1;34m(name)\u001b[0m\n\u001b[0;32m     11\u001b[0m \u001b[1;32mdef\u001b[0m \u001b[0mvalidate_name\u001b[0m\u001b[1;33m(\u001b[0m\u001b[0mname\u001b[0m\u001b[1;33m)\u001b[0m\u001b[1;33m:\u001b[0m\u001b[1;33m\u001b[0m\u001b[0m\n\u001b[0;32m     12\u001b[0m     \u001b[1;32mif\u001b[0m \u001b[0mlen\u001b[0m\u001b[1;33m(\u001b[0m\u001b[0mname\u001b[0m\u001b[1;33m)\u001b[0m \u001b[1;33m>\u001b[0m \u001b[1;36m6\u001b[0m\u001b[1;33m:\u001b[0m\u001b[1;33m\u001b[0m\u001b[0m\n\u001b[1;32m---> 13\u001b[1;33m         \u001b[1;32mraise\u001b[0m \u001b[0mNameTooLongError\u001b[0m\u001b[1;33m(\u001b[0m\u001b[0mname\u001b[0m\u001b[1;33m)\u001b[0m\u001b[1;33m\u001b[0m\u001b[0m\n\u001b[0m\u001b[0;32m     14\u001b[0m     \u001b[1;32mif\u001b[0m \u001b[0mlen\u001b[0m\u001b[1;33m(\u001b[0m\u001b[0mname\u001b[0m\u001b[1;33m)\u001b[0m \u001b[1;33m<\u001b[0m \u001b[1;36m3\u001b[0m\u001b[1;33m:\u001b[0m\u001b[1;33m\u001b[0m\u001b[0m\n\u001b[0;32m     15\u001b[0m         \u001b[1;32mraise\u001b[0m \u001b[0mNameTooShortError\u001b[0m\u001b[1;33m(\u001b[0m\u001b[0mname\u001b[0m\u001b[1;33m)\u001b[0m\u001b[1;33m\u001b[0m\u001b[0m\n",
      "\u001b[1;31mNameTooLongError\u001b[0m: aaaaaaaaa"
     ]
    }
   ],
   "source": [
    "validate_name('aaaaaaaaa')"
   ]
  },
  {
   "cell_type": "code",
   "execution_count": 34,
   "metadata": {},
   "outputs": [
    {
     "ename": "NameTooShortError",
     "evalue": "aa",
     "output_type": "error",
     "traceback": [
      "\u001b[1;31m---------------------------------------------------------------------------\u001b[0m",
      "\u001b[1;31mNameTooShortError\u001b[0m                         Traceback (most recent call last)",
      "\u001b[1;32m<ipython-input-34-d4ca20d61687>\u001b[0m in \u001b[0;36m<module>\u001b[1;34m()\u001b[0m\n\u001b[1;32m----> 1\u001b[1;33m \u001b[0mvalidate_name\u001b[0m\u001b[1;33m(\u001b[0m\u001b[1;34m'aa'\u001b[0m\u001b[1;33m)\u001b[0m\u001b[1;33m\u001b[0m\u001b[0m\n\u001b[0m",
      "\u001b[1;32m<ipython-input-32-622afbd505a4>\u001b[0m in \u001b[0;36mvalidate_name\u001b[1;34m(name)\u001b[0m\n\u001b[0;32m     13\u001b[0m         \u001b[1;32mraise\u001b[0m \u001b[0mNameTooLongError\u001b[0m\u001b[1;33m(\u001b[0m\u001b[0mname\u001b[0m\u001b[1;33m)\u001b[0m\u001b[1;33m\u001b[0m\u001b[0m\n\u001b[0;32m     14\u001b[0m     \u001b[1;32mif\u001b[0m \u001b[0mlen\u001b[0m\u001b[1;33m(\u001b[0m\u001b[0mname\u001b[0m\u001b[1;33m)\u001b[0m \u001b[1;33m<\u001b[0m \u001b[1;36m3\u001b[0m\u001b[1;33m:\u001b[0m\u001b[1;33m\u001b[0m\u001b[0m\n\u001b[1;32m---> 15\u001b[1;33m         \u001b[1;32mraise\u001b[0m \u001b[0mNameTooShortError\u001b[0m\u001b[1;33m(\u001b[0m\u001b[0mname\u001b[0m\u001b[1;33m)\u001b[0m\u001b[1;33m\u001b[0m\u001b[0m\n\u001b[0m",
      "\u001b[1;31mNameTooShortError\u001b[0m: aa"
     ]
    }
   ],
   "source": [
    "validate_name('aa')"
   ]
  },
  {
   "cell_type": "markdown",
   "metadata": {},
   "source": [
    "## shallow copy and deep copy"
   ]
  },
  {
   "cell_type": "markdown",
   "metadata": {},
   "source": [
    "## shallow copy だと片方を変えるともう片方も変わる時が有る"
   ]
  },
  {
   "cell_type": "code",
   "execution_count": 41,
   "metadata": {},
   "outputs": [
    {
     "name": "stdout",
     "output_type": "stream",
     "text": [
      "140617550862664\n",
      "140617550875336\n",
      "==============\n",
      "[[0, 1], [2, 3], ['a list']]\n",
      "[[0, 1], [2, 3]]\n",
      "==============\n",
      "[['changed!!', 1], [2, 3], ['a list']]\n",
      "[['changed!!', 1], [2, 3]]\n"
     ]
    }
   ],
   "source": [
    "list1 = [[0,1], [2,3]]\n",
    "list2 = list(list1)\n",
    "\n",
    "print(id(list1))\n",
    "print(id(list2))\n",
    "\n",
    "print('==============')\n",
    "\n",
    "list1.append(['a list'])\n",
    "\n",
    "print(list1)\n",
    "print(list2)\n",
    "\n",
    "print('==============')\n",
    "\n",
    "list1[0][0] = 'changed!!'\n",
    "print(list1)\n",
    "print(list2)"
   ]
  },
  {
   "cell_type": "markdown",
   "metadata": {},
   "source": [
    "## Deep copyすれば影響されない"
   ]
  },
  {
   "cell_type": "code",
   "execution_count": 44,
   "metadata": {},
   "outputs": [
    {
     "name": "stdout",
     "output_type": "stream",
     "text": [
      "140617550863944\n",
      "140617551356232\n",
      "==============\n",
      "[[0, 1], [2, 3], ['a list']]\n",
      "[[0, 1], [2, 3]]\n",
      "==============\n",
      "[['changed!!', 1], [2, 3], ['a list']]\n",
      "[[0, 1], [2, 3]]\n"
     ]
    }
   ],
   "source": [
    "import copy\n",
    "\n",
    "list1 = [[0,1], [2,3]]\n",
    "list2 = copy.deepcopy(list1)\n",
    "\n",
    "print(id(list1))\n",
    "print(id(list2))\n",
    "\n",
    "print('==============')\n",
    "\n",
    "list1.append(['a list'])\n",
    "\n",
    "print(list1)\n",
    "print(list2)\n",
    "\n",
    "print('==============')\n",
    "\n",
    "list1[0][0] = 'changed!!'\n",
    "print(list1)\n",
    "print(list2)"
   ]
  },
  {
   "cell_type": "markdown",
   "metadata": {},
   "source": [
    "# Object でも子オブジェクトに対して同じようなことが起きる"
   ]
  },
  {
   "cell_type": "code",
   "execution_count": 52,
   "metadata": {
    "scrolled": true
   },
   "outputs": [
    {
     "name": "stdout",
     "output_type": "stream",
     "text": [
      "===変更するまえ===\n",
      "[1, 2, 3]\n",
      "[1, 2, 3]\n",
      "[1, 2, 3]\n",
      "===変更してみる===\n",
      "[1000, 2000, 3000]\n",
      "[1000, 2000, 3000]\n",
      "[1, 2, 3]\n"
     ]
    }
   ],
   "source": [
    "import copy\n",
    "\n",
    "class NumGroup:\n",
    "    def __init__(self, num_group):\n",
    "        self.group = num_group\n",
    "\n",
    "class Data:\n",
    "    def __init__(self, data):\n",
    "        self.data = data\n",
    "\n",
    "data1 = Data(NumGroup([1,2,3]))\n",
    "shallow_copied_data = copy.copy(data1)\n",
    "deep_copied_data = copy.deepcopy(data1)\n",
    "\n",
    "print('===変更するまえ===')\n",
    "print(data1.data.group)\n",
    "print(shallow_copied_data.data.group)\n",
    "print(deep_copied_data.data.group)\n",
    "\n",
    "print('===変更してみる===')\n",
    "data1.data.group = [1000, 2000, 3000]\n",
    "print(data1.data.group)\n",
    "print(shallow_copied_data.data.group)\n",
    "print(deep_copied_data.data.group)"
   ]
  },
  {
   "cell_type": "markdown",
   "metadata": {},
   "source": [
    "# Abstract Base Class"
   ]
  },
  {
   "cell_type": "markdown",
   "metadata": {},
   "source": [
    "これを読む\n",
    "https://docs.python.org/3.5/library/abc.html"
   ]
  },
  {
   "cell_type": "markdown",
   "metadata": {},
   "source": [
    "## You can't instantiate a class without overriding all the method in Base class"
   ]
  },
  {
   "cell_type": "code",
   "execution_count": 84,
   "metadata": {},
   "outputs": [
    {
     "ename": "TypeError",
     "evalue": "Can't instantiate abstract class Top with abstract methods method2",
     "output_type": "error",
     "traceback": [
      "\u001b[1;31m---------------------------------------------------------------------------\u001b[0m",
      "\u001b[1;31mTypeError\u001b[0m                                 Traceback (most recent call last)",
      "\u001b[1;32m<ipython-input-84-60ef9c0e92c5>\u001b[0m in \u001b[0;36m<module>\u001b[1;34m()\u001b[0m\n\u001b[0;32m     15\u001b[0m \u001b[1;33m\u001b[0m\u001b[0m\n\u001b[0;32m     16\u001b[0m \u001b[1;31m# You can't instantiate a class without overriding all the method in Base class\u001b[0m\u001b[1;33m\u001b[0m\u001b[1;33m\u001b[0m\u001b[0m\n\u001b[1;32m---> 17\u001b[1;33m \u001b[0mtop\u001b[0m \u001b[1;33m=\u001b[0m \u001b[0mTop\u001b[0m\u001b[1;33m(\u001b[0m\u001b[1;33m)\u001b[0m\u001b[1;33m\u001b[0m\u001b[0m\n\u001b[0m\u001b[0;32m     18\u001b[0m \u001b[0mtop\u001b[0m\u001b[1;33m.\u001b[0m\u001b[0mmethod1\u001b[0m\u001b[1;33m(\u001b[0m\u001b[1;33m)\u001b[0m\u001b[1;33m\u001b[0m\u001b[0m\n",
      "\u001b[1;31mTypeError\u001b[0m: Can't instantiate abstract class Top with abstract methods method2"
     ]
    }
   ],
   "source": [
    "from abc import ABCMeta, abstractmethod\n",
    "\n",
    "class Base(metaclass=ABCMeta):\n",
    "    @abstractmethod\n",
    "    def method1(self):\n",
    "        print('method1 from base')\n",
    "    \n",
    "    @abstractmethod\n",
    "    def method2(self):\n",
    "        print('method2 from base')\n",
    "\n",
    "class Top(Base):\n",
    "    def method1(self):\n",
    "        pass\n",
    "\n",
    "# You can't instantiate a class without overriding all the method in Base class\n",
    "top = Top()\n",
    "top.method1()"
   ]
  },
  {
   "cell_type": "markdown",
   "metadata": {},
   "source": [
    "## This is Okay"
   ]
  },
  {
   "cell_type": "code",
   "execution_count": 88,
   "metadata": {},
   "outputs": [
    {
     "name": "stdout",
     "output_type": "stream",
     "text": [
      "method1 from base\n",
      "medhod1 from Top2\n",
      "============\n",
      "method2 from base\n",
      "medhod2 from Top2\n"
     ]
    }
   ],
   "source": [
    "class Top2(Base):\n",
    "    def method1(self):\n",
    "        super().method1()\n",
    "        print('medhod1 from Top2')\n",
    "\n",
    "    def method2(self):\n",
    "        super().method2()\n",
    "        print('medhod2 from Top2')\n",
    "\n",
    "# You can't instantiate a class without overriding all the method in Base class\n",
    "top2 = Top2()\n",
    "top2.method1()\n",
    "print('============')\n",
    "top2.method2()"
   ]
  },
  {
   "cell_type": "code",
   "execution_count": 71,
   "metadata": {},
   "outputs": [
    {
     "data": {
      "text/plain": [
       "<__main__.Dog at 0x7fe4134195f8>"
      ]
     },
     "execution_count": 71,
     "metadata": {},
     "output_type": "execute_result"
    }
   ],
   "source": [
    "from abc import ABCMeta, abstractmethod\n",
    "\n",
    "class Animal(metaclass=ABCMeta):\n",
    "    @abstractmethod\n",
    "    def sound(self):\n",
    "        pass\n",
    "\n",
    "# 抽象クラスを継承しないが、 `sound`メソッドを実装\n",
    "class Dog():\n",
    "    pass\n",
    "\n",
    "# 抽象クラスのAnimalへDogを登録\n",
    "Animal.register(Dog)\n",
    "Dog()"
   ]
  },
  {
   "cell_type": "markdown",
   "metadata": {},
   "source": [
    "# NamedTuple"
   ]
  },
  {
   "cell_type": "code",
   "execution_count": 107,
   "metadata": {},
   "outputs": [
    {
     "name": "stdout",
     "output_type": "stream",
     "text": [
      "red\n",
      "1234\n",
      "OrderedDict([('color', 'red'), ('mileage', 1234)])\n",
      "Car(color='blue', mileage=1234)\n",
      "Car(color='black', mileage=1234)\n"
     ]
    }
   ],
   "source": [
    "from collections import namedtuple\n",
    "\n",
    "Car = namedtuple('Car', 'color mileage')\n",
    "my_car = Car('red', 1234)\n",
    "print(my_car.color)\n",
    "print(my_car.mileage)\n",
    "\n",
    "# tupleなので値の変更はできない\n",
    "\n",
    "# いろいろなヘルパー\n",
    "print(my_car._asdict())\n",
    "print(my_car._replace(color='blue')) # 直接変更しないでコピーを返す\n",
    "print(Car._make(['black', 1234])) # for iterable"
   ]
  },
  {
   "cell_type": "markdown",
   "metadata": {},
   "source": [
    "## subclassing"
   ]
  },
  {
   "cell_type": "code",
   "execution_count": 102,
   "metadata": {},
   "outputs": [
    {
     "name": "stdout",
     "output_type": "stream",
     "text": [
      "赤\n"
     ]
    }
   ],
   "source": [
    "class CarColor(Car):\n",
    "    def return_color(self):\n",
    "        if self.color == 'red':\n",
    "            return '赤'\n",
    "\n",
    "a_car = CarColor('red', 1234)\n",
    "print(a_car.return_color())"
   ]
  },
  {
   "cell_type": "markdown",
   "metadata": {},
   "source": [
    "# p136から"
   ]
  },
  {
   "cell_type": "code",
   "execution_count": null,
   "metadata": {},
   "outputs": [],
   "source": []
  }
 ],
 "metadata": {
  "kernelspec": {
   "display_name": "Python 3",
   "language": "python",
   "name": "python3"
  },
  "language_info": {
   "codemirror_mode": {
    "name": "ipython",
    "version": 3
   },
   "file_extension": ".py",
   "mimetype": "text/x-python",
   "name": "python",
   "nbconvert_exporter": "python",
   "pygments_lexer": "ipython3",
   "version": "3.6.4"
  }
 },
 "nbformat": 4,
 "nbformat_minor": 2
}
